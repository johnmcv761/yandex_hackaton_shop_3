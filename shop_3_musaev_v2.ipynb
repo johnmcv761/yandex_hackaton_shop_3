{
  "cells": [
    {
      "cell_type": "markdown",
      "metadata": {
        "id": "Ecj4t6ANtQ50"
      },
      "source": [
        "# Предсказание активности покупателей интернет-магазинов"
      ]
    },
    {
      "cell_type": "markdown",
      "metadata": {
        "id": "dPUFkNuYwa0S"
      },
      "source": [
        "## Описание проекта\n",
        "\n",
        "Информация по трем интернет-магазинам: мультикатегорийный магазин с посещаемостью более 8 млн сессий в месяц, магазин одежды, маленький магазин подарков.\n",
        "В них есть обезличенная история покупок клиентов за определенный период\n"
      ]
    },
    {
      "cell_type": "markdown",
      "metadata": {
        "id": "gIi-lZyzxnxa"
      },
      "source": [
        "## Задача\n",
        "\n",
        "Создать решение для предсказания, совершит ли покупатель повторную покупку в течение ближайших 30 дней"
      ]
    },
    {
      "cell_type": "markdown",
      "metadata": {
        "id": "P2MRtOMA55wV"
      },
      "source": [
        "## Описание данных\n"
      ]
    },
    {
      "cell_type": "markdown",
      "metadata": {
        "id": "kbnt2wzytQ51"
      },
      "source": [
        "marketplace - мультикатегорийный магазин с посещаемостью более 8 млн сессий в месяц;  \n",
        "apparel - магазин одежды, по характеристикам похожий на маркетплейс;  \n",
        "gifts – магазин подарков, очень маленький;  \n",
        "client_id – идентификатор клиента;  \n",
        "quantity – количество товара в заказе;  \n",
        "price – цена 1 единицы товара в заказе;  \n",
        "message_id – идентификатор сообщения из рассылки;  \n",
        "date – дата покупки;\n",
        "\n",
        "\n"
      ]
    },
    {
      "cell_type": "markdown",
      "metadata": {
        "id": "nKqqF706M7oQ"
      },
      "source": []
    },
    {
      "cell_type": "markdown",
      "metadata": {
        "id": "59Q7N_bVtQ52"
      },
      "source": [
        "## План"
      ]
    },
    {
      "cell_type": "markdown",
      "metadata": {
        "id": "tV8JtuKztQ52"
      },
      "source": [
        "**1. Знакомство с данными**\n",
        "\n",
        "    1.1 Импорт библиотек\n",
        "    \n",
        "    1.2 Загрузка данных\n",
        "    \n",
        "    1.3 Исследовательский анализ данных (размер, признаки, строки, типы данных, пропуски, аномалии, дубликаты, кореляция, распределение)\n",
        "    \n",
        " **2. Предобработка данных**\n",
        "    \n",
        "    2.1 Преобразование типов данных\n",
        "    \n",
        "    2.2 Разбиение на выборки\n",
        "    \n",
        "    2.3 Нормализация значений\n",
        "    \n",
        " **3. Обучение моделей**\n",
        "\n",
        "\n",
        " **4. Вывод**\n",
        "\n",
        " **5. Отчет**"
      ]
    },
    {
      "cell_type": "markdown",
      "metadata": {
        "id": "Q2RxYkXDtQ52"
      },
      "source": [
        "**************"
      ]
    },
    {
      "cell_type": "markdown",
      "metadata": {
        "id": "qbSyl_aVtQ52"
      },
      "source": [
        "## Импорт библиотек"
      ]
    },
    {
      "cell_type": "code",
      "execution_count": null,
      "metadata": {
        "colab": {
          "base_uri": "https://localhost:8080/"
        },
        "id": "S5SwIKWVFw2k",
        "outputId": "a121c6da-6655-4d22-e1dd-2affa2ffc2c7"
      },
      "outputs": [
        {
          "name": "stdout",
          "output_type": "stream",
          "text": [
            "Requirement already satisfied: progress in /usr/local/lib/python3.10/dist-packages (1.6)\n"
          ]
        }
      ],
      "source": [
        " pip install progress"
      ]
    },
    {
      "cell_type": "code",
      "execution_count": null,
      "metadata": {
        "colab": {
          "base_uri": "https://localhost:8080/"
        },
        "id": "MLBsM1kwRH2U",
        "outputId": "231f7151-099c-4f2d-ef30-c37bc65768a4"
      },
      "outputs": [
        {
          "name": "stdout",
          "output_type": "stream",
          "text": [
            "Requirement already satisfied: tqdm in /usr/local/lib/python3.10/dist-packages (4.66.2)\n"
          ]
        }
      ],
      "source": [
        "pip install tqdm -U"
      ]
    },
    {
      "cell_type": "markdown",
      "metadata": {
        "id": "igqh39DsOKn5"
      },
      "source": [
        "Устанавливать библиотеки в рамках тетрадки - считается плохой практикой. Eсли заказчик или коллега захочет воспрозвести исследование он сможет установить все необходимые пакеты используя данный файл.\n"
      ]
    },
    {
      "cell_type": "code",
      "execution_count": null,
      "metadata": {
        "colab": {
          "background_save": true,
          "base_uri": "https://localhost:8080/"
        },
        "id": "izhsRJ6y8H3Q",
        "outputId": "cf0e526c-1f4e-40da-dcbd-04771ac3e669"
      },
      "outputs": [
        {
          "name": "stdout",
          "output_type": "stream",
          "text": [
            "Requirement already satisfied: catboost in /usr/local/lib/python3.10/dist-packages (1.2.3)\n",
            "Requirement already satisfied: graphviz in /usr/local/lib/python3.10/dist-packages (from catboost) (0.20.1)\n",
            "Requirement already satisfied: matplotlib in /usr/local/lib/python3.10/dist-packages (from catboost) (3.7.1)\n",
            "Requirement already satisfied: numpy>=1.16.0 in /usr/local/lib/python3.10/dist-packages (from catboost) (1.25.2)\n",
            "Requirement already satisfied: pandas>=0.24 in /usr/local/lib/python3.10/dist-packages (from catboost) (1.5.3)\n",
            "Requirement already satisfied: scipy in /usr/local/lib/python3.10/dist-packages (from catboost) (1.11.4)\n",
            "Requirement already satisfied: plotly in /usr/local/lib/python3.10/dist-packages (from catboost) (5.15.0)\n",
            "Requirement already satisfied: six in /usr/local/lib/python3.10/dist-packages (from catboost) (1.16.0)\n",
            "Requirement already satisfied: python-dateutil>=2.8.1 in /usr/local/lib/python3.10/dist-packages (from pandas>=0.24->catboost) (2.8.2)\n",
            "Requirement already satisfied: pytz>=2020.1 in /usr/local/lib/python3.10/dist-packages (from pandas>=0.24->catboost) (2023.4)\n",
            "Requirement already satisfied: contourpy>=1.0.1 in /usr/local/lib/python3.10/dist-packages (from matplotlib->catboost) (1.2.0)\n",
            "Requirement already satisfied: cycler>=0.10 in /usr/local/lib/python3.10/dist-packages (from matplotlib->catboost) (0.12.1)\n",
            "Requirement already satisfied: fonttools>=4.22.0 in /usr/local/lib/python3.10/dist-packages (from matplotlib->catboost) (4.49.0)\n",
            "Requirement already satisfied: kiwisolver>=1.0.1 in /usr/local/lib/python3.10/dist-packages (from matplotlib->catboost) (1.4.5)\n",
            "Requirement already satisfied: packaging>=20.0 in /usr/local/lib/python3.10/dist-packages (from matplotlib->catboost) (23.2)\n",
            "Requirement already satisfied: pillow>=6.2.0 in /usr/local/lib/python3.10/dist-packages (from matplotlib->catboost) (9.4.0)\n",
            "Requirement already satisfied: pyparsing>=2.3.1 in /usr/local/lib/python3.10/dist-packages (from matplotlib->catboost) (3.1.1)\n",
            "Requirement already satisfied: tenacity>=6.2.0 in /usr/local/lib/python3.10/dist-packages (from plotly->catboost) (8.2.3)\n"
          ]
        }
      ],
      "source": [
        "pip install catboost"
      ]
    },
    {
      "cell_type": "code",
      "execution_count": null,
      "metadata": {
        "colab": {
          "background_save": true
        },
        "id": "43AtcfgftQ53"
      },
      "outputs": [],
      "source": [
        "import pandas as pd\n",
        "import numpy as np\n",
        "\n",
        "from matplotlib import pyplot as plt\n",
        "import seaborn as sns\n",
        "\n",
        "from sklearn.model_selection import train_test_split\n",
        "from sklearn.model_selection import RandomizedSearchCV, cross_val_score\n",
        "from sklearn.preprocessing import LabelEncoder\n",
        "\n",
        "from sklearn.preprocessing import StandardScaler\n",
        "\n",
        "from catboost import CatBoostClassifier\n",
        "\n",
        "from sklearn.metrics import roc_auc_score, roc_curve, confusion_matrix\n",
        "from sklearn.metrics import classification_report\n",
        "\n",
        "from sklearn.utils.class_weight import compute_class_weight\n",
        "\n",
        "from tqdm import tqdm\n",
        "from datetime import timedelta\n",
        "\n",
        "import warnings\n",
        "warnings.filterwarnings(\"ignore\")\n",
        "warnings.simplefilter(action='ignore', category=FutureWarning)\n",
        "\n",
        "pd.options.display.max_columns = 200\n",
        "pd.options.display.max_rows = 200\n",
        "pd.options.display.float_format = '{:.2f}'.format\n",
        "pd.options.mode.chained_assignment = None"
      ]
    },
    {
      "cell_type": "markdown",
      "metadata": {
        "id": "aQPbiKwKxRBF"
      },
      "source": [
        "____________________________________________________________________________"
      ]
    },
    {
      "cell_type": "markdown",
      "metadata": {
        "id": "_AYdlxsYtQ53"
      },
      "source": [
        "## Загрузка данных"
      ]
    },
    {
      "cell_type": "code",
      "execution_count": null,
      "metadata": {
        "colab": {
          "background_save": true
        },
        "id": "RuF-w3RfM8Ql"
      },
      "outputs": [],
      "source": [
        "df_apparel = pd.read_csv('/content/apparel-purchases.csv')"
      ]
    },
    {
      "cell_type": "code",
      "execution_count": null,
      "metadata": {
        "colab": {
          "background_save": true
        },
        "id": "vSmovGEbzlcu"
      },
      "outputs": [],
      "source": [
        "df_gifts = pd.read_csv('/content/gifts-purchases.csv')"
      ]
    },
    {
      "cell_type": "code",
      "execution_count": null,
      "metadata": {
        "colab": {
          "background_save": true
        },
        "id": "occfZ8Qmzlj9"
      },
      "outputs": [],
      "source": [
        "df_marketplace = pd.read_csv('/content/marketplace-purchases.csv')"
      ]
    },
    {
      "cell_type": "markdown",
      "metadata": {
        "id": "WHFGs34r0gf4"
      },
      "source": [
        "Получены 3 таблицы с данными\n",
        "\n",
        "df_apparel – магазин одежды\n",
        "\n",
        "df_gifts - маленький магазин подарков\n",
        "\n",
        "df_marketplace - мультикатегорийный магазин с посещаемостью более 8 млн сессий в месяц"
      ]
    },
    {
      "cell_type": "markdown",
      "metadata": {
        "id": "QlbABrZfO2jz"
      },
      "source": [
        "Далее таблицы будут изменяться, сохраним оригиналы для получения исходной информации без повторной загрузки таблиц."
      ]
    },
    {
      "cell_type": "code",
      "execution_count": null,
      "metadata": {
        "colab": {
          "background_save": true
        },
        "id": "8u8Z0FKrPSEA"
      },
      "outputs": [],
      "source": [
        "df_apparel_orig = df_apparel"
      ]
    },
    {
      "cell_type": "code",
      "execution_count": null,
      "metadata": {
        "colab": {
          "background_save": true
        },
        "id": "hXX0IPsOPZaU"
      },
      "outputs": [],
      "source": [
        "df_gifts_orig = df_gifts"
      ]
    },
    {
      "cell_type": "code",
      "execution_count": null,
      "metadata": {
        "colab": {
          "background_save": true
        },
        "id": "1-LJ6QSXPZjI"
      },
      "outputs": [],
      "source": [
        "df_marketplace_orig = df_marketplace"
      ]
    },
    {
      "cell_type": "markdown",
      "metadata": {
        "id": "whPQC9ZstQ56"
      },
      "source": [
        "## Исследовательский анализ данных"
      ]
    },
    {
      "cell_type": "markdown",
      "metadata": {
        "id": "igdTrW2A0qoY"
      },
      "source": [
        "### Общая информация. Столбцы. Datetime"
      ]
    },
    {
      "cell_type": "code",
      "execution_count": null,
      "metadata": {
        "colab": {
          "background_save": true
        },
        "id": "EK6eQgdDpTvP",
        "outputId": "10131d03-d740-4847-d664-33af69069ca8"
      },
      "outputs": [
        {
          "data": {
            "application/vnd.google.colaboratory.intrinsic+json": {
              "type": "dataframe",
              "variable_name": "df_apparel"
            },
            "text/html": [
              "\n",
              "  <div id=\"df-675985fa-aa92-4c86-8b4e-7e07517b0165\" class=\"colab-df-container\">\n",
              "    <div>\n",
              "<style scoped>\n",
              "    .dataframe tbody tr th:only-of-type {\n",
              "        vertical-align: middle;\n",
              "    }\n",
              "\n",
              "    .dataframe tbody tr th {\n",
              "        vertical-align: top;\n",
              "    }\n",
              "\n",
              "    .dataframe thead th {\n",
              "        text-align: right;\n",
              "    }\n",
              "</style>\n",
              "<table border=\"1\" class=\"dataframe\">\n",
              "  <thead>\n",
              "    <tr style=\"text-align: right;\">\n",
              "      <th></th>\n",
              "      <th>client_id</th>\n",
              "      <th>quantity</th>\n",
              "      <th>price</th>\n",
              "      <th>date</th>\n",
              "      <th>message_id</th>\n",
              "      <th>recommended_by</th>\n",
              "    </tr>\n",
              "  </thead>\n",
              "  <tbody>\n",
              "    <tr>\n",
              "      <th>0</th>\n",
              "      <td>1515915625468068833</td>\n",
              "      <td>1</td>\n",
              "      <td>3499.00</td>\n",
              "      <td>2023-09-08</td>\n",
              "      <td>1515915625468068833-13781-64fad81bece56</td>\n",
              "      <td>bulk_message</td>\n",
              "    </tr>\n",
              "    <tr>\n",
              "      <th>1</th>\n",
              "      <td>1515915625468068833</td>\n",
              "      <td>1</td>\n",
              "      <td>3499.00</td>\n",
              "      <td>2023-09-08</td>\n",
              "      <td>1515915625468068833-13781-64fad81bece56</td>\n",
              "      <td>bulk_message</td>\n",
              "    </tr>\n",
              "  </tbody>\n",
              "</table>\n",
              "</div>\n",
              "    <div class=\"colab-df-buttons\">\n",
              "\n",
              "  <div class=\"colab-df-container\">\n",
              "    <button class=\"colab-df-convert\" onclick=\"convertToInteractive('df-675985fa-aa92-4c86-8b4e-7e07517b0165')\"\n",
              "            title=\"Convert this dataframe to an interactive table.\"\n",
              "            style=\"display:none;\">\n",
              "\n",
              "  <svg xmlns=\"http://www.w3.org/2000/svg\" height=\"24px\" viewBox=\"0 -960 960 960\">\n",
              "    <path d=\"M120-120v-720h720v720H120Zm60-500h600v-160H180v160Zm220 220h160v-160H400v160Zm0 220h160v-160H400v160ZM180-400h160v-160H180v160Zm440 0h160v-160H620v160ZM180-180h160v-160H180v160Zm440 0h160v-160H620v160Z\"/>\n",
              "  </svg>\n",
              "    </button>\n",
              "\n",
              "  <style>\n",
              "    .colab-df-container {\n",
              "      display:flex;\n",
              "      gap: 12px;\n",
              "    }\n",
              "\n",
              "    .colab-df-convert {\n",
              "      background-color: #E8F0FE;\n",
              "      border: none;\n",
              "      border-radius: 50%;\n",
              "      cursor: pointer;\n",
              "      display: none;\n",
              "      fill: #1967D2;\n",
              "      height: 32px;\n",
              "      padding: 0 0 0 0;\n",
              "      width: 32px;\n",
              "    }\n",
              "\n",
              "    .colab-df-convert:hover {\n",
              "      background-color: #E2EBFA;\n",
              "      box-shadow: 0px 1px 2px rgba(60, 64, 67, 0.3), 0px 1px 3px 1px rgba(60, 64, 67, 0.15);\n",
              "      fill: #174EA6;\n",
              "    }\n",
              "\n",
              "    .colab-df-buttons div {\n",
              "      margin-bottom: 4px;\n",
              "    }\n",
              "\n",
              "    [theme=dark] .colab-df-convert {\n",
              "      background-color: #3B4455;\n",
              "      fill: #D2E3FC;\n",
              "    }\n",
              "\n",
              "    [theme=dark] .colab-df-convert:hover {\n",
              "      background-color: #434B5C;\n",
              "      box-shadow: 0px 1px 3px 1px rgba(0, 0, 0, 0.15);\n",
              "      filter: drop-shadow(0px 1px 2px rgba(0, 0, 0, 0.3));\n",
              "      fill: #FFFFFF;\n",
              "    }\n",
              "  </style>\n",
              "\n",
              "    <script>\n",
              "      const buttonEl =\n",
              "        document.querySelector('#df-675985fa-aa92-4c86-8b4e-7e07517b0165 button.colab-df-convert');\n",
              "      buttonEl.style.display =\n",
              "        google.colab.kernel.accessAllowed ? 'block' : 'none';\n",
              "\n",
              "      async function convertToInteractive(key) {\n",
              "        const element = document.querySelector('#df-675985fa-aa92-4c86-8b4e-7e07517b0165');\n",
              "        const dataTable =\n",
              "          await google.colab.kernel.invokeFunction('convertToInteractive',\n",
              "                                                    [key], {});\n",
              "        if (!dataTable) return;\n",
              "\n",
              "        const docLinkHtml = 'Like what you see? Visit the ' +\n",
              "          '<a target=\"_blank\" href=https://colab.research.google.com/notebooks/data_table.ipynb>data table notebook</a>'\n",
              "          + ' to learn more about interactive tables.';\n",
              "        element.innerHTML = '';\n",
              "        dataTable['output_type'] = 'display_data';\n",
              "        await google.colab.output.renderOutput(dataTable, element);\n",
              "        const docLink = document.createElement('div');\n",
              "        docLink.innerHTML = docLinkHtml;\n",
              "        element.appendChild(docLink);\n",
              "      }\n",
              "    </script>\n",
              "  </div>\n",
              "\n",
              "\n",
              "<div id=\"df-4037b7b0-a355-4a1d-b072-7f409ea4ab07\">\n",
              "  <button class=\"colab-df-quickchart\" onclick=\"quickchart('df-4037b7b0-a355-4a1d-b072-7f409ea4ab07')\"\n",
              "            title=\"Suggest charts\"\n",
              "            style=\"display:none;\">\n",
              "\n",
              "<svg xmlns=\"http://www.w3.org/2000/svg\" height=\"24px\"viewBox=\"0 0 24 24\"\n",
              "     width=\"24px\">\n",
              "    <g>\n",
              "        <path d=\"M19 3H5c-1.1 0-2 .9-2 2v14c0 1.1.9 2 2 2h14c1.1 0 2-.9 2-2V5c0-1.1-.9-2-2-2zM9 17H7v-7h2v7zm4 0h-2V7h2v10zm4 0h-2v-4h2v4z\"/>\n",
              "    </g>\n",
              "</svg>\n",
              "  </button>\n",
              "\n",
              "<style>\n",
              "  .colab-df-quickchart {\n",
              "      --bg-color: #E8F0FE;\n",
              "      --fill-color: #1967D2;\n",
              "      --hover-bg-color: #E2EBFA;\n",
              "      --hover-fill-color: #174EA6;\n",
              "      --disabled-fill-color: #AAA;\n",
              "      --disabled-bg-color: #DDD;\n",
              "  }\n",
              "\n",
              "  [theme=dark] .colab-df-quickchart {\n",
              "      --bg-color: #3B4455;\n",
              "      --fill-color: #D2E3FC;\n",
              "      --hover-bg-color: #434B5C;\n",
              "      --hover-fill-color: #FFFFFF;\n",
              "      --disabled-bg-color: #3B4455;\n",
              "      --disabled-fill-color: #666;\n",
              "  }\n",
              "\n",
              "  .colab-df-quickchart {\n",
              "    background-color: var(--bg-color);\n",
              "    border: none;\n",
              "    border-radius: 50%;\n",
              "    cursor: pointer;\n",
              "    display: none;\n",
              "    fill: var(--fill-color);\n",
              "    height: 32px;\n",
              "    padding: 0;\n",
              "    width: 32px;\n",
              "  }\n",
              "\n",
              "  .colab-df-quickchart:hover {\n",
              "    background-color: var(--hover-bg-color);\n",
              "    box-shadow: 0 1px 2px rgba(60, 64, 67, 0.3), 0 1px 3px 1px rgba(60, 64, 67, 0.15);\n",
              "    fill: var(--button-hover-fill-color);\n",
              "  }\n",
              "\n",
              "  .colab-df-quickchart-complete:disabled,\n",
              "  .colab-df-quickchart-complete:disabled:hover {\n",
              "    background-color: var(--disabled-bg-color);\n",
              "    fill: var(--disabled-fill-color);\n",
              "    box-shadow: none;\n",
              "  }\n",
              "\n",
              "  .colab-df-spinner {\n",
              "    border: 2px solid var(--fill-color);\n",
              "    border-color: transparent;\n",
              "    border-bottom-color: var(--fill-color);\n",
              "    animation:\n",
              "      spin 1s steps(1) infinite;\n",
              "  }\n",
              "\n",
              "  @keyframes spin {\n",
              "    0% {\n",
              "      border-color: transparent;\n",
              "      border-bottom-color: var(--fill-color);\n",
              "      border-left-color: var(--fill-color);\n",
              "    }\n",
              "    20% {\n",
              "      border-color: transparent;\n",
              "      border-left-color: var(--fill-color);\n",
              "      border-top-color: var(--fill-color);\n",
              "    }\n",
              "    30% {\n",
              "      border-color: transparent;\n",
              "      border-left-color: var(--fill-color);\n",
              "      border-top-color: var(--fill-color);\n",
              "      border-right-color: var(--fill-color);\n",
              "    }\n",
              "    40% {\n",
              "      border-color: transparent;\n",
              "      border-right-color: var(--fill-color);\n",
              "      border-top-color: var(--fill-color);\n",
              "    }\n",
              "    60% {\n",
              "      border-color: transparent;\n",
              "      border-right-color: var(--fill-color);\n",
              "    }\n",
              "    80% {\n",
              "      border-color: transparent;\n",
              "      border-right-color: var(--fill-color);\n",
              "      border-bottom-color: var(--fill-color);\n",
              "    }\n",
              "    90% {\n",
              "      border-color: transparent;\n",
              "      border-bottom-color: var(--fill-color);\n",
              "    }\n",
              "  }\n",
              "</style>\n",
              "\n",
              "  <script>\n",
              "    async function quickchart(key) {\n",
              "      const quickchartButtonEl =\n",
              "        document.querySelector('#' + key + ' button');\n",
              "      quickchartButtonEl.disabled = true;  // To prevent multiple clicks.\n",
              "      quickchartButtonEl.classList.add('colab-df-spinner');\n",
              "      try {\n",
              "        const charts = await google.colab.kernel.invokeFunction(\n",
              "            'suggestCharts', [key], {});\n",
              "      } catch (error) {\n",
              "        console.error('Error during call to suggestCharts:', error);\n",
              "      }\n",
              "      quickchartButtonEl.classList.remove('colab-df-spinner');\n",
              "      quickchartButtonEl.classList.add('colab-df-quickchart-complete');\n",
              "    }\n",
              "    (() => {\n",
              "      let quickchartButtonEl =\n",
              "        document.querySelector('#df-4037b7b0-a355-4a1d-b072-7f409ea4ab07 button');\n",
              "      quickchartButtonEl.style.display =\n",
              "        google.colab.kernel.accessAllowed ? 'block' : 'none';\n",
              "    })();\n",
              "  </script>\n",
              "</div>\n",
              "    </div>\n",
              "  </div>\n"
            ],
            "text/plain": [
              "             client_id  quantity   price        date  \\\n",
              "0  1515915625468068833         1 3499.00  2023-09-08   \n",
              "1  1515915625468068833         1 3499.00  2023-09-08   \n",
              "\n",
              "                                message_id recommended_by  \n",
              "0  1515915625468068833-13781-64fad81bece56   bulk_message  \n",
              "1  1515915625468068833-13781-64fad81bece56   bulk_message  "
            ]
          },
          "execution_count": 453,
          "metadata": {},
          "output_type": "execute_result"
        }
      ],
      "source": [
        "df_apparel.head(2)"
      ]
    },
    {
      "cell_type": "code",
      "execution_count": null,
      "metadata": {
        "colab": {
          "background_save": true
        },
        "id": "BOPgI5vfqRzU",
        "outputId": "0f9236b4-4f3a-43c8-c1db-816a801978d9"
      },
      "outputs": [
        {
          "data": {
            "application/vnd.google.colaboratory.intrinsic+json": {
              "repr_error": "'str' object has no attribute 'empty'",
              "type": "dataframe",
              "variable_name": "df_gifts"
            },
            "text/html": [
              "\n",
              "  <div id=\"df-594680ab-f601-490f-ad30-2adca9f537c8\" class=\"colab-df-container\">\n",
              "    <div>\n",
              "<style scoped>\n",
              "    .dataframe tbody tr th:only-of-type {\n",
              "        vertical-align: middle;\n",
              "    }\n",
              "\n",
              "    .dataframe tbody tr th {\n",
              "        vertical-align: top;\n",
              "    }\n",
              "\n",
              "    .dataframe thead th {\n",
              "        text-align: right;\n",
              "    }\n",
              "</style>\n",
              "<table border=\"1\" class=\"dataframe\">\n",
              "  <thead>\n",
              "    <tr style=\"text-align: right;\">\n",
              "      <th></th>\n",
              "      <th>client_id</th>\n",
              "      <th>quantity</th>\n",
              "      <th>price</th>\n",
              "      <th>date</th>\n",
              "      <th>message_id</th>\n",
              "      <th>recommended_by</th>\n",
              "    </tr>\n",
              "  </thead>\n",
              "  <tbody>\n",
              "    <tr>\n",
              "      <th>0</th>\n",
              "      <td>1515915625803894158</td>\n",
              "      <td>1</td>\n",
              "      <td>8943.00</td>\n",
              "      <td>2023-10-11</td>\n",
              "      <td>1515915625935652010-16166-6525589bca68f</td>\n",
              "      <td>bulk_message</td>\n",
              "    </tr>\n",
              "    <tr>\n",
              "      <th>1</th>\n",
              "      <td>1515915625803894158</td>\n",
              "      <td>1</td>\n",
              "      <td>46369.00</td>\n",
              "      <td>2023-10-11</td>\n",
              "      <td>1515915625935652010-16166-6525589bca68f</td>\n",
              "      <td>bulk_message</td>\n",
              "    </tr>\n",
              "  </tbody>\n",
              "</table>\n",
              "</div>\n",
              "    <div class=\"colab-df-buttons\">\n",
              "\n",
              "  <div class=\"colab-df-container\">\n",
              "    <button class=\"colab-df-convert\" onclick=\"convertToInteractive('df-594680ab-f601-490f-ad30-2adca9f537c8')\"\n",
              "            title=\"Convert this dataframe to an interactive table.\"\n",
              "            style=\"display:none;\">\n",
              "\n",
              "  <svg xmlns=\"http://www.w3.org/2000/svg\" height=\"24px\" viewBox=\"0 -960 960 960\">\n",
              "    <path d=\"M120-120v-720h720v720H120Zm60-500h600v-160H180v160Zm220 220h160v-160H400v160Zm0 220h160v-160H400v160ZM180-400h160v-160H180v160Zm440 0h160v-160H620v160ZM180-180h160v-160H180v160Zm440 0h160v-160H620v160Z\"/>\n",
              "  </svg>\n",
              "    </button>\n",
              "\n",
              "  <style>\n",
              "    .colab-df-container {\n",
              "      display:flex;\n",
              "      gap: 12px;\n",
              "    }\n",
              "\n",
              "    .colab-df-convert {\n",
              "      background-color: #E8F0FE;\n",
              "      border: none;\n",
              "      border-radius: 50%;\n",
              "      cursor: pointer;\n",
              "      display: none;\n",
              "      fill: #1967D2;\n",
              "      height: 32px;\n",
              "      padding: 0 0 0 0;\n",
              "      width: 32px;\n",
              "    }\n",
              "\n",
              "    .colab-df-convert:hover {\n",
              "      background-color: #E2EBFA;\n",
              "      box-shadow: 0px 1px 2px rgba(60, 64, 67, 0.3), 0px 1px 3px 1px rgba(60, 64, 67, 0.15);\n",
              "      fill: #174EA6;\n",
              "    }\n",
              "\n",
              "    .colab-df-buttons div {\n",
              "      margin-bottom: 4px;\n",
              "    }\n",
              "\n",
              "    [theme=dark] .colab-df-convert {\n",
              "      background-color: #3B4455;\n",
              "      fill: #D2E3FC;\n",
              "    }\n",
              "\n",
              "    [theme=dark] .colab-df-convert:hover {\n",
              "      background-color: #434B5C;\n",
              "      box-shadow: 0px 1px 3px 1px rgba(0, 0, 0, 0.15);\n",
              "      filter: drop-shadow(0px 1px 2px rgba(0, 0, 0, 0.3));\n",
              "      fill: #FFFFFF;\n",
              "    }\n",
              "  </style>\n",
              "\n",
              "    <script>\n",
              "      const buttonEl =\n",
              "        document.querySelector('#df-594680ab-f601-490f-ad30-2adca9f537c8 button.colab-df-convert');\n",
              "      buttonEl.style.display =\n",
              "        google.colab.kernel.accessAllowed ? 'block' : 'none';\n",
              "\n",
              "      async function convertToInteractive(key) {\n",
              "        const element = document.querySelector('#df-594680ab-f601-490f-ad30-2adca9f537c8');\n",
              "        const dataTable =\n",
              "          await google.colab.kernel.invokeFunction('convertToInteractive',\n",
              "                                                    [key], {});\n",
              "        if (!dataTable) return;\n",
              "\n",
              "        const docLinkHtml = 'Like what you see? Visit the ' +\n",
              "          '<a target=\"_blank\" href=https://colab.research.google.com/notebooks/data_table.ipynb>data table notebook</a>'\n",
              "          + ' to learn more about interactive tables.';\n",
              "        element.innerHTML = '';\n",
              "        dataTable['output_type'] = 'display_data';\n",
              "        await google.colab.output.renderOutput(dataTable, element);\n",
              "        const docLink = document.createElement('div');\n",
              "        docLink.innerHTML = docLinkHtml;\n",
              "        element.appendChild(docLink);\n",
              "      }\n",
              "    </script>\n",
              "  </div>\n",
              "\n",
              "\n",
              "<div id=\"df-a0c89063-2ab2-47b6-8bc0-e4c796db9714\">\n",
              "  <button class=\"colab-df-quickchart\" onclick=\"quickchart('df-a0c89063-2ab2-47b6-8bc0-e4c796db9714')\"\n",
              "            title=\"Suggest charts\"\n",
              "            style=\"display:none;\">\n",
              "\n",
              "<svg xmlns=\"http://www.w3.org/2000/svg\" height=\"24px\"viewBox=\"0 0 24 24\"\n",
              "     width=\"24px\">\n",
              "    <g>\n",
              "        <path d=\"M19 3H5c-1.1 0-2 .9-2 2v14c0 1.1.9 2 2 2h14c1.1 0 2-.9 2-2V5c0-1.1-.9-2-2-2zM9 17H7v-7h2v7zm4 0h-2V7h2v10zm4 0h-2v-4h2v4z\"/>\n",
              "    </g>\n",
              "</svg>\n",
              "  </button>\n",
              "\n",
              "<style>\n",
              "  .colab-df-quickchart {\n",
              "      --bg-color: #E8F0FE;\n",
              "      --fill-color: #1967D2;\n",
              "      --hover-bg-color: #E2EBFA;\n",
              "      --hover-fill-color: #174EA6;\n",
              "      --disabled-fill-color: #AAA;\n",
              "      --disabled-bg-color: #DDD;\n",
              "  }\n",
              "\n",
              "  [theme=dark] .colab-df-quickchart {\n",
              "      --bg-color: #3B4455;\n",
              "      --fill-color: #D2E3FC;\n",
              "      --hover-bg-color: #434B5C;\n",
              "      --hover-fill-color: #FFFFFF;\n",
              "      --disabled-bg-color: #3B4455;\n",
              "      --disabled-fill-color: #666;\n",
              "  }\n",
              "\n",
              "  .colab-df-quickchart {\n",
              "    background-color: var(--bg-color);\n",
              "    border: none;\n",
              "    border-radius: 50%;\n",
              "    cursor: pointer;\n",
              "    display: none;\n",
              "    fill: var(--fill-color);\n",
              "    height: 32px;\n",
              "    padding: 0;\n",
              "    width: 32px;\n",
              "  }\n",
              "\n",
              "  .colab-df-quickchart:hover {\n",
              "    background-color: var(--hover-bg-color);\n",
              "    box-shadow: 0 1px 2px rgba(60, 64, 67, 0.3), 0 1px 3px 1px rgba(60, 64, 67, 0.15);\n",
              "    fill: var(--button-hover-fill-color);\n",
              "  }\n",
              "\n",
              "  .colab-df-quickchart-complete:disabled,\n",
              "  .colab-df-quickchart-complete:disabled:hover {\n",
              "    background-color: var(--disabled-bg-color);\n",
              "    fill: var(--disabled-fill-color);\n",
              "    box-shadow: none;\n",
              "  }\n",
              "\n",
              "  .colab-df-spinner {\n",
              "    border: 2px solid var(--fill-color);\n",
              "    border-color: transparent;\n",
              "    border-bottom-color: var(--fill-color);\n",
              "    animation:\n",
              "      spin 1s steps(1) infinite;\n",
              "  }\n",
              "\n",
              "  @keyframes spin {\n",
              "    0% {\n",
              "      border-color: transparent;\n",
              "      border-bottom-color: var(--fill-color);\n",
              "      border-left-color: var(--fill-color);\n",
              "    }\n",
              "    20% {\n",
              "      border-color: transparent;\n",
              "      border-left-color: var(--fill-color);\n",
              "      border-top-color: var(--fill-color);\n",
              "    }\n",
              "    30% {\n",
              "      border-color: transparent;\n",
              "      border-left-color: var(--fill-color);\n",
              "      border-top-color: var(--fill-color);\n",
              "      border-right-color: var(--fill-color);\n",
              "    }\n",
              "    40% {\n",
              "      border-color: transparent;\n",
              "      border-right-color: var(--fill-color);\n",
              "      border-top-color: var(--fill-color);\n",
              "    }\n",
              "    60% {\n",
              "      border-color: transparent;\n",
              "      border-right-color: var(--fill-color);\n",
              "    }\n",
              "    80% {\n",
              "      border-color: transparent;\n",
              "      border-right-color: var(--fill-color);\n",
              "      border-bottom-color: var(--fill-color);\n",
              "    }\n",
              "    90% {\n",
              "      border-color: transparent;\n",
              "      border-bottom-color: var(--fill-color);\n",
              "    }\n",
              "  }\n",
              "</style>\n",
              "\n",
              "  <script>\n",
              "    async function quickchart(key) {\n",
              "      const quickchartButtonEl =\n",
              "        document.querySelector('#' + key + ' button');\n",
              "      quickchartButtonEl.disabled = true;  // To prevent multiple clicks.\n",
              "      quickchartButtonEl.classList.add('colab-df-spinner');\n",
              "      try {\n",
              "        const charts = await google.colab.kernel.invokeFunction(\n",
              "            'suggestCharts', [key], {});\n",
              "      } catch (error) {\n",
              "        console.error('Error during call to suggestCharts:', error);\n",
              "      }\n",
              "      quickchartButtonEl.classList.remove('colab-df-spinner');\n",
              "      quickchartButtonEl.classList.add('colab-df-quickchart-complete');\n",
              "    }\n",
              "    (() => {\n",
              "      let quickchartButtonEl =\n",
              "        document.querySelector('#df-a0c89063-2ab2-47b6-8bc0-e4c796db9714 button');\n",
              "      quickchartButtonEl.style.display =\n",
              "        google.colab.kernel.accessAllowed ? 'block' : 'none';\n",
              "    })();\n",
              "  </script>\n",
              "</div>\n",
              "    </div>\n",
              "  </div>\n"
            ],
            "text/plain": [
              "             client_id  quantity    price        date  \\\n",
              "0  1515915625803894158         1  8943.00  2023-10-11   \n",
              "1  1515915625803894158         1 46369.00  2023-10-11   \n",
              "\n",
              "                                message_id recommended_by  \n",
              "0  1515915625935652010-16166-6525589bca68f   bulk_message  \n",
              "1  1515915625935652010-16166-6525589bca68f   bulk_message  "
            ]
          },
          "execution_count": 454,
          "metadata": {},
          "output_type": "execute_result"
        }
      ],
      "source": [
        "df_gifts.head(2)"
      ]
    },
    {
      "cell_type": "code",
      "execution_count": null,
      "metadata": {
        "colab": {
          "background_save": true
        },
        "id": "1BCaNU5UqR2f",
        "outputId": "8b7c6543-b786-4073-896d-5656fcc1ab06"
      },
      "outputs": [
        {
          "data": {
            "application/vnd.google.colaboratory.intrinsic+json": {
              "repr_error": "'str' object has no attribute 'empty'",
              "type": "dataframe",
              "variable_name": "df_marketplace"
            },
            "text/html": [
              "\n",
              "  <div id=\"df-36947738-ec3c-4059-a8dc-c32ea8d09a67\" class=\"colab-df-container\">\n",
              "    <div>\n",
              "<style scoped>\n",
              "    .dataframe tbody tr th:only-of-type {\n",
              "        vertical-align: middle;\n",
              "    }\n",
              "\n",
              "    .dataframe tbody tr th {\n",
              "        vertical-align: top;\n",
              "    }\n",
              "\n",
              "    .dataframe thead th {\n",
              "        text-align: right;\n",
              "    }\n",
              "</style>\n",
              "<table border=\"1\" class=\"dataframe\">\n",
              "  <thead>\n",
              "    <tr style=\"text-align: right;\">\n",
              "      <th></th>\n",
              "      <th>client_id</th>\n",
              "      <th>quantity</th>\n",
              "      <th>price</th>\n",
              "      <th>message_id</th>\n",
              "      <th>created_at</th>\n",
              "      <th>date</th>\n",
              "    </tr>\n",
              "  </thead>\n",
              "  <tbody>\n",
              "    <tr>\n",
              "      <th>0</th>\n",
              "      <td>1515915625440944408</td>\n",
              "      <td>1</td>\n",
              "      <td>6298.00</td>\n",
              "      <td>1515915625440944408-1752-6450b79616277</td>\n",
              "      <td>2023-05-02</td>\n",
              "      <td>2023-05-02 08:49:57</td>\n",
              "    </tr>\n",
              "    <tr>\n",
              "      <th>1</th>\n",
              "      <td>1515915625440992498</td>\n",
              "      <td>1</td>\n",
              "      <td>7318.00</td>\n",
              "      <td>1515915625440992498-1818-646b35d089c98</td>\n",
              "      <td>2023-05-22</td>\n",
              "      <td>2023-05-22 13:52:13</td>\n",
              "    </tr>\n",
              "  </tbody>\n",
              "</table>\n",
              "</div>\n",
              "    <div class=\"colab-df-buttons\">\n",
              "\n",
              "  <div class=\"colab-df-container\">\n",
              "    <button class=\"colab-df-convert\" onclick=\"convertToInteractive('df-36947738-ec3c-4059-a8dc-c32ea8d09a67')\"\n",
              "            title=\"Convert this dataframe to an interactive table.\"\n",
              "            style=\"display:none;\">\n",
              "\n",
              "  <svg xmlns=\"http://www.w3.org/2000/svg\" height=\"24px\" viewBox=\"0 -960 960 960\">\n",
              "    <path d=\"M120-120v-720h720v720H120Zm60-500h600v-160H180v160Zm220 220h160v-160H400v160Zm0 220h160v-160H400v160ZM180-400h160v-160H180v160Zm440 0h160v-160H620v160ZM180-180h160v-160H180v160Zm440 0h160v-160H620v160Z\"/>\n",
              "  </svg>\n",
              "    </button>\n",
              "\n",
              "  <style>\n",
              "    .colab-df-container {\n",
              "      display:flex;\n",
              "      gap: 12px;\n",
              "    }\n",
              "\n",
              "    .colab-df-convert {\n",
              "      background-color: #E8F0FE;\n",
              "      border: none;\n",
              "      border-radius: 50%;\n",
              "      cursor: pointer;\n",
              "      display: none;\n",
              "      fill: #1967D2;\n",
              "      height: 32px;\n",
              "      padding: 0 0 0 0;\n",
              "      width: 32px;\n",
              "    }\n",
              "\n",
              "    .colab-df-convert:hover {\n",
              "      background-color: #E2EBFA;\n",
              "      box-shadow: 0px 1px 2px rgba(60, 64, 67, 0.3), 0px 1px 3px 1px rgba(60, 64, 67, 0.15);\n",
              "      fill: #174EA6;\n",
              "    }\n",
              "\n",
              "    .colab-df-buttons div {\n",
              "      margin-bottom: 4px;\n",
              "    }\n",
              "\n",
              "    [theme=dark] .colab-df-convert {\n",
              "      background-color: #3B4455;\n",
              "      fill: #D2E3FC;\n",
              "    }\n",
              "\n",
              "    [theme=dark] .colab-df-convert:hover {\n",
              "      background-color: #434B5C;\n",
              "      box-shadow: 0px 1px 3px 1px rgba(0, 0, 0, 0.15);\n",
              "      filter: drop-shadow(0px 1px 2px rgba(0, 0, 0, 0.3));\n",
              "      fill: #FFFFFF;\n",
              "    }\n",
              "  </style>\n",
              "\n",
              "    <script>\n",
              "      const buttonEl =\n",
              "        document.querySelector('#df-36947738-ec3c-4059-a8dc-c32ea8d09a67 button.colab-df-convert');\n",
              "      buttonEl.style.display =\n",
              "        google.colab.kernel.accessAllowed ? 'block' : 'none';\n",
              "\n",
              "      async function convertToInteractive(key) {\n",
              "        const element = document.querySelector('#df-36947738-ec3c-4059-a8dc-c32ea8d09a67');\n",
              "        const dataTable =\n",
              "          await google.colab.kernel.invokeFunction('convertToInteractive',\n",
              "                                                    [key], {});\n",
              "        if (!dataTable) return;\n",
              "\n",
              "        const docLinkHtml = 'Like what you see? Visit the ' +\n",
              "          '<a target=\"_blank\" href=https://colab.research.google.com/notebooks/data_table.ipynb>data table notebook</a>'\n",
              "          + ' to learn more about interactive tables.';\n",
              "        element.innerHTML = '';\n",
              "        dataTable['output_type'] = 'display_data';\n",
              "        await google.colab.output.renderOutput(dataTable, element);\n",
              "        const docLink = document.createElement('div');\n",
              "        docLink.innerHTML = docLinkHtml;\n",
              "        element.appendChild(docLink);\n",
              "      }\n",
              "    </script>\n",
              "  </div>\n",
              "\n",
              "\n",
              "<div id=\"df-4b92ad23-3d94-4e24-a52e-fa2844b99823\">\n",
              "  <button class=\"colab-df-quickchart\" onclick=\"quickchart('df-4b92ad23-3d94-4e24-a52e-fa2844b99823')\"\n",
              "            title=\"Suggest charts\"\n",
              "            style=\"display:none;\">\n",
              "\n",
              "<svg xmlns=\"http://www.w3.org/2000/svg\" height=\"24px\"viewBox=\"0 0 24 24\"\n",
              "     width=\"24px\">\n",
              "    <g>\n",
              "        <path d=\"M19 3H5c-1.1 0-2 .9-2 2v14c0 1.1.9 2 2 2h14c1.1 0 2-.9 2-2V5c0-1.1-.9-2-2-2zM9 17H7v-7h2v7zm4 0h-2V7h2v10zm4 0h-2v-4h2v4z\"/>\n",
              "    </g>\n",
              "</svg>\n",
              "  </button>\n",
              "\n",
              "<style>\n",
              "  .colab-df-quickchart {\n",
              "      --bg-color: #E8F0FE;\n",
              "      --fill-color: #1967D2;\n",
              "      --hover-bg-color: #E2EBFA;\n",
              "      --hover-fill-color: #174EA6;\n",
              "      --disabled-fill-color: #AAA;\n",
              "      --disabled-bg-color: #DDD;\n",
              "  }\n",
              "\n",
              "  [theme=dark] .colab-df-quickchart {\n",
              "      --bg-color: #3B4455;\n",
              "      --fill-color: #D2E3FC;\n",
              "      --hover-bg-color: #434B5C;\n",
              "      --hover-fill-color: #FFFFFF;\n",
              "      --disabled-bg-color: #3B4455;\n",
              "      --disabled-fill-color: #666;\n",
              "  }\n",
              "\n",
              "  .colab-df-quickchart {\n",
              "    background-color: var(--bg-color);\n",
              "    border: none;\n",
              "    border-radius: 50%;\n",
              "    cursor: pointer;\n",
              "    display: none;\n",
              "    fill: var(--fill-color);\n",
              "    height: 32px;\n",
              "    padding: 0;\n",
              "    width: 32px;\n",
              "  }\n",
              "\n",
              "  .colab-df-quickchart:hover {\n",
              "    background-color: var(--hover-bg-color);\n",
              "    box-shadow: 0 1px 2px rgba(60, 64, 67, 0.3), 0 1px 3px 1px rgba(60, 64, 67, 0.15);\n",
              "    fill: var(--button-hover-fill-color);\n",
              "  }\n",
              "\n",
              "  .colab-df-quickchart-complete:disabled,\n",
              "  .colab-df-quickchart-complete:disabled:hover {\n",
              "    background-color: var(--disabled-bg-color);\n",
              "    fill: var(--disabled-fill-color);\n",
              "    box-shadow: none;\n",
              "  }\n",
              "\n",
              "  .colab-df-spinner {\n",
              "    border: 2px solid var(--fill-color);\n",
              "    border-color: transparent;\n",
              "    border-bottom-color: var(--fill-color);\n",
              "    animation:\n",
              "      spin 1s steps(1) infinite;\n",
              "  }\n",
              "\n",
              "  @keyframes spin {\n",
              "    0% {\n",
              "      border-color: transparent;\n",
              "      border-bottom-color: var(--fill-color);\n",
              "      border-left-color: var(--fill-color);\n",
              "    }\n",
              "    20% {\n",
              "      border-color: transparent;\n",
              "      border-left-color: var(--fill-color);\n",
              "      border-top-color: var(--fill-color);\n",
              "    }\n",
              "    30% {\n",
              "      border-color: transparent;\n",
              "      border-left-color: var(--fill-color);\n",
              "      border-top-color: var(--fill-color);\n",
              "      border-right-color: var(--fill-color);\n",
              "    }\n",
              "    40% {\n",
              "      border-color: transparent;\n",
              "      border-right-color: var(--fill-color);\n",
              "      border-top-color: var(--fill-color);\n",
              "    }\n",
              "    60% {\n",
              "      border-color: transparent;\n",
              "      border-right-color: var(--fill-color);\n",
              "    }\n",
              "    80% {\n",
              "      border-color: transparent;\n",
              "      border-right-color: var(--fill-color);\n",
              "      border-bottom-color: var(--fill-color);\n",
              "    }\n",
              "    90% {\n",
              "      border-color: transparent;\n",
              "      border-bottom-color: var(--fill-color);\n",
              "    }\n",
              "  }\n",
              "</style>\n",
              "\n",
              "  <script>\n",
              "    async function quickchart(key) {\n",
              "      const quickchartButtonEl =\n",
              "        document.querySelector('#' + key + ' button');\n",
              "      quickchartButtonEl.disabled = true;  // To prevent multiple clicks.\n",
              "      quickchartButtonEl.classList.add('colab-df-spinner');\n",
              "      try {\n",
              "        const charts = await google.colab.kernel.invokeFunction(\n",
              "            'suggestCharts', [key], {});\n",
              "      } catch (error) {\n",
              "        console.error('Error during call to suggestCharts:', error);\n",
              "      }\n",
              "      quickchartButtonEl.classList.remove('colab-df-spinner');\n",
              "      quickchartButtonEl.classList.add('colab-df-quickchart-complete');\n",
              "    }\n",
              "    (() => {\n",
              "      let quickchartButtonEl =\n",
              "        document.querySelector('#df-4b92ad23-3d94-4e24-a52e-fa2844b99823 button');\n",
              "      quickchartButtonEl.style.display =\n",
              "        google.colab.kernel.accessAllowed ? 'block' : 'none';\n",
              "    })();\n",
              "  </script>\n",
              "</div>\n",
              "    </div>\n",
              "  </div>\n"
            ],
            "text/plain": [
              "             client_id  quantity   price  \\\n",
              "0  1515915625440944408         1 6298.00   \n",
              "1  1515915625440992498         1 7318.00   \n",
              "\n",
              "                               message_id  created_at                 date  \n",
              "0  1515915625440944408-1752-6450b79616277  2023-05-02  2023-05-02 08:49:57  \n",
              "1  1515915625440992498-1818-646b35d089c98  2023-05-22  2023-05-22 13:52:13  "
            ]
          },
          "execution_count": 455,
          "metadata": {},
          "output_type": "execute_result"
        }
      ],
      "source": [
        "df_marketplace.head(2)"
      ]
    },
    {
      "cell_type": "code",
      "execution_count": null,
      "metadata": {
        "colab": {
          "background_save": true
        },
        "id": "V4RsKX_Yqncl",
        "outputId": "883216c9-93e7-49cf-dfe2-6a078d20e999"
      },
      "outputs": [
        {
          "name": "stdout",
          "output_type": "stream",
          "text": [
            "<class 'pandas.core.frame.DataFrame'>\n",
            "RangeIndex: 133104 entries, 0 to 133103\n",
            "Data columns (total 6 columns):\n",
            " #   Column          Non-Null Count   Dtype  \n",
            "---  ------          --------------   -----  \n",
            " 0   client_id       133104 non-null  int64  \n",
            " 1   quantity        133104 non-null  int64  \n",
            " 2   price           133104 non-null  float64\n",
            " 3   date            133104 non-null  object \n",
            " 4   message_id      133104 non-null  object \n",
            " 5   recommended_by  133104 non-null  object \n",
            "dtypes: float64(1), int64(2), object(3)\n",
            "memory usage: 6.1+ MB\n"
          ]
        }
      ],
      "source": [
        "df_apparel.info()"
      ]
    },
    {
      "cell_type": "code",
      "execution_count": null,
      "metadata": {
        "colab": {
          "background_save": true
        },
        "id": "Mmu05yOCqncu",
        "outputId": "8103519e-ec4e-4f8c-b7ad-e52d8730957d"
      },
      "outputs": [
        {
          "name": "stdout",
          "output_type": "stream",
          "text": [
            "<class 'pandas.core.frame.DataFrame'>\n",
            "RangeIndex: 811 entries, 0 to 810\n",
            "Data columns (total 6 columns):\n",
            " #   Column          Non-Null Count  Dtype  \n",
            "---  ------          --------------  -----  \n",
            " 0   client_id       811 non-null    int64  \n",
            " 1   quantity        811 non-null    int64  \n",
            " 2   price           811 non-null    float64\n",
            " 3   date            811 non-null    object \n",
            " 4   message_id      811 non-null    object \n",
            " 5   recommended_by  811 non-null    object \n",
            "dtypes: float64(1), int64(2), object(3)\n",
            "memory usage: 38.1+ KB\n"
          ]
        }
      ],
      "source": [
        "df_gifts.info()"
      ]
    },
    {
      "cell_type": "code",
      "execution_count": null,
      "metadata": {
        "colab": {
          "background_save": true
        },
        "id": "dWFsB4Iwqncu",
        "outputId": "b08a18c0-ef4f-4aff-a582-efd1b4114988"
      },
      "outputs": [
        {
          "name": "stdout",
          "output_type": "stream",
          "text": [
            "<class 'pandas.core.frame.DataFrame'>\n",
            "RangeIndex: 48182 entries, 0 to 48181\n",
            "Data columns (total 6 columns):\n",
            " #   Column      Non-Null Count  Dtype  \n",
            "---  ------      --------------  -----  \n",
            " 0   client_id   48182 non-null  int64  \n",
            " 1   quantity    48182 non-null  int64  \n",
            " 2   price       48182 non-null  float64\n",
            " 3   message_id  48182 non-null  object \n",
            " 4   created_at  48182 non-null  object \n",
            " 5   date        48182 non-null  object \n",
            "dtypes: float64(1), int64(2), object(3)\n",
            "memory usage: 2.2+ MB\n"
          ]
        }
      ],
      "source": [
        "df_marketplace.info()"
      ]
    },
    {
      "cell_type": "markdown",
      "metadata": {
        "id": "K3RR9AaCe2_g"
      },
      "source": [
        "Очевидно, что таблицы можно соединить, т.к. имеются похожие признаки. Но специфика торговых объектов отличается, потому на начальном этапе выбираем тактику сравнительного анализа таблиц без объединения."
      ]
    },
    {
      "cell_type": "markdown",
      "metadata": {
        "id": "7LHbBU1htQ56"
      },
      "source": [
        "Общая информация"
      ]
    },
    {
      "cell_type": "markdown",
      "metadata": {
        "id": "XS65g1m-eeSc"
      },
      "source": [
        "Таблица df_apparel\n",
        "\n",
        " - 133104 строк\n",
        " - 6 столбцов\n",
        "\n",
        "Таблица df_gifts\n",
        "\n",
        " - 811 строк\n",
        " - 6 столбцов\n",
        "\n",
        "1. 'client_id'  идентификатор клиента, тип данных int64, без пропусков  \n",
        "2. 'quantity'  количество, тип данных int64, без пропусков  \n",
        "3. 'price  цена, тип данных float64, без пропусков   \n",
        "4. 'date'  дата, тип данных object, без пропусков. Содержит информацию о датах, следует перевести в тип данных datetime  \n",
        "5. 'message_id'  сообщения, тип данных object, без пропусков  \n",
        "6. 'recommended_by' рекомендации, тип данных object, без пропусков  \n",
        "\n",
        "Таблица df_marketplace\n",
        "\n",
        " - 48182 строк\n",
        " - 6 столбцов\n",
        "\n",
        "1. 'client_id'  идентификатор клиента, тип данных int64, без пропусков  \n",
        "2. 'quantity'  количество, тип данных int64, без пропусков  \n",
        "3. 'price  цена, тип данных float64, без пропусков   \n",
        "4. 'message_id'  сообщения, тип данных object, без пропусков  \n",
        "5. 'created_at' дата создания, тип данных object, без пропусков    \n",
        "6. 'date'  дата, тип данных object, без пропусков. Содержит информацию о датах, следует перевести в тип данных datetime\n"
      ]
    },
    {
      "cell_type": "markdown",
      "metadata": {
        "id": "L26thztKOB6z"
      },
      "source": [
        "Преобразуем в 3х таблицах столбец date, а в таблице df_marketplace еще  df_marketplace в тип данных datetime"
      ]
    },
    {
      "cell_type": "code",
      "execution_count": null,
      "metadata": {
        "colab": {
          "background_save": true
        },
        "id": "UtlL87UrTPW-"
      },
      "outputs": [],
      "source": [
        "df_apparel['date'] = pd.to_datetime(df_apparel['date'])"
      ]
    },
    {
      "cell_type": "code",
      "execution_count": null,
      "metadata": {
        "colab": {
          "background_save": true
        },
        "id": "tyD_u6gROcfr"
      },
      "outputs": [],
      "source": [
        "df_gifts['date'] = pd.to_datetime(df_gifts['date'])"
      ]
    },
    {
      "cell_type": "markdown",
      "metadata": {
        "id": "o_mibBv_gqEs"
      },
      "source": [
        "В столбце date оставим только даты, уберем часы, минуты и секунды для лучшего восприятия и для совместного анализа со столбцом created_at"
      ]
    },
    {
      "cell_type": "code",
      "execution_count": null,
      "metadata": {
        "colab": {
          "background_save": true
        },
        "id": "PjXEcIMgOcjf"
      },
      "outputs": [],
      "source": [
        "df_marketplace[['date', 'created_at']] = df_marketplace[['date', 'created_at']].apply(pd.to_datetime)"
      ]
    },
    {
      "cell_type": "code",
      "execution_count": null,
      "metadata": {
        "colab": {
          "background_save": true
        },
        "id": "5ZndB6YDtwEv",
        "outputId": "df8d33c8-ed8d-4a76-df69-b4c2895f6562"
      },
      "outputs": [
        {
          "name": "stdout",
          "output_type": "stream",
          "text": [
            "<class 'pandas.core.frame.DataFrame'>\n",
            "RangeIndex: 48182 entries, 0 to 48181\n",
            "Data columns (total 6 columns):\n",
            " #   Column      Non-Null Count  Dtype         \n",
            "---  ------      --------------  -----         \n",
            " 0   client_id   48182 non-null  int64         \n",
            " 1   quantity    48182 non-null  int64         \n",
            " 2   price       48182 non-null  float64       \n",
            " 3   message_id  48182 non-null  object        \n",
            " 4   created_at  48182 non-null  datetime64[ns]\n",
            " 5   date        48182 non-null  datetime64[ns]\n",
            "dtypes: datetime64[ns](2), float64(1), int64(2), object(1)\n",
            "memory usage: 2.2+ MB\n"
          ]
        }
      ],
      "source": [
        "df_marketplace.info()"
      ]
    },
    {
      "cell_type": "code",
      "execution_count": null,
      "metadata": {
        "colab": {
          "background_save": true
        },
        "id": "TYFTlKRNeJCu"
      },
      "outputs": [],
      "source": [
        "df_marketplace['date'] = df_marketplace['date'].dt.date"
      ]
    },
    {
      "cell_type": "code",
      "execution_count": null,
      "metadata": {
        "colab": {
          "background_save": true
        },
        "id": "SK6Iv6LkuJ9_"
      },
      "outputs": [],
      "source": [
        "df_marketplace[['date', 'created_at']] = df_marketplace[['date', 'created_at']].apply(pd.to_datetime)"
      ]
    },
    {
      "cell_type": "code",
      "execution_count": null,
      "metadata": {
        "colab": {
          "background_save": true
        },
        "id": "XtD0rbWWtsAd",
        "outputId": "14384134-2994-4129-cb14-a2d748c0d06b"
      },
      "outputs": [
        {
          "name": "stdout",
          "output_type": "stream",
          "text": [
            "<class 'pandas.core.frame.DataFrame'>\n",
            "RangeIndex: 48182 entries, 0 to 48181\n",
            "Data columns (total 6 columns):\n",
            " #   Column      Non-Null Count  Dtype         \n",
            "---  ------      --------------  -----         \n",
            " 0   client_id   48182 non-null  int64         \n",
            " 1   quantity    48182 non-null  int64         \n",
            " 2   price       48182 non-null  float64       \n",
            " 3   message_id  48182 non-null  object        \n",
            " 4   created_at  48182 non-null  datetime64[ns]\n",
            " 5   date        48182 non-null  datetime64[ns]\n",
            "dtypes: datetime64[ns](2), float64(1), int64(2), object(1)\n",
            "memory usage: 2.2+ MB\n"
          ]
        }
      ],
      "source": [
        "df_marketplace.info()"
      ]
    },
    {
      "cell_type": "code",
      "execution_count": null,
      "metadata": {
        "colab": {
          "background_save": true
        },
        "id": "fvqzJlNnP9sI",
        "outputId": "5258694c-8419-4a40-98dd-733db121a25b"
      },
      "outputs": [
        {
          "data": {
            "application/vnd.google.colaboratory.intrinsic+json": {
              "type": "dataframe",
              "variable_name": "df_apparel"
            },
            "text/html": [
              "\n",
              "  <div id=\"df-e53425e6-2c36-422e-ae79-33424f4c70fb\" class=\"colab-df-container\">\n",
              "    <div>\n",
              "<style scoped>\n",
              "    .dataframe tbody tr th:only-of-type {\n",
              "        vertical-align: middle;\n",
              "    }\n",
              "\n",
              "    .dataframe tbody tr th {\n",
              "        vertical-align: top;\n",
              "    }\n",
              "\n",
              "    .dataframe thead th {\n",
              "        text-align: right;\n",
              "    }\n",
              "</style>\n",
              "<table border=\"1\" class=\"dataframe\">\n",
              "  <thead>\n",
              "    <tr style=\"text-align: right;\">\n",
              "      <th></th>\n",
              "      <th>client_id</th>\n",
              "      <th>quantity</th>\n",
              "      <th>price</th>\n",
              "      <th>date</th>\n",
              "      <th>message_id</th>\n",
              "      <th>recommended_by</th>\n",
              "    </tr>\n",
              "  </thead>\n",
              "  <tbody>\n",
              "    <tr>\n",
              "      <th>0</th>\n",
              "      <td>1515915625468068833</td>\n",
              "      <td>1</td>\n",
              "      <td>3499.00</td>\n",
              "      <td>2023-09-08</td>\n",
              "      <td>1515915625468068833-13781-64fad81bece56</td>\n",
              "      <td>bulk_message</td>\n",
              "    </tr>\n",
              "    <tr>\n",
              "      <th>1</th>\n",
              "      <td>1515915625468068833</td>\n",
              "      <td>1</td>\n",
              "      <td>3499.00</td>\n",
              "      <td>2023-09-08</td>\n",
              "      <td>1515915625468068833-13781-64fad81bece56</td>\n",
              "      <td>bulk_message</td>\n",
              "    </tr>\n",
              "  </tbody>\n",
              "</table>\n",
              "</div>\n",
              "    <div class=\"colab-df-buttons\">\n",
              "\n",
              "  <div class=\"colab-df-container\">\n",
              "    <button class=\"colab-df-convert\" onclick=\"convertToInteractive('df-e53425e6-2c36-422e-ae79-33424f4c70fb')\"\n",
              "            title=\"Convert this dataframe to an interactive table.\"\n",
              "            style=\"display:none;\">\n",
              "\n",
              "  <svg xmlns=\"http://www.w3.org/2000/svg\" height=\"24px\" viewBox=\"0 -960 960 960\">\n",
              "    <path d=\"M120-120v-720h720v720H120Zm60-500h600v-160H180v160Zm220 220h160v-160H400v160Zm0 220h160v-160H400v160ZM180-400h160v-160H180v160Zm440 0h160v-160H620v160ZM180-180h160v-160H180v160Zm440 0h160v-160H620v160Z\"/>\n",
              "  </svg>\n",
              "    </button>\n",
              "\n",
              "  <style>\n",
              "    .colab-df-container {\n",
              "      display:flex;\n",
              "      gap: 12px;\n",
              "    }\n",
              "\n",
              "    .colab-df-convert {\n",
              "      background-color: #E8F0FE;\n",
              "      border: none;\n",
              "      border-radius: 50%;\n",
              "      cursor: pointer;\n",
              "      display: none;\n",
              "      fill: #1967D2;\n",
              "      height: 32px;\n",
              "      padding: 0 0 0 0;\n",
              "      width: 32px;\n",
              "    }\n",
              "\n",
              "    .colab-df-convert:hover {\n",
              "      background-color: #E2EBFA;\n",
              "      box-shadow: 0px 1px 2px rgba(60, 64, 67, 0.3), 0px 1px 3px 1px rgba(60, 64, 67, 0.15);\n",
              "      fill: #174EA6;\n",
              "    }\n",
              "\n",
              "    .colab-df-buttons div {\n",
              "      margin-bottom: 4px;\n",
              "    }\n",
              "\n",
              "    [theme=dark] .colab-df-convert {\n",
              "      background-color: #3B4455;\n",
              "      fill: #D2E3FC;\n",
              "    }\n",
              "\n",
              "    [theme=dark] .colab-df-convert:hover {\n",
              "      background-color: #434B5C;\n",
              "      box-shadow: 0px 1px 3px 1px rgba(0, 0, 0, 0.15);\n",
              "      filter: drop-shadow(0px 1px 2px rgba(0, 0, 0, 0.3));\n",
              "      fill: #FFFFFF;\n",
              "    }\n",
              "  </style>\n",
              "\n",
              "    <script>\n",
              "      const buttonEl =\n",
              "        document.querySelector('#df-e53425e6-2c36-422e-ae79-33424f4c70fb button.colab-df-convert');\n",
              "      buttonEl.style.display =\n",
              "        google.colab.kernel.accessAllowed ? 'block' : 'none';\n",
              "\n",
              "      async function convertToInteractive(key) {\n",
              "        const element = document.querySelector('#df-e53425e6-2c36-422e-ae79-33424f4c70fb');\n",
              "        const dataTable =\n",
              "          await google.colab.kernel.invokeFunction('convertToInteractive',\n",
              "                                                    [key], {});\n",
              "        if (!dataTable) return;\n",
              "\n",
              "        const docLinkHtml = 'Like what you see? Visit the ' +\n",
              "          '<a target=\"_blank\" href=https://colab.research.google.com/notebooks/data_table.ipynb>data table notebook</a>'\n",
              "          + ' to learn more about interactive tables.';\n",
              "        element.innerHTML = '';\n",
              "        dataTable['output_type'] = 'display_data';\n",
              "        await google.colab.output.renderOutput(dataTable, element);\n",
              "        const docLink = document.createElement('div');\n",
              "        docLink.innerHTML = docLinkHtml;\n",
              "        element.appendChild(docLink);\n",
              "      }\n",
              "    </script>\n",
              "  </div>\n",
              "\n",
              "\n",
              "<div id=\"df-d6d869e1-30cf-4dce-b975-6bb44d47a442\">\n",
              "  <button class=\"colab-df-quickchart\" onclick=\"quickchart('df-d6d869e1-30cf-4dce-b975-6bb44d47a442')\"\n",
              "            title=\"Suggest charts\"\n",
              "            style=\"display:none;\">\n",
              "\n",
              "<svg xmlns=\"http://www.w3.org/2000/svg\" height=\"24px\"viewBox=\"0 0 24 24\"\n",
              "     width=\"24px\">\n",
              "    <g>\n",
              "        <path d=\"M19 3H5c-1.1 0-2 .9-2 2v14c0 1.1.9 2 2 2h14c1.1 0 2-.9 2-2V5c0-1.1-.9-2-2-2zM9 17H7v-7h2v7zm4 0h-2V7h2v10zm4 0h-2v-4h2v4z\"/>\n",
              "    </g>\n",
              "</svg>\n",
              "  </button>\n",
              "\n",
              "<style>\n",
              "  .colab-df-quickchart {\n",
              "      --bg-color: #E8F0FE;\n",
              "      --fill-color: #1967D2;\n",
              "      --hover-bg-color: #E2EBFA;\n",
              "      --hover-fill-color: #174EA6;\n",
              "      --disabled-fill-color: #AAA;\n",
              "      --disabled-bg-color: #DDD;\n",
              "  }\n",
              "\n",
              "  [theme=dark] .colab-df-quickchart {\n",
              "      --bg-color: #3B4455;\n",
              "      --fill-color: #D2E3FC;\n",
              "      --hover-bg-color: #434B5C;\n",
              "      --hover-fill-color: #FFFFFF;\n",
              "      --disabled-bg-color: #3B4455;\n",
              "      --disabled-fill-color: #666;\n",
              "  }\n",
              "\n",
              "  .colab-df-quickchart {\n",
              "    background-color: var(--bg-color);\n",
              "    border: none;\n",
              "    border-radius: 50%;\n",
              "    cursor: pointer;\n",
              "    display: none;\n",
              "    fill: var(--fill-color);\n",
              "    height: 32px;\n",
              "    padding: 0;\n",
              "    width: 32px;\n",
              "  }\n",
              "\n",
              "  .colab-df-quickchart:hover {\n",
              "    background-color: var(--hover-bg-color);\n",
              "    box-shadow: 0 1px 2px rgba(60, 64, 67, 0.3), 0 1px 3px 1px rgba(60, 64, 67, 0.15);\n",
              "    fill: var(--button-hover-fill-color);\n",
              "  }\n",
              "\n",
              "  .colab-df-quickchart-complete:disabled,\n",
              "  .colab-df-quickchart-complete:disabled:hover {\n",
              "    background-color: var(--disabled-bg-color);\n",
              "    fill: var(--disabled-fill-color);\n",
              "    box-shadow: none;\n",
              "  }\n",
              "\n",
              "  .colab-df-spinner {\n",
              "    border: 2px solid var(--fill-color);\n",
              "    border-color: transparent;\n",
              "    border-bottom-color: var(--fill-color);\n",
              "    animation:\n",
              "      spin 1s steps(1) infinite;\n",
              "  }\n",
              "\n",
              "  @keyframes spin {\n",
              "    0% {\n",
              "      border-color: transparent;\n",
              "      border-bottom-color: var(--fill-color);\n",
              "      border-left-color: var(--fill-color);\n",
              "    }\n",
              "    20% {\n",
              "      border-color: transparent;\n",
              "      border-left-color: var(--fill-color);\n",
              "      border-top-color: var(--fill-color);\n",
              "    }\n",
              "    30% {\n",
              "      border-color: transparent;\n",
              "      border-left-color: var(--fill-color);\n",
              "      border-top-color: var(--fill-color);\n",
              "      border-right-color: var(--fill-color);\n",
              "    }\n",
              "    40% {\n",
              "      border-color: transparent;\n",
              "      border-right-color: var(--fill-color);\n",
              "      border-top-color: var(--fill-color);\n",
              "    }\n",
              "    60% {\n",
              "      border-color: transparent;\n",
              "      border-right-color: var(--fill-color);\n",
              "    }\n",
              "    80% {\n",
              "      border-color: transparent;\n",
              "      border-right-color: var(--fill-color);\n",
              "      border-bottom-color: var(--fill-color);\n",
              "    }\n",
              "    90% {\n",
              "      border-color: transparent;\n",
              "      border-bottom-color: var(--fill-color);\n",
              "    }\n",
              "  }\n",
              "</style>\n",
              "\n",
              "  <script>\n",
              "    async function quickchart(key) {\n",
              "      const quickchartButtonEl =\n",
              "        document.querySelector('#' + key + ' button');\n",
              "      quickchartButtonEl.disabled = true;  // To prevent multiple clicks.\n",
              "      quickchartButtonEl.classList.add('colab-df-spinner');\n",
              "      try {\n",
              "        const charts = await google.colab.kernel.invokeFunction(\n",
              "            'suggestCharts', [key], {});\n",
              "      } catch (error) {\n",
              "        console.error('Error during call to suggestCharts:', error);\n",
              "      }\n",
              "      quickchartButtonEl.classList.remove('colab-df-spinner');\n",
              "      quickchartButtonEl.classList.add('colab-df-quickchart-complete');\n",
              "    }\n",
              "    (() => {\n",
              "      let quickchartButtonEl =\n",
              "        document.querySelector('#df-d6d869e1-30cf-4dce-b975-6bb44d47a442 button');\n",
              "      quickchartButtonEl.style.display =\n",
              "        google.colab.kernel.accessAllowed ? 'block' : 'none';\n",
              "    })();\n",
              "  </script>\n",
              "</div>\n",
              "    </div>\n",
              "  </div>\n"
            ],
            "text/plain": [
              "             client_id  quantity   price       date  \\\n",
              "0  1515915625468068833         1 3499.00 2023-09-08   \n",
              "1  1515915625468068833         1 3499.00 2023-09-08   \n",
              "\n",
              "                                message_id recommended_by  \n",
              "0  1515915625468068833-13781-64fad81bece56   bulk_message  \n",
              "1  1515915625468068833-13781-64fad81bece56   bulk_message  "
            ]
          },
          "execution_count": 466,
          "metadata": {},
          "output_type": "execute_result"
        }
      ],
      "source": [
        "df_apparel.head(2)"
      ]
    },
    {
      "cell_type": "code",
      "execution_count": null,
      "metadata": {
        "colab": {
          "background_save": true
        },
        "id": "7nqviZp6P9sJ",
        "outputId": "d0e5a8ff-f1ea-422e-86b0-bc4a0d1c45a6"
      },
      "outputs": [
        {
          "data": {
            "application/vnd.google.colaboratory.intrinsic+json": {
              "summary": "{\n  \"name\": \"df_gifts\",\n  \"rows\": 811,\n  \"fields\": [\n    {\n      \"column\": \"client_id\",\n      \"properties\": {\n        \"dtype\": \"number\",\n        \"std\": 62554070,\n        \"min\": 1515915625803180506,\n        \"max\": 1515915626013602677,\n        \"num_unique_values\": 326,\n        \"samples\": [\n          1515915625855755713,\n          1515915625932163842,\n          1515915625951754053\n        ],\n        \"semantic_type\": \"\",\n        \"description\": \"\"\n      }\n    },\n    {\n      \"column\": \"quantity\",\n      \"properties\": {\n        \"dtype\": \"number\",\n        \"std\": 0,\n        \"min\": 1,\n        \"max\": 2,\n        \"num_unique_values\": 2,\n        \"samples\": [\n          2,\n          1\n        ],\n        \"semantic_type\": \"\",\n        \"description\": \"\"\n      }\n    },\n    {\n      \"column\": \"price\",\n      \"properties\": {\n        \"dtype\": \"number\",\n        \"std\": 17774.34183713246,\n        \"min\": 656.0,\n        \"max\": 173586.0,\n        \"num_unique_values\": 598,\n        \"samples\": [\n          4490.0,\n          8230.0\n        ],\n        \"semantic_type\": \"\",\n        \"description\": \"\"\n      }\n    },\n    {\n      \"column\": \"date\",\n      \"properties\": {\n        \"dtype\": \"date\",\n        \"min\": \"2022-10-26 00:00:00\",\n        \"max\": \"2023-10-24 00:00:00\",\n        \"num_unique_values\": 190,\n        \"samples\": [\n          \"2022-11-21 00:00:00\",\n          \"2022-11-16 00:00:00\"\n        ],\n        \"semantic_type\": \"\",\n        \"description\": \"\"\n      }\n    },\n    {\n      \"column\": \"message_id\",\n      \"properties\": {\n        \"dtype\": \"category\",\n        \"num_unique_values\": 342,\n        \"samples\": [\n          \"1515915625833357568-13766-649d8889b9d10\",\n          \"1515915625938058501-11167-641afe3792d3f\"\n        ],\n        \"semantic_type\": \"\",\n        \"description\": \"\"\n      }\n    },\n    {\n      \"column\": \"recommended_by\",\n      \"properties\": {\n        \"dtype\": \"category\",\n        \"num_unique_values\": 1,\n        \"samples\": [\n          \"bulk_message\"\n        ],\n        \"semantic_type\": \"\",\n        \"description\": \"\"\n      }\n    }\n  ]\n}",
              "type": "dataframe",
              "variable_name": "df_gifts"
            },
            "text/html": [
              "\n",
              "  <div id=\"df-ebe0f54a-9110-4e9b-8eab-609fd7289cc1\" class=\"colab-df-container\">\n",
              "    <div>\n",
              "<style scoped>\n",
              "    .dataframe tbody tr th:only-of-type {\n",
              "        vertical-align: middle;\n",
              "    }\n",
              "\n",
              "    .dataframe tbody tr th {\n",
              "        vertical-align: top;\n",
              "    }\n",
              "\n",
              "    .dataframe thead th {\n",
              "        text-align: right;\n",
              "    }\n",
              "</style>\n",
              "<table border=\"1\" class=\"dataframe\">\n",
              "  <thead>\n",
              "    <tr style=\"text-align: right;\">\n",
              "      <th></th>\n",
              "      <th>client_id</th>\n",
              "      <th>quantity</th>\n",
              "      <th>price</th>\n",
              "      <th>date</th>\n",
              "      <th>message_id</th>\n",
              "      <th>recommended_by</th>\n",
              "    </tr>\n",
              "  </thead>\n",
              "  <tbody>\n",
              "    <tr>\n",
              "      <th>0</th>\n",
              "      <td>1515915625803894158</td>\n",
              "      <td>1</td>\n",
              "      <td>8943.00</td>\n",
              "      <td>2023-10-11</td>\n",
              "      <td>1515915625935652010-16166-6525589bca68f</td>\n",
              "      <td>bulk_message</td>\n",
              "    </tr>\n",
              "    <tr>\n",
              "      <th>1</th>\n",
              "      <td>1515915625803894158</td>\n",
              "      <td>1</td>\n",
              "      <td>46369.00</td>\n",
              "      <td>2023-10-11</td>\n",
              "      <td>1515915625935652010-16166-6525589bca68f</td>\n",
              "      <td>bulk_message</td>\n",
              "    </tr>\n",
              "  </tbody>\n",
              "</table>\n",
              "</div>\n",
              "    <div class=\"colab-df-buttons\">\n",
              "\n",
              "  <div class=\"colab-df-container\">\n",
              "    <button class=\"colab-df-convert\" onclick=\"convertToInteractive('df-ebe0f54a-9110-4e9b-8eab-609fd7289cc1')\"\n",
              "            title=\"Convert this dataframe to an interactive table.\"\n",
              "            style=\"display:none;\">\n",
              "\n",
              "  <svg xmlns=\"http://www.w3.org/2000/svg\" height=\"24px\" viewBox=\"0 -960 960 960\">\n",
              "    <path d=\"M120-120v-720h720v720H120Zm60-500h600v-160H180v160Zm220 220h160v-160H400v160Zm0 220h160v-160H400v160ZM180-400h160v-160H180v160Zm440 0h160v-160H620v160ZM180-180h160v-160H180v160Zm440 0h160v-160H620v160Z\"/>\n",
              "  </svg>\n",
              "    </button>\n",
              "\n",
              "  <style>\n",
              "    .colab-df-container {\n",
              "      display:flex;\n",
              "      gap: 12px;\n",
              "    }\n",
              "\n",
              "    .colab-df-convert {\n",
              "      background-color: #E8F0FE;\n",
              "      border: none;\n",
              "      border-radius: 50%;\n",
              "      cursor: pointer;\n",
              "      display: none;\n",
              "      fill: #1967D2;\n",
              "      height: 32px;\n",
              "      padding: 0 0 0 0;\n",
              "      width: 32px;\n",
              "    }\n",
              "\n",
              "    .colab-df-convert:hover {\n",
              "      background-color: #E2EBFA;\n",
              "      box-shadow: 0px 1px 2px rgba(60, 64, 67, 0.3), 0px 1px 3px 1px rgba(60, 64, 67, 0.15);\n",
              "      fill: #174EA6;\n",
              "    }\n",
              "\n",
              "    .colab-df-buttons div {\n",
              "      margin-bottom: 4px;\n",
              "    }\n",
              "\n",
              "    [theme=dark] .colab-df-convert {\n",
              "      background-color: #3B4455;\n",
              "      fill: #D2E3FC;\n",
              "    }\n",
              "\n",
              "    [theme=dark] .colab-df-convert:hover {\n",
              "      background-color: #434B5C;\n",
              "      box-shadow: 0px 1px 3px 1px rgba(0, 0, 0, 0.15);\n",
              "      filter: drop-shadow(0px 1px 2px rgba(0, 0, 0, 0.3));\n",
              "      fill: #FFFFFF;\n",
              "    }\n",
              "  </style>\n",
              "\n",
              "    <script>\n",
              "      const buttonEl =\n",
              "        document.querySelector('#df-ebe0f54a-9110-4e9b-8eab-609fd7289cc1 button.colab-df-convert');\n",
              "      buttonEl.style.display =\n",
              "        google.colab.kernel.accessAllowed ? 'block' : 'none';\n",
              "\n",
              "      async function convertToInteractive(key) {\n",
              "        const element = document.querySelector('#df-ebe0f54a-9110-4e9b-8eab-609fd7289cc1');\n",
              "        const dataTable =\n",
              "          await google.colab.kernel.invokeFunction('convertToInteractive',\n",
              "                                                    [key], {});\n",
              "        if (!dataTable) return;\n",
              "\n",
              "        const docLinkHtml = 'Like what you see? Visit the ' +\n",
              "          '<a target=\"_blank\" href=https://colab.research.google.com/notebooks/data_table.ipynb>data table notebook</a>'\n",
              "          + ' to learn more about interactive tables.';\n",
              "        element.innerHTML = '';\n",
              "        dataTable['output_type'] = 'display_data';\n",
              "        await google.colab.output.renderOutput(dataTable, element);\n",
              "        const docLink = document.createElement('div');\n",
              "        docLink.innerHTML = docLinkHtml;\n",
              "        element.appendChild(docLink);\n",
              "      }\n",
              "    </script>\n",
              "  </div>\n",
              "\n",
              "\n",
              "<div id=\"df-7b7424bc-0421-45aa-8ae2-99bb48779b69\">\n",
              "  <button class=\"colab-df-quickchart\" onclick=\"quickchart('df-7b7424bc-0421-45aa-8ae2-99bb48779b69')\"\n",
              "            title=\"Suggest charts\"\n",
              "            style=\"display:none;\">\n",
              "\n",
              "<svg xmlns=\"http://www.w3.org/2000/svg\" height=\"24px\"viewBox=\"0 0 24 24\"\n",
              "     width=\"24px\">\n",
              "    <g>\n",
              "        <path d=\"M19 3H5c-1.1 0-2 .9-2 2v14c0 1.1.9 2 2 2h14c1.1 0 2-.9 2-2V5c0-1.1-.9-2-2-2zM9 17H7v-7h2v7zm4 0h-2V7h2v10zm4 0h-2v-4h2v4z\"/>\n",
              "    </g>\n",
              "</svg>\n",
              "  </button>\n",
              "\n",
              "<style>\n",
              "  .colab-df-quickchart {\n",
              "      --bg-color: #E8F0FE;\n",
              "      --fill-color: #1967D2;\n",
              "      --hover-bg-color: #E2EBFA;\n",
              "      --hover-fill-color: #174EA6;\n",
              "      --disabled-fill-color: #AAA;\n",
              "      --disabled-bg-color: #DDD;\n",
              "  }\n",
              "\n",
              "  [theme=dark] .colab-df-quickchart {\n",
              "      --bg-color: #3B4455;\n",
              "      --fill-color: #D2E3FC;\n",
              "      --hover-bg-color: #434B5C;\n",
              "      --hover-fill-color: #FFFFFF;\n",
              "      --disabled-bg-color: #3B4455;\n",
              "      --disabled-fill-color: #666;\n",
              "  }\n",
              "\n",
              "  .colab-df-quickchart {\n",
              "    background-color: var(--bg-color);\n",
              "    border: none;\n",
              "    border-radius: 50%;\n",
              "    cursor: pointer;\n",
              "    display: none;\n",
              "    fill: var(--fill-color);\n",
              "    height: 32px;\n",
              "    padding: 0;\n",
              "    width: 32px;\n",
              "  }\n",
              "\n",
              "  .colab-df-quickchart:hover {\n",
              "    background-color: var(--hover-bg-color);\n",
              "    box-shadow: 0 1px 2px rgba(60, 64, 67, 0.3), 0 1px 3px 1px rgba(60, 64, 67, 0.15);\n",
              "    fill: var(--button-hover-fill-color);\n",
              "  }\n",
              "\n",
              "  .colab-df-quickchart-complete:disabled,\n",
              "  .colab-df-quickchart-complete:disabled:hover {\n",
              "    background-color: var(--disabled-bg-color);\n",
              "    fill: var(--disabled-fill-color);\n",
              "    box-shadow: none;\n",
              "  }\n",
              "\n",
              "  .colab-df-spinner {\n",
              "    border: 2px solid var(--fill-color);\n",
              "    border-color: transparent;\n",
              "    border-bottom-color: var(--fill-color);\n",
              "    animation:\n",
              "      spin 1s steps(1) infinite;\n",
              "  }\n",
              "\n",
              "  @keyframes spin {\n",
              "    0% {\n",
              "      border-color: transparent;\n",
              "      border-bottom-color: var(--fill-color);\n",
              "      border-left-color: var(--fill-color);\n",
              "    }\n",
              "    20% {\n",
              "      border-color: transparent;\n",
              "      border-left-color: var(--fill-color);\n",
              "      border-top-color: var(--fill-color);\n",
              "    }\n",
              "    30% {\n",
              "      border-color: transparent;\n",
              "      border-left-color: var(--fill-color);\n",
              "      border-top-color: var(--fill-color);\n",
              "      border-right-color: var(--fill-color);\n",
              "    }\n",
              "    40% {\n",
              "      border-color: transparent;\n",
              "      border-right-color: var(--fill-color);\n",
              "      border-top-color: var(--fill-color);\n",
              "    }\n",
              "    60% {\n",
              "      border-color: transparent;\n",
              "      border-right-color: var(--fill-color);\n",
              "    }\n",
              "    80% {\n",
              "      border-color: transparent;\n",
              "      border-right-color: var(--fill-color);\n",
              "      border-bottom-color: var(--fill-color);\n",
              "    }\n",
              "    90% {\n",
              "      border-color: transparent;\n",
              "      border-bottom-color: var(--fill-color);\n",
              "    }\n",
              "  }\n",
              "</style>\n",
              "\n",
              "  <script>\n",
              "    async function quickchart(key) {\n",
              "      const quickchartButtonEl =\n",
              "        document.querySelector('#' + key + ' button');\n",
              "      quickchartButtonEl.disabled = true;  // To prevent multiple clicks.\n",
              "      quickchartButtonEl.classList.add('colab-df-spinner');\n",
              "      try {\n",
              "        const charts = await google.colab.kernel.invokeFunction(\n",
              "            'suggestCharts', [key], {});\n",
              "      } catch (error) {\n",
              "        console.error('Error during call to suggestCharts:', error);\n",
              "      }\n",
              "      quickchartButtonEl.classList.remove('colab-df-spinner');\n",
              "      quickchartButtonEl.classList.add('colab-df-quickchart-complete');\n",
              "    }\n",
              "    (() => {\n",
              "      let quickchartButtonEl =\n",
              "        document.querySelector('#df-7b7424bc-0421-45aa-8ae2-99bb48779b69 button');\n",
              "      quickchartButtonEl.style.display =\n",
              "        google.colab.kernel.accessAllowed ? 'block' : 'none';\n",
              "    })();\n",
              "  </script>\n",
              "</div>\n",
              "    </div>\n",
              "  </div>\n"
            ],
            "text/plain": [
              "             client_id  quantity    price       date  \\\n",
              "0  1515915625803894158         1  8943.00 2023-10-11   \n",
              "1  1515915625803894158         1 46369.00 2023-10-11   \n",
              "\n",
              "                                message_id recommended_by  \n",
              "0  1515915625935652010-16166-6525589bca68f   bulk_message  \n",
              "1  1515915625935652010-16166-6525589bca68f   bulk_message  "
            ]
          },
          "execution_count": 467,
          "metadata": {},
          "output_type": "execute_result"
        }
      ],
      "source": [
        "df_gifts.head(2)"
      ]
    },
    {
      "cell_type": "code",
      "execution_count": null,
      "metadata": {
        "colab": {
          "background_save": true
        },
        "id": "BKy4LX13P9sJ",
        "outputId": "692163f7-4736-4fa8-ba93-c7caf47c1a73"
      },
      "outputs": [
        {
          "data": {
            "application/vnd.google.colaboratory.intrinsic+json": {
              "summary": "{\n  \"name\": \"df_marketplace\",\n  \"rows\": 48182,\n  \"fields\": [\n    {\n      \"column\": \"client_id\",\n      \"properties\": {\n        \"dtype\": \"number\",\n        \"std\": 31733874,\n        \"min\": 1515915625440099873,\n        \"max\": 1515915625588646092,\n        \"num_unique_values\": 17787,\n        \"samples\": [\n          1515915625585356178,\n          1515915625519410219,\n          1515915625519511438\n        ],\n        \"semantic_type\": \"\",\n        \"description\": \"\"\n      }\n    },\n    {\n      \"column\": \"quantity\",\n      \"properties\": {\n        \"dtype\": \"number\",\n        \"std\": 0,\n        \"min\": 1,\n        \"max\": 50,\n        \"num_unique_values\": 15,\n        \"samples\": [\n          10,\n          23,\n          1\n        ],\n        \"semantic_type\": \"\",\n        \"description\": \"\"\n      }\n    },\n    {\n      \"column\": \"price\",\n      \"properties\": {\n        \"dtype\": \"number\",\n        \"std\": 44922.74176732124,\n        \"min\": 0.0,\n        \"max\": 1299998.0,\n        \"num_unique_values\": 4991,\n        \"samples\": [\n          32999.0,\n          1287.0,\n          1548.0\n        ],\n        \"semantic_type\": \"\",\n        \"description\": \"\"\n      }\n    },\n    {\n      \"column\": \"message_id\",\n      \"properties\": {\n        \"dtype\": \"category\",\n        \"num_unique_values\": 20940,\n        \"samples\": [\n          \"1515915625581556346-2191-6537844198466\",\n          \"1515915625516575506-2149-6523cf1c31e32\",\n          \"1515915625545759320-1296-637e1723d2bf7\"\n        ],\n        \"semantic_type\": \"\",\n        \"description\": \"\"\n      }\n    },\n    {\n      \"column\": \"created_at\",\n      \"properties\": {\n        \"dtype\": \"date\",\n        \"min\": \"2022-10-26 00:00:00\",\n        \"max\": \"2023-10-26 00:00:00\",\n        \"num_unique_values\": 365,\n        \"samples\": [\n          \"2023-01-28 00:00:00\",\n          \"2023-03-03 00:00:00\",\n          \"2023-05-03 00:00:00\"\n        ],\n        \"semantic_type\": \"\",\n        \"description\": \"\"\n      }\n    },\n    {\n      \"column\": \"date\",\n      \"properties\": {\n        \"dtype\": \"date\",\n        \"min\": \"2022-10-26 00:00:00\",\n        \"max\": \"2023-10-26 00:00:00\",\n        \"num_unique_values\": 365,\n        \"samples\": [\n          \"2023-01-28 00:00:00\",\n          \"2023-03-03 00:00:00\",\n          \"2023-05-03 00:00:00\"\n        ],\n        \"semantic_type\": \"\",\n        \"description\": \"\"\n      }\n    }\n  ]\n}",
              "type": "dataframe",
              "variable_name": "df_marketplace"
            },
            "text/html": [
              "\n",
              "  <div id=\"df-57cbbfd2-bfb8-44a4-be86-00c6e648680a\" class=\"colab-df-container\">\n",
              "    <div>\n",
              "<style scoped>\n",
              "    .dataframe tbody tr th:only-of-type {\n",
              "        vertical-align: middle;\n",
              "    }\n",
              "\n",
              "    .dataframe tbody tr th {\n",
              "        vertical-align: top;\n",
              "    }\n",
              "\n",
              "    .dataframe thead th {\n",
              "        text-align: right;\n",
              "    }\n",
              "</style>\n",
              "<table border=\"1\" class=\"dataframe\">\n",
              "  <thead>\n",
              "    <tr style=\"text-align: right;\">\n",
              "      <th></th>\n",
              "      <th>client_id</th>\n",
              "      <th>quantity</th>\n",
              "      <th>price</th>\n",
              "      <th>message_id</th>\n",
              "      <th>created_at</th>\n",
              "      <th>date</th>\n",
              "    </tr>\n",
              "  </thead>\n",
              "  <tbody>\n",
              "    <tr>\n",
              "      <th>0</th>\n",
              "      <td>1515915625440944408</td>\n",
              "      <td>1</td>\n",
              "      <td>6298.00</td>\n",
              "      <td>1515915625440944408-1752-6450b79616277</td>\n",
              "      <td>2023-05-02</td>\n",
              "      <td>2023-05-02</td>\n",
              "    </tr>\n",
              "    <tr>\n",
              "      <th>1</th>\n",
              "      <td>1515915625440992498</td>\n",
              "      <td>1</td>\n",
              "      <td>7318.00</td>\n",
              "      <td>1515915625440992498-1818-646b35d089c98</td>\n",
              "      <td>2023-05-22</td>\n",
              "      <td>2023-05-22</td>\n",
              "    </tr>\n",
              "  </tbody>\n",
              "</table>\n",
              "</div>\n",
              "    <div class=\"colab-df-buttons\">\n",
              "\n",
              "  <div class=\"colab-df-container\">\n",
              "    <button class=\"colab-df-convert\" onclick=\"convertToInteractive('df-57cbbfd2-bfb8-44a4-be86-00c6e648680a')\"\n",
              "            title=\"Convert this dataframe to an interactive table.\"\n",
              "            style=\"display:none;\">\n",
              "\n",
              "  <svg xmlns=\"http://www.w3.org/2000/svg\" height=\"24px\" viewBox=\"0 -960 960 960\">\n",
              "    <path d=\"M120-120v-720h720v720H120Zm60-500h600v-160H180v160Zm220 220h160v-160H400v160Zm0 220h160v-160H400v160ZM180-400h160v-160H180v160Zm440 0h160v-160H620v160ZM180-180h160v-160H180v160Zm440 0h160v-160H620v160Z\"/>\n",
              "  </svg>\n",
              "    </button>\n",
              "\n",
              "  <style>\n",
              "    .colab-df-container {\n",
              "      display:flex;\n",
              "      gap: 12px;\n",
              "    }\n",
              "\n",
              "    .colab-df-convert {\n",
              "      background-color: #E8F0FE;\n",
              "      border: none;\n",
              "      border-radius: 50%;\n",
              "      cursor: pointer;\n",
              "      display: none;\n",
              "      fill: #1967D2;\n",
              "      height: 32px;\n",
              "      padding: 0 0 0 0;\n",
              "      width: 32px;\n",
              "    }\n",
              "\n",
              "    .colab-df-convert:hover {\n",
              "      background-color: #E2EBFA;\n",
              "      box-shadow: 0px 1px 2px rgba(60, 64, 67, 0.3), 0px 1px 3px 1px rgba(60, 64, 67, 0.15);\n",
              "      fill: #174EA6;\n",
              "    }\n",
              "\n",
              "    .colab-df-buttons div {\n",
              "      margin-bottom: 4px;\n",
              "    }\n",
              "\n",
              "    [theme=dark] .colab-df-convert {\n",
              "      background-color: #3B4455;\n",
              "      fill: #D2E3FC;\n",
              "    }\n",
              "\n",
              "    [theme=dark] .colab-df-convert:hover {\n",
              "      background-color: #434B5C;\n",
              "      box-shadow: 0px 1px 3px 1px rgba(0, 0, 0, 0.15);\n",
              "      filter: drop-shadow(0px 1px 2px rgba(0, 0, 0, 0.3));\n",
              "      fill: #FFFFFF;\n",
              "    }\n",
              "  </style>\n",
              "\n",
              "    <script>\n",
              "      const buttonEl =\n",
              "        document.querySelector('#df-57cbbfd2-bfb8-44a4-be86-00c6e648680a button.colab-df-convert');\n",
              "      buttonEl.style.display =\n",
              "        google.colab.kernel.accessAllowed ? 'block' : 'none';\n",
              "\n",
              "      async function convertToInteractive(key) {\n",
              "        const element = document.querySelector('#df-57cbbfd2-bfb8-44a4-be86-00c6e648680a');\n",
              "        const dataTable =\n",
              "          await google.colab.kernel.invokeFunction('convertToInteractive',\n",
              "                                                    [key], {});\n",
              "        if (!dataTable) return;\n",
              "\n",
              "        const docLinkHtml = 'Like what you see? Visit the ' +\n",
              "          '<a target=\"_blank\" href=https://colab.research.google.com/notebooks/data_table.ipynb>data table notebook</a>'\n",
              "          + ' to learn more about interactive tables.';\n",
              "        element.innerHTML = '';\n",
              "        dataTable['output_type'] = 'display_data';\n",
              "        await google.colab.output.renderOutput(dataTable, element);\n",
              "        const docLink = document.createElement('div');\n",
              "        docLink.innerHTML = docLinkHtml;\n",
              "        element.appendChild(docLink);\n",
              "      }\n",
              "    </script>\n",
              "  </div>\n",
              "\n",
              "\n",
              "<div id=\"df-467e10d0-79bd-4f27-8094-e2a25e3c0e9e\">\n",
              "  <button class=\"colab-df-quickchart\" onclick=\"quickchart('df-467e10d0-79bd-4f27-8094-e2a25e3c0e9e')\"\n",
              "            title=\"Suggest charts\"\n",
              "            style=\"display:none;\">\n",
              "\n",
              "<svg xmlns=\"http://www.w3.org/2000/svg\" height=\"24px\"viewBox=\"0 0 24 24\"\n",
              "     width=\"24px\">\n",
              "    <g>\n",
              "        <path d=\"M19 3H5c-1.1 0-2 .9-2 2v14c0 1.1.9 2 2 2h14c1.1 0 2-.9 2-2V5c0-1.1-.9-2-2-2zM9 17H7v-7h2v7zm4 0h-2V7h2v10zm4 0h-2v-4h2v4z\"/>\n",
              "    </g>\n",
              "</svg>\n",
              "  </button>\n",
              "\n",
              "<style>\n",
              "  .colab-df-quickchart {\n",
              "      --bg-color: #E8F0FE;\n",
              "      --fill-color: #1967D2;\n",
              "      --hover-bg-color: #E2EBFA;\n",
              "      --hover-fill-color: #174EA6;\n",
              "      --disabled-fill-color: #AAA;\n",
              "      --disabled-bg-color: #DDD;\n",
              "  }\n",
              "\n",
              "  [theme=dark] .colab-df-quickchart {\n",
              "      --bg-color: #3B4455;\n",
              "      --fill-color: #D2E3FC;\n",
              "      --hover-bg-color: #434B5C;\n",
              "      --hover-fill-color: #FFFFFF;\n",
              "      --disabled-bg-color: #3B4455;\n",
              "      --disabled-fill-color: #666;\n",
              "  }\n",
              "\n",
              "  .colab-df-quickchart {\n",
              "    background-color: var(--bg-color);\n",
              "    border: none;\n",
              "    border-radius: 50%;\n",
              "    cursor: pointer;\n",
              "    display: none;\n",
              "    fill: var(--fill-color);\n",
              "    height: 32px;\n",
              "    padding: 0;\n",
              "    width: 32px;\n",
              "  }\n",
              "\n",
              "  .colab-df-quickchart:hover {\n",
              "    background-color: var(--hover-bg-color);\n",
              "    box-shadow: 0 1px 2px rgba(60, 64, 67, 0.3), 0 1px 3px 1px rgba(60, 64, 67, 0.15);\n",
              "    fill: var(--button-hover-fill-color);\n",
              "  }\n",
              "\n",
              "  .colab-df-quickchart-complete:disabled,\n",
              "  .colab-df-quickchart-complete:disabled:hover {\n",
              "    background-color: var(--disabled-bg-color);\n",
              "    fill: var(--disabled-fill-color);\n",
              "    box-shadow: none;\n",
              "  }\n",
              "\n",
              "  .colab-df-spinner {\n",
              "    border: 2px solid var(--fill-color);\n",
              "    border-color: transparent;\n",
              "    border-bottom-color: var(--fill-color);\n",
              "    animation:\n",
              "      spin 1s steps(1) infinite;\n",
              "  }\n",
              "\n",
              "  @keyframes spin {\n",
              "    0% {\n",
              "      border-color: transparent;\n",
              "      border-bottom-color: var(--fill-color);\n",
              "      border-left-color: var(--fill-color);\n",
              "    }\n",
              "    20% {\n",
              "      border-color: transparent;\n",
              "      border-left-color: var(--fill-color);\n",
              "      border-top-color: var(--fill-color);\n",
              "    }\n",
              "    30% {\n",
              "      border-color: transparent;\n",
              "      border-left-color: var(--fill-color);\n",
              "      border-top-color: var(--fill-color);\n",
              "      border-right-color: var(--fill-color);\n",
              "    }\n",
              "    40% {\n",
              "      border-color: transparent;\n",
              "      border-right-color: var(--fill-color);\n",
              "      border-top-color: var(--fill-color);\n",
              "    }\n",
              "    60% {\n",
              "      border-color: transparent;\n",
              "      border-right-color: var(--fill-color);\n",
              "    }\n",
              "    80% {\n",
              "      border-color: transparent;\n",
              "      border-right-color: var(--fill-color);\n",
              "      border-bottom-color: var(--fill-color);\n",
              "    }\n",
              "    90% {\n",
              "      border-color: transparent;\n",
              "      border-bottom-color: var(--fill-color);\n",
              "    }\n",
              "  }\n",
              "</style>\n",
              "\n",
              "  <script>\n",
              "    async function quickchart(key) {\n",
              "      const quickchartButtonEl =\n",
              "        document.querySelector('#' + key + ' button');\n",
              "      quickchartButtonEl.disabled = true;  // To prevent multiple clicks.\n",
              "      quickchartButtonEl.classList.add('colab-df-spinner');\n",
              "      try {\n",
              "        const charts = await google.colab.kernel.invokeFunction(\n",
              "            'suggestCharts', [key], {});\n",
              "      } catch (error) {\n",
              "        console.error('Error during call to suggestCharts:', error);\n",
              "      }\n",
              "      quickchartButtonEl.classList.remove('colab-df-spinner');\n",
              "      quickchartButtonEl.classList.add('colab-df-quickchart-complete');\n",
              "    }\n",
              "    (() => {\n",
              "      let quickchartButtonEl =\n",
              "        document.querySelector('#df-467e10d0-79bd-4f27-8094-e2a25e3c0e9e button');\n",
              "      quickchartButtonEl.style.display =\n",
              "        google.colab.kernel.accessAllowed ? 'block' : 'none';\n",
              "    })();\n",
              "  </script>\n",
              "</div>\n",
              "    </div>\n",
              "  </div>\n"
            ],
            "text/plain": [
              "             client_id  quantity   price  \\\n",
              "0  1515915625440944408         1 6298.00   \n",
              "1  1515915625440992498         1 7318.00   \n",
              "\n",
              "                               message_id created_at       date  \n",
              "0  1515915625440944408-1752-6450b79616277 2023-05-02 2023-05-02  \n",
              "1  1515915625440992498-1818-646b35d089c98 2023-05-22 2023-05-22  "
            ]
          },
          "execution_count": 468,
          "metadata": {},
          "output_type": "execute_result"
        }
      ],
      "source": [
        "df_marketplace.head(2)"
      ]
    },
    {
      "cell_type": "markdown",
      "metadata": {
        "id": "DwrZXX_Ttj6D"
      },
      "source": [
        "Признак message_id не дает информации для анализа уберем его в 3х таблицах пока.\n"
      ]
    },
    {
      "cell_type": "markdown",
      "metadata": {
        "id": "nzLdOwSnuWZ8"
      },
      "source": [
        "Проверим, дает ли полезную информацию столбец recommended_by"
      ]
    },
    {
      "cell_type": "code",
      "execution_count": null,
      "metadata": {
        "colab": {
          "background_save": true
        },
        "id": "a3kigblhuc1s",
        "outputId": "abef3e9e-d013-440e-f3ab-8d87e8cb5691"
      },
      "outputs": [
        {
          "data": {
            "text/plain": [
              "bulk_message    133104\n",
              "Name: recommended_by, dtype: int64"
            ]
          },
          "execution_count": 469,
          "metadata": {},
          "output_type": "execute_result"
        }
      ],
      "source": [
        "df_apparel['recommended_by'].value_counts()"
      ]
    },
    {
      "cell_type": "code",
      "execution_count": null,
      "metadata": {
        "colab": {
          "background_save": true
        },
        "id": "Qkf7rtCcRdUn",
        "outputId": "e0392fec-a529-422e-912c-31fdca42396b"
      },
      "outputs": [
        {
          "data": {
            "text/plain": [
              "bulk_message    811\n",
              "Name: recommended_by, dtype: int64"
            ]
          },
          "execution_count": 470,
          "metadata": {},
          "output_type": "execute_result"
        }
      ],
      "source": [
        "df_gifts['recommended_by'].value_counts()"
      ]
    },
    {
      "cell_type": "markdown",
      "metadata": {
        "id": "akguWgI_vp5R"
      },
      "source": [
        "Столбец recommended_by так же удаляем - все значения == 'bulk_message'"
      ]
    },
    {
      "cell_type": "code",
      "execution_count": null,
      "metadata": {
        "colab": {
          "background_save": true
        },
        "id": "51D24niUNUZD"
      },
      "outputs": [],
      "source": [
        "df_apparel = df_apparel.drop(['message_id', 'recommended_by'], axis=1)"
      ]
    },
    {
      "cell_type": "code",
      "execution_count": null,
      "metadata": {
        "colab": {
          "background_save": true
        },
        "id": "Il_smwzFSEcO"
      },
      "outputs": [],
      "source": [
        "df_gifts = df_gifts.drop(['message_id', 'recommended_by'], axis=1)"
      ]
    },
    {
      "cell_type": "code",
      "execution_count": null,
      "metadata": {
        "colab": {
          "background_save": true
        },
        "id": "Q_s-E49cSEvh"
      },
      "outputs": [],
      "source": [
        "df_marketplace = df_marketplace.drop(['message_id'], axis=1)"
      ]
    },
    {
      "cell_type": "markdown",
      "metadata": {
        "id": "QJHKsalrc1Bj"
      },
      "source": [
        "В таблице df_marketplace проверим информативность столбца created_at"
      ]
    },
    {
      "cell_type": "code",
      "execution_count": null,
      "metadata": {
        "colab": {
          "background_save": true
        },
        "id": "UeX8dhtwp2_n",
        "outputId": "74a6ed5a-bd9a-4065-ce13-f867cedf1faa"
      },
      "outputs": [
        {
          "data": {
            "text/plain": [
              "0"
            ]
          },
          "execution_count": 474,
          "metadata": {},
          "output_type": "execute_result"
        }
      ],
      "source": [
        "len(df_marketplace[df_marketplace['created_at'] != df_marketplace['date']])"
      ]
    },
    {
      "cell_type": "markdown",
      "metadata": {
        "id": "_QxORKtEqNMz"
      },
      "source": [
        "В таблице df_marketplace даты столбца created_at равны датам столбца date - удаляем"
      ]
    },
    {
      "cell_type": "code",
      "execution_count": null,
      "metadata": {
        "colab": {
          "background_save": true
        },
        "id": "yTf4Rjw-qkr-"
      },
      "outputs": [],
      "source": [
        "df_marketplace = df_marketplace.drop(['created_at'], axis=1)"
      ]
    },
    {
      "cell_type": "markdown",
      "metadata": {
        "id": "rePNZRUvqX2g"
      },
      "source": [
        "### Дубликаты"
      ]
    },
    {
      "cell_type": "markdown",
      "metadata": {
        "id": "2nYNpjzZ4e-1"
      },
      "source": [
        "Проведем проверку на дубликаты."
      ]
    },
    {
      "cell_type": "code",
      "execution_count": null,
      "metadata": {
        "colab": {
          "background_save": true
        },
        "id": "B2JuOATbN10R",
        "outputId": "d60421cc-47be-4511-92d8-0c2af8d0f0c7"
      },
      "outputs": [
        {
          "data": {
            "text/plain": [
              "0.4453585166486356"
            ]
          },
          "execution_count": 476,
          "metadata": {},
          "output_type": "execute_result"
        }
      ],
      "source": [
        "df_apparel.duplicated().mean()"
      ]
    },
    {
      "cell_type": "code",
      "execution_count": null,
      "metadata": {
        "colab": {
          "background_save": true
        },
        "id": "BUtmNGBwsPCu",
        "outputId": "f0ec28a9-3718-489e-964b-293eb2221c92"
      },
      "outputs": [
        {
          "data": {
            "text/plain": [
              "0.0690505548705302"
            ]
          },
          "execution_count": 477,
          "metadata": {},
          "output_type": "execute_result"
        }
      ],
      "source": [
        "df_gifts.duplicated().mean()"
      ]
    },
    {
      "cell_type": "code",
      "execution_count": null,
      "metadata": {
        "id": "ustghKuvsPKD"
      },
      "outputs": [],
      "source": [
        "df_marketplace.duplicated().mean()"
      ]
    },
    {
      "cell_type": "markdown",
      "metadata": {
        "id": "1W1LGIBbsbtU"
      },
      "source": [
        "Все 3 таблицы имеют дубликаты\n",
        "\n",
        "df_apparel – 45%\n",
        "\n",
        "df_gifts - 7%\n",
        "\n",
        "df_marketplace - 18%\n",
        "\n",
        "Проверим , что это за повторы данных."
      ]
    },
    {
      "cell_type": "code",
      "execution_count": null,
      "metadata": {
        "id": "pOScvJIqstTK"
      },
      "outputs": [],
      "source": [
        "df_apparel[df_apparel.duplicated()].head(50)"
      ]
    },
    {
      "cell_type": "code",
      "execution_count": null,
      "metadata": {
        "id": "-pJ7PKs7stTK"
      },
      "outputs": [],
      "source": [
        "df_gifts[df_gifts.duplicated()]"
      ]
    },
    {
      "cell_type": "code",
      "execution_count": null,
      "metadata": {
        "id": "0j6mhq3_stTK"
      },
      "outputs": [],
      "source": [
        "df_marketplace[df_marketplace.duplicated()].head(30)"
      ]
    },
    {
      "cell_type": "markdown",
      "metadata": {
        "id": "DADiVISw9vda"
      },
      "source": [
        "Все 3 таблицы содержат дубликаты.\n",
        "\n",
        "Отличие по цене означает, один покупатель в один день приобретал различные товары.  \n",
        "\n",
        "Полные дубликаты могут означать, что клиент оформил несколько заказов одного наименования, но разной расцветки или размера, поэтому дубликаты пока трогать не будем."
      ]
    },
    {
      "cell_type": "markdown",
      "metadata": {
        "id": "fRRpmxEatQ6b"
      },
      "source": [
        "### Кореляция"
      ]
    },
    {
      "cell_type": "code",
      "execution_count": 482,
      "metadata": {
        "id": "lw-9KO4djqqM",
        "colab": {
          "base_uri": "https://localhost:8080/",
          "height": 143
        },
        "outputId": "21673c48-761d-4207-c8f4-92266188a014"
      },
      "outputs": [
        {
          "data": {
            "text/html": [
              "<style type=\"text/css\">\n",
              "#T_bb8b2_row0_col0, #T_bb8b2_row1_col1, #T_bb8b2_row2_col2 {\n",
              "  background-color: #ffff66;\n",
              "  color: #000000;\n",
              "}\n",
              "#T_bb8b2_row0_col1 {\n",
              "  background-color: #048266;\n",
              "  color: #f1f1f1;\n",
              "}\n",
              "#T_bb8b2_row0_col2 {\n",
              "  background-color: #078366;\n",
              "  color: #f1f1f1;\n",
              "}\n",
              "#T_bb8b2_row1_col0, #T_bb8b2_row1_col2, #T_bb8b2_row2_col1 {\n",
              "  background-color: #008066;\n",
              "  color: #f1f1f1;\n",
              "}\n",
              "#T_bb8b2_row2_col0 {\n",
              "  background-color: #028066;\n",
              "  color: #f1f1f1;\n",
              "}\n",
              "</style>\n",
              "<table id=\"T_bb8b2\" class=\"dataframe\">\n",
              "  <thead>\n",
              "    <tr>\n",
              "      <th class=\"blank level0\" >&nbsp;</th>\n",
              "      <th id=\"T_bb8b2_level0_col0\" class=\"col_heading level0 col0\" >client_id</th>\n",
              "      <th id=\"T_bb8b2_level0_col1\" class=\"col_heading level0 col1\" >quantity</th>\n",
              "      <th id=\"T_bb8b2_level0_col2\" class=\"col_heading level0 col2\" >price</th>\n",
              "    </tr>\n",
              "  </thead>\n",
              "  <tbody>\n",
              "    <tr>\n",
              "      <th id=\"T_bb8b2_level0_row0\" class=\"row_heading level0 row0\" >client_id</th>\n",
              "      <td id=\"T_bb8b2_row0_col0\" class=\"data row0 col0\" >1.000000</td>\n",
              "      <td id=\"T_bb8b2_row0_col1\" class=\"data row0 col1\" >0.010454</td>\n",
              "      <td id=\"T_bb8b2_row0_col2\" class=\"data row0 col2\" >0.021993</td>\n",
              "    </tr>\n",
              "    <tr>\n",
              "      <th id=\"T_bb8b2_level0_row1\" class=\"row_heading level0 row1\" >quantity</th>\n",
              "      <td id=\"T_bb8b2_row1_col0\" class=\"data row1 col0\" >0.010454</td>\n",
              "      <td id=\"T_bb8b2_row1_col1\" class=\"data row1 col1\" >1.000000</td>\n",
              "      <td id=\"T_bb8b2_row1_col2\" class=\"data row1 col2\" >-0.006959</td>\n",
              "    </tr>\n",
              "    <tr>\n",
              "      <th id=\"T_bb8b2_level0_row2\" class=\"row_heading level0 row2\" >price</th>\n",
              "      <td id=\"T_bb8b2_row2_col0\" class=\"data row2 col0\" >0.021993</td>\n",
              "      <td id=\"T_bb8b2_row2_col1\" class=\"data row2 col1\" >-0.006959</td>\n",
              "      <td id=\"T_bb8b2_row2_col2\" class=\"data row2 col2\" >1.000000</td>\n",
              "    </tr>\n",
              "  </tbody>\n",
              "</table>\n"
            ],
            "text/plain": [
              "<pandas.io.formats.style.Styler at 0x7a80775cc400>"
            ]
          },
          "metadata": {},
          "output_type": "display_data"
        }
      ],
      "source": [
        "display(df_apparel.corr().style.background_gradient(cmap='summer'))"
      ]
    },
    {
      "cell_type": "code",
      "execution_count": 483,
      "metadata": {
        "id": "huwYE27EAbU0",
        "colab": {
          "base_uri": "https://localhost:8080/",
          "height": 143
        },
        "outputId": "d4101686-6157-4249-b4ca-35767364af77"
      },
      "outputs": [
        {
          "data": {
            "text/html": [
              "<style type=\"text/css\">\n",
              "#T_a0754_row0_col0, #T_a0754_row1_col1, #T_a0754_row2_col2 {\n",
              "  background-color: #ffff66;\n",
              "  color: #000000;\n",
              "}\n",
              "#T_a0754_row0_col1 {\n",
              "  background-color: #078366;\n",
              "  color: #f1f1f1;\n",
              "}\n",
              "#T_a0754_row0_col2 {\n",
              "  background-color: #048266;\n",
              "  color: #f1f1f1;\n",
              "}\n",
              "#T_a0754_row1_col0 {\n",
              "  background-color: #038166;\n",
              "  color: #f1f1f1;\n",
              "}\n",
              "#T_a0754_row1_col2, #T_a0754_row2_col0, #T_a0754_row2_col1 {\n",
              "  background-color: #008066;\n",
              "  color: #f1f1f1;\n",
              "}\n",
              "</style>\n",
              "<table id=\"T_a0754\" class=\"dataframe\">\n",
              "  <thead>\n",
              "    <tr>\n",
              "      <th class=\"blank level0\" >&nbsp;</th>\n",
              "      <th id=\"T_a0754_level0_col0\" class=\"col_heading level0 col0\" >client_id</th>\n",
              "      <th id=\"T_a0754_level0_col1\" class=\"col_heading level0 col1\" >quantity</th>\n",
              "      <th id=\"T_a0754_level0_col2\" class=\"col_heading level0 col2\" >price</th>\n",
              "    </tr>\n",
              "  </thead>\n",
              "  <tbody>\n",
              "    <tr>\n",
              "      <th id=\"T_a0754_level0_row0\" class=\"row_heading level0 row0\" >client_id</th>\n",
              "      <td id=\"T_a0754_row0_col0\" class=\"data row0 col0\" >1.000000</td>\n",
              "      <td id=\"T_a0754_row0_col1\" class=\"data row0 col1\" >0.000698</td>\n",
              "      <td id=\"T_a0754_row0_col2\" class=\"data row0 col2\" >-0.012277</td>\n",
              "    </tr>\n",
              "    <tr>\n",
              "      <th id=\"T_a0754_level0_row1\" class=\"row_heading level0 row1\" >quantity</th>\n",
              "      <td id=\"T_a0754_row1_col0\" class=\"data row1 col0\" >0.000698</td>\n",
              "      <td id=\"T_a0754_row1_col1\" class=\"data row1 col1\" >1.000000</td>\n",
              "      <td id=\"T_a0754_row1_col2\" class=\"data row1 col2\" >-0.031032</td>\n",
              "    </tr>\n",
              "    <tr>\n",
              "      <th id=\"T_a0754_level0_row2\" class=\"row_heading level0 row2\" >price</th>\n",
              "      <td id=\"T_a0754_row2_col0\" class=\"data row2 col0\" >-0.012277</td>\n",
              "      <td id=\"T_a0754_row2_col1\" class=\"data row2 col1\" >-0.031032</td>\n",
              "      <td id=\"T_a0754_row2_col2\" class=\"data row2 col2\" >1.000000</td>\n",
              "    </tr>\n",
              "  </tbody>\n",
              "</table>\n"
            ],
            "text/plain": [
              "<pandas.io.formats.style.Styler at 0x7a80775cf1c0>"
            ]
          },
          "metadata": {},
          "output_type": "display_data"
        }
      ],
      "source": [
        "display(df_gifts.corr().style.background_gradient(cmap='summer'))"
      ]
    },
    {
      "cell_type": "code",
      "execution_count": 484,
      "metadata": {
        "id": "aRgT_P20AbY2",
        "colab": {
          "base_uri": "https://localhost:8080/",
          "height": 143
        },
        "outputId": "46090a07-fa4c-4245-fbc4-4b9988dec0a1"
      },
      "outputs": [
        {
          "data": {
            "text/html": [
              "<style type=\"text/css\">\n",
              "#T_5e1e5_row0_col0, #T_5e1e5_row1_col1, #T_5e1e5_row2_col2 {\n",
              "  background-color: #ffff66;\n",
              "  color: #000000;\n",
              "}\n",
              "#T_5e1e5_row0_col1 {\n",
              "  background-color: #068266;\n",
              "  color: #f1f1f1;\n",
              "}\n",
              "#T_5e1e5_row0_col2 {\n",
              "  background-color: #0f8766;\n",
              "  color: #f1f1f1;\n",
              "}\n",
              "#T_5e1e5_row1_col0, #T_5e1e5_row1_col2, #T_5e1e5_row2_col1 {\n",
              "  background-color: #008066;\n",
              "  color: #f1f1f1;\n",
              "}\n",
              "#T_5e1e5_row2_col0 {\n",
              "  background-color: #088466;\n",
              "  color: #f1f1f1;\n",
              "}\n",
              "</style>\n",
              "<table id=\"T_5e1e5\" class=\"dataframe\">\n",
              "  <thead>\n",
              "    <tr>\n",
              "      <th class=\"blank level0\" >&nbsp;</th>\n",
              "      <th id=\"T_5e1e5_level0_col0\" class=\"col_heading level0 col0\" >client_id</th>\n",
              "      <th id=\"T_5e1e5_level0_col1\" class=\"col_heading level0 col1\" >quantity</th>\n",
              "      <th id=\"T_5e1e5_level0_col2\" class=\"col_heading level0 col2\" >price</th>\n",
              "    </tr>\n",
              "  </thead>\n",
              "  <tbody>\n",
              "    <tr>\n",
              "      <th id=\"T_5e1e5_level0_row0\" class=\"row_heading level0 row0\" >client_id</th>\n",
              "      <td id=\"T_5e1e5_row0_col0\" class=\"data row0 col0\" >1.000000</td>\n",
              "      <td id=\"T_5e1e5_row0_col1\" class=\"data row0 col1\" >0.013609</td>\n",
              "      <td id=\"T_5e1e5_row0_col2\" class=\"data row0 col2\" >0.047079</td>\n",
              "    </tr>\n",
              "    <tr>\n",
              "      <th id=\"T_5e1e5_level0_row1\" class=\"row_heading level0 row1\" >quantity</th>\n",
              "      <td id=\"T_5e1e5_row1_col0\" class=\"data row1 col0\" >0.013609</td>\n",
              "      <td id=\"T_5e1e5_row1_col1\" class=\"data row1 col1\" >1.000000</td>\n",
              "      <td id=\"T_5e1e5_row1_col2\" class=\"data row1 col2\" >-0.012280</td>\n",
              "    </tr>\n",
              "    <tr>\n",
              "      <th id=\"T_5e1e5_level0_row2\" class=\"row_heading level0 row2\" >price</th>\n",
              "      <td id=\"T_5e1e5_row2_col0\" class=\"data row2 col0\" >0.047079</td>\n",
              "      <td id=\"T_5e1e5_row2_col1\" class=\"data row2 col1\" >-0.012280</td>\n",
              "      <td id=\"T_5e1e5_row2_col2\" class=\"data row2 col2\" >1.000000</td>\n",
              "    </tr>\n",
              "  </tbody>\n",
              "</table>\n"
            ],
            "text/plain": [
              "<pandas.io.formats.style.Styler at 0x7a80775cd210>"
            ]
          },
          "metadata": {},
          "output_type": "display_data"
        }
      ],
      "source": [
        "display(df_marketplace.corr().style.background_gradient(cmap='summer'))"
      ]
    },
    {
      "cell_type": "markdown",
      "metadata": {
        "id": "ZyybEdliQtef"
      },
      "source": [
        "Проверка мультиколлинеарности сильных зависимостей признаков не выявила. У цены и количества отрицательная, хот и слабая зависимость - чем дороже, тем меньше товаров покупают.\n"
      ]
    },
    {
      "cell_type": "markdown",
      "metadata": {
        "id": "9jjfVg-jr68D"
      },
      "source": [
        "### Распределение признаков"
      ]
    },
    {
      "cell_type": "code",
      "execution_count": 485,
      "metadata": {
        "id": "ZeEqP33-29AT",
        "colab": {
          "base_uri": "https://localhost:8080/"
        },
        "outputId": "5352046f-2956-4c5f-9fdb-ca20d444d5c0"
      },
      "outputs": [
        {
          "data": {
            "text/plain": [
              "1     132743\n",
              "2        286\n",
              "3         52\n",
              "4          7\n",
              "6          5\n",
              "15         3\n",
              "5          2\n",
              "9          2\n",
              "20         1\n",
              "30         1\n",
              "18         1\n",
              "8          1\n",
              "Name: quantity, dtype: int64"
            ]
          },
          "execution_count": 485,
          "metadata": {},
          "output_type": "execute_result"
        }
      ],
      "source": [
        "df_apparel['quantity'].value_counts()"
      ]
    },
    {
      "cell_type": "code",
      "execution_count": 486,
      "metadata": {
        "id": "lD3ua78z5QhK",
        "colab": {
          "base_uri": "https://localhost:8080/"
        },
        "outputId": "a5941716-4366-4777-9357-3f10cb58a2d1"
      },
      "outputs": [
        {
          "data": {
            "text/plain": [
              "1    808\n",
              "2      3\n",
              "Name: quantity, dtype: int64"
            ]
          },
          "execution_count": 486,
          "metadata": {},
          "output_type": "execute_result"
        }
      ],
      "source": [
        "df_gifts['quantity'].value_counts()"
      ]
    },
    {
      "cell_type": "code",
      "execution_count": 487,
      "metadata": {
        "id": "tbsyHQ825QlU",
        "colab": {
          "base_uri": "https://localhost:8080/"
        },
        "outputId": "46b0d072-8c09-4cb7-d425-79858b7b20db"
      },
      "outputs": [
        {
          "data": {
            "text/plain": [
              "1     47915\n",
              "2       148\n",
              "3        55\n",
              "4        18\n",
              "5        11\n",
              "10       10\n",
              "7         7\n",
              "6         6\n",
              "50        4\n",
              "8         3\n",
              "27        1\n",
              "9         1\n",
              "23        1\n",
              "20        1\n",
              "30        1\n",
              "Name: quantity, dtype: int64"
            ]
          },
          "execution_count": 487,
          "metadata": {},
          "output_type": "execute_result"
        }
      ],
      "source": [
        "df_marketplace['quantity'].value_counts()"
      ]
    },
    {
      "cell_type": "markdown",
      "metadata": {
        "id": "65aY2k-jsddP"
      },
      "source": [
        "Характер распределения количества покупок 3х таблиц похож. Везьде преобладают штучные покупки, количество таких приобретений уменьшается с ростом количества единиц товара."
      ]
    },
    {
      "cell_type": "code",
      "execution_count": 488,
      "metadata": {
        "id": "ZIDOPlVGOSkD",
        "colab": {
          "base_uri": "https://localhost:8080/",
          "height": 206
        },
        "outputId": "767342cd-7003-4ccd-faea-de7212315a5c"
      },
      "outputs": [
        {
          "data": {
            "application/vnd.google.colaboratory.intrinsic+json": {
              "summary": "{\n  \"name\": \"df_gifts\",\n  \"rows\": 811,\n  \"fields\": [\n    {\n      \"column\": \"client_id\",\n      \"properties\": {\n        \"dtype\": \"number\",\n        \"std\": 62554070,\n        \"min\": 1515915625803180506,\n        \"max\": 1515915626013602677,\n        \"num_unique_values\": 326,\n        \"samples\": [\n          1515915625855755713,\n          1515915625932163842,\n          1515915625951754053\n        ],\n        \"semantic_type\": \"\",\n        \"description\": \"\"\n      }\n    },\n    {\n      \"column\": \"quantity\",\n      \"properties\": {\n        \"dtype\": \"number\",\n        \"std\": 0,\n        \"min\": 1,\n        \"max\": 2,\n        \"num_unique_values\": 2,\n        \"samples\": [\n          2,\n          1\n        ],\n        \"semantic_type\": \"\",\n        \"description\": \"\"\n      }\n    },\n    {\n      \"column\": \"price\",\n      \"properties\": {\n        \"dtype\": \"number\",\n        \"std\": 17774.34183713246,\n        \"min\": 656.0,\n        \"max\": 173586.0,\n        \"num_unique_values\": 598,\n        \"samples\": [\n          4490.0,\n          8230.0\n        ],\n        \"semantic_type\": \"\",\n        \"description\": \"\"\n      }\n    },\n    {\n      \"column\": \"date\",\n      \"properties\": {\n        \"dtype\": \"date\",\n        \"min\": \"2022-10-26 00:00:00\",\n        \"max\": \"2023-10-24 00:00:00\",\n        \"num_unique_values\": 190,\n        \"samples\": [\n          \"2022-11-21 00:00:00\",\n          \"2022-11-16 00:00:00\"\n        ],\n        \"semantic_type\": \"\",\n        \"description\": \"\"\n      }\n    }\n  ]\n}",
              "type": "dataframe",
              "variable_name": "df_gifts"
            },
            "text/html": [
              "\n",
              "  <div id=\"df-e029b248-1ccf-4e33-90b0-e00197fef547\" class=\"colab-df-container\">\n",
              "    <div>\n",
              "<style scoped>\n",
              "    .dataframe tbody tr th:only-of-type {\n",
              "        vertical-align: middle;\n",
              "    }\n",
              "\n",
              "    .dataframe tbody tr th {\n",
              "        vertical-align: top;\n",
              "    }\n",
              "\n",
              "    .dataframe thead th {\n",
              "        text-align: right;\n",
              "    }\n",
              "</style>\n",
              "<table border=\"1\" class=\"dataframe\">\n",
              "  <thead>\n",
              "    <tr style=\"text-align: right;\">\n",
              "      <th></th>\n",
              "      <th>client_id</th>\n",
              "      <th>quantity</th>\n",
              "      <th>price</th>\n",
              "      <th>date</th>\n",
              "    </tr>\n",
              "  </thead>\n",
              "  <tbody>\n",
              "    <tr>\n",
              "      <th>0</th>\n",
              "      <td>1515915625803894158</td>\n",
              "      <td>1</td>\n",
              "      <td>8943.00</td>\n",
              "      <td>2023-10-11</td>\n",
              "    </tr>\n",
              "    <tr>\n",
              "      <th>1</th>\n",
              "      <td>1515915625803894158</td>\n",
              "      <td>1</td>\n",
              "      <td>46369.00</td>\n",
              "      <td>2023-10-11</td>\n",
              "    </tr>\n",
              "    <tr>\n",
              "      <th>2</th>\n",
              "      <td>1515915625803894158</td>\n",
              "      <td>1</td>\n",
              "      <td>4666.00</td>\n",
              "      <td>2023-10-11</td>\n",
              "    </tr>\n",
              "    <tr>\n",
              "      <th>3</th>\n",
              "      <td>1515915625803894158</td>\n",
              "      <td>1</td>\n",
              "      <td>11963.00</td>\n",
              "      <td>2023-10-11</td>\n",
              "    </tr>\n",
              "    <tr>\n",
              "      <th>4</th>\n",
              "      <td>1515915625803894158</td>\n",
              "      <td>1</td>\n",
              "      <td>13107.00</td>\n",
              "      <td>2023-10-11</td>\n",
              "    </tr>\n",
              "  </tbody>\n",
              "</table>\n",
              "</div>\n",
              "    <div class=\"colab-df-buttons\">\n",
              "\n",
              "  <div class=\"colab-df-container\">\n",
              "    <button class=\"colab-df-convert\" onclick=\"convertToInteractive('df-e029b248-1ccf-4e33-90b0-e00197fef547')\"\n",
              "            title=\"Convert this dataframe to an interactive table.\"\n",
              "            style=\"display:none;\">\n",
              "\n",
              "  <svg xmlns=\"http://www.w3.org/2000/svg\" height=\"24px\" viewBox=\"0 -960 960 960\">\n",
              "    <path d=\"M120-120v-720h720v720H120Zm60-500h600v-160H180v160Zm220 220h160v-160H400v160Zm0 220h160v-160H400v160ZM180-400h160v-160H180v160Zm440 0h160v-160H620v160ZM180-180h160v-160H180v160Zm440 0h160v-160H620v160Z\"/>\n",
              "  </svg>\n",
              "    </button>\n",
              "\n",
              "  <style>\n",
              "    .colab-df-container {\n",
              "      display:flex;\n",
              "      gap: 12px;\n",
              "    }\n",
              "\n",
              "    .colab-df-convert {\n",
              "      background-color: #E8F0FE;\n",
              "      border: none;\n",
              "      border-radius: 50%;\n",
              "      cursor: pointer;\n",
              "      display: none;\n",
              "      fill: #1967D2;\n",
              "      height: 32px;\n",
              "      padding: 0 0 0 0;\n",
              "      width: 32px;\n",
              "    }\n",
              "\n",
              "    .colab-df-convert:hover {\n",
              "      background-color: #E2EBFA;\n",
              "      box-shadow: 0px 1px 2px rgba(60, 64, 67, 0.3), 0px 1px 3px 1px rgba(60, 64, 67, 0.15);\n",
              "      fill: #174EA6;\n",
              "    }\n",
              "\n",
              "    .colab-df-buttons div {\n",
              "      margin-bottom: 4px;\n",
              "    }\n",
              "\n",
              "    [theme=dark] .colab-df-convert {\n",
              "      background-color: #3B4455;\n",
              "      fill: #D2E3FC;\n",
              "    }\n",
              "\n",
              "    [theme=dark] .colab-df-convert:hover {\n",
              "      background-color: #434B5C;\n",
              "      box-shadow: 0px 1px 3px 1px rgba(0, 0, 0, 0.15);\n",
              "      filter: drop-shadow(0px 1px 2px rgba(0, 0, 0, 0.3));\n",
              "      fill: #FFFFFF;\n",
              "    }\n",
              "  </style>\n",
              "\n",
              "    <script>\n",
              "      const buttonEl =\n",
              "        document.querySelector('#df-e029b248-1ccf-4e33-90b0-e00197fef547 button.colab-df-convert');\n",
              "      buttonEl.style.display =\n",
              "        google.colab.kernel.accessAllowed ? 'block' : 'none';\n",
              "\n",
              "      async function convertToInteractive(key) {\n",
              "        const element = document.querySelector('#df-e029b248-1ccf-4e33-90b0-e00197fef547');\n",
              "        const dataTable =\n",
              "          await google.colab.kernel.invokeFunction('convertToInteractive',\n",
              "                                                    [key], {});\n",
              "        if (!dataTable) return;\n",
              "\n",
              "        const docLinkHtml = 'Like what you see? Visit the ' +\n",
              "          '<a target=\"_blank\" href=https://colab.research.google.com/notebooks/data_table.ipynb>data table notebook</a>'\n",
              "          + ' to learn more about interactive tables.';\n",
              "        element.innerHTML = '';\n",
              "        dataTable['output_type'] = 'display_data';\n",
              "        await google.colab.output.renderOutput(dataTable, element);\n",
              "        const docLink = document.createElement('div');\n",
              "        docLink.innerHTML = docLinkHtml;\n",
              "        element.appendChild(docLink);\n",
              "      }\n",
              "    </script>\n",
              "  </div>\n",
              "\n",
              "\n",
              "<div id=\"df-446fb3f3-b023-4c0d-b8b6-21351b7358c2\">\n",
              "  <button class=\"colab-df-quickchart\" onclick=\"quickchart('df-446fb3f3-b023-4c0d-b8b6-21351b7358c2')\"\n",
              "            title=\"Suggest charts\"\n",
              "            style=\"display:none;\">\n",
              "\n",
              "<svg xmlns=\"http://www.w3.org/2000/svg\" height=\"24px\"viewBox=\"0 0 24 24\"\n",
              "     width=\"24px\">\n",
              "    <g>\n",
              "        <path d=\"M19 3H5c-1.1 0-2 .9-2 2v14c0 1.1.9 2 2 2h14c1.1 0 2-.9 2-2V5c0-1.1-.9-2-2-2zM9 17H7v-7h2v7zm4 0h-2V7h2v10zm4 0h-2v-4h2v4z\"/>\n",
              "    </g>\n",
              "</svg>\n",
              "  </button>\n",
              "\n",
              "<style>\n",
              "  .colab-df-quickchart {\n",
              "      --bg-color: #E8F0FE;\n",
              "      --fill-color: #1967D2;\n",
              "      --hover-bg-color: #E2EBFA;\n",
              "      --hover-fill-color: #174EA6;\n",
              "      --disabled-fill-color: #AAA;\n",
              "      --disabled-bg-color: #DDD;\n",
              "  }\n",
              "\n",
              "  [theme=dark] .colab-df-quickchart {\n",
              "      --bg-color: #3B4455;\n",
              "      --fill-color: #D2E3FC;\n",
              "      --hover-bg-color: #434B5C;\n",
              "      --hover-fill-color: #FFFFFF;\n",
              "      --disabled-bg-color: #3B4455;\n",
              "      --disabled-fill-color: #666;\n",
              "  }\n",
              "\n",
              "  .colab-df-quickchart {\n",
              "    background-color: var(--bg-color);\n",
              "    border: none;\n",
              "    border-radius: 50%;\n",
              "    cursor: pointer;\n",
              "    display: none;\n",
              "    fill: var(--fill-color);\n",
              "    height: 32px;\n",
              "    padding: 0;\n",
              "    width: 32px;\n",
              "  }\n",
              "\n",
              "  .colab-df-quickchart:hover {\n",
              "    background-color: var(--hover-bg-color);\n",
              "    box-shadow: 0 1px 2px rgba(60, 64, 67, 0.3), 0 1px 3px 1px rgba(60, 64, 67, 0.15);\n",
              "    fill: var(--button-hover-fill-color);\n",
              "  }\n",
              "\n",
              "  .colab-df-quickchart-complete:disabled,\n",
              "  .colab-df-quickchart-complete:disabled:hover {\n",
              "    background-color: var(--disabled-bg-color);\n",
              "    fill: var(--disabled-fill-color);\n",
              "    box-shadow: none;\n",
              "  }\n",
              "\n",
              "  .colab-df-spinner {\n",
              "    border: 2px solid var(--fill-color);\n",
              "    border-color: transparent;\n",
              "    border-bottom-color: var(--fill-color);\n",
              "    animation:\n",
              "      spin 1s steps(1) infinite;\n",
              "  }\n",
              "\n",
              "  @keyframes spin {\n",
              "    0% {\n",
              "      border-color: transparent;\n",
              "      border-bottom-color: var(--fill-color);\n",
              "      border-left-color: var(--fill-color);\n",
              "    }\n",
              "    20% {\n",
              "      border-color: transparent;\n",
              "      border-left-color: var(--fill-color);\n",
              "      border-top-color: var(--fill-color);\n",
              "    }\n",
              "    30% {\n",
              "      border-color: transparent;\n",
              "      border-left-color: var(--fill-color);\n",
              "      border-top-color: var(--fill-color);\n",
              "      border-right-color: var(--fill-color);\n",
              "    }\n",
              "    40% {\n",
              "      border-color: transparent;\n",
              "      border-right-color: var(--fill-color);\n",
              "      border-top-color: var(--fill-color);\n",
              "    }\n",
              "    60% {\n",
              "      border-color: transparent;\n",
              "      border-right-color: var(--fill-color);\n",
              "    }\n",
              "    80% {\n",
              "      border-color: transparent;\n",
              "      border-right-color: var(--fill-color);\n",
              "      border-bottom-color: var(--fill-color);\n",
              "    }\n",
              "    90% {\n",
              "      border-color: transparent;\n",
              "      border-bottom-color: var(--fill-color);\n",
              "    }\n",
              "  }\n",
              "</style>\n",
              "\n",
              "  <script>\n",
              "    async function quickchart(key) {\n",
              "      const quickchartButtonEl =\n",
              "        document.querySelector('#' + key + ' button');\n",
              "      quickchartButtonEl.disabled = true;  // To prevent multiple clicks.\n",
              "      quickchartButtonEl.classList.add('colab-df-spinner');\n",
              "      try {\n",
              "        const charts = await google.colab.kernel.invokeFunction(\n",
              "            'suggestCharts', [key], {});\n",
              "      } catch (error) {\n",
              "        console.error('Error during call to suggestCharts:', error);\n",
              "      }\n",
              "      quickchartButtonEl.classList.remove('colab-df-spinner');\n",
              "      quickchartButtonEl.classList.add('colab-df-quickchart-complete');\n",
              "    }\n",
              "    (() => {\n",
              "      let quickchartButtonEl =\n",
              "        document.querySelector('#df-446fb3f3-b023-4c0d-b8b6-21351b7358c2 button');\n",
              "      quickchartButtonEl.style.display =\n",
              "        google.colab.kernel.accessAllowed ? 'block' : 'none';\n",
              "    })();\n",
              "  </script>\n",
              "</div>\n",
              "    </div>\n",
              "  </div>\n"
            ],
            "text/plain": [
              "             client_id  quantity    price       date\n",
              "0  1515915625803894158         1  8943.00 2023-10-11\n",
              "1  1515915625803894158         1 46369.00 2023-10-11\n",
              "2  1515915625803894158         1  4666.00 2023-10-11\n",
              "3  1515915625803894158         1 11963.00 2023-10-11\n",
              "4  1515915625803894158         1 13107.00 2023-10-11"
            ]
          },
          "execution_count": 488,
          "metadata": {},
          "output_type": "execute_result"
        }
      ],
      "source": [
        "df_gifts.head()"
      ]
    },
    {
      "cell_type": "markdown",
      "metadata": {
        "id": "VlLamm_URN1v"
      },
      "source": [
        "Посмотрим периоды времени 3 таблиц\n",
        "\n",
        "- начало\n",
        "- конец\n",
        "- продолжительность\n",
        "\n",
        "Для этогоподготовим функцию"
      ]
    },
    {
      "cell_type": "code",
      "execution_count": 489,
      "metadata": {
        "id": "FI_8tMXLRGWH"
      },
      "outputs": [],
      "source": [
        "def data_stat(data):\n",
        "  start = df_apparel['date'].min()\n",
        "  end = df_apparel['date'].max()\n",
        "  period = df_apparel['date'].max() - df_apparel['date'].min()\n",
        "  return start, end, period"
      ]
    },
    {
      "cell_type": "code",
      "execution_count": 490,
      "metadata": {
        "id": "xNjSqAiaPLp8",
        "colab": {
          "base_uri": "https://localhost:8080/"
        },
        "outputId": "f6109ca2-a706-4f4e-9907-23e5f2e372e3"
      },
      "outputs": [
        {
          "data": {
            "text/plain": [
              "(Timestamp('2022-10-26 00:00:00'),\n",
              " Timestamp('2023-10-26 00:00:00'),\n",
              " Timedelta('365 days 00:00:00'))"
            ]
          },
          "execution_count": 490,
          "metadata": {},
          "output_type": "execute_result"
        }
      ],
      "source": [
        "data_stat(df_apparel['date'])"
      ]
    },
    {
      "cell_type": "code",
      "execution_count": 491,
      "metadata": {
        "id": "PdJequKbSA2m",
        "colab": {
          "base_uri": "https://localhost:8080/"
        },
        "outputId": "7757f1fd-0238-4376-c436-2f15841efcae"
      },
      "outputs": [
        {
          "data": {
            "text/plain": [
              "(Timestamp('2022-10-26 00:00:00'),\n",
              " Timestamp('2023-10-26 00:00:00'),\n",
              " Timedelta('365 days 00:00:00'))"
            ]
          },
          "execution_count": 491,
          "metadata": {},
          "output_type": "execute_result"
        }
      ],
      "source": [
        "data_stat(df_gifts['date'])"
      ]
    },
    {
      "cell_type": "code",
      "execution_count": 492,
      "metadata": {
        "id": "RbNm6g4IS0zI",
        "colab": {
          "base_uri": "https://localhost:8080/"
        },
        "outputId": "0bb461bd-41e0-404c-8ae9-a07ad3849ec1"
      },
      "outputs": [
        {
          "data": {
            "text/plain": [
              "(Timestamp('2022-10-26 00:00:00'),\n",
              " Timestamp('2023-10-26 00:00:00'),\n",
              " Timedelta('365 days 00:00:00'))"
            ]
          },
          "execution_count": 492,
          "metadata": {},
          "output_type": "execute_result"
        }
      ],
      "source": [
        "data_stat(df_marketplace['date'])"
      ]
    },
    {
      "cell_type": "markdown",
      "metadata": {
        "id": "Rm-JxJj_SjRt"
      },
      "source": [
        "Все 3 таблицы имеют период времени ровно год с 26 октября 2022 по 26 октября 2023 года"
      ]
    },
    {
      "cell_type": "markdown",
      "metadata": {
        "id": "Ed5YHrebw7Xk"
      },
      "source": [
        "Проверим таблицы на аномалии, выбросы и другие отклонения"
      ]
    },
    {
      "cell_type": "code",
      "execution_count": 493,
      "metadata": {
        "id": "5w45-o9NxyvO",
        "colab": {
          "base_uri": "https://localhost:8080/",
          "height": 300
        },
        "outputId": "a107427f-4795-4e9e-dc57-90fbcdd131f2"
      },
      "outputs": [
        {
          "data": {
            "application/vnd.google.colaboratory.intrinsic+json": {
              "summary": "{\n  \"name\": \"df_apparel\",\n  \"rows\": 8,\n  \"fields\": [\n    {\n      \"column\": \"client_id\",\n      \"properties\": {\n        \"dtype\": \"number\",\n        \"std\": 7.017325778476963e+17,\n        \"min\": 133104.0,\n        \"max\": 1.5159156259990346e+18,\n        \"num_unique_values\": 8,\n        \"samples\": [\n          1.5159156255977818e+18,\n          1.5159156255585326e+18,\n          133104.0\n        ],\n        \"semantic_type\": \"\",\n        \"description\": \"\"\n      }\n    },\n    {\n      \"column\": \"quantity\",\n      \"properties\": {\n        \"dtype\": \"number\",\n        \"std\": 47057.59608099571,\n        \"min\": 0.14931493417824718,\n        \"max\": 133104.0,\n        \"num_unique_values\": 5,\n        \"samples\": [\n          1.0043124173578555,\n          30.0,\n          0.14931493417824718\n        ],\n        \"semantic_type\": \"\",\n        \"description\": \"\"\n      }\n    },\n    {\n      \"column\": \"price\",\n      \"properties\": {\n        \"dtype\": \"number\",\n        \"std\": 48809.83377735688,\n        \"min\": 1.0,\n        \"max\": 133104.0,\n        \"num_unique_values\": 8,\n        \"samples\": [\n          1110.4330673758866,\n          799.0,\n          133104.0\n        ],\n        \"semantic_type\": \"\",\n        \"description\": \"\"\n      }\n    }\n  ]\n}",
              "type": "dataframe"
            },
            "text/html": [
              "\n",
              "  <div id=\"df-d1cb436e-405e-477b-b797-197356cfb249\" class=\"colab-df-container\">\n",
              "    <div>\n",
              "<style scoped>\n",
              "    .dataframe tbody tr th:only-of-type {\n",
              "        vertical-align: middle;\n",
              "    }\n",
              "\n",
              "    .dataframe tbody tr th {\n",
              "        vertical-align: top;\n",
              "    }\n",
              "\n",
              "    .dataframe thead th {\n",
              "        text-align: right;\n",
              "    }\n",
              "</style>\n",
              "<table border=\"1\" class=\"dataframe\">\n",
              "  <thead>\n",
              "    <tr style=\"text-align: right;\">\n",
              "      <th></th>\n",
              "      <th>client_id</th>\n",
              "      <th>quantity</th>\n",
              "      <th>price</th>\n",
              "    </tr>\n",
              "  </thead>\n",
              "  <tbody>\n",
              "    <tr>\n",
              "      <th>count</th>\n",
              "      <td>133104.00</td>\n",
              "      <td>133104.00</td>\n",
              "      <td>133104.00</td>\n",
              "    </tr>\n",
              "    <tr>\n",
              "      <th>mean</th>\n",
              "      <td>1515915625597781760.00</td>\n",
              "      <td>1.00</td>\n",
              "      <td>1110.43</td>\n",
              "    </tr>\n",
              "    <tr>\n",
              "      <th>std</th>\n",
              "      <td>142207574.42</td>\n",
              "      <td>0.15</td>\n",
              "      <td>1257.08</td>\n",
              "    </tr>\n",
              "    <tr>\n",
              "      <th>min</th>\n",
              "      <td>1515915625468060928.00</td>\n",
              "      <td>1.00</td>\n",
              "      <td>1.00</td>\n",
              "    </tr>\n",
              "    <tr>\n",
              "      <th>25%</th>\n",
              "      <td>1515915625490427904.00</td>\n",
              "      <td>1.00</td>\n",
              "      <td>280.00</td>\n",
              "    </tr>\n",
              "    <tr>\n",
              "      <th>50%</th>\n",
              "      <td>1515915625558532608.00</td>\n",
              "      <td>1.00</td>\n",
              "      <td>799.00</td>\n",
              "    </tr>\n",
              "    <tr>\n",
              "      <th>75%</th>\n",
              "      <td>1515915625625638912.00</td>\n",
              "      <td>1.00</td>\n",
              "      <td>1499.00</td>\n",
              "    </tr>\n",
              "    <tr>\n",
              "      <th>max</th>\n",
              "      <td>1515915625999034624.00</td>\n",
              "      <td>30.00</td>\n",
              "      <td>63499.00</td>\n",
              "    </tr>\n",
              "  </tbody>\n",
              "</table>\n",
              "</div>\n",
              "    <div class=\"colab-df-buttons\">\n",
              "\n",
              "  <div class=\"colab-df-container\">\n",
              "    <button class=\"colab-df-convert\" onclick=\"convertToInteractive('df-d1cb436e-405e-477b-b797-197356cfb249')\"\n",
              "            title=\"Convert this dataframe to an interactive table.\"\n",
              "            style=\"display:none;\">\n",
              "\n",
              "  <svg xmlns=\"http://www.w3.org/2000/svg\" height=\"24px\" viewBox=\"0 -960 960 960\">\n",
              "    <path d=\"M120-120v-720h720v720H120Zm60-500h600v-160H180v160Zm220 220h160v-160H400v160Zm0 220h160v-160H400v160ZM180-400h160v-160H180v160Zm440 0h160v-160H620v160ZM180-180h160v-160H180v160Zm440 0h160v-160H620v160Z\"/>\n",
              "  </svg>\n",
              "    </button>\n",
              "\n",
              "  <style>\n",
              "    .colab-df-container {\n",
              "      display:flex;\n",
              "      gap: 12px;\n",
              "    }\n",
              "\n",
              "    .colab-df-convert {\n",
              "      background-color: #E8F0FE;\n",
              "      border: none;\n",
              "      border-radius: 50%;\n",
              "      cursor: pointer;\n",
              "      display: none;\n",
              "      fill: #1967D2;\n",
              "      height: 32px;\n",
              "      padding: 0 0 0 0;\n",
              "      width: 32px;\n",
              "    }\n",
              "\n",
              "    .colab-df-convert:hover {\n",
              "      background-color: #E2EBFA;\n",
              "      box-shadow: 0px 1px 2px rgba(60, 64, 67, 0.3), 0px 1px 3px 1px rgba(60, 64, 67, 0.15);\n",
              "      fill: #174EA6;\n",
              "    }\n",
              "\n",
              "    .colab-df-buttons div {\n",
              "      margin-bottom: 4px;\n",
              "    }\n",
              "\n",
              "    [theme=dark] .colab-df-convert {\n",
              "      background-color: #3B4455;\n",
              "      fill: #D2E3FC;\n",
              "    }\n",
              "\n",
              "    [theme=dark] .colab-df-convert:hover {\n",
              "      background-color: #434B5C;\n",
              "      box-shadow: 0px 1px 3px 1px rgba(0, 0, 0, 0.15);\n",
              "      filter: drop-shadow(0px 1px 2px rgba(0, 0, 0, 0.3));\n",
              "      fill: #FFFFFF;\n",
              "    }\n",
              "  </style>\n",
              "\n",
              "    <script>\n",
              "      const buttonEl =\n",
              "        document.querySelector('#df-d1cb436e-405e-477b-b797-197356cfb249 button.colab-df-convert');\n",
              "      buttonEl.style.display =\n",
              "        google.colab.kernel.accessAllowed ? 'block' : 'none';\n",
              "\n",
              "      async function convertToInteractive(key) {\n",
              "        const element = document.querySelector('#df-d1cb436e-405e-477b-b797-197356cfb249');\n",
              "        const dataTable =\n",
              "          await google.colab.kernel.invokeFunction('convertToInteractive',\n",
              "                                                    [key], {});\n",
              "        if (!dataTable) return;\n",
              "\n",
              "        const docLinkHtml = 'Like what you see? Visit the ' +\n",
              "          '<a target=\"_blank\" href=https://colab.research.google.com/notebooks/data_table.ipynb>data table notebook</a>'\n",
              "          + ' to learn more about interactive tables.';\n",
              "        element.innerHTML = '';\n",
              "        dataTable['output_type'] = 'display_data';\n",
              "        await google.colab.output.renderOutput(dataTable, element);\n",
              "        const docLink = document.createElement('div');\n",
              "        docLink.innerHTML = docLinkHtml;\n",
              "        element.appendChild(docLink);\n",
              "      }\n",
              "    </script>\n",
              "  </div>\n",
              "\n",
              "\n",
              "<div id=\"df-0f983bb3-a06d-4a4c-b353-8ae1987e48ed\">\n",
              "  <button class=\"colab-df-quickchart\" onclick=\"quickchart('df-0f983bb3-a06d-4a4c-b353-8ae1987e48ed')\"\n",
              "            title=\"Suggest charts\"\n",
              "            style=\"display:none;\">\n",
              "\n",
              "<svg xmlns=\"http://www.w3.org/2000/svg\" height=\"24px\"viewBox=\"0 0 24 24\"\n",
              "     width=\"24px\">\n",
              "    <g>\n",
              "        <path d=\"M19 3H5c-1.1 0-2 .9-2 2v14c0 1.1.9 2 2 2h14c1.1 0 2-.9 2-2V5c0-1.1-.9-2-2-2zM9 17H7v-7h2v7zm4 0h-2V7h2v10zm4 0h-2v-4h2v4z\"/>\n",
              "    </g>\n",
              "</svg>\n",
              "  </button>\n",
              "\n",
              "<style>\n",
              "  .colab-df-quickchart {\n",
              "      --bg-color: #E8F0FE;\n",
              "      --fill-color: #1967D2;\n",
              "      --hover-bg-color: #E2EBFA;\n",
              "      --hover-fill-color: #174EA6;\n",
              "      --disabled-fill-color: #AAA;\n",
              "      --disabled-bg-color: #DDD;\n",
              "  }\n",
              "\n",
              "  [theme=dark] .colab-df-quickchart {\n",
              "      --bg-color: #3B4455;\n",
              "      --fill-color: #D2E3FC;\n",
              "      --hover-bg-color: #434B5C;\n",
              "      --hover-fill-color: #FFFFFF;\n",
              "      --disabled-bg-color: #3B4455;\n",
              "      --disabled-fill-color: #666;\n",
              "  }\n",
              "\n",
              "  .colab-df-quickchart {\n",
              "    background-color: var(--bg-color);\n",
              "    border: none;\n",
              "    border-radius: 50%;\n",
              "    cursor: pointer;\n",
              "    display: none;\n",
              "    fill: var(--fill-color);\n",
              "    height: 32px;\n",
              "    padding: 0;\n",
              "    width: 32px;\n",
              "  }\n",
              "\n",
              "  .colab-df-quickchart:hover {\n",
              "    background-color: var(--hover-bg-color);\n",
              "    box-shadow: 0 1px 2px rgba(60, 64, 67, 0.3), 0 1px 3px 1px rgba(60, 64, 67, 0.15);\n",
              "    fill: var(--button-hover-fill-color);\n",
              "  }\n",
              "\n",
              "  .colab-df-quickchart-complete:disabled,\n",
              "  .colab-df-quickchart-complete:disabled:hover {\n",
              "    background-color: var(--disabled-bg-color);\n",
              "    fill: var(--disabled-fill-color);\n",
              "    box-shadow: none;\n",
              "  }\n",
              "\n",
              "  .colab-df-spinner {\n",
              "    border: 2px solid var(--fill-color);\n",
              "    border-color: transparent;\n",
              "    border-bottom-color: var(--fill-color);\n",
              "    animation:\n",
              "      spin 1s steps(1) infinite;\n",
              "  }\n",
              "\n",
              "  @keyframes spin {\n",
              "    0% {\n",
              "      border-color: transparent;\n",
              "      border-bottom-color: var(--fill-color);\n",
              "      border-left-color: var(--fill-color);\n",
              "    }\n",
              "    20% {\n",
              "      border-color: transparent;\n",
              "      border-left-color: var(--fill-color);\n",
              "      border-top-color: var(--fill-color);\n",
              "    }\n",
              "    30% {\n",
              "      border-color: transparent;\n",
              "      border-left-color: var(--fill-color);\n",
              "      border-top-color: var(--fill-color);\n",
              "      border-right-color: var(--fill-color);\n",
              "    }\n",
              "    40% {\n",
              "      border-color: transparent;\n",
              "      border-right-color: var(--fill-color);\n",
              "      border-top-color: var(--fill-color);\n",
              "    }\n",
              "    60% {\n",
              "      border-color: transparent;\n",
              "      border-right-color: var(--fill-color);\n",
              "    }\n",
              "    80% {\n",
              "      border-color: transparent;\n",
              "      border-right-color: var(--fill-color);\n",
              "      border-bottom-color: var(--fill-color);\n",
              "    }\n",
              "    90% {\n",
              "      border-color: transparent;\n",
              "      border-bottom-color: var(--fill-color);\n",
              "    }\n",
              "  }\n",
              "</style>\n",
              "\n",
              "  <script>\n",
              "    async function quickchart(key) {\n",
              "      const quickchartButtonEl =\n",
              "        document.querySelector('#' + key + ' button');\n",
              "      quickchartButtonEl.disabled = true;  // To prevent multiple clicks.\n",
              "      quickchartButtonEl.classList.add('colab-df-spinner');\n",
              "      try {\n",
              "        const charts = await google.colab.kernel.invokeFunction(\n",
              "            'suggestCharts', [key], {});\n",
              "      } catch (error) {\n",
              "        console.error('Error during call to suggestCharts:', error);\n",
              "      }\n",
              "      quickchartButtonEl.classList.remove('colab-df-spinner');\n",
              "      quickchartButtonEl.classList.add('colab-df-quickchart-complete');\n",
              "    }\n",
              "    (() => {\n",
              "      let quickchartButtonEl =\n",
              "        document.querySelector('#df-0f983bb3-a06d-4a4c-b353-8ae1987e48ed button');\n",
              "      quickchartButtonEl.style.display =\n",
              "        google.colab.kernel.accessAllowed ? 'block' : 'none';\n",
              "    })();\n",
              "  </script>\n",
              "</div>\n",
              "    </div>\n",
              "  </div>\n"
            ],
            "text/plain": [
              "                   client_id  quantity     price\n",
              "count              133104.00 133104.00 133104.00\n",
              "mean  1515915625597781760.00      1.00   1110.43\n",
              "std             142207574.42      0.15   1257.08\n",
              "min   1515915625468060928.00      1.00      1.00\n",
              "25%   1515915625490427904.00      1.00    280.00\n",
              "50%   1515915625558532608.00      1.00    799.00\n",
              "75%   1515915625625638912.00      1.00   1499.00\n",
              "max   1515915625999034624.00     30.00  63499.00"
            ]
          },
          "execution_count": 493,
          "metadata": {},
          "output_type": "execute_result"
        }
      ],
      "source": [
        "df_apparel.describe()"
      ]
    },
    {
      "cell_type": "code",
      "execution_count": 494,
      "metadata": {
        "id": "Jh8wmkaVtqOy",
        "colab": {
          "base_uri": "https://localhost:8080/",
          "height": 300
        },
        "outputId": "72761841-0f63-42c7-baa9-a43a2419db9a"
      },
      "outputs": [
        {
          "data": {
            "application/vnd.google.colaboratory.intrinsic+json": {
              "summary": "{\n  \"name\": \"df_gifts\",\n  \"rows\": 8,\n  \"fields\": [\n    {\n      \"column\": \"client_id\",\n      \"properties\": {\n        \"dtype\": \"number\",\n        \"std\": 7.017325779875052e+17,\n        \"min\": 811.0,\n        \"max\": 1.5159156260136026e+18,\n        \"num_unique_values\": 8,\n        \"samples\": [\n          1.5159156258751478e+18,\n          1.5159156258577347e+18,\n          811.0\n        ],\n        \"semantic_type\": \"\",\n        \"description\": \"\"\n      }\n    },\n    {\n      \"column\": \"quantity\",\n      \"properties\": {\n        \"dtype\": \"number\",\n        \"std\": 286.3754607593096,\n        \"min\": 0.060745396506936625,\n        \"max\": 811.0,\n        \"num_unique_values\": 5,\n        \"samples\": [\n          1.0036991368680641,\n          2.0,\n          0.060745396506936625\n        ],\n        \"semantic_type\": \"\",\n        \"description\": \"\"\n      }\n    },\n    {\n      \"column\": \"price\",\n      \"properties\": {\n        \"dtype\": \"number\",\n        \"std\": 58617.284650286485,\n        \"min\": 656.0,\n        \"max\": 173586.0,\n        \"num_unique_values\": 8,\n        \"samples\": [\n          14468.795314426634,\n          7533.0,\n          811.0\n        ],\n        \"semantic_type\": \"\",\n        \"description\": \"\"\n      }\n    }\n  ]\n}",
              "type": "dataframe"
            },
            "text/html": [
              "\n",
              "  <div id=\"df-c222f1a3-c2d1-40c1-a342-6de7b6eeaa17\" class=\"colab-df-container\">\n",
              "    <div>\n",
              "<style scoped>\n",
              "    .dataframe tbody tr th:only-of-type {\n",
              "        vertical-align: middle;\n",
              "    }\n",
              "\n",
              "    .dataframe tbody tr th {\n",
              "        vertical-align: top;\n",
              "    }\n",
              "\n",
              "    .dataframe thead th {\n",
              "        text-align: right;\n",
              "    }\n",
              "</style>\n",
              "<table border=\"1\" class=\"dataframe\">\n",
              "  <thead>\n",
              "    <tr style=\"text-align: right;\">\n",
              "      <th></th>\n",
              "      <th>client_id</th>\n",
              "      <th>quantity</th>\n",
              "      <th>price</th>\n",
              "    </tr>\n",
              "  </thead>\n",
              "  <tbody>\n",
              "    <tr>\n",
              "      <th>count</th>\n",
              "      <td>811.00</td>\n",
              "      <td>811.00</td>\n",
              "      <td>811.00</td>\n",
              "    </tr>\n",
              "    <tr>\n",
              "      <th>mean</th>\n",
              "      <td>1515915625875147776.00</td>\n",
              "      <td>1.00</td>\n",
              "      <td>14468.80</td>\n",
              "    </tr>\n",
              "    <tr>\n",
              "      <th>std</th>\n",
              "      <td>62554070.49</td>\n",
              "      <td>0.06</td>\n",
              "      <td>17774.34</td>\n",
              "    </tr>\n",
              "    <tr>\n",
              "      <th>min</th>\n",
              "      <td>1515915625803180544.00</td>\n",
              "      <td>1.00</td>\n",
              "      <td>656.00</td>\n",
              "    </tr>\n",
              "    <tr>\n",
              "      <th>25%</th>\n",
              "      <td>1515915625827804416.00</td>\n",
              "      <td>1.00</td>\n",
              "      <td>3878.00</td>\n",
              "    </tr>\n",
              "    <tr>\n",
              "      <th>50%</th>\n",
              "      <td>1515915625857734656.00</td>\n",
              "      <td>1.00</td>\n",
              "      <td>7533.00</td>\n",
              "    </tr>\n",
              "    <tr>\n",
              "      <th>75%</th>\n",
              "      <td>1515915625934780416.00</td>\n",
              "      <td>1.00</td>\n",
              "      <td>17938.00</td>\n",
              "    </tr>\n",
              "    <tr>\n",
              "      <th>max</th>\n",
              "      <td>1515915626013602560.00</td>\n",
              "      <td>2.00</td>\n",
              "      <td>173586.00</td>\n",
              "    </tr>\n",
              "  </tbody>\n",
              "</table>\n",
              "</div>\n",
              "    <div class=\"colab-df-buttons\">\n",
              "\n",
              "  <div class=\"colab-df-container\">\n",
              "    <button class=\"colab-df-convert\" onclick=\"convertToInteractive('df-c222f1a3-c2d1-40c1-a342-6de7b6eeaa17')\"\n",
              "            title=\"Convert this dataframe to an interactive table.\"\n",
              "            style=\"display:none;\">\n",
              "\n",
              "  <svg xmlns=\"http://www.w3.org/2000/svg\" height=\"24px\" viewBox=\"0 -960 960 960\">\n",
              "    <path d=\"M120-120v-720h720v720H120Zm60-500h600v-160H180v160Zm220 220h160v-160H400v160Zm0 220h160v-160H400v160ZM180-400h160v-160H180v160Zm440 0h160v-160H620v160ZM180-180h160v-160H180v160Zm440 0h160v-160H620v160Z\"/>\n",
              "  </svg>\n",
              "    </button>\n",
              "\n",
              "  <style>\n",
              "    .colab-df-container {\n",
              "      display:flex;\n",
              "      gap: 12px;\n",
              "    }\n",
              "\n",
              "    .colab-df-convert {\n",
              "      background-color: #E8F0FE;\n",
              "      border: none;\n",
              "      border-radius: 50%;\n",
              "      cursor: pointer;\n",
              "      display: none;\n",
              "      fill: #1967D2;\n",
              "      height: 32px;\n",
              "      padding: 0 0 0 0;\n",
              "      width: 32px;\n",
              "    }\n",
              "\n",
              "    .colab-df-convert:hover {\n",
              "      background-color: #E2EBFA;\n",
              "      box-shadow: 0px 1px 2px rgba(60, 64, 67, 0.3), 0px 1px 3px 1px rgba(60, 64, 67, 0.15);\n",
              "      fill: #174EA6;\n",
              "    }\n",
              "\n",
              "    .colab-df-buttons div {\n",
              "      margin-bottom: 4px;\n",
              "    }\n",
              "\n",
              "    [theme=dark] .colab-df-convert {\n",
              "      background-color: #3B4455;\n",
              "      fill: #D2E3FC;\n",
              "    }\n",
              "\n",
              "    [theme=dark] .colab-df-convert:hover {\n",
              "      background-color: #434B5C;\n",
              "      box-shadow: 0px 1px 3px 1px rgba(0, 0, 0, 0.15);\n",
              "      filter: drop-shadow(0px 1px 2px rgba(0, 0, 0, 0.3));\n",
              "      fill: #FFFFFF;\n",
              "    }\n",
              "  </style>\n",
              "\n",
              "    <script>\n",
              "      const buttonEl =\n",
              "        document.querySelector('#df-c222f1a3-c2d1-40c1-a342-6de7b6eeaa17 button.colab-df-convert');\n",
              "      buttonEl.style.display =\n",
              "        google.colab.kernel.accessAllowed ? 'block' : 'none';\n",
              "\n",
              "      async function convertToInteractive(key) {\n",
              "        const element = document.querySelector('#df-c222f1a3-c2d1-40c1-a342-6de7b6eeaa17');\n",
              "        const dataTable =\n",
              "          await google.colab.kernel.invokeFunction('convertToInteractive',\n",
              "                                                    [key], {});\n",
              "        if (!dataTable) return;\n",
              "\n",
              "        const docLinkHtml = 'Like what you see? Visit the ' +\n",
              "          '<a target=\"_blank\" href=https://colab.research.google.com/notebooks/data_table.ipynb>data table notebook</a>'\n",
              "          + ' to learn more about interactive tables.';\n",
              "        element.innerHTML = '';\n",
              "        dataTable['output_type'] = 'display_data';\n",
              "        await google.colab.output.renderOutput(dataTable, element);\n",
              "        const docLink = document.createElement('div');\n",
              "        docLink.innerHTML = docLinkHtml;\n",
              "        element.appendChild(docLink);\n",
              "      }\n",
              "    </script>\n",
              "  </div>\n",
              "\n",
              "\n",
              "<div id=\"df-ff6588f1-f682-4f89-8e21-ec4d2bbca4a1\">\n",
              "  <button class=\"colab-df-quickchart\" onclick=\"quickchart('df-ff6588f1-f682-4f89-8e21-ec4d2bbca4a1')\"\n",
              "            title=\"Suggest charts\"\n",
              "            style=\"display:none;\">\n",
              "\n",
              "<svg xmlns=\"http://www.w3.org/2000/svg\" height=\"24px\"viewBox=\"0 0 24 24\"\n",
              "     width=\"24px\">\n",
              "    <g>\n",
              "        <path d=\"M19 3H5c-1.1 0-2 .9-2 2v14c0 1.1.9 2 2 2h14c1.1 0 2-.9 2-2V5c0-1.1-.9-2-2-2zM9 17H7v-7h2v7zm4 0h-2V7h2v10zm4 0h-2v-4h2v4z\"/>\n",
              "    </g>\n",
              "</svg>\n",
              "  </button>\n",
              "\n",
              "<style>\n",
              "  .colab-df-quickchart {\n",
              "      --bg-color: #E8F0FE;\n",
              "      --fill-color: #1967D2;\n",
              "      --hover-bg-color: #E2EBFA;\n",
              "      --hover-fill-color: #174EA6;\n",
              "      --disabled-fill-color: #AAA;\n",
              "      --disabled-bg-color: #DDD;\n",
              "  }\n",
              "\n",
              "  [theme=dark] .colab-df-quickchart {\n",
              "      --bg-color: #3B4455;\n",
              "      --fill-color: #D2E3FC;\n",
              "      --hover-bg-color: #434B5C;\n",
              "      --hover-fill-color: #FFFFFF;\n",
              "      --disabled-bg-color: #3B4455;\n",
              "      --disabled-fill-color: #666;\n",
              "  }\n",
              "\n",
              "  .colab-df-quickchart {\n",
              "    background-color: var(--bg-color);\n",
              "    border: none;\n",
              "    border-radius: 50%;\n",
              "    cursor: pointer;\n",
              "    display: none;\n",
              "    fill: var(--fill-color);\n",
              "    height: 32px;\n",
              "    padding: 0;\n",
              "    width: 32px;\n",
              "  }\n",
              "\n",
              "  .colab-df-quickchart:hover {\n",
              "    background-color: var(--hover-bg-color);\n",
              "    box-shadow: 0 1px 2px rgba(60, 64, 67, 0.3), 0 1px 3px 1px rgba(60, 64, 67, 0.15);\n",
              "    fill: var(--button-hover-fill-color);\n",
              "  }\n",
              "\n",
              "  .colab-df-quickchart-complete:disabled,\n",
              "  .colab-df-quickchart-complete:disabled:hover {\n",
              "    background-color: var(--disabled-bg-color);\n",
              "    fill: var(--disabled-fill-color);\n",
              "    box-shadow: none;\n",
              "  }\n",
              "\n",
              "  .colab-df-spinner {\n",
              "    border: 2px solid var(--fill-color);\n",
              "    border-color: transparent;\n",
              "    border-bottom-color: var(--fill-color);\n",
              "    animation:\n",
              "      spin 1s steps(1) infinite;\n",
              "  }\n",
              "\n",
              "  @keyframes spin {\n",
              "    0% {\n",
              "      border-color: transparent;\n",
              "      border-bottom-color: var(--fill-color);\n",
              "      border-left-color: var(--fill-color);\n",
              "    }\n",
              "    20% {\n",
              "      border-color: transparent;\n",
              "      border-left-color: var(--fill-color);\n",
              "      border-top-color: var(--fill-color);\n",
              "    }\n",
              "    30% {\n",
              "      border-color: transparent;\n",
              "      border-left-color: var(--fill-color);\n",
              "      border-top-color: var(--fill-color);\n",
              "      border-right-color: var(--fill-color);\n",
              "    }\n",
              "    40% {\n",
              "      border-color: transparent;\n",
              "      border-right-color: var(--fill-color);\n",
              "      border-top-color: var(--fill-color);\n",
              "    }\n",
              "    60% {\n",
              "      border-color: transparent;\n",
              "      border-right-color: var(--fill-color);\n",
              "    }\n",
              "    80% {\n",
              "      border-color: transparent;\n",
              "      border-right-color: var(--fill-color);\n",
              "      border-bottom-color: var(--fill-color);\n",
              "    }\n",
              "    90% {\n",
              "      border-color: transparent;\n",
              "      border-bottom-color: var(--fill-color);\n",
              "    }\n",
              "  }\n",
              "</style>\n",
              "\n",
              "  <script>\n",
              "    async function quickchart(key) {\n",
              "      const quickchartButtonEl =\n",
              "        document.querySelector('#' + key + ' button');\n",
              "      quickchartButtonEl.disabled = true;  // To prevent multiple clicks.\n",
              "      quickchartButtonEl.classList.add('colab-df-spinner');\n",
              "      try {\n",
              "        const charts = await google.colab.kernel.invokeFunction(\n",
              "            'suggestCharts', [key], {});\n",
              "      } catch (error) {\n",
              "        console.error('Error during call to suggestCharts:', error);\n",
              "      }\n",
              "      quickchartButtonEl.classList.remove('colab-df-spinner');\n",
              "      quickchartButtonEl.classList.add('colab-df-quickchart-complete');\n",
              "    }\n",
              "    (() => {\n",
              "      let quickchartButtonEl =\n",
              "        document.querySelector('#df-ff6588f1-f682-4f89-8e21-ec4d2bbca4a1 button');\n",
              "      quickchartButtonEl.style.display =\n",
              "        google.colab.kernel.accessAllowed ? 'block' : 'none';\n",
              "    })();\n",
              "  </script>\n",
              "</div>\n",
              "    </div>\n",
              "  </div>\n"
            ],
            "text/plain": [
              "                   client_id  quantity     price\n",
              "count                 811.00    811.00    811.00\n",
              "mean  1515915625875147776.00      1.00  14468.80\n",
              "std              62554070.49      0.06  17774.34\n",
              "min   1515915625803180544.00      1.00    656.00\n",
              "25%   1515915625827804416.00      1.00   3878.00\n",
              "50%   1515915625857734656.00      1.00   7533.00\n",
              "75%   1515915625934780416.00      1.00  17938.00\n",
              "max   1515915626013602560.00      2.00 173586.00"
            ]
          },
          "execution_count": 494,
          "metadata": {},
          "output_type": "execute_result"
        }
      ],
      "source": [
        "df_gifts.describe()"
      ]
    },
    {
      "cell_type": "code",
      "execution_count": 495,
      "metadata": {
        "id": "W5eC1kTXtq8y",
        "colab": {
          "base_uri": "https://localhost:8080/",
          "height": 300
        },
        "outputId": "0572fbe0-e5d1-49fe-a7ce-8eb55e57b73d"
      },
      "outputs": [
        {
          "data": {
            "application/vnd.google.colaboratory.intrinsic+json": {
              "summary": "{\n  \"name\": \"df_marketplace\",\n  \"rows\": 8,\n  \"fields\": [\n    {\n      \"column\": \"client_id\",\n      \"properties\": {\n        \"dtype\": \"number\",\n        \"std\": 7.017325778291576e+17,\n        \"min\": 48182.0,\n        \"max\": 1.5159156255886461e+18,\n        \"num_unique_values\": 8,\n        \"samples\": [\n          1.5159156255324997e+18,\n          1.5159156255311352e+18,\n          48182.0\n        ],\n        \"semantic_type\": \"\",\n        \"description\": \"\"\n      }\n    },\n    {\n      \"column\": \"quantity\",\n      \"properties\": {\n        \"dtype\": \"number\",\n        \"std\": 17032.112020040742,\n        \"min\": 0.5405917866129678,\n        \"max\": 48182.0,\n        \"num_unique_values\": 5,\n        \"samples\": [\n          1.0174131418372006,\n          50.0,\n          0.5405917866129678\n        ],\n        \"semantic_type\": \"\",\n        \"description\": \"\"\n      }\n    },\n    {\n      \"column\": \"price\",\n      \"properties\": {\n        \"dtype\": \"number\",\n        \"std\": 451513.58658290945,\n        \"min\": 0.0,\n        \"max\": 1299998.0,\n        \"num_unique_values\": 8,\n        \"samples\": [\n          27918.95315678054,\n          9998.0,\n          48182.0\n        ],\n        \"semantic_type\": \"\",\n        \"description\": \"\"\n      }\n    }\n  ]\n}",
              "type": "dataframe"
            },
            "text/html": [
              "\n",
              "  <div id=\"df-0ecc658a-ea6b-4cb0-b39b-2d74d8e8ef14\" class=\"colab-df-container\">\n",
              "    <div>\n",
              "<style scoped>\n",
              "    .dataframe tbody tr th:only-of-type {\n",
              "        vertical-align: middle;\n",
              "    }\n",
              "\n",
              "    .dataframe tbody tr th {\n",
              "        vertical-align: top;\n",
              "    }\n",
              "\n",
              "    .dataframe thead th {\n",
              "        text-align: right;\n",
              "    }\n",
              "</style>\n",
              "<table border=\"1\" class=\"dataframe\">\n",
              "  <thead>\n",
              "    <tr style=\"text-align: right;\">\n",
              "      <th></th>\n",
              "      <th>client_id</th>\n",
              "      <th>quantity</th>\n",
              "      <th>price</th>\n",
              "    </tr>\n",
              "  </thead>\n",
              "  <tbody>\n",
              "    <tr>\n",
              "      <th>count</th>\n",
              "      <td>48182.00</td>\n",
              "      <td>48182.00</td>\n",
              "      <td>48182.00</td>\n",
              "    </tr>\n",
              "    <tr>\n",
              "      <th>mean</th>\n",
              "      <td>1515915625532499712.00</td>\n",
              "      <td>1.02</td>\n",
              "      <td>27918.95</td>\n",
              "    </tr>\n",
              "    <tr>\n",
              "      <th>std</th>\n",
              "      <td>31733874.28</td>\n",
              "      <td>0.54</td>\n",
              "      <td>44922.74</td>\n",
              "    </tr>\n",
              "    <tr>\n",
              "      <th>min</th>\n",
              "      <td>1515915625440099840.00</td>\n",
              "      <td>1.00</td>\n",
              "      <td>0.00</td>\n",
              "    </tr>\n",
              "    <tr>\n",
              "      <th>25%</th>\n",
              "      <td>1515915625517591808.00</td>\n",
              "      <td>1.00</td>\n",
              "      <td>1204.25</td>\n",
              "    </tr>\n",
              "    <tr>\n",
              "      <th>50%</th>\n",
              "      <td>1515915625531135232.00</td>\n",
              "      <td>1.00</td>\n",
              "      <td>9998.00</td>\n",
              "    </tr>\n",
              "    <tr>\n",
              "      <th>75%</th>\n",
              "      <td>1515915625557538816.00</td>\n",
              "      <td>1.00</td>\n",
              "      <td>35998.00</td>\n",
              "    </tr>\n",
              "    <tr>\n",
              "      <th>max</th>\n",
              "      <td>1515915625588646144.00</td>\n",
              "      <td>50.00</td>\n",
              "      <td>1299998.00</td>\n",
              "    </tr>\n",
              "  </tbody>\n",
              "</table>\n",
              "</div>\n",
              "    <div class=\"colab-df-buttons\">\n",
              "\n",
              "  <div class=\"colab-df-container\">\n",
              "    <button class=\"colab-df-convert\" onclick=\"convertToInteractive('df-0ecc658a-ea6b-4cb0-b39b-2d74d8e8ef14')\"\n",
              "            title=\"Convert this dataframe to an interactive table.\"\n",
              "            style=\"display:none;\">\n",
              "\n",
              "  <svg xmlns=\"http://www.w3.org/2000/svg\" height=\"24px\" viewBox=\"0 -960 960 960\">\n",
              "    <path d=\"M120-120v-720h720v720H120Zm60-500h600v-160H180v160Zm220 220h160v-160H400v160Zm0 220h160v-160H400v160ZM180-400h160v-160H180v160Zm440 0h160v-160H620v160ZM180-180h160v-160H180v160Zm440 0h160v-160H620v160Z\"/>\n",
              "  </svg>\n",
              "    </button>\n",
              "\n",
              "  <style>\n",
              "    .colab-df-container {\n",
              "      display:flex;\n",
              "      gap: 12px;\n",
              "    }\n",
              "\n",
              "    .colab-df-convert {\n",
              "      background-color: #E8F0FE;\n",
              "      border: none;\n",
              "      border-radius: 50%;\n",
              "      cursor: pointer;\n",
              "      display: none;\n",
              "      fill: #1967D2;\n",
              "      height: 32px;\n",
              "      padding: 0 0 0 0;\n",
              "      width: 32px;\n",
              "    }\n",
              "\n",
              "    .colab-df-convert:hover {\n",
              "      background-color: #E2EBFA;\n",
              "      box-shadow: 0px 1px 2px rgba(60, 64, 67, 0.3), 0px 1px 3px 1px rgba(60, 64, 67, 0.15);\n",
              "      fill: #174EA6;\n",
              "    }\n",
              "\n",
              "    .colab-df-buttons div {\n",
              "      margin-bottom: 4px;\n",
              "    }\n",
              "\n",
              "    [theme=dark] .colab-df-convert {\n",
              "      background-color: #3B4455;\n",
              "      fill: #D2E3FC;\n",
              "    }\n",
              "\n",
              "    [theme=dark] .colab-df-convert:hover {\n",
              "      background-color: #434B5C;\n",
              "      box-shadow: 0px 1px 3px 1px rgba(0, 0, 0, 0.15);\n",
              "      filter: drop-shadow(0px 1px 2px rgba(0, 0, 0, 0.3));\n",
              "      fill: #FFFFFF;\n",
              "    }\n",
              "  </style>\n",
              "\n",
              "    <script>\n",
              "      const buttonEl =\n",
              "        document.querySelector('#df-0ecc658a-ea6b-4cb0-b39b-2d74d8e8ef14 button.colab-df-convert');\n",
              "      buttonEl.style.display =\n",
              "        google.colab.kernel.accessAllowed ? 'block' : 'none';\n",
              "\n",
              "      async function convertToInteractive(key) {\n",
              "        const element = document.querySelector('#df-0ecc658a-ea6b-4cb0-b39b-2d74d8e8ef14');\n",
              "        const dataTable =\n",
              "          await google.colab.kernel.invokeFunction('convertToInteractive',\n",
              "                                                    [key], {});\n",
              "        if (!dataTable) return;\n",
              "\n",
              "        const docLinkHtml = 'Like what you see? Visit the ' +\n",
              "          '<a target=\"_blank\" href=https://colab.research.google.com/notebooks/data_table.ipynb>data table notebook</a>'\n",
              "          + ' to learn more about interactive tables.';\n",
              "        element.innerHTML = '';\n",
              "        dataTable['output_type'] = 'display_data';\n",
              "        await google.colab.output.renderOutput(dataTable, element);\n",
              "        const docLink = document.createElement('div');\n",
              "        docLink.innerHTML = docLinkHtml;\n",
              "        element.appendChild(docLink);\n",
              "      }\n",
              "    </script>\n",
              "  </div>\n",
              "\n",
              "\n",
              "<div id=\"df-ee7e9727-8753-4d20-af43-454f067bf7c9\">\n",
              "  <button class=\"colab-df-quickchart\" onclick=\"quickchart('df-ee7e9727-8753-4d20-af43-454f067bf7c9')\"\n",
              "            title=\"Suggest charts\"\n",
              "            style=\"display:none;\">\n",
              "\n",
              "<svg xmlns=\"http://www.w3.org/2000/svg\" height=\"24px\"viewBox=\"0 0 24 24\"\n",
              "     width=\"24px\">\n",
              "    <g>\n",
              "        <path d=\"M19 3H5c-1.1 0-2 .9-2 2v14c0 1.1.9 2 2 2h14c1.1 0 2-.9 2-2V5c0-1.1-.9-2-2-2zM9 17H7v-7h2v7zm4 0h-2V7h2v10zm4 0h-2v-4h2v4z\"/>\n",
              "    </g>\n",
              "</svg>\n",
              "  </button>\n",
              "\n",
              "<style>\n",
              "  .colab-df-quickchart {\n",
              "      --bg-color: #E8F0FE;\n",
              "      --fill-color: #1967D2;\n",
              "      --hover-bg-color: #E2EBFA;\n",
              "      --hover-fill-color: #174EA6;\n",
              "      --disabled-fill-color: #AAA;\n",
              "      --disabled-bg-color: #DDD;\n",
              "  }\n",
              "\n",
              "  [theme=dark] .colab-df-quickchart {\n",
              "      --bg-color: #3B4455;\n",
              "      --fill-color: #D2E3FC;\n",
              "      --hover-bg-color: #434B5C;\n",
              "      --hover-fill-color: #FFFFFF;\n",
              "      --disabled-bg-color: #3B4455;\n",
              "      --disabled-fill-color: #666;\n",
              "  }\n",
              "\n",
              "  .colab-df-quickchart {\n",
              "    background-color: var(--bg-color);\n",
              "    border: none;\n",
              "    border-radius: 50%;\n",
              "    cursor: pointer;\n",
              "    display: none;\n",
              "    fill: var(--fill-color);\n",
              "    height: 32px;\n",
              "    padding: 0;\n",
              "    width: 32px;\n",
              "  }\n",
              "\n",
              "  .colab-df-quickchart:hover {\n",
              "    background-color: var(--hover-bg-color);\n",
              "    box-shadow: 0 1px 2px rgba(60, 64, 67, 0.3), 0 1px 3px 1px rgba(60, 64, 67, 0.15);\n",
              "    fill: var(--button-hover-fill-color);\n",
              "  }\n",
              "\n",
              "  .colab-df-quickchart-complete:disabled,\n",
              "  .colab-df-quickchart-complete:disabled:hover {\n",
              "    background-color: var(--disabled-bg-color);\n",
              "    fill: var(--disabled-fill-color);\n",
              "    box-shadow: none;\n",
              "  }\n",
              "\n",
              "  .colab-df-spinner {\n",
              "    border: 2px solid var(--fill-color);\n",
              "    border-color: transparent;\n",
              "    border-bottom-color: var(--fill-color);\n",
              "    animation:\n",
              "      spin 1s steps(1) infinite;\n",
              "  }\n",
              "\n",
              "  @keyframes spin {\n",
              "    0% {\n",
              "      border-color: transparent;\n",
              "      border-bottom-color: var(--fill-color);\n",
              "      border-left-color: var(--fill-color);\n",
              "    }\n",
              "    20% {\n",
              "      border-color: transparent;\n",
              "      border-left-color: var(--fill-color);\n",
              "      border-top-color: var(--fill-color);\n",
              "    }\n",
              "    30% {\n",
              "      border-color: transparent;\n",
              "      border-left-color: var(--fill-color);\n",
              "      border-top-color: var(--fill-color);\n",
              "      border-right-color: var(--fill-color);\n",
              "    }\n",
              "    40% {\n",
              "      border-color: transparent;\n",
              "      border-right-color: var(--fill-color);\n",
              "      border-top-color: var(--fill-color);\n",
              "    }\n",
              "    60% {\n",
              "      border-color: transparent;\n",
              "      border-right-color: var(--fill-color);\n",
              "    }\n",
              "    80% {\n",
              "      border-color: transparent;\n",
              "      border-right-color: var(--fill-color);\n",
              "      border-bottom-color: var(--fill-color);\n",
              "    }\n",
              "    90% {\n",
              "      border-color: transparent;\n",
              "      border-bottom-color: var(--fill-color);\n",
              "    }\n",
              "  }\n",
              "</style>\n",
              "\n",
              "  <script>\n",
              "    async function quickchart(key) {\n",
              "      const quickchartButtonEl =\n",
              "        document.querySelector('#' + key + ' button');\n",
              "      quickchartButtonEl.disabled = true;  // To prevent multiple clicks.\n",
              "      quickchartButtonEl.classList.add('colab-df-spinner');\n",
              "      try {\n",
              "        const charts = await google.colab.kernel.invokeFunction(\n",
              "            'suggestCharts', [key], {});\n",
              "      } catch (error) {\n",
              "        console.error('Error during call to suggestCharts:', error);\n",
              "      }\n",
              "      quickchartButtonEl.classList.remove('colab-df-spinner');\n",
              "      quickchartButtonEl.classList.add('colab-df-quickchart-complete');\n",
              "    }\n",
              "    (() => {\n",
              "      let quickchartButtonEl =\n",
              "        document.querySelector('#df-ee7e9727-8753-4d20-af43-454f067bf7c9 button');\n",
              "      quickchartButtonEl.style.display =\n",
              "        google.colab.kernel.accessAllowed ? 'block' : 'none';\n",
              "    })();\n",
              "  </script>\n",
              "</div>\n",
              "    </div>\n",
              "  </div>\n"
            ],
            "text/plain": [
              "                   client_id  quantity      price\n",
              "count               48182.00  48182.00   48182.00\n",
              "mean  1515915625532499712.00      1.02   27918.95\n",
              "std              31733874.28      0.54   44922.74\n",
              "min   1515915625440099840.00      1.00       0.00\n",
              "25%   1515915625517591808.00      1.00    1204.25\n",
              "50%   1515915625531135232.00      1.00    9998.00\n",
              "75%   1515915625557538816.00      1.00   35998.00\n",
              "max   1515915625588646144.00     50.00 1299998.00"
            ]
          },
          "execution_count": 495,
          "metadata": {},
          "output_type": "execute_result"
        }
      ],
      "source": [
        "df_marketplace.describe()"
      ]
    },
    {
      "cell_type": "markdown",
      "metadata": {
        "id": "-uwkKpgatIgz"
      },
      "source": [
        "При первом приближении аномалии, выбросы и другие отклонения не выявлены. Посмотрим на данные подробнее."
      ]
    },
    {
      "cell_type": "markdown",
      "metadata": {
        "id": "-n4NsFUNyhmb"
      },
      "source": [
        "Посмотрим распределения признаков 'quantity' и 'price' в зависимости от 'date'"
      ]
    },
    {
      "cell_type": "code",
      "execution_count": 496,
      "metadata": {
        "id": "zcMM1J09Z1xm"
      },
      "outputs": [],
      "source": [
        "def _plot_series_price(series, series_name, series_index=0):\n",
        "  palette = list(sns.palettes.mpl_palette('Dark2'))\n",
        "  xs = series['date']\n",
        "  ys = series['price']\n",
        "\n",
        "  plt.plot(xs, ys, label=series_name, color=palette[series_index % len(palette)])"
      ]
    },
    {
      "cell_type": "code",
      "execution_count": 497,
      "metadata": {
        "id": "G6N6Gl-AkZTX",
        "colab": {
          "base_uri": "https://localhost:8080/",
          "height": 227
        },
        "outputId": "fe176c64-7746-4b45-ed79-785f90f695f1"
      },
      "outputs": [
        {
          "data": {
            "text/plain": [
              "Text(0.5, 1.0, 'Таблица df_apparel')"
            ]
          },
          "execution_count": 497,
          "metadata": {},
          "output_type": "execute_result"
        },
        {
          "data": {
            "image/png": "[encoded data removed]",
            "text/plain": [
              "<Figure size 1400x200 with 1 Axes>"
            ]
          },
          "metadata": {},
          "output_type": "display_data"
        }
      ],
      "source": [
        "fig, ax = plt.subplots(figsize=(14, 2), layout='constrained')\n",
        "df_sorted = df_apparel.sort_values('date', ascending=True)\n",
        "_plot_series_price(df_sorted, '')\n",
        "sns.despine(fig=fig, ax=ax)\n",
        "plt.xlabel('date')\n",
        "_ = plt.ylabel('price')\n",
        "plt.title('Таблица df_apparel', size = 24)"
      ]
    },
    {
      "cell_type": "code",
      "execution_count": 498,
      "metadata": {
        "id": "WD6LHw0fUKra",
        "colab": {
          "base_uri": "https://localhost:8080/",
          "height": 227
        },
        "outputId": "f8b2a98e-4fed-4610-85f6-547dac26e302"
      },
      "outputs": [
        {
          "data": {
            "text/plain": [
              "Text(0.5, 1.0, 'Таблица df_gifts')"
            ]
          },
          "execution_count": 498,
          "metadata": {},
          "output_type": "execute_result"
        },
        {
          "data": {
            "image/png": "[encoded data removed]",
            "text/plain": [
              "<Figure size 1400x200 with 1 Axes>"
            ]
          },
          "metadata": {},
          "output_type": "display_data"
        }
      ],
      "source": [
        "fig, ax = plt.subplots(figsize=(14, 2), layout='constrained')\n",
        "df_sorted = df_gifts.sort_values('date', ascending=True)\n",
        "_plot_series_price(df_sorted, '')\n",
        "sns.despine(fig=fig, ax=ax)\n",
        "plt.xlabel('date')\n",
        "_ = plt.ylabel('price')\n",
        "plt.title('Таблица df_gifts', size = 24)"
      ]
    },
    {
      "cell_type": "code",
      "execution_count": 499,
      "metadata": {
        "id": "9iNREICuUKu0",
        "colab": {
          "base_uri": "https://localhost:8080/",
          "height": 227
        },
        "outputId": "cec04613-6839-4450-8877-558624a9e4c0"
      },
      "outputs": [
        {
          "data": {
            "text/plain": [
              "Text(0.5, 1.0, 'Таблица df_marketplace')"
            ]
          },
          "execution_count": 499,
          "metadata": {},
          "output_type": "execute_result"
        },
        {
          "data": {
            "image/png": "[encoded data removed]",
            "text/plain": [
              "<Figure size 1400x200 with 1 Axes>"
            ]
          },
          "metadata": {},
          "output_type": "display_data"
        }
      ],
      "source": [
        "fig, ax = plt.subplots(figsize=(14, 2), layout='constrained')\n",
        "df_sorted = df_marketplace.sort_values('date', ascending=True)\n",
        "_plot_series_price(df_sorted, '')\n",
        "sns.despine(fig=fig, ax=ax)\n",
        "plt.xlabel('date')\n",
        "_ = plt.ylabel('price')\n",
        "plt.title('Таблица df_marketplace', size = 24)"
      ]
    },
    {
      "cell_type": "markdown",
      "metadata": {
        "id": "lu8HSqQjXEjB"
      },
      "source": [
        "На графиках видны небольшие скачки цен\n",
        "\n",
        "df_apparel - одежда, перед новым годом, в июне, перед 1 сертября и в октябре.\n",
        "\n",
        "df_gift - подарки, 1 сентября\n",
        "\n",
        "df_marketplace - мультикатегорийный магазин, начало ноября.\n",
        "\n",
        "Сложно сделать полезные однозначные выводы по ценам, проверим количество."
      ]
    },
    {
      "cell_type": "code",
      "execution_count": 500,
      "metadata": {
        "id": "vtEAXZAaZUTA"
      },
      "outputs": [],
      "source": [
        "def _plot_series_quantity(series, series_name, series_index=0):\n",
        "  palette = list(sns.palettes.mpl_palette('Dark2'))\n",
        "  xs = series['date']\n",
        "  ys = series['quantity']\n",
        "\n",
        "  plt.plot(xs, ys, label=series_name, color=palette[series_index % len(palette)])"
      ]
    },
    {
      "cell_type": "code",
      "execution_count": 501,
      "metadata": {
        "id": "8mvIWDX6YzYV",
        "colab": {
          "base_uri": "https://localhost:8080/",
          "height": 227
        },
        "outputId": "d5627633-8bb4-46bf-b76a-f7d2a9ed4f6b"
      },
      "outputs": [
        {
          "data": {
            "text/plain": [
              "Text(0.5, 1.0, 'Таблица df_apparel')"
            ]
          },
          "execution_count": 501,
          "metadata": {},
          "output_type": "execute_result"
        },
        {
          "data": {
            "image/png": "[encoded data removed]",
            "text/plain": [
              "<Figure size 1400x200 with 1 Axes>"
            ]
          },
          "metadata": {},
          "output_type": "display_data"
        }
      ],
      "source": [
        "fig, ax = plt.subplots(figsize=(14, 2), layout='constrained')\n",
        "df_sorted = df_apparel.sort_values('date', ascending=True)\n",
        "_plot_series_quantity(df_sorted, '')\n",
        "sns.despine(fig=fig, ax=ax)\n",
        "plt.xlabel('date')\n",
        "_ = plt.ylabel('quantity')\n",
        "plt.title('Таблица df_apparel', size = 24)"
      ]
    },
    {
      "cell_type": "code",
      "execution_count": 502,
      "metadata": {
        "id": "GEAHlYNaYzYW",
        "colab": {
          "base_uri": "https://localhost:8080/",
          "height": 227
        },
        "outputId": "73cca1fa-e3cc-4fd3-efd3-336a366c49dc"
      },
      "outputs": [
        {
          "data": {
            "text/plain": [
              "Text(0.5, 1.0, 'Таблица df_gifts')"
            ]
          },
          "execution_count": 502,
          "metadata": {},
          "output_type": "execute_result"
        },
        {
          "data": {
            "image/png": "[encoded data removed]",
            "text/plain": [
              "<Figure size 1400x200 with 1 Axes>"
            ]
          },
          "metadata": {},
          "output_type": "display_data"
        }
      ],
      "source": [
        "fig, ax = plt.subplots(figsize=(14, 2), layout='constrained')\n",
        "df_sorted = df_gifts.sort_values('date', ascending=True)\n",
        "_plot_series_quantity(df_sorted, '')\n",
        "sns.despine(fig=fig, ax=ax)\n",
        "plt.xlabel('date')\n",
        "_ = plt.ylabel('quantity')\n",
        "plt.title('Таблица df_gifts', size = 24)"
      ]
    },
    {
      "cell_type": "code",
      "execution_count": 503,
      "metadata": {
        "id": "HkvWxbXAYzYW",
        "colab": {
          "base_uri": "https://localhost:8080/",
          "height": 227
        },
        "outputId": "53171144-8703-40dd-fe17-d470910a4f62"
      },
      "outputs": [
        {
          "data": {
            "text/plain": [
              "Text(0.5, 1.0, 'Таблица df_marketplace')"
            ]
          },
          "execution_count": 503,
          "metadata": {},
          "output_type": "execute_result"
        },
        {
          "data": {
            "image/png": "[encoded data removed]",
            "text/plain": [
              "<Figure size 1400x200 with 1 Axes>"
            ]
          },
          "metadata": {},
          "output_type": "display_data"
        }
      ],
      "source": [
        "fig, ax = plt.subplots(figsize=(14, 2), layout='constrained')\n",
        "df_sorted = df_marketplace.sort_values('date', ascending=True)\n",
        "_plot_series_quantity(df_sorted, '')\n",
        "sns.despine(fig=fig, ax=ax)\n",
        "plt.xlabel('date')\n",
        "_ = plt.ylabel('quantity')\n",
        "plt.title('Таблица df_marketplace', size = 24)"
      ]
    },
    {
      "cell_type": "markdown",
      "metadata": {
        "id": "dC7ETXbB-qCm"
      },
      "source": [
        "Зависимость количества товаров от даты, также неоднозначна. На данном этапе сложно сделать полезный вывод."
      ]
    },
    {
      "cell_type": "markdown",
      "metadata": {
        "id": "h-sTbtAdvVa9"
      },
      "source": [
        "## Подготовка данных к обучению"
      ]
    },
    {
      "cell_type": "markdown",
      "metadata": {
        "id": "Mf2mQtFMmWKr"
      },
      "source": [
        "Для дальнейшей работы с данными объеденим 3 таблицы в 1 датасет и в таком виде оценим результат."
      ]
    },
    {
      "cell_type": "code",
      "execution_count": 504,
      "metadata": {
        "id": "B7KNUBIJDcpw"
      },
      "outputs": [],
      "source": [
        "df = pd.concat([df_apparel, df_gifts, df_marketplace])"
      ]
    },
    {
      "cell_type": "code",
      "execution_count": 505,
      "metadata": {
        "id": "Xl0jf3XWxcjF",
        "colab": {
          "base_uri": "https://localhost:8080/",
          "height": 112
        },
        "outputId": "82e46827-89a9-4531-8054-d26a3e75fbc7"
      },
      "outputs": [
        {
          "data": {
            "application/vnd.google.colaboratory.intrinsic+json": {
              "type": "dataframe",
              "variable_name": "df"
            },
            "text/html": [
              "\n",
              "  <div id=\"df-fcacea88-aab5-4c4e-8889-04e9ab56a6c1\" class=\"colab-df-container\">\n",
              "    <div>\n",
              "<style scoped>\n",
              "    .dataframe tbody tr th:only-of-type {\n",
              "        vertical-align: middle;\n",
              "    }\n",
              "\n",
              "    .dataframe tbody tr th {\n",
              "        vertical-align: top;\n",
              "    }\n",
              "\n",
              "    .dataframe thead th {\n",
              "        text-align: right;\n",
              "    }\n",
              "</style>\n",
              "<table border=\"1\" class=\"dataframe\">\n",
              "  <thead>\n",
              "    <tr style=\"text-align: right;\">\n",
              "      <th></th>\n",
              "      <th>client_id</th>\n",
              "      <th>quantity</th>\n",
              "      <th>price</th>\n",
              "      <th>date</th>\n",
              "    </tr>\n",
              "  </thead>\n",
              "  <tbody>\n",
              "    <tr>\n",
              "      <th>0</th>\n",
              "      <td>1515915625468068833</td>\n",
              "      <td>1</td>\n",
              "      <td>3499.00</td>\n",
              "      <td>2023-09-08</td>\n",
              "    </tr>\n",
              "    <tr>\n",
              "      <th>1</th>\n",
              "      <td>1515915625468068833</td>\n",
              "      <td>1</td>\n",
              "      <td>3499.00</td>\n",
              "      <td>2023-09-08</td>\n",
              "    </tr>\n",
              "  </tbody>\n",
              "</table>\n",
              "</div>\n",
              "    <div class=\"colab-df-buttons\">\n",
              "\n",
              "  <div class=\"colab-df-container\">\n",
              "    <button class=\"colab-df-convert\" onclick=\"convertToInteractive('df-fcacea88-aab5-4c4e-8889-04e9ab56a6c1')\"\n",
              "            title=\"Convert this dataframe to an interactive table.\"\n",
              "            style=\"display:none;\">\n",
              "\n",
              "  <svg xmlns=\"http://www.w3.org/2000/svg\" height=\"24px\" viewBox=\"0 -960 960 960\">\n",
              "    <path d=\"M120-120v-720h720v720H120Zm60-500h600v-160H180v160Zm220 220h160v-160H400v160Zm0 220h160v-160H400v160ZM180-400h160v-160H180v160Zm440 0h160v-160H620v160ZM180-180h160v-160H180v160Zm440 0h160v-160H620v160Z\"/>\n",
              "  </svg>\n",
              "    </button>\n",
              "\n",
              "  <style>\n",
              "    .colab-df-container {\n",
              "      display:flex;\n",
              "      gap: 12px;\n",
              "    }\n",
              "\n",
              "    .colab-df-convert {\n",
              "      background-color: #E8F0FE;\n",
              "      border: none;\n",
              "      border-radius: 50%;\n",
              "      cursor: pointer;\n",
              "      display: none;\n",
              "      fill: #1967D2;\n",
              "      height: 32px;\n",
              "      padding: 0 0 0 0;\n",
              "      width: 32px;\n",
              "    }\n",
              "\n",
              "    .colab-df-convert:hover {\n",
              "      background-color: #E2EBFA;\n",
              "      box-shadow: 0px 1px 2px rgba(60, 64, 67, 0.3), 0px 1px 3px 1px rgba(60, 64, 67, 0.15);\n",
              "      fill: #174EA6;\n",
              "    }\n",
              "\n",
              "    .colab-df-buttons div {\n",
              "      margin-bottom: 4px;\n",
              "    }\n",
              "\n",
              "    [theme=dark] .colab-df-convert {\n",
              "      background-color: #3B4455;\n",
              "      fill: #D2E3FC;\n",
              "    }\n",
              "\n",
              "    [theme=dark] .colab-df-convert:hover {\n",
              "      background-color: #434B5C;\n",
              "      box-shadow: 0px 1px 3px 1px rgba(0, 0, 0, 0.15);\n",
              "      filter: drop-shadow(0px 1px 2px rgba(0, 0, 0, 0.3));\n",
              "      fill: #FFFFFF;\n",
              "    }\n",
              "  </style>\n",
              "\n",
              "    <script>\n",
              "      const buttonEl =\n",
              "        document.querySelector('#df-fcacea88-aab5-4c4e-8889-04e9ab56a6c1 button.colab-df-convert');\n",
              "      buttonEl.style.display =\n",
              "        google.colab.kernel.accessAllowed ? 'block' : 'none';\n",
              "\n",
              "      async function convertToInteractive(key) {\n",
              "        const element = document.querySelector('#df-fcacea88-aab5-4c4e-8889-04e9ab56a6c1');\n",
              "        const dataTable =\n",
              "          await google.colab.kernel.invokeFunction('convertToInteractive',\n",
              "                                                    [key], {});\n",
              "        if (!dataTable) return;\n",
              "\n",
              "        const docLinkHtml = 'Like what you see? Visit the ' +\n",
              "          '<a target=\"_blank\" href=https://colab.research.google.com/notebooks/data_table.ipynb>data table notebook</a>'\n",
              "          + ' to learn more about interactive tables.';\n",
              "        element.innerHTML = '';\n",
              "        dataTable['output_type'] = 'display_data';\n",
              "        await google.colab.output.renderOutput(dataTable, element);\n",
              "        const docLink = document.createElement('div');\n",
              "        docLink.innerHTML = docLinkHtml;\n",
              "        element.appendChild(docLink);\n",
              "      }\n",
              "    </script>\n",
              "  </div>\n",
              "\n",
              "\n",
              "<div id=\"df-aa28e9a6-1ac1-4787-a3aa-9a965eab9f9d\">\n",
              "  <button class=\"colab-df-quickchart\" onclick=\"quickchart('df-aa28e9a6-1ac1-4787-a3aa-9a965eab9f9d')\"\n",
              "            title=\"Suggest charts\"\n",
              "            style=\"display:none;\">\n",
              "\n",
              "<svg xmlns=\"http://www.w3.org/2000/svg\" height=\"24px\"viewBox=\"0 0 24 24\"\n",
              "     width=\"24px\">\n",
              "    <g>\n",
              "        <path d=\"M19 3H5c-1.1 0-2 .9-2 2v14c0 1.1.9 2 2 2h14c1.1 0 2-.9 2-2V5c0-1.1-.9-2-2-2zM9 17H7v-7h2v7zm4 0h-2V7h2v10zm4 0h-2v-4h2v4z\"/>\n",
              "    </g>\n",
              "</svg>\n",
              "  </button>\n",
              "\n",
              "<style>\n",
              "  .colab-df-quickchart {\n",
              "      --bg-color: #E8F0FE;\n",
              "      --fill-color: #1967D2;\n",
              "      --hover-bg-color: #E2EBFA;\n",
              "      --hover-fill-color: #174EA6;\n",
              "      --disabled-fill-color: #AAA;\n",
              "      --disabled-bg-color: #DDD;\n",
              "  }\n",
              "\n",
              "  [theme=dark] .colab-df-quickchart {\n",
              "      --bg-color: #3B4455;\n",
              "      --fill-color: #D2E3FC;\n",
              "      --hover-bg-color: #434B5C;\n",
              "      --hover-fill-color: #FFFFFF;\n",
              "      --disabled-bg-color: #3B4455;\n",
              "      --disabled-fill-color: #666;\n",
              "  }\n",
              "\n",
              "  .colab-df-quickchart {\n",
              "    background-color: var(--bg-color);\n",
              "    border: none;\n",
              "    border-radius: 50%;\n",
              "    cursor: pointer;\n",
              "    display: none;\n",
              "    fill: var(--fill-color);\n",
              "    height: 32px;\n",
              "    padding: 0;\n",
              "    width: 32px;\n",
              "  }\n",
              "\n",
              "  .colab-df-quickchart:hover {\n",
              "    background-color: var(--hover-bg-color);\n",
              "    box-shadow: 0 1px 2px rgba(60, 64, 67, 0.3), 0 1px 3px 1px rgba(60, 64, 67, 0.15);\n",
              "    fill: var(--button-hover-fill-color);\n",
              "  }\n",
              "\n",
              "  .colab-df-quickchart-complete:disabled,\n",
              "  .colab-df-quickchart-complete:disabled:hover {\n",
              "    background-color: var(--disabled-bg-color);\n",
              "    fill: var(--disabled-fill-color);\n",
              "    box-shadow: none;\n",
              "  }\n",
              "\n",
              "  .colab-df-spinner {\n",
              "    border: 2px solid var(--fill-color);\n",
              "    border-color: transparent;\n",
              "    border-bottom-color: var(--fill-color);\n",
              "    animation:\n",
              "      spin 1s steps(1) infinite;\n",
              "  }\n",
              "\n",
              "  @keyframes spin {\n",
              "    0% {\n",
              "      border-color: transparent;\n",
              "      border-bottom-color: var(--fill-color);\n",
              "      border-left-color: var(--fill-color);\n",
              "    }\n",
              "    20% {\n",
              "      border-color: transparent;\n",
              "      border-left-color: var(--fill-color);\n",
              "      border-top-color: var(--fill-color);\n",
              "    }\n",
              "    30% {\n",
              "      border-color: transparent;\n",
              "      border-left-color: var(--fill-color);\n",
              "      border-top-color: var(--fill-color);\n",
              "      border-right-color: var(--fill-color);\n",
              "    }\n",
              "    40% {\n",
              "      border-color: transparent;\n",
              "      border-right-color: var(--fill-color);\n",
              "      border-top-color: var(--fill-color);\n",
              "    }\n",
              "    60% {\n",
              "      border-color: transparent;\n",
              "      border-right-color: var(--fill-color);\n",
              "    }\n",
              "    80% {\n",
              "      border-color: transparent;\n",
              "      border-right-color: var(--fill-color);\n",
              "      border-bottom-color: var(--fill-color);\n",
              "    }\n",
              "    90% {\n",
              "      border-color: transparent;\n",
              "      border-bottom-color: var(--fill-color);\n",
              "    }\n",
              "  }\n",
              "</style>\n",
              "\n",
              "  <script>\n",
              "    async function quickchart(key) {\n",
              "      const quickchartButtonEl =\n",
              "        document.querySelector('#' + key + ' button');\n",
              "      quickchartButtonEl.disabled = true;  // To prevent multiple clicks.\n",
              "      quickchartButtonEl.classList.add('colab-df-spinner');\n",
              "      try {\n",
              "        const charts = await google.colab.kernel.invokeFunction(\n",
              "            'suggestCharts', [key], {});\n",
              "      } catch (error) {\n",
              "        console.error('Error during call to suggestCharts:', error);\n",
              "      }\n",
              "      quickchartButtonEl.classList.remove('colab-df-spinner');\n",
              "      quickchartButtonEl.classList.add('colab-df-quickchart-complete');\n",
              "    }\n",
              "    (() => {\n",
              "      let quickchartButtonEl =\n",
              "        document.querySelector('#df-aa28e9a6-1ac1-4787-a3aa-9a965eab9f9d button');\n",
              "      quickchartButtonEl.style.display =\n",
              "        google.colab.kernel.accessAllowed ? 'block' : 'none';\n",
              "    })();\n",
              "  </script>\n",
              "</div>\n",
              "    </div>\n",
              "  </div>\n"
            ],
            "text/plain": [
              "             client_id  quantity   price       date\n",
              "0  1515915625468068833         1 3499.00 2023-09-08\n",
              "1  1515915625468068833         1 3499.00 2023-09-08"
            ]
          },
          "execution_count": 505,
          "metadata": {},
          "output_type": "execute_result"
        }
      ],
      "source": [
        "df.head(2)"
      ]
    },
    {
      "cell_type": "code",
      "execution_count": 506,
      "metadata": {
        "id": "7cLJG2zyDuc5",
        "colab": {
          "base_uri": "https://localhost:8080/"
        },
        "outputId": "7e70026a-1381-43cd-b2cc-839f999ec246"
      },
      "outputs": [
        {
          "data": {
            "text/plain": [
              "0"
            ]
          },
          "execution_count": 506,
          "metadata": {},
          "output_type": "execute_result"
        }
      ],
      "source": [
        "len(df_apparel)+len(df_gifts)+len(df_marketplace)-len(df)"
      ]
    },
    {
      "cell_type": "markdown",
      "metadata": {
        "id": "BVQVnzdYvIvv"
      },
      "source": [
        "###Генерация новых признаков"
      ]
    },
    {
      "cell_type": "markdown",
      "metadata": {
        "id": "gqCGIc2qbKxh"
      },
      "source": [
        "Генерация признаков нужна для обучения модели, по сути это и есть train"
      ]
    },
    {
      "cell_type": "code",
      "execution_count": 507,
      "metadata": {
        "id": "Xl1eF8VvRUUI"
      },
      "outputs": [],
      "source": [
        "x = df"
      ]
    },
    {
      "cell_type": "markdown",
      "metadata": {
        "id": "euBSYxTC5Uxb"
      },
      "source": [
        "Для начала добавим признак - Общая цена - total_price."
      ]
    },
    {
      "cell_type": "code",
      "execution_count": 508,
      "metadata": {
        "id": "cfkDWD6e5h85"
      },
      "outputs": [],
      "source": [
        "x['total_price'] = x['quantity'] * x['price']"
      ]
    },
    {
      "cell_type": "markdown",
      "metadata": {
        "id": "gJzxIqWmLPFR"
      },
      "source": [
        "Для качественного обучения модели, добавим призники для каждого покупателя,наиболее распространенные базовые показатели."
      ]
    },
    {
      "cell_type": "markdown",
      "metadata": {
        "id": "qPn4OWAUFa7g"
      },
      "source": [
        "- сумма (sum)  \n",
        "- среднее значение (mean)  \n",
        "- медианное значение (median)\n",
        "- минимум (minimum)\n",
        "- максимум (maximum)\n",
        "- количество заказов (num_orders)\n",
        "- общая цена (total_price)"
      ]
    },
    {
      "cell_type": "code",
      "execution_count": 509,
      "metadata": {
        "id": "DVzah0iehhyY"
      },
      "outputs": [],
      "source": [
        "agg_func = {\n",
        "    'quantity': ['sum', 'mean', 'median', 'min', 'max'],\n",
        "    'price': ['sum', 'mean', 'median', 'min', 'max'],\n",
        "    'date': ['count']\n",
        "}"
      ]
    },
    {
      "cell_type": "code",
      "execution_count": 510,
      "metadata": {
        "id": "3X71BGCQhsv6"
      },
      "outputs": [],
      "source": [
        "x = pd.DataFrame(x.groupby(['client_id']).agg(agg_func))"
      ]
    },
    {
      "cell_type": "markdown",
      "metadata": {
        "id": "1ebM8bnxSGW2"
      },
      "source": [
        "Переименуем мульти названия столбцов для удобства при анализе"
      ]
    },
    {
      "cell_type": "code",
      "execution_count": 511,
      "metadata": {
        "id": "HQb6y_tj4U8H"
      },
      "outputs": [],
      "source": [
        "list_col = x.columns.to_list()"
      ]
    },
    {
      "cell_type": "code",
      "execution_count": 512,
      "metadata": {
        "id": "qQZ3arjFC--s"
      },
      "outputs": [],
      "source": [
        "list_col_new = []\n",
        "for i in list_col:\n",
        "  list_col_new.append(i[0]+'_'+i[1])"
      ]
    },
    {
      "cell_type": "code",
      "execution_count": 513,
      "metadata": {
        "id": "Q9Ca6Y3JEsaX"
      },
      "outputs": [],
      "source": [
        "x.columns = list_col_new"
      ]
    },
    {
      "cell_type": "markdown",
      "metadata": {
        "id": "OWBCdhcVr2KP"
      },
      "source": [
        "Добавим признаки количества покупок\n",
        "\n",
        "- общее количество покупок за год (total_buy)\n",
        "- средний период времени между покупками - (mean_buy_days)"
      ]
    },
    {
      "cell_type": "code",
      "execution_count": 514,
      "metadata": {
        "id": "sclucJrNsQUb"
      },
      "outputs": [],
      "source": [
        "x['total_buy'] = (pd.DataFrame(df.groupby('client_id')['date'].nunique())).values"
      ]
    },
    {
      "cell_type": "code",
      "execution_count": 515,
      "metadata": {
        "id": "hkUX6dJ1sIHV"
      },
      "outputs": [],
      "source": [
        "x['mean_buy_days'] = 365 / x['total_buy']"
      ]
    },
    {
      "cell_type": "code",
      "execution_count": 516,
      "metadata": {
        "id": "-mFOK8XeIHOK",
        "colab": {
          "base_uri": "https://localhost:8080/",
          "height": 163
        },
        "outputId": "cd6b3219-50bc-457b-e6dd-9b952d1d176c"
      },
      "outputs": [
        {
          "data": {
            "application/vnd.google.colaboratory.intrinsic+json": {
              "summary": "{\n  \"name\": \"x\",\n  \"rows\": 47004,\n  \"fields\": [\n    {\n      \"column\": \"quantity_sum\",\n      \"properties\": {\n        \"dtype\": \"number\",\n        \"std\": 6,\n        \"min\": 1,\n        \"max\": 470,\n        \"num_unique_values\": 97,\n        \"samples\": [\n          91,\n          42,\n          210\n        ],\n        \"semantic_type\": \"\",\n        \"description\": \"\"\n      }\n    },\n    {\n      \"column\": \"quantity_mean\",\n      \"properties\": {\n        \"dtype\": \"number\",\n        \"std\": 0.15257517270273388,\n        \"min\": 1.0,\n        \"max\": 18.0,\n        \"num_unique_values\": 77,\n        \"samples\": [\n          1.1411764705882352,\n          1.027027027027027,\n          1.2\n        ],\n        \"semantic_type\": \"\",\n        \"description\": \"\"\n      }\n    },\n    {\n      \"column\": \"quantity_median\",\n      \"properties\": {\n        \"dtype\": \"number\",\n        \"std\": 0.14303848668922664,\n        \"min\": 1.0,\n        \"max\": 18.0,\n        \"num_unique_values\": 13,\n        \"samples\": [\n          15.0,\n          4.5,\n          1.0\n        ],\n        \"semantic_type\": \"\",\n        \"description\": \"\"\n      }\n    },\n    {\n      \"column\": \"quantity_min\",\n      \"properties\": {\n        \"dtype\": \"number\",\n        \"std\": 0,\n        \"min\": 1,\n        \"max\": 18,\n        \"num_unique_values\": 9,\n        \"samples\": [\n          15,\n          2,\n          4\n        ],\n        \"semantic_type\": \"\",\n        \"description\": \"\"\n      }\n    },\n    {\n      \"column\": \"quantity_max\",\n      \"properties\": {\n        \"dtype\": \"number\",\n        \"std\": 0,\n        \"min\": 1,\n        \"max\": 50,\n        \"num_unique_values\": 17,\n        \"samples\": [\n          1,\n          3,\n          27\n        ],\n        \"semantic_type\": \"\",\n        \"description\": \"\"\n      }\n    },\n    {\n      \"column\": \"price_sum\",\n      \"properties\": {\n        \"dtype\": \"number\",\n        \"std\": 148633.118881344,\n        \"min\": 0.0,\n        \"max\": 17300385.0,\n        \"num_unique_values\": 13414,\n        \"samples\": [\n          861.0,\n          271990.0,\n          54996.0\n        ],\n        \"semantic_type\": \"\",\n        \"description\": \"\"\n      }\n    },\n    {\n      \"column\": \"price_mean\",\n      \"properties\": {\n        \"dtype\": \"number\",\n        \"std\": 28012.539270605128,\n        \"min\": 0.0,\n        \"max\": 1299998.0,\n        \"num_unique_values\": 15073,\n        \"samples\": [\n          163.57142857142858,\n          24006.0,\n          1539.0\n        ],\n        \"semantic_type\": \"\",\n        \"description\": \"\"\n      }\n    },\n    {\n      \"column\": \"price_median\",\n      \"properties\": {\n        \"dtype\": \"number\",\n        \"std\": 28198.210426037207,\n        \"min\": 0.0,\n        \"max\": 1299998.0,\n        \"num_unique_values\": 7182,\n        \"samples\": [\n          26.5,\n          4012.0,\n          38.5\n        ],\n        \"semantic_type\": \"\",\n        \"description\": \"\"\n      }\n    },\n    {\n      \"column\": \"price_min\",\n      \"properties\": {\n        \"dtype\": \"number\",\n        \"std\": 26005.16486411382,\n        \"min\": 0.0,\n        \"max\": 1299998.0,\n        \"num_unique_values\": 4089,\n        \"samples\": [\n          1430.0,\n          1564.0,\n          17918.0\n        ],\n        \"semantic_type\": \"\",\n        \"description\": \"\"\n      }\n    },\n    {\n      \"column\": \"price_max\",\n      \"properties\": {\n        \"dtype\": \"number\",\n        \"std\": 35735.41545567526,\n        \"min\": 0.0,\n        \"max\": 1299998.0,\n        \"num_unique_values\": 4905,\n        \"samples\": [\n          14988.0,\n          1274.0,\n          1183.0\n        ],\n        \"semantic_type\": \"\",\n        \"description\": \"\"\n      }\n    },\n    {\n      \"column\": \"date_count\",\n      \"properties\": {\n        \"dtype\": \"number\",\n        \"std\": 6,\n        \"min\": 1,\n        \"max\": 392,\n        \"num_unique_values\": 94,\n        \"samples\": [\n          56,\n          85,\n          48\n        ],\n        \"semantic_type\": \"\",\n        \"description\": \"\"\n      }\n    },\n    {\n      \"column\": \"total_buy\",\n      \"properties\": {\n        \"dtype\": \"number\",\n        \"std\": 0,\n        \"min\": 1,\n        \"max\": 52,\n        \"num_unique_values\": 29,\n        \"samples\": [\n          52,\n          15,\n          7\n        ],\n        \"semantic_type\": \"\",\n        \"description\": \"\"\n      }\n    },\n    {\n      \"column\": \"mean_buy_days\",\n      \"properties\": {\n        \"dtype\": \"number\",\n        \"std\": 72.27879316415645,\n        \"min\": 7.019230769230769,\n        \"max\": 365.0,\n        \"num_unique_values\": 29,\n        \"samples\": [\n          7.019230769230769,\n          24.333333333333332,\n          52.142857142857146\n        ],\n        \"semantic_type\": \"\",\n        \"description\": \"\"\n      }\n    }\n  ]\n}",
              "type": "dataframe",
              "variable_name": "x"
            },
            "text/html": [
              "\n",
              "  <div id=\"df-53b23268-22e2-425e-bd83-333b9d35dc69\" class=\"colab-df-container\">\n",
              "    <div>\n",
              "<style scoped>\n",
              "    .dataframe tbody tr th:only-of-type {\n",
              "        vertical-align: middle;\n",
              "    }\n",
              "\n",
              "    .dataframe tbody tr th {\n",
              "        vertical-align: top;\n",
              "    }\n",
              "\n",
              "    .dataframe thead th {\n",
              "        text-align: right;\n",
              "    }\n",
              "</style>\n",
              "<table border=\"1\" class=\"dataframe\">\n",
              "  <thead>\n",
              "    <tr style=\"text-align: right;\">\n",
              "      <th></th>\n",
              "      <th>quantity_sum</th>\n",
              "      <th>quantity_mean</th>\n",
              "      <th>quantity_median</th>\n",
              "      <th>quantity_min</th>\n",
              "      <th>quantity_max</th>\n",
              "      <th>price_sum</th>\n",
              "      <th>price_mean</th>\n",
              "      <th>price_median</th>\n",
              "      <th>price_min</th>\n",
              "      <th>price_max</th>\n",
              "      <th>date_count</th>\n",
              "      <th>total_buy</th>\n",
              "      <th>mean_buy_days</th>\n",
              "    </tr>\n",
              "    <tr>\n",
              "      <th>client_id</th>\n",
              "      <th></th>\n",
              "      <th></th>\n",
              "      <th></th>\n",
              "      <th></th>\n",
              "      <th></th>\n",
              "      <th></th>\n",
              "      <th></th>\n",
              "      <th></th>\n",
              "      <th></th>\n",
              "      <th></th>\n",
              "      <th></th>\n",
              "      <th></th>\n",
              "      <th></th>\n",
              "    </tr>\n",
              "  </thead>\n",
              "  <tbody>\n",
              "    <tr>\n",
              "      <th>1515915625440099873</th>\n",
              "      <td>2</td>\n",
              "      <td>1.00</td>\n",
              "      <td>1.00</td>\n",
              "      <td>1</td>\n",
              "      <td>1</td>\n",
              "      <td>33216.00</td>\n",
              "      <td>16608.00</td>\n",
              "      <td>16608.00</td>\n",
              "      <td>1218.00</td>\n",
              "      <td>31998.00</td>\n",
              "      <td>2</td>\n",
              "      <td>2</td>\n",
              "      <td>182.50</td>\n",
              "    </tr>\n",
              "    <tr>\n",
              "      <th>1515915625440939402</th>\n",
              "      <td>1</td>\n",
              "      <td>1.00</td>\n",
              "      <td>1.00</td>\n",
              "      <td>1</td>\n",
              "      <td>1</td>\n",
              "      <td>75998.00</td>\n",
              "      <td>75998.00</td>\n",
              "      <td>75998.00</td>\n",
              "      <td>75998.00</td>\n",
              "      <td>75998.00</td>\n",
              "      <td>1</td>\n",
              "      <td>1</td>\n",
              "      <td>365.00</td>\n",
              "    </tr>\n",
              "  </tbody>\n",
              "</table>\n",
              "</div>\n",
              "    <div class=\"colab-df-buttons\">\n",
              "\n",
              "  <div class=\"colab-df-container\">\n",
              "    <button class=\"colab-df-convert\" onclick=\"convertToInteractive('df-53b23268-22e2-425e-bd83-333b9d35dc69')\"\n",
              "            title=\"Convert this dataframe to an interactive table.\"\n",
              "            style=\"display:none;\">\n",
              "\n",
              "  <svg xmlns=\"http://www.w3.org/2000/svg\" height=\"24px\" viewBox=\"0 -960 960 960\">\n",
              "    <path d=\"M120-120v-720h720v720H120Zm60-500h600v-160H180v160Zm220 220h160v-160H400v160Zm0 220h160v-160H400v160ZM180-400h160v-160H180v160Zm440 0h160v-160H620v160ZM180-180h160v-160H180v160Zm440 0h160v-160H620v160Z\"/>\n",
              "  </svg>\n",
              "    </button>\n",
              "\n",
              "  <style>\n",
              "    .colab-df-container {\n",
              "      display:flex;\n",
              "      gap: 12px;\n",
              "    }\n",
              "\n",
              "    .colab-df-convert {\n",
              "      background-color: #E8F0FE;\n",
              "      border: none;\n",
              "      border-radius: 50%;\n",
              "      cursor: pointer;\n",
              "      display: none;\n",
              "      fill: #1967D2;\n",
              "      height: 32px;\n",
              "      padding: 0 0 0 0;\n",
              "      width: 32px;\n",
              "    }\n",
              "\n",
              "    .colab-df-convert:hover {\n",
              "      background-color: #E2EBFA;\n",
              "      box-shadow: 0px 1px 2px rgba(60, 64, 67, 0.3), 0px 1px 3px 1px rgba(60, 64, 67, 0.15);\n",
              "      fill: #174EA6;\n",
              "    }\n",
              "\n",
              "    .colab-df-buttons div {\n",
              "      margin-bottom: 4px;\n",
              "    }\n",
              "\n",
              "    [theme=dark] .colab-df-convert {\n",
              "      background-color: #3B4455;\n",
              "      fill: #D2E3FC;\n",
              "    }\n",
              "\n",
              "    [theme=dark] .colab-df-convert:hover {\n",
              "      background-color: #434B5C;\n",
              "      box-shadow: 0px 1px 3px 1px rgba(0, 0, 0, 0.15);\n",
              "      filter: drop-shadow(0px 1px 2px rgba(0, 0, 0, 0.3));\n",
              "      fill: #FFFFFF;\n",
              "    }\n",
              "  </style>\n",
              "\n",
              "    <script>\n",
              "      const buttonEl =\n",
              "        document.querySelector('#df-53b23268-22e2-425e-bd83-333b9d35dc69 button.colab-df-convert');\n",
              "      buttonEl.style.display =\n",
              "        google.colab.kernel.accessAllowed ? 'block' : 'none';\n",
              "\n",
              "      async function convertToInteractive(key) {\n",
              "        const element = document.querySelector('#df-53b23268-22e2-425e-bd83-333b9d35dc69');\n",
              "        const dataTable =\n",
              "          await google.colab.kernel.invokeFunction('convertToInteractive',\n",
              "                                                    [key], {});\n",
              "        if (!dataTable) return;\n",
              "\n",
              "        const docLinkHtml = 'Like what you see? Visit the ' +\n",
              "          '<a target=\"_blank\" href=https://colab.research.google.com/notebooks/data_table.ipynb>data table notebook</a>'\n",
              "          + ' to learn more about interactive tables.';\n",
              "        element.innerHTML = '';\n",
              "        dataTable['output_type'] = 'display_data';\n",
              "        await google.colab.output.renderOutput(dataTable, element);\n",
              "        const docLink = document.createElement('div');\n",
              "        docLink.innerHTML = docLinkHtml;\n",
              "        element.appendChild(docLink);\n",
              "      }\n",
              "    </script>\n",
              "  </div>\n",
              "\n",
              "\n",
              "<div id=\"df-f32a2ebb-4b25-406f-8d32-a610e91cef97\">\n",
              "  <button class=\"colab-df-quickchart\" onclick=\"quickchart('df-f32a2ebb-4b25-406f-8d32-a610e91cef97')\"\n",
              "            title=\"Suggest charts\"\n",
              "            style=\"display:none;\">\n",
              "\n",
              "<svg xmlns=\"http://www.w3.org/2000/svg\" height=\"24px\"viewBox=\"0 0 24 24\"\n",
              "     width=\"24px\">\n",
              "    <g>\n",
              "        <path d=\"M19 3H5c-1.1 0-2 .9-2 2v14c0 1.1.9 2 2 2h14c1.1 0 2-.9 2-2V5c0-1.1-.9-2-2-2zM9 17H7v-7h2v7zm4 0h-2V7h2v10zm4 0h-2v-4h2v4z\"/>\n",
              "    </g>\n",
              "</svg>\n",
              "  </button>\n",
              "\n",
              "<style>\n",
              "  .colab-df-quickchart {\n",
              "      --bg-color: #E8F0FE;\n",
              "      --fill-color: #1967D2;\n",
              "      --hover-bg-color: #E2EBFA;\n",
              "      --hover-fill-color: #174EA6;\n",
              "      --disabled-fill-color: #AAA;\n",
              "      --disabled-bg-color: #DDD;\n",
              "  }\n",
              "\n",
              "  [theme=dark] .colab-df-quickchart {\n",
              "      --bg-color: #3B4455;\n",
              "      --fill-color: #D2E3FC;\n",
              "      --hover-bg-color: #434B5C;\n",
              "      --hover-fill-color: #FFFFFF;\n",
              "      --disabled-bg-color: #3B4455;\n",
              "      --disabled-fill-color: #666;\n",
              "  }\n",
              "\n",
              "  .colab-df-quickchart {\n",
              "    background-color: var(--bg-color);\n",
              "    border: none;\n",
              "    border-radius: 50%;\n",
              "    cursor: pointer;\n",
              "    display: none;\n",
              "    fill: var(--fill-color);\n",
              "    height: 32px;\n",
              "    padding: 0;\n",
              "    width: 32px;\n",
              "  }\n",
              "\n",
              "  .colab-df-quickchart:hover {\n",
              "    background-color: var(--hover-bg-color);\n",
              "    box-shadow: 0 1px 2px rgba(60, 64, 67, 0.3), 0 1px 3px 1px rgba(60, 64, 67, 0.15);\n",
              "    fill: var(--button-hover-fill-color);\n",
              "  }\n",
              "\n",
              "  .colab-df-quickchart-complete:disabled,\n",
              "  .colab-df-quickchart-complete:disabled:hover {\n",
              "    background-color: var(--disabled-bg-color);\n",
              "    fill: var(--disabled-fill-color);\n",
              "    box-shadow: none;\n",
              "  }\n",
              "\n",
              "  .colab-df-spinner {\n",
              "    border: 2px solid var(--fill-color);\n",
              "    border-color: transparent;\n",
              "    border-bottom-color: var(--fill-color);\n",
              "    animation:\n",
              "      spin 1s steps(1) infinite;\n",
              "  }\n",
              "\n",
              "  @keyframes spin {\n",
              "    0% {\n",
              "      border-color: transparent;\n",
              "      border-bottom-color: var(--fill-color);\n",
              "      border-left-color: var(--fill-color);\n",
              "    }\n",
              "    20% {\n",
              "      border-color: transparent;\n",
              "      border-left-color: var(--fill-color);\n",
              "      border-top-color: var(--fill-color);\n",
              "    }\n",
              "    30% {\n",
              "      border-color: transparent;\n",
              "      border-left-color: var(--fill-color);\n",
              "      border-top-color: var(--fill-color);\n",
              "      border-right-color: var(--fill-color);\n",
              "    }\n",
              "    40% {\n",
              "      border-color: transparent;\n",
              "      border-right-color: var(--fill-color);\n",
              "      border-top-color: var(--fill-color);\n",
              "    }\n",
              "    60% {\n",
              "      border-color: transparent;\n",
              "      border-right-color: var(--fill-color);\n",
              "    }\n",
              "    80% {\n",
              "      border-color: transparent;\n",
              "      border-right-color: var(--fill-color);\n",
              "      border-bottom-color: var(--fill-color);\n",
              "    }\n",
              "    90% {\n",
              "      border-color: transparent;\n",
              "      border-bottom-color: var(--fill-color);\n",
              "    }\n",
              "  }\n",
              "</style>\n",
              "\n",
              "  <script>\n",
              "    async function quickchart(key) {\n",
              "      const quickchartButtonEl =\n",
              "        document.querySelector('#' + key + ' button');\n",
              "      quickchartButtonEl.disabled = true;  // To prevent multiple clicks.\n",
              "      quickchartButtonEl.classList.add('colab-df-spinner');\n",
              "      try {\n",
              "        const charts = await google.colab.kernel.invokeFunction(\n",
              "            'suggestCharts', [key], {});\n",
              "      } catch (error) {\n",
              "        console.error('Error during call to suggestCharts:', error);\n",
              "      }\n",
              "      quickchartButtonEl.classList.remove('colab-df-spinner');\n",
              "      quickchartButtonEl.classList.add('colab-df-quickchart-complete');\n",
              "    }\n",
              "    (() => {\n",
              "      let quickchartButtonEl =\n",
              "        document.querySelector('#df-f32a2ebb-4b25-406f-8d32-a610e91cef97 button');\n",
              "      quickchartButtonEl.style.display =\n",
              "        google.colab.kernel.accessAllowed ? 'block' : 'none';\n",
              "    })();\n",
              "  </script>\n",
              "</div>\n",
              "    </div>\n",
              "  </div>\n"
            ],
            "text/plain": [
              "                     quantity_sum  quantity_mean  quantity_median  \\\n",
              "client_id                                                           \n",
              "1515915625440099873             2           1.00             1.00   \n",
              "1515915625440939402             1           1.00             1.00   \n",
              "\n",
              "                     quantity_min  quantity_max  price_sum  price_mean  \\\n",
              "client_id                                                                \n",
              "1515915625440099873             1             1   33216.00    16608.00   \n",
              "1515915625440939402             1             1   75998.00    75998.00   \n",
              "\n",
              "                     price_median  price_min  price_max  date_count  \\\n",
              "client_id                                                             \n",
              "1515915625440099873      16608.00    1218.00   31998.00           2   \n",
              "1515915625440939402      75998.00   75998.00   75998.00           1   \n",
              "\n",
              "                     total_buy  mean_buy_days  \n",
              "client_id                                      \n",
              "1515915625440099873          2         182.50  \n",
              "1515915625440939402          1         365.00  "
            ]
          },
          "execution_count": 516,
          "metadata": {},
          "output_type": "execute_result"
        }
      ],
      "source": [
        "x.head(2)"
      ]
    },
    {
      "cell_type": "markdown",
      "metadata": {
        "id": "sMYV_qTSImPK"
      },
      "source": [
        "На базе полученных признаков добавим еще:\n",
        "\n",
        "- среднее количество единиц товара в месяц (mean_quantity_month)\n",
        "- среднее количество заказов в месяц (mean_order_month)\n",
        "- средний чек в месяц (mean_price_month)\n",
        "- средний период времени между покупками (mean_buy_days)"
      ]
    },
    {
      "cell_type": "code",
      "execution_count": 517,
      "metadata": {
        "id": "VEC7kV60Is-a"
      },
      "outputs": [],
      "source": [
        "x['mean_quantity_month'] = x['quantity_sum'] / 12"
      ]
    },
    {
      "cell_type": "code",
      "execution_count": 518,
      "metadata": {
        "id": "h7LmbffGTOxq"
      },
      "outputs": [],
      "source": [
        "x['mean_order_month'] = x['date_count'] / 12"
      ]
    },
    {
      "cell_type": "code",
      "execution_count": 519,
      "metadata": {
        "id": "z9QmlO5qI6SE"
      },
      "outputs": [],
      "source": [
        "x['mean_price_month'] = x['price_sum'] / 12"
      ]
    },
    {
      "cell_type": "code",
      "execution_count": 520,
      "metadata": {
        "id": "tyZOxpEaJ_Hz",
        "colab": {
          "base_uri": "https://localhost:8080/",
          "height": 163
        },
        "outputId": "f740adb0-37a4-44e8-f891-b9a6227876a9"
      },
      "outputs": [
        {
          "data": {
            "application/vnd.google.colaboratory.intrinsic+json": {
              "summary": "{\n  \"name\": \"x\",\n  \"rows\": 47004,\n  \"fields\": [\n    {\n      \"column\": \"quantity_sum\",\n      \"properties\": {\n        \"dtype\": \"number\",\n        \"std\": 6,\n        \"min\": 1,\n        \"max\": 470,\n        \"num_unique_values\": 97,\n        \"samples\": [\n          91,\n          42,\n          210\n        ],\n        \"semantic_type\": \"\",\n        \"description\": \"\"\n      }\n    },\n    {\n      \"column\": \"quantity_mean\",\n      \"properties\": {\n        \"dtype\": \"number\",\n        \"std\": 0.15257517270273388,\n        \"min\": 1.0,\n        \"max\": 18.0,\n        \"num_unique_values\": 77,\n        \"samples\": [\n          1.1411764705882352,\n          1.027027027027027,\n          1.2\n        ],\n        \"semantic_type\": \"\",\n        \"description\": \"\"\n      }\n    },\n    {\n      \"column\": \"quantity_median\",\n      \"properties\": {\n        \"dtype\": \"number\",\n        \"std\": 0.14303848668922664,\n        \"min\": 1.0,\n        \"max\": 18.0,\n        \"num_unique_values\": 13,\n        \"samples\": [\n          15.0,\n          4.5,\n          1.0\n        ],\n        \"semantic_type\": \"\",\n        \"description\": \"\"\n      }\n    },\n    {\n      \"column\": \"quantity_min\",\n      \"properties\": {\n        \"dtype\": \"number\",\n        \"std\": 0,\n        \"min\": 1,\n        \"max\": 18,\n        \"num_unique_values\": 9,\n        \"samples\": [\n          15,\n          2,\n          4\n        ],\n        \"semantic_type\": \"\",\n        \"description\": \"\"\n      }\n    },\n    {\n      \"column\": \"quantity_max\",\n      \"properties\": {\n        \"dtype\": \"number\",\n        \"std\": 0,\n        \"min\": 1,\n        \"max\": 50,\n        \"num_unique_values\": 17,\n        \"samples\": [\n          1,\n          3,\n          27\n        ],\n        \"semantic_type\": \"\",\n        \"description\": \"\"\n      }\n    },\n    {\n      \"column\": \"price_sum\",\n      \"properties\": {\n        \"dtype\": \"number\",\n        \"std\": 148633.118881344,\n        \"min\": 0.0,\n        \"max\": 17300385.0,\n        \"num_unique_values\": 13414,\n        \"samples\": [\n          861.0,\n          271990.0,\n          54996.0\n        ],\n        \"semantic_type\": \"\",\n        \"description\": \"\"\n      }\n    },\n    {\n      \"column\": \"price_mean\",\n      \"properties\": {\n        \"dtype\": \"number\",\n        \"std\": 28012.539270605128,\n        \"min\": 0.0,\n        \"max\": 1299998.0,\n        \"num_unique_values\": 15073,\n        \"samples\": [\n          163.57142857142858,\n          24006.0,\n          1539.0\n        ],\n        \"semantic_type\": \"\",\n        \"description\": \"\"\n      }\n    },\n    {\n      \"column\": \"price_median\",\n      \"properties\": {\n        \"dtype\": \"number\",\n        \"std\": 28198.210426037207,\n        \"min\": 0.0,\n        \"max\": 1299998.0,\n        \"num_unique_values\": 7182,\n        \"samples\": [\n          26.5,\n          4012.0,\n          38.5\n        ],\n        \"semantic_type\": \"\",\n        \"description\": \"\"\n      }\n    },\n    {\n      \"column\": \"price_min\",\n      \"properties\": {\n        \"dtype\": \"number\",\n        \"std\": 26005.16486411382,\n        \"min\": 0.0,\n        \"max\": 1299998.0,\n        \"num_unique_values\": 4089,\n        \"samples\": [\n          1430.0,\n          1564.0,\n          17918.0\n        ],\n        \"semantic_type\": \"\",\n        \"description\": \"\"\n      }\n    },\n    {\n      \"column\": \"price_max\",\n      \"properties\": {\n        \"dtype\": \"number\",\n        \"std\": 35735.41545567526,\n        \"min\": 0.0,\n        \"max\": 1299998.0,\n        \"num_unique_values\": 4905,\n        \"samples\": [\n          14988.0,\n          1274.0,\n          1183.0\n        ],\n        \"semantic_type\": \"\",\n        \"description\": \"\"\n      }\n    },\n    {\n      \"column\": \"date_count\",\n      \"properties\": {\n        \"dtype\": \"number\",\n        \"std\": 6,\n        \"min\": 1,\n        \"max\": 392,\n        \"num_unique_values\": 94,\n        \"samples\": [\n          56,\n          85,\n          48\n        ],\n        \"semantic_type\": \"\",\n        \"description\": \"\"\n      }\n    },\n    {\n      \"column\": \"total_buy\",\n      \"properties\": {\n        \"dtype\": \"number\",\n        \"std\": 0,\n        \"min\": 1,\n        \"max\": 52,\n        \"num_unique_values\": 29,\n        \"samples\": [\n          52,\n          15,\n          7\n        ],\n        \"semantic_type\": \"\",\n        \"description\": \"\"\n      }\n    },\n    {\n      \"column\": \"mean_buy_days\",\n      \"properties\": {\n        \"dtype\": \"number\",\n        \"std\": 72.27879316415645,\n        \"min\": 7.019230769230769,\n        \"max\": 365.0,\n        \"num_unique_values\": 29,\n        \"samples\": [\n          7.019230769230769,\n          24.333333333333332,\n          52.142857142857146\n        ],\n        \"semantic_type\": \"\",\n        \"description\": \"\"\n      }\n    },\n    {\n      \"column\": \"mean_quantity_month\",\n      \"properties\": {\n        \"dtype\": \"number\",\n        \"std\": 0.5366790537047367,\n        \"min\": 0.08333333333333333,\n        \"max\": 39.166666666666664,\n        \"num_unique_values\": 97,\n        \"samples\": [\n          7.583333333333333,\n          3.5,\n          17.5\n        ],\n        \"semantic_type\": \"\",\n        \"description\": \"\"\n      }\n    },\n    {\n      \"column\": \"mean_order_month\",\n      \"properties\": {\n        \"dtype\": \"number\",\n        \"std\": 0.5092393418565665,\n        \"min\": 0.08333333333333333,\n        \"max\": 32.666666666666664,\n        \"num_unique_values\": 94,\n        \"samples\": [\n          4.666666666666667,\n          7.083333333333333,\n          4.0\n        ],\n        \"semantic_type\": \"\",\n        \"description\": \"\"\n      }\n    },\n    {\n      \"column\": \"mean_price_month\",\n      \"properties\": {\n        \"dtype\": \"number\",\n        \"std\": 12386.093240112,\n        \"min\": 0.0,\n        \"max\": 1441698.75,\n        \"num_unique_values\": 13414,\n        \"samples\": [\n          71.75,\n          22665.833333333332,\n          4583.0\n        ],\n        \"semantic_type\": \"\",\n        \"description\": \"\"\n      }\n    }\n  ]\n}",
              "type": "dataframe",
              "variable_name": "x"
            },
            "text/html": [
              "\n",
              "  <div id=\"df-4e70ee6d-e029-4563-a4d9-85bf3be75a58\" class=\"colab-df-container\">\n",
              "    <div>\n",
              "<style scoped>\n",
              "    .dataframe tbody tr th:only-of-type {\n",
              "        vertical-align: middle;\n",
              "    }\n",
              "\n",
              "    .dataframe tbody tr th {\n",
              "        vertical-align: top;\n",
              "    }\n",
              "\n",
              "    .dataframe thead th {\n",
              "        text-align: right;\n",
              "    }\n",
              "</style>\n",
              "<table border=\"1\" class=\"dataframe\">\n",
              "  <thead>\n",
              "    <tr style=\"text-align: right;\">\n",
              "      <th></th>\n",
              "      <th>quantity_sum</th>\n",
              "      <th>quantity_mean</th>\n",
              "      <th>quantity_median</th>\n",
              "      <th>quantity_min</th>\n",
              "      <th>quantity_max</th>\n",
              "      <th>price_sum</th>\n",
              "      <th>price_mean</th>\n",
              "      <th>price_median</th>\n",
              "      <th>price_min</th>\n",
              "      <th>price_max</th>\n",
              "      <th>date_count</th>\n",
              "      <th>total_buy</th>\n",
              "      <th>mean_buy_days</th>\n",
              "      <th>mean_quantity_month</th>\n",
              "      <th>mean_order_month</th>\n",
              "      <th>mean_price_month</th>\n",
              "    </tr>\n",
              "    <tr>\n",
              "      <th>client_id</th>\n",
              "      <th></th>\n",
              "      <th></th>\n",
              "      <th></th>\n",
              "      <th></th>\n",
              "      <th></th>\n",
              "      <th></th>\n",
              "      <th></th>\n",
              "      <th></th>\n",
              "      <th></th>\n",
              "      <th></th>\n",
              "      <th></th>\n",
              "      <th></th>\n",
              "      <th></th>\n",
              "      <th></th>\n",
              "      <th></th>\n",
              "      <th></th>\n",
              "    </tr>\n",
              "  </thead>\n",
              "  <tbody>\n",
              "    <tr>\n",
              "      <th>1515915625440099873</th>\n",
              "      <td>2</td>\n",
              "      <td>1.00</td>\n",
              "      <td>1.00</td>\n",
              "      <td>1</td>\n",
              "      <td>1</td>\n",
              "      <td>33216.00</td>\n",
              "      <td>16608.00</td>\n",
              "      <td>16608.00</td>\n",
              "      <td>1218.00</td>\n",
              "      <td>31998.00</td>\n",
              "      <td>2</td>\n",
              "      <td>2</td>\n",
              "      <td>182.50</td>\n",
              "      <td>0.17</td>\n",
              "      <td>0.17</td>\n",
              "      <td>2768.00</td>\n",
              "    </tr>\n",
              "    <tr>\n",
              "      <th>1515915625440939402</th>\n",
              "      <td>1</td>\n",
              "      <td>1.00</td>\n",
              "      <td>1.00</td>\n",
              "      <td>1</td>\n",
              "      <td>1</td>\n",
              "      <td>75998.00</td>\n",
              "      <td>75998.00</td>\n",
              "      <td>75998.00</td>\n",
              "      <td>75998.00</td>\n",
              "      <td>75998.00</td>\n",
              "      <td>1</td>\n",
              "      <td>1</td>\n",
              "      <td>365.00</td>\n",
              "      <td>0.08</td>\n",
              "      <td>0.08</td>\n",
              "      <td>6333.17</td>\n",
              "    </tr>\n",
              "  </tbody>\n",
              "</table>\n",
              "</div>\n",
              "    <div class=\"colab-df-buttons\">\n",
              "\n",
              "  <div class=\"colab-df-container\">\n",
              "    <button class=\"colab-df-convert\" onclick=\"convertToInteractive('df-4e70ee6d-e029-4563-a4d9-85bf3be75a58')\"\n",
              "            title=\"Convert this dataframe to an interactive table.\"\n",
              "            style=\"display:none;\">\n",
              "\n",
              "  <svg xmlns=\"http://www.w3.org/2000/svg\" height=\"24px\" viewBox=\"0 -960 960 960\">\n",
              "    <path d=\"M120-120v-720h720v720H120Zm60-500h600v-160H180v160Zm220 220h160v-160H400v160Zm0 220h160v-160H400v160ZM180-400h160v-160H180v160Zm440 0h160v-160H620v160ZM180-180h160v-160H180v160Zm440 0h160v-160H620v160Z\"/>\n",
              "  </svg>\n",
              "    </button>\n",
              "\n",
              "  <style>\n",
              "    .colab-df-container {\n",
              "      display:flex;\n",
              "      gap: 12px;\n",
              "    }\n",
              "\n",
              "    .colab-df-convert {\n",
              "      background-color: #E8F0FE;\n",
              "      border: none;\n",
              "      border-radius: 50%;\n",
              "      cursor: pointer;\n",
              "      display: none;\n",
              "      fill: #1967D2;\n",
              "      height: 32px;\n",
              "      padding: 0 0 0 0;\n",
              "      width: 32px;\n",
              "    }\n",
              "\n",
              "    .colab-df-convert:hover {\n",
              "      background-color: #E2EBFA;\n",
              "      box-shadow: 0px 1px 2px rgba(60, 64, 67, 0.3), 0px 1px 3px 1px rgba(60, 64, 67, 0.15);\n",
              "      fill: #174EA6;\n",
              "    }\n",
              "\n",
              "    .colab-df-buttons div {\n",
              "      margin-bottom: 4px;\n",
              "    }\n",
              "\n",
              "    [theme=dark] .colab-df-convert {\n",
              "      background-color: #3B4455;\n",
              "      fill: #D2E3FC;\n",
              "    }\n",
              "\n",
              "    [theme=dark] .colab-df-convert:hover {\n",
              "      background-color: #434B5C;\n",
              "      box-shadow: 0px 1px 3px 1px rgba(0, 0, 0, 0.15);\n",
              "      filter: drop-shadow(0px 1px 2px rgba(0, 0, 0, 0.3));\n",
              "      fill: #FFFFFF;\n",
              "    }\n",
              "  </style>\n",
              "\n",
              "    <script>\n",
              "      const buttonEl =\n",
              "        document.querySelector('#df-4e70ee6d-e029-4563-a4d9-85bf3be75a58 button.colab-df-convert');\n",
              "      buttonEl.style.display =\n",
              "        google.colab.kernel.accessAllowed ? 'block' : 'none';\n",
              "\n",
              "      async function convertToInteractive(key) {\n",
              "        const element = document.querySelector('#df-4e70ee6d-e029-4563-a4d9-85bf3be75a58');\n",
              "        const dataTable =\n",
              "          await google.colab.kernel.invokeFunction('convertToInteractive',\n",
              "                                                    [key], {});\n",
              "        if (!dataTable) return;\n",
              "\n",
              "        const docLinkHtml = 'Like what you see? Visit the ' +\n",
              "          '<a target=\"_blank\" href=https://colab.research.google.com/notebooks/data_table.ipynb>data table notebook</a>'\n",
              "          + ' to learn more about interactive tables.';\n",
              "        element.innerHTML = '';\n",
              "        dataTable['output_type'] = 'display_data';\n",
              "        await google.colab.output.renderOutput(dataTable, element);\n",
              "        const docLink = document.createElement('div');\n",
              "        docLink.innerHTML = docLinkHtml;\n",
              "        element.appendChild(docLink);\n",
              "      }\n",
              "    </script>\n",
              "  </div>\n",
              "\n",
              "\n",
              "<div id=\"df-6109f5f3-d783-46a0-8065-ca47b6a3d232\">\n",
              "  <button class=\"colab-df-quickchart\" onclick=\"quickchart('df-6109f5f3-d783-46a0-8065-ca47b6a3d232')\"\n",
              "            title=\"Suggest charts\"\n",
              "            style=\"display:none;\">\n",
              "\n",
              "<svg xmlns=\"http://www.w3.org/2000/svg\" height=\"24px\"viewBox=\"0 0 24 24\"\n",
              "     width=\"24px\">\n",
              "    <g>\n",
              "        <path d=\"M19 3H5c-1.1 0-2 .9-2 2v14c0 1.1.9 2 2 2h14c1.1 0 2-.9 2-2V5c0-1.1-.9-2-2-2zM9 17H7v-7h2v7zm4 0h-2V7h2v10zm4 0h-2v-4h2v4z\"/>\n",
              "    </g>\n",
              "</svg>\n",
              "  </button>\n",
              "\n",
              "<style>\n",
              "  .colab-df-quickchart {\n",
              "      --bg-color: #E8F0FE;\n",
              "      --fill-color: #1967D2;\n",
              "      --hover-bg-color: #E2EBFA;\n",
              "      --hover-fill-color: #174EA6;\n",
              "      --disabled-fill-color: #AAA;\n",
              "      --disabled-bg-color: #DDD;\n",
              "  }\n",
              "\n",
              "  [theme=dark] .colab-df-quickchart {\n",
              "      --bg-color: #3B4455;\n",
              "      --fill-color: #D2E3FC;\n",
              "      --hover-bg-color: #434B5C;\n",
              "      --hover-fill-color: #FFFFFF;\n",
              "      --disabled-bg-color: #3B4455;\n",
              "      --disabled-fill-color: #666;\n",
              "  }\n",
              "\n",
              "  .colab-df-quickchart {\n",
              "    background-color: var(--bg-color);\n",
              "    border: none;\n",
              "    border-radius: 50%;\n",
              "    cursor: pointer;\n",
              "    display: none;\n",
              "    fill: var(--fill-color);\n",
              "    height: 32px;\n",
              "    padding: 0;\n",
              "    width: 32px;\n",
              "  }\n",
              "\n",
              "  .colab-df-quickchart:hover {\n",
              "    background-color: var(--hover-bg-color);\n",
              "    box-shadow: 0 1px 2px rgba(60, 64, 67, 0.3), 0 1px 3px 1px rgba(60, 64, 67, 0.15);\n",
              "    fill: var(--button-hover-fill-color);\n",
              "  }\n",
              "\n",
              "  .colab-df-quickchart-complete:disabled,\n",
              "  .colab-df-quickchart-complete:disabled:hover {\n",
              "    background-color: var(--disabled-bg-color);\n",
              "    fill: var(--disabled-fill-color);\n",
              "    box-shadow: none;\n",
              "  }\n",
              "\n",
              "  .colab-df-spinner {\n",
              "    border: 2px solid var(--fill-color);\n",
              "    border-color: transparent;\n",
              "    border-bottom-color: var(--fill-color);\n",
              "    animation:\n",
              "      spin 1s steps(1) infinite;\n",
              "  }\n",
              "\n",
              "  @keyframes spin {\n",
              "    0% {\n",
              "      border-color: transparent;\n",
              "      border-bottom-color: var(--fill-color);\n",
              "      border-left-color: var(--fill-color);\n",
              "    }\n",
              "    20% {\n",
              "      border-color: transparent;\n",
              "      border-left-color: var(--fill-color);\n",
              "      border-top-color: var(--fill-color);\n",
              "    }\n",
              "    30% {\n",
              "      border-color: transparent;\n",
              "      border-left-color: var(--fill-color);\n",
              "      border-top-color: var(--fill-color);\n",
              "      border-right-color: var(--fill-color);\n",
              "    }\n",
              "    40% {\n",
              "      border-color: transparent;\n",
              "      border-right-color: var(--fill-color);\n",
              "      border-top-color: var(--fill-color);\n",
              "    }\n",
              "    60% {\n",
              "      border-color: transparent;\n",
              "      border-right-color: var(--fill-color);\n",
              "    }\n",
              "    80% {\n",
              "      border-color: transparent;\n",
              "      border-right-color: var(--fill-color);\n",
              "      border-bottom-color: var(--fill-color);\n",
              "    }\n",
              "    90% {\n",
              "      border-color: transparent;\n",
              "      border-bottom-color: var(--fill-color);\n",
              "    }\n",
              "  }\n",
              "</style>\n",
              "\n",
              "  <script>\n",
              "    async function quickchart(key) {\n",
              "      const quickchartButtonEl =\n",
              "        document.querySelector('#' + key + ' button');\n",
              "      quickchartButtonEl.disabled = true;  // To prevent multiple clicks.\n",
              "      quickchartButtonEl.classList.add('colab-df-spinner');\n",
              "      try {\n",
              "        const charts = await google.colab.kernel.invokeFunction(\n",
              "            'suggestCharts', [key], {});\n",
              "      } catch (error) {\n",
              "        console.error('Error during call to suggestCharts:', error);\n",
              "      }\n",
              "      quickchartButtonEl.classList.remove('colab-df-spinner');\n",
              "      quickchartButtonEl.classList.add('colab-df-quickchart-complete');\n",
              "    }\n",
              "    (() => {\n",
              "      let quickchartButtonEl =\n",
              "        document.querySelector('#df-6109f5f3-d783-46a0-8065-ca47b6a3d232 button');\n",
              "      quickchartButtonEl.style.display =\n",
              "        google.colab.kernel.accessAllowed ? 'block' : 'none';\n",
              "    })();\n",
              "  </script>\n",
              "</div>\n",
              "    </div>\n",
              "  </div>\n"
            ],
            "text/plain": [
              "                     quantity_sum  quantity_mean  quantity_median  \\\n",
              "client_id                                                           \n",
              "1515915625440099873             2           1.00             1.00   \n",
              "1515915625440939402             1           1.00             1.00   \n",
              "\n",
              "                     quantity_min  quantity_max  price_sum  price_mean  \\\n",
              "client_id                                                                \n",
              "1515915625440099873             1             1   33216.00    16608.00   \n",
              "1515915625440939402             1             1   75998.00    75998.00   \n",
              "\n",
              "                     price_median  price_min  price_max  date_count  \\\n",
              "client_id                                                             \n",
              "1515915625440099873      16608.00    1218.00   31998.00           2   \n",
              "1515915625440939402      75998.00   75998.00   75998.00           1   \n",
              "\n",
              "                     total_buy  mean_buy_days  mean_quantity_month  \\\n",
              "client_id                                                            \n",
              "1515915625440099873          2         182.50                 0.17   \n",
              "1515915625440939402          1         365.00                 0.08   \n",
              "\n",
              "                     mean_order_month  mean_price_month  \n",
              "client_id                                                \n",
              "1515915625440099873              0.17           2768.00  \n",
              "1515915625440939402              0.08           6333.17  "
            ]
          },
          "execution_count": 520,
          "metadata": {},
          "output_type": "execute_result"
        }
      ],
      "source": [
        "x.head(2)"
      ]
    },
    {
      "cell_type": "markdown",
      "metadata": {
        "id": "XGq3VL_UT-29"
      },
      "source": [
        "Сгенерированы признаки для обучения модели, каждое наблюдение - это характеристика клиента. Получен обучающий датасет x."
      ]
    },
    {
      "cell_type": "code",
      "execution_count": 521,
      "metadata": {
        "id": "A4kuU2sasiUu",
        "colab": {
          "base_uri": "https://localhost:8080/"
        },
        "outputId": "bc00ae87-b774-4401-f84e-0b1f9971f830"
      },
      "outputs": [
        {
          "metadata": {
            "tags": null
          },
          "name": "stdout",
          "output_type": "stream",
          "text": [
            "<class 'pandas.core.frame.DataFrame'>\n",
            "Int64Index: 47004 entries, 1515915625440099873 to 1515915626013602677\n",
            "Data columns (total 16 columns):\n",
            " #   Column               Non-Null Count  Dtype  \n",
            "---  ------               --------------  -----  \n",
            " 0   quantity_sum         47004 non-null  int64  \n",
            " 1   quantity_mean        47004 non-null  float64\n",
            " 2   quantity_median      47004 non-null  float64\n",
            " 3   quantity_min         47004 non-null  int64  \n",
            " 4   quantity_max         47004 non-null  int64  \n",
            " 5   price_sum            47004 non-null  float64\n",
            " 6   price_mean           47004 non-null  float64\n",
            " 7   price_median         47004 non-null  float64\n",
            " 8   price_min            47004 non-null  float64\n",
            " 9   price_max            47004 non-null  float64\n",
            " 10  date_count           47004 non-null  int64  \n",
            " 11  total_buy            47004 non-null  int64  \n",
            " 12  mean_buy_days        47004 non-null  float64\n",
            " 13  mean_quantity_month  47004 non-null  float64\n",
            " 14  mean_order_month     47004 non-null  float64\n",
            " 15  mean_price_month     47004 non-null  float64\n",
            "dtypes: float64(11), int64(5)\n",
            "memory usage: 6.1 MB\n"
          ]
        }
      ],
      "source": [
        "x.info()"
      ]
    },
    {
      "cell_type": "markdown",
      "metadata": {
        "id": "JdDVpcm0fUOO"
      },
      "source": [
        "#### Вывод:\n",
        "\n",
        "1.\tОбъединены 3 таблицы в 1 датасет df .\n",
        "\n",
        "2.\tСформирован датасет признаков x:  \n",
        "\n",
        "  2.1\tдля признаков quantity, price, date  \n",
        "- сумма (sum)  \n",
        "- среднее значение (mean)  \n",
        "- медианное значение (median)\n",
        "- минимум (minimum)\n",
        "- максимум (maximum)\n",
        "\n",
        "  2.2\tДополнительные признаки:\n",
        "- количество заказов (num_orders)\n",
        "- общая цена (total_price)\n",
        "- общее количество покупок за год (total_buy)\n",
        "- средний период времени между покупками (mean_buy_days)\n",
        "- среднее количество единиц товара в месяц (mean_quantity_month)\n",
        "- среднее количество заказов в месяц (mean_order_month)\n",
        "- средний чек в месяц (mean_price_month)\n",
        "- средний период времени между покупками (mean_buy_days)  "
      ]
    },
    {
      "cell_type": "code",
      "execution_count": 521,
      "metadata": {
        "id": "MNEp6mj-7CVa"
      },
      "outputs": [],
      "source": []
    },
    {
      "cell_type": "markdown",
      "metadata": {
        "id": "JXUgiNLIULsd"
      },
      "source": [
        "###Генерация таргета"
      ]
    },
    {
      "cell_type": "markdown",
      "metadata": {
        "id": "R6VuyAV2d0wP"
      },
      "source": [
        "Цель - получение целевого признака 'y'"
      ]
    },
    {
      "cell_type": "markdown",
      "metadata": {
        "id": "_mP5xiWM6XLr"
      },
      "source": [
        "В качестве таргета сформируем бинарный категориальный признак y - клиенты, которые совершили покупки в течении последнего месяца периода.\n",
        "\n",
        "\n",
        "1 - клиенты, совершили покупки   \n",
        "0 - остальные клиенты"
      ]
    },
    {
      "cell_type": "code",
      "execution_count": null,
      "metadata": {
        "id": "zFrmYq58OEyw"
      },
      "outputs": [],
      "source": [
        "df_y = df"
      ]
    },
    {
      "cell_type": "code",
      "execution_count": null,
      "metadata": {
        "colab": {
          "base_uri": "https://localhost:8080/"
        },
        "id": "8UVN_Y64RhyG",
        "outputId": "b1db6179-e73a-488a-a5b5-074ef36f920b"
      },
      "outputs": [
        {
          "data": {
            "text/plain": [
              "8502"
            ]
          },
          "execution_count": 433,
          "metadata": {},
          "output_type": "execute_result"
        }
      ],
      "source": [
        "df_y[df_y['date'] >= df_y['date'].max() - timedelta(days = 30)])"
      ]
    },
    {
      "cell_type": "code",
      "execution_count": null,
      "metadata": {
        "id": "-ZFK1GUFG2mA"
      },
      "outputs": [],
      "source": [
        "df_y['y'] = (df_y['total_price']*0).astype(int)"
      ]
    },
    {
      "cell_type": "code",
      "execution_count": null,
      "metadata": {
        "colab": {
          "base_uri": "https://localhost:8080/"
        },
        "id": "iwA5WR5nS4F0",
        "outputId": "c65b4d65-dc39-48ef-a75c-ab6de9f0e0aa"
      },
      "outputs": [
        {
          "data": {
            "text/plain": [
              "8502"
            ]
          },
          "execution_count": 440,
          "metadata": {},
          "output_type": "execute_result"
        }
      ],
      "source": [
        "len(df_y[df_y['y'] == 1])"
      ]
    },
    {
      "cell_type": "code",
      "execution_count": null,
      "metadata": {
        "colab": {
          "base_uri": "https://localhost:8080/",
          "height": 298
        },
        "id": "n2r3b03cQxKQ",
        "outputId": "c121d52d-d37f-46d3-97df-6bbc30387075"
      },
      "outputs": [
        {
          "ename": "ValueError",
          "evalue": "The truth value of a Series is ambiguous. Use a.empty, a.bool(), a.item(), a.any() or a.all().",
          "output_type": "error",
          "traceback": [
            "\u001b[0;31m---------------------------------------------------------------------------\u001b[0m",
            "\u001b[0;31mValueError\u001b[0m                                Traceback (most recent call last)",
            "\u001b[0;32m<ipython-input-435-4c2a2c022d4d>\u001b[0m in \u001b[0;36m<cell line: 1>\u001b[0;34m()\u001b[0m\n\u001b[0;32m----> 1\u001b[0;31m \u001b[0mdf_y\u001b[0m\u001b[0;34m[\u001b[0m\u001b[0;34m'y'\u001b[0m\u001b[0;34m]\u001b[0m \u001b[0;34m=\u001b[0m \u001b[0mdf_y\u001b[0m\u001b[0;34m[\u001b[0m\u001b[0;34m'y'\u001b[0m\u001b[0;34m]\u001b[0m\u001b[0;34m.\u001b[0m\u001b[0mapply\u001b[0m\u001b[0;34m(\u001b[0m\u001b[0;32mlambda\u001b[0m \u001b[0mx\u001b[0m\u001b[0;34m:\u001b[0m \u001b[0;36m1\u001b[0m \u001b[0;32mif\u001b[0m \u001b[0mdf_y\u001b[0m\u001b[0;34m[\u001b[0m\u001b[0;34m'date'\u001b[0m\u001b[0;34m]\u001b[0m \u001b[0;34m>=\u001b[0m \u001b[0mdf_y\u001b[0m\u001b[0;34m[\u001b[0m\u001b[0;34m'date'\u001b[0m\u001b[0;34m]\u001b[0m\u001b[0;34m.\u001b[0m\u001b[0mmax\u001b[0m\u001b[0;34m(\u001b[0m\u001b[0;34m)\u001b[0m \u001b[0;34m-\u001b[0m \u001b[0mtimedelta\u001b[0m\u001b[0;34m(\u001b[0m\u001b[0mdays\u001b[0m \u001b[0;34m=\u001b[0m \u001b[0;36m30\u001b[0m\u001b[0;34m)\u001b[0m \u001b[0;32melse\u001b[0m \u001b[0;36m0\u001b[0m\u001b[0;34m)\u001b[0m\u001b[0;34m\u001b[0m\u001b[0;34m\u001b[0m\u001b[0m\n\u001b[0m",
            "\u001b[0;32m/usr/local/lib/python3.10/dist-packages/pandas/core/series.py\u001b[0m in \u001b[0;36mapply\u001b[0;34m(self, func, convert_dtype, args, **kwargs)\u001b[0m\n\u001b[1;32m   4769\u001b[0m         \u001b[0mdtype\u001b[0m\u001b[0;34m:\u001b[0m \u001b[0mfloat64\u001b[0m\u001b[0;34m\u001b[0m\u001b[0;34m\u001b[0m\u001b[0m\n\u001b[1;32m   4770\u001b[0m         \"\"\"\n\u001b[0;32m-> 4771\u001b[0;31m         \u001b[0;32mreturn\u001b[0m \u001b[0mSeriesApply\u001b[0m\u001b[0;34m(\u001b[0m\u001b[0mself\u001b[0m\u001b[0;34m,\u001b[0m \u001b[0mfunc\u001b[0m\u001b[0;34m,\u001b[0m \u001b[0mconvert_dtype\u001b[0m\u001b[0;34m,\u001b[0m \u001b[0margs\u001b[0m\u001b[0;34m,\u001b[0m \u001b[0mkwargs\u001b[0m\u001b[0;34m)\u001b[0m\u001b[0;34m.\u001b[0m\u001b[0mapply\u001b[0m\u001b[0;34m(\u001b[0m\u001b[0;34m)\u001b[0m\u001b[0;34m\u001b[0m\u001b[0;34m\u001b[0m\u001b[0m\n\u001b[0m\u001b[1;32m   4772\u001b[0m \u001b[0;34m\u001b[0m\u001b[0m\n\u001b[1;32m   4773\u001b[0m     def _reduce(\n",
            "\u001b[0;32m/usr/local/lib/python3.10/dist-packages/pandas/core/apply.py\u001b[0m in \u001b[0;36mapply\u001b[0;34m(self)\u001b[0m\n\u001b[1;32m   1121\u001b[0m \u001b[0;34m\u001b[0m\u001b[0m\n\u001b[1;32m   1122\u001b[0m         \u001b[0;31m# self.f is Callable\u001b[0m\u001b[0;34m\u001b[0m\u001b[0;34m\u001b[0m\u001b[0m\n\u001b[0;32m-> 1123\u001b[0;31m         \u001b[0;32mreturn\u001b[0m \u001b[0mself\u001b[0m\u001b[0;34m.\u001b[0m\u001b[0mapply_standard\u001b[0m\u001b[0;34m(\u001b[0m\u001b[0;34m)\u001b[0m\u001b[0;34m\u001b[0m\u001b[0;34m\u001b[0m\u001b[0m\n\u001b[0m\u001b[1;32m   1124\u001b[0m \u001b[0;34m\u001b[0m\u001b[0m\n\u001b[1;32m   1125\u001b[0m     \u001b[0;32mdef\u001b[0m \u001b[0magg\u001b[0m\u001b[0;34m(\u001b[0m\u001b[0mself\u001b[0m\u001b[0;34m)\u001b[0m\u001b[0;34m:\u001b[0m\u001b[0;34m\u001b[0m\u001b[0;34m\u001b[0m\u001b[0m\n",
            "\u001b[0;32m/usr/local/lib/python3.10/dist-packages/pandas/core/apply.py\u001b[0m in \u001b[0;36mapply_standard\u001b[0;34m(self)\u001b[0m\n\u001b[1;32m   1172\u001b[0m             \u001b[0;32melse\u001b[0m\u001b[0;34m:\u001b[0m\u001b[0;34m\u001b[0m\u001b[0;34m\u001b[0m\u001b[0m\n\u001b[1;32m   1173\u001b[0m                 \u001b[0mvalues\u001b[0m \u001b[0;34m=\u001b[0m \u001b[0mobj\u001b[0m\u001b[0;34m.\u001b[0m\u001b[0mastype\u001b[0m\u001b[0;34m(\u001b[0m\u001b[0mobject\u001b[0m\u001b[0;34m)\u001b[0m\u001b[0;34m.\u001b[0m\u001b[0m_values\u001b[0m\u001b[0;34m\u001b[0m\u001b[0;34m\u001b[0m\u001b[0m\n\u001b[0;32m-> 1174\u001b[0;31m                 mapped = lib.map_infer(\n\u001b[0m\u001b[1;32m   1175\u001b[0m                     \u001b[0mvalues\u001b[0m\u001b[0;34m,\u001b[0m\u001b[0;34m\u001b[0m\u001b[0;34m\u001b[0m\u001b[0m\n\u001b[1;32m   1176\u001b[0m                     \u001b[0mf\u001b[0m\u001b[0;34m,\u001b[0m\u001b[0;34m\u001b[0m\u001b[0;34m\u001b[0m\u001b[0m\n",
            "\u001b[0;32m/usr/local/lib/python3.10/dist-packages/pandas/_libs/lib.pyx\u001b[0m in \u001b[0;36mpandas._libs.lib.map_infer\u001b[0;34m()\u001b[0m\n",
            "\u001b[0;32m<ipython-input-435-4c2a2c022d4d>\u001b[0m in \u001b[0;36m<lambda>\u001b[0;34m(x)\u001b[0m\n\u001b[0;32m----> 1\u001b[0;31m \u001b[0mdf_y\u001b[0m\u001b[0;34m[\u001b[0m\u001b[0;34m'y'\u001b[0m\u001b[0;34m]\u001b[0m \u001b[0;34m=\u001b[0m \u001b[0mdf_y\u001b[0m\u001b[0;34m[\u001b[0m\u001b[0;34m'y'\u001b[0m\u001b[0;34m]\u001b[0m\u001b[0;34m.\u001b[0m\u001b[0mapply\u001b[0m\u001b[0;34m(\u001b[0m\u001b[0;32mlambda\u001b[0m \u001b[0mx\u001b[0m\u001b[0;34m:\u001b[0m \u001b[0;36m1\u001b[0m \u001b[0;32mif\u001b[0m \u001b[0mdf_y\u001b[0m\u001b[0;34m[\u001b[0m\u001b[0;34m'date'\u001b[0m\u001b[0;34m]\u001b[0m \u001b[0;34m>=\u001b[0m \u001b[0mdf_y\u001b[0m\u001b[0;34m[\u001b[0m\u001b[0;34m'date'\u001b[0m\u001b[0;34m]\u001b[0m\u001b[0;34m.\u001b[0m\u001b[0mmax\u001b[0m\u001b[0;34m(\u001b[0m\u001b[0;34m)\u001b[0m \u001b[0;34m-\u001b[0m \u001b[0mtimedelta\u001b[0m\u001b[0;34m(\u001b[0m\u001b[0mdays\u001b[0m \u001b[0;34m=\u001b[0m \u001b[0;36m30\u001b[0m\u001b[0;34m)\u001b[0m \u001b[0;32melse\u001b[0m \u001b[0;36m0\u001b[0m\u001b[0;34m)\u001b[0m\u001b[0;34m\u001b[0m\u001b[0;34m\u001b[0m\u001b[0m\n\u001b[0m",
            "\u001b[0;32m/usr/local/lib/python3.10/dist-packages/pandas/core/generic.py\u001b[0m in \u001b[0;36m__nonzero__\u001b[0;34m(self)\u001b[0m\n\u001b[1;32m   1525\u001b[0m     \u001b[0;34m@\u001b[0m\u001b[0mfinal\u001b[0m\u001b[0;34m\u001b[0m\u001b[0;34m\u001b[0m\u001b[0m\n\u001b[1;32m   1526\u001b[0m     \u001b[0;32mdef\u001b[0m \u001b[0m__nonzero__\u001b[0m\u001b[0;34m(\u001b[0m\u001b[0mself\u001b[0m\u001b[0;34m)\u001b[0m \u001b[0;34m->\u001b[0m \u001b[0mNoReturn\u001b[0m\u001b[0;34m:\u001b[0m\u001b[0;34m\u001b[0m\u001b[0;34m\u001b[0m\u001b[0m\n\u001b[0;32m-> 1527\u001b[0;31m         raise ValueError(\n\u001b[0m\u001b[1;32m   1528\u001b[0m             \u001b[0;34mf\"The truth value of a {type(self).__name__} is ambiguous. \"\u001b[0m\u001b[0;34m\u001b[0m\u001b[0;34m\u001b[0m\u001b[0m\n\u001b[1;32m   1529\u001b[0m             \u001b[0;34m\"Use a.empty, a.bool(), a.item(), a.any() or a.all().\"\u001b[0m\u001b[0;34m\u001b[0m\u001b[0;34m\u001b[0m\u001b[0m\n",
            "\u001b[0;31mValueError\u001b[0m: The truth value of a Series is ambiguous. Use a.empty, a.bool(), a.item(), a.any() or a.all()."
          ]
        }
      ],
      "source": [
        "df_y['y'] = df_y['y'].apply(lambda x: 1 if df_y['date'] >= df_y['date'].max() - timedelta(days = 30) else 0)"
      ]
    },
    {
      "cell_type": "code",
      "execution_count": null,
      "metadata": {
        "colab": {
          "base_uri": "https://localhost:8080/",
          "height": 298
        },
        "id": "hCfR2d-zPju6",
        "outputId": "52639661-474a-4e95-8414-98fcd6ee2bc7"
      },
      "outputs": [
        {
          "ename": "ValueError",
          "evalue": "The truth value of a Series is ambiguous. Use a.empty, a.bool(), a.item(), a.any() or a.all().",
          "output_type": "error",
          "traceback": [
            "\u001b[0;31m---------------------------------------------------------------------------\u001b[0m",
            "\u001b[0;31mValueError\u001b[0m                                Traceback (most recent call last)",
            "\u001b[0;32m<ipython-input-423-4b775dcfb5e7>\u001b[0m in \u001b[0;36m<cell line: 1>\u001b[0;34m()\u001b[0m\n\u001b[0;32m----> 1\u001b[0;31m \u001b[0mdf_y\u001b[0m\u001b[0;34m[\u001b[0m\u001b[0;34m'y'\u001b[0m\u001b[0;34m]\u001b[0m\u001b[0;34m.\u001b[0m\u001b[0mapply\u001b[0m\u001b[0;34m(\u001b[0m\u001b[0mdate_30\u001b[0m\u001b[0;34m(\u001b[0m\u001b[0;34m)\u001b[0m\u001b[0;34m)\u001b[0m\u001b[0;34m\u001b[0m\u001b[0;34m\u001b[0m\u001b[0m\n\u001b[0m",
            "\u001b[0;32m<ipython-input-421-bfb18a0b9efe>\u001b[0m in \u001b[0;36mdate_30\u001b[0;34m()\u001b[0m\n\u001b[1;32m      1\u001b[0m \u001b[0;32mdef\u001b[0m \u001b[0mdate_30\u001b[0m\u001b[0;34m(\u001b[0m\u001b[0;34m)\u001b[0m\u001b[0;34m:\u001b[0m\u001b[0;34m\u001b[0m\u001b[0;34m\u001b[0m\u001b[0m\n\u001b[0;32m----> 2\u001b[0;31m   \u001b[0;32mif\u001b[0m \u001b[0mdf_y\u001b[0m\u001b[0;34m[\u001b[0m\u001b[0;34m'date'\u001b[0m\u001b[0;34m]\u001b[0m \u001b[0;34m>=\u001b[0m \u001b[0;34m(\u001b[0m\u001b[0mdf_y\u001b[0m\u001b[0;34m[\u001b[0m\u001b[0;34m'date'\u001b[0m\u001b[0;34m]\u001b[0m\u001b[0;34m.\u001b[0m\u001b[0mmax\u001b[0m\u001b[0;34m(\u001b[0m\u001b[0;34m)\u001b[0m \u001b[0;34m-\u001b[0m \u001b[0mtimedelta\u001b[0m\u001b[0;34m(\u001b[0m\u001b[0mdays\u001b[0m \u001b[0;34m=\u001b[0m \u001b[0;36m30\u001b[0m\u001b[0;34m)\u001b[0m\u001b[0;34m)\u001b[0m\u001b[0;34m:\u001b[0m\u001b[0;34m\u001b[0m\u001b[0;34m\u001b[0m\u001b[0m\n\u001b[0m\u001b[1;32m      3\u001b[0m     \u001b[0;32mreturn\u001b[0m \u001b[0mdf_y\u001b[0m\u001b[0;34m[\u001b[0m\u001b[0;34m'y'\u001b[0m\u001b[0;34m]\u001b[0m \u001b[0;34m==\u001b[0m \u001b[0;36m1\u001b[0m\u001b[0;34m\u001b[0m\u001b[0;34m\u001b[0m\u001b[0m\n",
            "\u001b[0;32m/usr/local/lib/python3.10/dist-packages/pandas/core/generic.py\u001b[0m in \u001b[0;36m__nonzero__\u001b[0;34m(self)\u001b[0m\n\u001b[1;32m   1525\u001b[0m     \u001b[0;34m@\u001b[0m\u001b[0mfinal\u001b[0m\u001b[0;34m\u001b[0m\u001b[0;34m\u001b[0m\u001b[0m\n\u001b[1;32m   1526\u001b[0m     \u001b[0;32mdef\u001b[0m \u001b[0m__nonzero__\u001b[0m\u001b[0;34m(\u001b[0m\u001b[0mself\u001b[0m\u001b[0;34m)\u001b[0m \u001b[0;34m->\u001b[0m \u001b[0mNoReturn\u001b[0m\u001b[0;34m:\u001b[0m\u001b[0;34m\u001b[0m\u001b[0;34m\u001b[0m\u001b[0m\n\u001b[0;32m-> 1527\u001b[0;31m         raise ValueError(\n\u001b[0m\u001b[1;32m   1528\u001b[0m             \u001b[0;34mf\"The truth value of a {type(self).__name__} is ambiguous. \"\u001b[0m\u001b[0;34m\u001b[0m\u001b[0;34m\u001b[0m\u001b[0m\n\u001b[1;32m   1529\u001b[0m             \u001b[0;34m\"Use a.empty, a.bool(), a.item(), a.any() or a.all().\"\u001b[0m\u001b[0;34m\u001b[0m\u001b[0;34m\u001b[0m\u001b[0m\n",
            "\u001b[0;31mValueError\u001b[0m: The truth value of a Series is ambiguous. Use a.empty, a.bool(), a.item(), a.any() or a.all()."
          ]
        }
      ],
      "source": [
        "df_y['y'].apply(date_30())"
      ]
    },
    {
      "cell_type": "code",
      "execution_count": null,
      "metadata": {
        "colab": {
          "base_uri": "https://localhost:8080/",
          "height": 110
        },
        "id": "v5c-CqKIH2TI",
        "outputId": "fe5d502b-3cec-47a9-d5a6-219896e0b126"
      },
      "outputs": [
        {
          "ename": "SyntaxError",
          "evalue": "expression cannot contain assignment, perhaps you meant \"==\"? (<ipython-input-415-6665c0b57d09>, line 1)",
          "output_type": "error",
          "traceback": [
            "\u001b[0;36m  File \u001b[0;32m\"<ipython-input-415-6665c0b57d09>\"\u001b[0;36m, line \u001b[0;32m1\u001b[0m\n\u001b[0;31m    len(df_y.loc[df_y['date'] >= (df_y['date'].max() - timedelta(days = 30)), 'y'] = 1)\u001b[0m\n\u001b[0m        ^\u001b[0m\n\u001b[0;31mSyntaxError\u001b[0m\u001b[0;31m:\u001b[0m expression cannot contain assignment, perhaps you meant \"==\"?\n"
          ]
        }
      ],
      "source": [
        "df_y.loc[df_y['date'] >= (df_y['date'].max() - timedelta(days = 30)), 'y'] = 1"
      ]
    },
    {
      "cell_type": "code",
      "execution_count": null,
      "metadata": {
        "colab": {
          "base_uri": "https://localhost:8080/"
        },
        "id": "sgv8jTHLOw1a",
        "outputId": "c589855b-fa97-415c-e5d6-6dac53638603"
      },
      "outputs": [
        {
          "data": {
            "text/plain": [
              "182097"
            ]
          },
          "execution_count": 414,
          "metadata": {},
          "output_type": "execute_result"
        }
      ],
      "source": [
        "len(df_y)"
      ]
    },
    {
      "cell_type": "code",
      "execution_count": null,
      "metadata": {
        "id": "KTiD1b1Y64fm"
      },
      "outputs": [],
      "source": [
        "df_y = df.groupby('client_id').nunique()"
      ]
    },
    {
      "cell_type": "code",
      "execution_count": null,
      "metadata": {
        "colab": {
          "base_uri": "https://localhost:8080/"
        },
        "id": "d-_SXHhRKtjh",
        "outputId": "bf64f7e9-7018-4014-bd5f-668cd0282ff0"
      },
      "outputs": [
        {
          "data": {
            "text/plain": [
              "47004"
            ]
          },
          "execution_count": 327,
          "metadata": {},
          "output_type": "execute_result"
        }
      ],
      "source": [
        "len(df_y)"
      ]
    },
    {
      "cell_type": "code",
      "execution_count": null,
      "metadata": {
        "colab": {
          "base_uri": "https://localhost:8080/",
          "height": 455
        },
        "id": "iorPBsWfNxjO",
        "outputId": "f8739ef8-940a-40e9-9be3-0cbf1564a07f"
      },
      "outputs": [
        {
          "data": {
            "application/vnd.google.colaboratory.intrinsic+json": {
              "summary": "{\n  \"name\": \"df_y[df_y['y'] == 1]\",\n  \"rows\": 46333,\n  \"fields\": [\n    {\n      \"column\": \"quantity\",\n      \"properties\": {\n        \"dtype\": \"number\",\n        \"std\": 0,\n        \"min\": 1,\n        \"max\": 8,\n        \"num_unique_values\": 5,\n        \"samples\": [\n          3,\n          8,\n          2\n        ],\n        \"semantic_type\": \"\",\n        \"description\": \"\"\n      }\n    },\n    {\n      \"column\": \"price\",\n      \"properties\": {\n        \"dtype\": \"number\",\n        \"std\": 2,\n        \"min\": 1,\n        \"max\": 75,\n        \"num_unique_values\": 43,\n        \"samples\": [\n          35,\n          36,\n          30\n        ],\n        \"semantic_type\": \"\",\n        \"description\": \"\"\n      }\n    },\n    {\n      \"column\": \"date\",\n      \"properties\": {\n        \"dtype\": \"number\",\n        \"std\": 0,\n        \"min\": 1,\n        \"max\": 25,\n        \"num_unique_values\": 19,\n        \"samples\": [\n          2,\n          5,\n          11\n        ],\n        \"semantic_type\": \"\",\n        \"description\": \"\"\n      }\n    },\n    {\n      \"column\": \"total_price\",\n      \"properties\": {\n        \"dtype\": \"number\",\n        \"std\": 2,\n        \"min\": 1,\n        \"max\": 75,\n        \"num_unique_values\": 44,\n        \"samples\": [\n          52,\n          37,\n          30\n        ],\n        \"semantic_type\": \"\",\n        \"description\": \"\"\n      }\n    },\n    {\n      \"column\": \"y\",\n      \"properties\": {\n        \"dtype\": \"number\",\n        \"std\": 0,\n        \"min\": 1,\n        \"max\": 1,\n        \"num_unique_values\": 1,\n        \"samples\": [\n          1\n        ],\n        \"semantic_type\": \"\",\n        \"description\": \"\"\n      }\n    }\n  ]\n}",
              "type": "dataframe"
            },
            "text/html": [
              "\n",
              "  <div id=\"df-89aadaba-2ff1-40b6-a916-9ed5a04d4b77\" class=\"colab-df-container\">\n",
              "    <div>\n",
              "<style scoped>\n",
              "    .dataframe tbody tr th:only-of-type {\n",
              "        vertical-align: middle;\n",
              "    }\n",
              "\n",
              "    .dataframe tbody tr th {\n",
              "        vertical-align: top;\n",
              "    }\n",
              "\n",
              "    .dataframe thead th {\n",
              "        text-align: right;\n",
              "    }\n",
              "</style>\n",
              "<table border=\"1\" class=\"dataframe\">\n",
              "  <thead>\n",
              "    <tr style=\"text-align: right;\">\n",
              "      <th></th>\n",
              "      <th>quantity</th>\n",
              "      <th>price</th>\n",
              "      <th>date</th>\n",
              "      <th>total_price</th>\n",
              "      <th>y</th>\n",
              "    </tr>\n",
              "    <tr>\n",
              "      <th>client_id</th>\n",
              "      <th></th>\n",
              "      <th></th>\n",
              "      <th></th>\n",
              "      <th></th>\n",
              "      <th></th>\n",
              "    </tr>\n",
              "  </thead>\n",
              "  <tbody>\n",
              "    <tr>\n",
              "      <th>1515915625440099873</th>\n",
              "      <td>1</td>\n",
              "      <td>2</td>\n",
              "      <td>2</td>\n",
              "      <td>2</td>\n",
              "      <td>1</td>\n",
              "    </tr>\n",
              "    <tr>\n",
              "      <th>1515915625440939402</th>\n",
              "      <td>1</td>\n",
              "      <td>1</td>\n",
              "      <td>1</td>\n",
              "      <td>1</td>\n",
              "      <td>1</td>\n",
              "    </tr>\n",
              "    <tr>\n",
              "      <th>1515915625440944408</th>\n",
              "      <td>1</td>\n",
              "      <td>3</td>\n",
              "      <td>3</td>\n",
              "      <td>3</td>\n",
              "      <td>1</td>\n",
              "    </tr>\n",
              "    <tr>\n",
              "      <th>1515915625440947454</th>\n",
              "      <td>1</td>\n",
              "      <td>4</td>\n",
              "      <td>2</td>\n",
              "      <td>4</td>\n",
              "      <td>1</td>\n",
              "    </tr>\n",
              "    <tr>\n",
              "      <th>1515915625440952940</th>\n",
              "      <td>1</td>\n",
              "      <td>1</td>\n",
              "      <td>1</td>\n",
              "      <td>1</td>\n",
              "      <td>1</td>\n",
              "    </tr>\n",
              "    <tr>\n",
              "      <th>...</th>\n",
              "      <td>...</td>\n",
              "      <td>...</td>\n",
              "      <td>...</td>\n",
              "      <td>...</td>\n",
              "      <td>...</td>\n",
              "    </tr>\n",
              "    <tr>\n",
              "      <th>1515915626005014483</th>\n",
              "      <td>1</td>\n",
              "      <td>1</td>\n",
              "      <td>1</td>\n",
              "      <td>1</td>\n",
              "      <td>1</td>\n",
              "    </tr>\n",
              "    <tr>\n",
              "      <th>1515915626010039507</th>\n",
              "      <td>1</td>\n",
              "      <td>2</td>\n",
              "      <td>1</td>\n",
              "      <td>2</td>\n",
              "      <td>1</td>\n",
              "    </tr>\n",
              "    <tr>\n",
              "      <th>1515915626011484905</th>\n",
              "      <td>1</td>\n",
              "      <td>5</td>\n",
              "      <td>1</td>\n",
              "      <td>5</td>\n",
              "      <td>1</td>\n",
              "    </tr>\n",
              "    <tr>\n",
              "      <th>1515915626012131867</th>\n",
              "      <td>1</td>\n",
              "      <td>1</td>\n",
              "      <td>1</td>\n",
              "      <td>1</td>\n",
              "      <td>1</td>\n",
              "    </tr>\n",
              "    <tr>\n",
              "      <th>1515915626013602677</th>\n",
              "      <td>1</td>\n",
              "      <td>3</td>\n",
              "      <td>1</td>\n",
              "      <td>3</td>\n",
              "      <td>1</td>\n",
              "    </tr>\n",
              "  </tbody>\n",
              "</table>\n",
              "<p>46333 rows × 5 columns</p>\n",
              "</div>\n",
              "    <div class=\"colab-df-buttons\">\n",
              "\n",
              "  <div class=\"colab-df-container\">\n",
              "    <button class=\"colab-df-convert\" onclick=\"convertToInteractive('df-89aadaba-2ff1-40b6-a916-9ed5a04d4b77')\"\n",
              "            title=\"Convert this dataframe to an interactive table.\"\n",
              "            style=\"display:none;\">\n",
              "\n",
              "  <svg xmlns=\"http://www.w3.org/2000/svg\" height=\"24px\" viewBox=\"0 -960 960 960\">\n",
              "    <path d=\"M120-120v-720h720v720H120Zm60-500h600v-160H180v160Zm220 220h160v-160H400v160Zm0 220h160v-160H400v160ZM180-400h160v-160H180v160Zm440 0h160v-160H620v160ZM180-180h160v-160H180v160Zm440 0h160v-160H620v160Z\"/>\n",
              "  </svg>\n",
              "    </button>\n",
              "\n",
              "  <style>\n",
              "    .colab-df-container {\n",
              "      display:flex;\n",
              "      gap: 12px;\n",
              "    }\n",
              "\n",
              "    .colab-df-convert {\n",
              "      background-color: #E8F0FE;\n",
              "      border: none;\n",
              "      border-radius: 50%;\n",
              "      cursor: pointer;\n",
              "      display: none;\n",
              "      fill: #1967D2;\n",
              "      height: 32px;\n",
              "      padding: 0 0 0 0;\n",
              "      width: 32px;\n",
              "    }\n",
              "\n",
              "    .colab-df-convert:hover {\n",
              "      background-color: #E2EBFA;\n",
              "      box-shadow: 0px 1px 2px rgba(60, 64, 67, 0.3), 0px 1px 3px 1px rgba(60, 64, 67, 0.15);\n",
              "      fill: #174EA6;\n",
              "    }\n",
              "\n",
              "    .colab-df-buttons div {\n",
              "      margin-bottom: 4px;\n",
              "    }\n",
              "\n",
              "    [theme=dark] .colab-df-convert {\n",
              "      background-color: #3B4455;\n",
              "      fill: #D2E3FC;\n",
              "    }\n",
              "\n",
              "    [theme=dark] .colab-df-convert:hover {\n",
              "      background-color: #434B5C;\n",
              "      box-shadow: 0px 1px 3px 1px rgba(0, 0, 0, 0.15);\n",
              "      filter: drop-shadow(0px 1px 2px rgba(0, 0, 0, 0.3));\n",
              "      fill: #FFFFFF;\n",
              "    }\n",
              "  </style>\n",
              "\n",
              "    <script>\n",
              "      const buttonEl =\n",
              "        document.querySelector('#df-89aadaba-2ff1-40b6-a916-9ed5a04d4b77 button.colab-df-convert');\n",
              "      buttonEl.style.display =\n",
              "        google.colab.kernel.accessAllowed ? 'block' : 'none';\n",
              "\n",
              "      async function convertToInteractive(key) {\n",
              "        const element = document.querySelector('#df-89aadaba-2ff1-40b6-a916-9ed5a04d4b77');\n",
              "        const dataTable =\n",
              "          await google.colab.kernel.invokeFunction('convertToInteractive',\n",
              "                                                    [key], {});\n",
              "        if (!dataTable) return;\n",
              "\n",
              "        const docLinkHtml = 'Like what you see? Visit the ' +\n",
              "          '<a target=\"_blank\" href=https://colab.research.google.com/notebooks/data_table.ipynb>data table notebook</a>'\n",
              "          + ' to learn more about interactive tables.';\n",
              "        element.innerHTML = '';\n",
              "        dataTable['output_type'] = 'display_data';\n",
              "        await google.colab.output.renderOutput(dataTable, element);\n",
              "        const docLink = document.createElement('div');\n",
              "        docLink.innerHTML = docLinkHtml;\n",
              "        element.appendChild(docLink);\n",
              "      }\n",
              "    </script>\n",
              "  </div>\n",
              "\n",
              "\n",
              "<div id=\"df-3f91be12-c4ba-428c-a10b-9ed013eaf0ad\">\n",
              "  <button class=\"colab-df-quickchart\" onclick=\"quickchart('df-3f91be12-c4ba-428c-a10b-9ed013eaf0ad')\"\n",
              "            title=\"Suggest charts\"\n",
              "            style=\"display:none;\">\n",
              "\n",
              "<svg xmlns=\"http://www.w3.org/2000/svg\" height=\"24px\"viewBox=\"0 0 24 24\"\n",
              "     width=\"24px\">\n",
              "    <g>\n",
              "        <path d=\"M19 3H5c-1.1 0-2 .9-2 2v14c0 1.1.9 2 2 2h14c1.1 0 2-.9 2-2V5c0-1.1-.9-2-2-2zM9 17H7v-7h2v7zm4 0h-2V7h2v10zm4 0h-2v-4h2v4z\"/>\n",
              "    </g>\n",
              "</svg>\n",
              "  </button>\n",
              "\n",
              "<style>\n",
              "  .colab-df-quickchart {\n",
              "      --bg-color: #E8F0FE;\n",
              "      --fill-color: #1967D2;\n",
              "      --hover-bg-color: #E2EBFA;\n",
              "      --hover-fill-color: #174EA6;\n",
              "      --disabled-fill-color: #AAA;\n",
              "      --disabled-bg-color: #DDD;\n",
              "  }\n",
              "\n",
              "  [theme=dark] .colab-df-quickchart {\n",
              "      --bg-color: #3B4455;\n",
              "      --fill-color: #D2E3FC;\n",
              "      --hover-bg-color: #434B5C;\n",
              "      --hover-fill-color: #FFFFFF;\n",
              "      --disabled-bg-color: #3B4455;\n",
              "      --disabled-fill-color: #666;\n",
              "  }\n",
              "\n",
              "  .colab-df-quickchart {\n",
              "    background-color: var(--bg-color);\n",
              "    border: none;\n",
              "    border-radius: 50%;\n",
              "    cursor: pointer;\n",
              "    display: none;\n",
              "    fill: var(--fill-color);\n",
              "    height: 32px;\n",
              "    padding: 0;\n",
              "    width: 32px;\n",
              "  }\n",
              "\n",
              "  .colab-df-quickchart:hover {\n",
              "    background-color: var(--hover-bg-color);\n",
              "    box-shadow: 0 1px 2px rgba(60, 64, 67, 0.3), 0 1px 3px 1px rgba(60, 64, 67, 0.15);\n",
              "    fill: var(--button-hover-fill-color);\n",
              "  }\n",
              "\n",
              "  .colab-df-quickchart-complete:disabled,\n",
              "  .colab-df-quickchart-complete:disabled:hover {\n",
              "    background-color: var(--disabled-bg-color);\n",
              "    fill: var(--disabled-fill-color);\n",
              "    box-shadow: none;\n",
              "  }\n",
              "\n",
              "  .colab-df-spinner {\n",
              "    border: 2px solid var(--fill-color);\n",
              "    border-color: transparent;\n",
              "    border-bottom-color: var(--fill-color);\n",
              "    animation:\n",
              "      spin 1s steps(1) infinite;\n",
              "  }\n",
              "\n",
              "  @keyframes spin {\n",
              "    0% {\n",
              "      border-color: transparent;\n",
              "      border-bottom-color: var(--fill-color);\n",
              "      border-left-color: var(--fill-color);\n",
              "    }\n",
              "    20% {\n",
              "      border-color: transparent;\n",
              "      border-left-color: var(--fill-color);\n",
              "      border-top-color: var(--fill-color);\n",
              "    }\n",
              "    30% {\n",
              "      border-color: transparent;\n",
              "      border-left-color: var(--fill-color);\n",
              "      border-top-color: var(--fill-color);\n",
              "      border-right-color: var(--fill-color);\n",
              "    }\n",
              "    40% {\n",
              "      border-color: transparent;\n",
              "      border-right-color: var(--fill-color);\n",
              "      border-top-color: var(--fill-color);\n",
              "    }\n",
              "    60% {\n",
              "      border-color: transparent;\n",
              "      border-right-color: var(--fill-color);\n",
              "    }\n",
              "    80% {\n",
              "      border-color: transparent;\n",
              "      border-right-color: var(--fill-color);\n",
              "      border-bottom-color: var(--fill-color);\n",
              "    }\n",
              "    90% {\n",
              "      border-color: transparent;\n",
              "      border-bottom-color: var(--fill-color);\n",
              "    }\n",
              "  }\n",
              "</style>\n",
              "\n",
              "  <script>\n",
              "    async function quickchart(key) {\n",
              "      const quickchartButtonEl =\n",
              "        document.querySelector('#' + key + ' button');\n",
              "      quickchartButtonEl.disabled = true;  // To prevent multiple clicks.\n",
              "      quickchartButtonEl.classList.add('colab-df-spinner');\n",
              "      try {\n",
              "        const charts = await google.colab.kernel.invokeFunction(\n",
              "            'suggestCharts', [key], {});\n",
              "      } catch (error) {\n",
              "        console.error('Error during call to suggestCharts:', error);\n",
              "      }\n",
              "      quickchartButtonEl.classList.remove('colab-df-spinner');\n",
              "      quickchartButtonEl.classList.add('colab-df-quickchart-complete');\n",
              "    }\n",
              "    (() => {\n",
              "      let quickchartButtonEl =\n",
              "        document.querySelector('#df-3f91be12-c4ba-428c-a10b-9ed013eaf0ad button');\n",
              "      quickchartButtonEl.style.display =\n",
              "        google.colab.kernel.accessAllowed ? 'block' : 'none';\n",
              "    })();\n",
              "  </script>\n",
              "</div>\n",
              "    </div>\n",
              "  </div>\n"
            ],
            "text/plain": [
              "                     quantity  price  date  total_price  y\n",
              "client_id                                                 \n",
              "1515915625440099873         1      2     2            2  1\n",
              "1515915625440939402         1      1     1            1  1\n",
              "1515915625440944408         1      3     3            3  1\n",
              "1515915625440947454         1      4     2            4  1\n",
              "1515915625440952940         1      1     1            1  1\n",
              "...                       ...    ...   ...          ... ..\n",
              "1515915626005014483         1      1     1            1  1\n",
              "1515915626010039507         1      2     1            2  1\n",
              "1515915626011484905         1      5     1            5  1\n",
              "1515915626012131867         1      1     1            1  1\n",
              "1515915626013602677         1      3     1            3  1\n",
              "\n",
              "[46333 rows x 5 columns]"
            ]
          },
          "execution_count": 330,
          "metadata": {},
          "output_type": "execute_result"
        }
      ],
      "source": [
        "df_y[df_y['y'] == 1]"
      ]
    },
    {
      "cell_type": "code",
      "source": [],
      "metadata": {
        "id": "hAUEXOhgX-Fb"
      },
      "execution_count": null,
      "outputs": []
    },
    {
      "cell_type": "code",
      "source": [],
      "metadata": {
        "id": "FRhL4dTdX-I-"
      },
      "execution_count": null,
      "outputs": []
    },
    {
      "cell_type": "code",
      "source": [],
      "metadata": {
        "id": "p_2GnouKX-MF"
      },
      "execution_count": null,
      "outputs": []
    },
    {
      "cell_type": "code",
      "source": [],
      "metadata": {
        "id": "0EQ3KJl8X-O0"
      },
      "execution_count": null,
      "outputs": []
    },
    {
      "cell_type": "code",
      "source": [],
      "metadata": {
        "id": "r-UPpShqX-SF"
      },
      "execution_count": null,
      "outputs": []
    },
    {
      "cell_type": "code",
      "source": [],
      "metadata": {
        "id": "OfMfmrx4X-U-"
      },
      "execution_count": null,
      "outputs": []
    },
    {
      "cell_type": "markdown",
      "metadata": {
        "id": "nXmyh6s_QdF7"
      },
      "source": [
        "#### Вывод:\n",
        "\n",
        "1.\tНа основании анализа rfm получен  таргет y в виде 4х категорий покупателей для обучения модели:  \n",
        "- premiere\n",
        "- best\n",
        "- potential\n",
        "- so_so\n",
        "\n",
        "  По результатам такой модели можно понять какие клиенты требую особого внимания.\n",
        "\n",
        "2.\tДополнительно получен перечень клиентов, которые вероятнее всего совершат покупку в течении 30ти дней:\n",
        "\n",
        "  2.1 таблица y_30 - Всего 36 клиентов которые совершают покупку не реже 1 раза в месяц  \n",
        "\n",
        "  2.2 таблица rfm_30 - таблица с клиентами (3056 наблюдений), которые совершили покупки в течении последнего месяца периода.\n",
        "\n",
        "Обучение основной модели будем проводить на основании признаков x по таргету у (мультикатегории).\n",
        "Далее решение будет приниматься с учетом информации таблиц y_30 и rfm_30.\n",
        "\n",
        "\n",
        "\n"
      ]
    },
    {
      "cell_type": "markdown",
      "metadata": {
        "id": "Clzzkxei1Sk1"
      },
      "source": [
        "### Разделение данных на обучающую 75% и тестовую выборку 25%"
      ]
    },
    {
      "cell_type": "markdown",
      "metadata": {
        "id": "MYT_eutbOKoO"
      },
      "source": [
        " При кросс-валидации и подборе гиперпараметров через GridSearchCV/RandomizedSearchCV на каждой итерации происходит разбиение на трейн и тест. Предобработка признаков (масштабирование, кодирование, векторизация) каждый раз должна проводиться независимо, иначе происходит утечка данных."
      ]
    },
    {
      "cell_type": "code",
      "execution_count": null,
      "metadata": {
        "id": "foRmZtWc1Sk1"
      },
      "outputs": [],
      "source": [
        "x_train, x_test, y_train, y_test = train_test_split(\n",
        "    x, y, test_size=0.25,shuffle=True, random_state=42\n",
        "    )"
      ]
    },
    {
      "cell_type": "code",
      "execution_count": null,
      "metadata": {
        "colab": {
          "base_uri": "https://localhost:8080/"
        },
        "id": "L5xH59N35sdh",
        "outputId": "a3b392eb-d4c7-4a2d-a24c-ca39cafb8764"
      },
      "outputs": [
        {
          "data": {
            "text/plain": [
              "(35253, 16)"
            ]
          },
          "execution_count": 1374,
          "metadata": {},
          "output_type": "execute_result"
        }
      ],
      "source": [
        "x_train.shape"
      ]
    },
    {
      "cell_type": "code",
      "execution_count": null,
      "metadata": {
        "colab": {
          "base_uri": "https://localhost:8080/"
        },
        "id": "r-4knO8q5x1Z",
        "outputId": "0200ff06-83b0-4c95-e78a-5791127bc4d4"
      },
      "outputs": [
        {
          "data": {
            "text/plain": [
              "(11751, 16)"
            ]
          },
          "execution_count": 1375,
          "metadata": {},
          "output_type": "execute_result"
        }
      ],
      "source": [
        "x_test.shape"
      ]
    },
    {
      "cell_type": "code",
      "execution_count": null,
      "metadata": {
        "colab": {
          "base_uri": "https://localhost:8080/"
        },
        "id": "WhKNzcN8jZYi",
        "outputId": "387e1fb9-5efb-4f51-9043-39055c43a07c"
      },
      "outputs": [
        {
          "data": {
            "text/plain": [
              "(35253,)"
            ]
          },
          "execution_count": 1376,
          "metadata": {},
          "output_type": "execute_result"
        }
      ],
      "source": [
        "y_train.shape"
      ]
    },
    {
      "cell_type": "code",
      "execution_count": null,
      "metadata": {
        "colab": {
          "base_uri": "https://localhost:8080/"
        },
        "id": "HglMygx-jZYj",
        "outputId": "81ae5b3e-e823-4506-cd70-1fa1f610e12f"
      },
      "outputs": [
        {
          "data": {
            "text/plain": [
              "(11751,)"
            ]
          },
          "execution_count": 1377,
          "metadata": {},
          "output_type": "execute_result"
        }
      ],
      "source": [
        "y_test.shape"
      ]
    },
    {
      "cell_type": "markdown",
      "metadata": {
        "id": "vpD21BuVNa7d"
      },
      "source": [
        "### Обработка категориальных признаков"
      ]
    },
    {
      "cell_type": "markdown",
      "metadata": {
        "id": "JWrrNDp6joi5"
      },
      "source": [
        "С целью исключения категориальных признаков в таргете для обучения модели преобразовать категориальные признаки в численные поможет техника LabelEncoder библиотеки sklearn. Этот класс преобразует n категорий в числа от 1 до n. Применим его к целевой переменной."
      ]
    },
    {
      "cell_type": "code",
      "execution_count": null,
      "metadata": {
        "id": "V7Pw-0wDjlK2"
      },
      "outputs": [],
      "source": [
        "labelencoder = LabelEncoder()\n",
        "y_train = labelencoder.fit_transform(y_train.values)\n",
        "y_test = labelencoder.fit_transform(y_test.values)"
      ]
    },
    {
      "cell_type": "code",
      "execution_count": null,
      "metadata": {
        "colab": {
          "base_uri": "https://localhost:8080/"
        },
        "id": "TQS2p9xGmvp2",
        "outputId": "3c892650-9b30-4761-a8a6-e762bc7c338e"
      },
      "outputs": [
        {
          "data": {
            "text/plain": [
              "array([3, 3, 0, ..., 1, 3, 1])"
            ]
          },
          "execution_count": 1379,
          "metadata": {},
          "output_type": "execute_result"
        }
      ],
      "source": [
        "y_train"
      ]
    },
    {
      "cell_type": "code",
      "execution_count": null,
      "metadata": {
        "colab": {
          "base_uri": "https://localhost:8080/"
        },
        "id": "8abrnOCLqMSA",
        "outputId": "26d6e247-7700-4fc2-e049-aaeed6d78b9c"
      },
      "outputs": [
        {
          "data": {
            "text/plain": [
              "array([0, 0, 3, ..., 0, 3, 1])"
            ]
          },
          "execution_count": 1380,
          "metadata": {},
          "output_type": "execute_result"
        }
      ],
      "source": [
        "y_test"
      ]
    },
    {
      "cell_type": "markdown",
      "metadata": {
        "id": "t-LLlBuHqiqR"
      },
      "source": [
        "Приведение непрерывных значений признаков к единому масштабу. Для выборки train применяется метод fit и transform совместно - fit_transform, а для выборки test - transform"
      ]
    },
    {
      "cell_type": "code",
      "execution_count": null,
      "metadata": {
        "colab": {
          "base_uri": "https://localhost:8080/",
          "height": 257
        },
        "id": "83Mtr_Grq2PU",
        "outputId": "3220471a-70f8-4a50-8dbc-6aa6233721cb"
      },
      "outputs": [
        {
          "data": {
            "application/vnd.google.colaboratory.intrinsic+json": {
              "summary": "{\n  \"name\": \"x_train\",\n  \"rows\": 35253,\n  \"fields\": [\n    {\n      \"column\": \"quantity_sum\",\n      \"properties\": {\n        \"dtype\": \"number\",\n        \"std\": 6,\n        \"min\": 1,\n        \"max\": 315,\n        \"num_unique_values\": 90,\n        \"samples\": [\n          136,\n          29,\n          52\n        ],\n        \"semantic_type\": \"\",\n        \"description\": \"\"\n      }\n    },\n    {\n      \"column\": \"quantity_mean\",\n      \"properties\": {\n        \"dtype\": \"number\",\n        \"std\": 0.1234536089999364,\n        \"min\": 1.0,\n        \"max\": 15.0,\n        \"num_unique_values\": 61,\n        \"samples\": [\n          1.0,\n          1.2,\n          1.0526315789473684\n        ],\n        \"semantic_type\": \"\",\n        \"description\": \"\"\n      }\n    },\n    {\n      \"column\": \"quantity_median\",\n      \"properties\": {\n        \"dtype\": \"number\",\n        \"std\": 0.11405799459992894,\n        \"min\": 1.0,\n        \"max\": 15.0,\n        \"num_unique_values\": 10,\n        \"samples\": [\n          4.0,\n          1.5,\n          6.0\n        ],\n        \"semantic_type\": \"\",\n        \"description\": \"\"\n      }\n    },\n    {\n      \"column\": \"quantity_min\",\n      \"properties\": {\n        \"dtype\": \"number\",\n        \"std\": 0,\n        \"min\": 1,\n        \"max\": 15,\n        \"num_unique_values\": 6,\n        \"samples\": [\n          1,\n          2,\n          4\n        ],\n        \"semantic_type\": \"\",\n        \"description\": \"\"\n      }\n    },\n    {\n      \"column\": \"quantity_max\",\n      \"properties\": {\n        \"dtype\": \"number\",\n        \"std\": 0,\n        \"min\": 1,\n        \"max\": 50,\n        \"num_unique_values\": 14,\n        \"samples\": [\n          8,\n          50,\n          1\n        ],\n        \"semantic_type\": \"\",\n        \"description\": \"\"\n      }\n    },\n    {\n      \"column\": \"price_sum\",\n      \"properties\": {\n        \"dtype\": \"number\",\n        \"std\": 142306.44067734177,\n        \"min\": 0.0,\n        \"max\": 17300385.0,\n        \"num_unique_values\": 11061,\n        \"samples\": [\n          8252.0,\n          53009.0,\n          75992.0\n        ],\n        \"semantic_type\": \"\",\n        \"description\": \"\"\n      }\n    },\n    {\n      \"column\": \"price_mean\",\n      \"properties\": {\n        \"dtype\": \"number\",\n        \"std\": 27435.86594563656,\n        \"min\": 0.0,\n        \"max\": 391998.0,\n        \"num_unique_values\": 12107,\n        \"samples\": [\n          2999.285714285714,\n          1750.5,\n          1664.0\n        ],\n        \"semantic_type\": \"\",\n        \"description\": \"\"\n      }\n    },\n    {\n      \"column\": \"price_median\",\n      \"properties\": {\n        \"dtype\": \"number\",\n        \"std\": 27629.98847502353,\n        \"min\": 0.0,\n        \"max\": 391998.0,\n        \"num_unique_values\": 6095,\n        \"samples\": [\n          187.0,\n          20798.0,\n          64438.0\n        ],\n        \"semantic_type\": \"\",\n        \"description\": \"\"\n      }\n    },\n    {\n      \"column\": \"price_min\",\n      \"properties\": {\n        \"dtype\": \"number\",\n        \"std\": 25427.673612402632,\n        \"min\": 0.0,\n        \"max\": 391998.0,\n        \"num_unique_values\": 3538,\n        \"samples\": [\n          1428.0,\n          34818.0,\n          1095.0\n        ],\n        \"semantic_type\": \"\",\n        \"description\": \"\"\n      }\n    },\n    {\n      \"column\": \"price_max\",\n      \"properties\": {\n        \"dtype\": \"number\",\n        \"std\": 35184.925266237005,\n        \"min\": 0.0,\n        \"max\": 539998.0,\n        \"num_unique_values\": 4177,\n        \"samples\": [\n          327.0,\n          58919.0,\n          1.0\n        ],\n        \"semantic_type\": \"\",\n        \"description\": \"\"\n      }\n    },\n    {\n      \"column\": \"date_count\",\n      \"properties\": {\n        \"dtype\": \"number\",\n        \"std\": 6,\n        \"min\": 1,\n        \"max\": 280,\n        \"num_unique_values\": 88,\n        \"samples\": [\n          79,\n          1,\n          27\n        ],\n        \"semantic_type\": \"\",\n        \"description\": \"\"\n      }\n    },\n    {\n      \"column\": \"total_buy\",\n      \"properties\": {\n        \"dtype\": \"number\",\n        \"std\": 0,\n        \"min\": 1,\n        \"max\": 52,\n        \"num_unique_values\": 28,\n        \"samples\": [\n          11,\n          24,\n          6\n        ],\n        \"semantic_type\": \"\",\n        \"description\": \"\"\n      }\n    },\n    {\n      \"column\": \"mean_buy_days\",\n      \"properties\": {\n        \"dtype\": \"number\",\n        \"std\": 72.20168385785615,\n        \"min\": 7.019230769230769,\n        \"max\": 365.0,\n        \"num_unique_values\": 28,\n        \"samples\": [\n          33.18181818181818,\n          15.208333333333334,\n          60.833333333333336\n        ],\n        \"semantic_type\": \"\",\n        \"description\": \"\"\n      }\n    },\n    {\n      \"column\": \"mean_quantity_month\",\n      \"properties\": {\n        \"dtype\": \"number\",\n        \"std\": 0.5307818438661477,\n        \"min\": 0.08333333333333333,\n        \"max\": 26.25,\n        \"num_unique_values\": 90,\n        \"samples\": [\n          11.333333333333334,\n          2.4166666666666665,\n          4.333333333333333\n        ],\n        \"semantic_type\": \"\",\n        \"description\": \"\"\n      }\n    },\n    {\n      \"column\": \"mean_order_month\",\n      \"properties\": {\n        \"dtype\": \"number\",\n        \"std\": 0.5087405799432827,\n        \"min\": 0.08333333333333333,\n        \"max\": 23.333333333333332,\n        \"num_unique_values\": 88,\n        \"samples\": [\n          6.583333333333333,\n          0.08333333333333333,\n          2.25\n        ],\n        \"semantic_type\": \"\",\n        \"description\": \"\"\n      }\n    },\n    {\n      \"column\": \"mean_price_month\",\n      \"properties\": {\n        \"dtype\": \"number\",\n        \"std\": 11858.870056445146,\n        \"min\": 0.0,\n        \"max\": 1441698.75,\n        \"num_unique_values\": 11061,\n        \"samples\": [\n          687.6666666666666,\n          4417.416666666667,\n          6332.666666666667\n        ],\n        \"semantic_type\": \"\",\n        \"description\": \"\"\n      }\n    }\n  ]\n}",
              "type": "dataframe",
              "variable_name": "x_train"
            },
            "text/html": [
              "\n",
              "  <div id=\"df-bbcd3f64-48e7-4037-a11f-9ee39b4b76fd\" class=\"colab-df-container\">\n",
              "    <div>\n",
              "<style scoped>\n",
              "    .dataframe tbody tr th:only-of-type {\n",
              "        vertical-align: middle;\n",
              "    }\n",
              "\n",
              "    .dataframe tbody tr th {\n",
              "        vertical-align: top;\n",
              "    }\n",
              "\n",
              "    .dataframe thead th {\n",
              "        text-align: right;\n",
              "    }\n",
              "</style>\n",
              "<table border=\"1\" class=\"dataframe\">\n",
              "  <thead>\n",
              "    <tr style=\"text-align: right;\">\n",
              "      <th></th>\n",
              "      <th>quantity_sum</th>\n",
              "      <th>quantity_mean</th>\n",
              "      <th>quantity_median</th>\n",
              "      <th>quantity_min</th>\n",
              "      <th>quantity_max</th>\n",
              "      <th>price_sum</th>\n",
              "      <th>price_mean</th>\n",
              "      <th>price_median</th>\n",
              "      <th>price_min</th>\n",
              "      <th>price_max</th>\n",
              "      <th>date_count</th>\n",
              "      <th>total_buy</th>\n",
              "      <th>mean_buy_days</th>\n",
              "      <th>mean_quantity_month</th>\n",
              "      <th>mean_order_month</th>\n",
              "      <th>mean_price_month</th>\n",
              "    </tr>\n",
              "    <tr>\n",
              "      <th>client_id</th>\n",
              "      <th></th>\n",
              "      <th></th>\n",
              "      <th></th>\n",
              "      <th></th>\n",
              "      <th></th>\n",
              "      <th></th>\n",
              "      <th></th>\n",
              "      <th></th>\n",
              "      <th></th>\n",
              "      <th></th>\n",
              "      <th></th>\n",
              "      <th></th>\n",
              "      <th></th>\n",
              "      <th></th>\n",
              "      <th></th>\n",
              "      <th></th>\n",
              "    </tr>\n",
              "  </thead>\n",
              "  <tbody>\n",
              "    <tr>\n",
              "      <th>1515915625566821487</th>\n",
              "      <td>1</td>\n",
              "      <td>1.00</td>\n",
              "      <td>1.00</td>\n",
              "      <td>1</td>\n",
              "      <td>1</td>\n",
              "      <td>3999.00</td>\n",
              "      <td>3999.00</td>\n",
              "      <td>3999.00</td>\n",
              "      <td>3999.00</td>\n",
              "      <td>3999.00</td>\n",
              "      <td>1</td>\n",
              "      <td>1</td>\n",
              "      <td>365.00</td>\n",
              "      <td>0.08</td>\n",
              "      <td>0.08</td>\n",
              "      <td>333.25</td>\n",
              "    </tr>\n",
              "    <tr>\n",
              "      <th>1515915625577221089</th>\n",
              "      <td>1</td>\n",
              "      <td>1.00</td>\n",
              "      <td>1.00</td>\n",
              "      <td>1</td>\n",
              "      <td>1</td>\n",
              "      <td>5999.00</td>\n",
              "      <td>5999.00</td>\n",
              "      <td>5999.00</td>\n",
              "      <td>5999.00</td>\n",
              "      <td>5999.00</td>\n",
              "      <td>1</td>\n",
              "      <td>1</td>\n",
              "      <td>365.00</td>\n",
              "      <td>0.08</td>\n",
              "      <td>0.08</td>\n",
              "      <td>499.92</td>\n",
              "    </tr>\n",
              "    <tr>\n",
              "      <th>1515915625559122412</th>\n",
              "      <td>3</td>\n",
              "      <td>1.00</td>\n",
              "      <td>1.00</td>\n",
              "      <td>1</td>\n",
              "      <td>1</td>\n",
              "      <td>347994.00</td>\n",
              "      <td>115998.00</td>\n",
              "      <td>115998.00</td>\n",
              "      <td>115998.00</td>\n",
              "      <td>115998.00</td>\n",
              "      <td>3</td>\n",
              "      <td>1</td>\n",
              "      <td>365.00</td>\n",
              "      <td>0.25</td>\n",
              "      <td>0.25</td>\n",
              "      <td>28999.50</td>\n",
              "    </tr>\n",
              "    <tr>\n",
              "      <th>1515915625485721611</th>\n",
              "      <td>14</td>\n",
              "      <td>1.00</td>\n",
              "      <td>1.00</td>\n",
              "      <td>1</td>\n",
              "      <td>1</td>\n",
              "      <td>24810.00</td>\n",
              "      <td>1772.14</td>\n",
              "      <td>1949.00</td>\n",
              "      <td>599.00</td>\n",
              "      <td>2499.00</td>\n",
              "      <td>14</td>\n",
              "      <td>1</td>\n",
              "      <td>365.00</td>\n",
              "      <td>1.17</td>\n",
              "      <td>1.17</td>\n",
              "      <td>2067.50</td>\n",
              "    </tr>\n",
              "    <tr>\n",
              "      <th>1515915625947193107</th>\n",
              "      <td>3</td>\n",
              "      <td>1.00</td>\n",
              "      <td>1.00</td>\n",
              "      <td>1</td>\n",
              "      <td>1</td>\n",
              "      <td>1197.00</td>\n",
              "      <td>399.00</td>\n",
              "      <td>399.00</td>\n",
              "      <td>199.00</td>\n",
              "      <td>599.00</td>\n",
              "      <td>3</td>\n",
              "      <td>1</td>\n",
              "      <td>365.00</td>\n",
              "      <td>0.25</td>\n",
              "      <td>0.25</td>\n",
              "      <td>99.75</td>\n",
              "    </tr>\n",
              "  </tbody>\n",
              "</table>\n",
              "</div>\n",
              "    <div class=\"colab-df-buttons\">\n",
              "\n",
              "  <div class=\"colab-df-container\">\n",
              "    <button class=\"colab-df-convert\" onclick=\"convertToInteractive('df-bbcd3f64-48e7-4037-a11f-9ee39b4b76fd')\"\n",
              "            title=\"Convert this dataframe to an interactive table.\"\n",
              "            style=\"display:none;\">\n",
              "\n",
              "  <svg xmlns=\"http://www.w3.org/2000/svg\" height=\"24px\" viewBox=\"0 -960 960 960\">\n",
              "    <path d=\"M120-120v-720h720v720H120Zm60-500h600v-160H180v160Zm220 220h160v-160H400v160Zm0 220h160v-160H400v160ZM180-400h160v-160H180v160Zm440 0h160v-160H620v160ZM180-180h160v-160H180v160Zm440 0h160v-160H620v160Z\"/>\n",
              "  </svg>\n",
              "    </button>\n",
              "\n",
              "  <style>\n",
              "    .colab-df-container {\n",
              "      display:flex;\n",
              "      gap: 12px;\n",
              "    }\n",
              "\n",
              "    .colab-df-convert {\n",
              "      background-color: #E8F0FE;\n",
              "      border: none;\n",
              "      border-radius: 50%;\n",
              "      cursor: pointer;\n",
              "      display: none;\n",
              "      fill: #1967D2;\n",
              "      height: 32px;\n",
              "      padding: 0 0 0 0;\n",
              "      width: 32px;\n",
              "    }\n",
              "\n",
              "    .colab-df-convert:hover {\n",
              "      background-color: #E2EBFA;\n",
              "      box-shadow: 0px 1px 2px rgba(60, 64, 67, 0.3), 0px 1px 3px 1px rgba(60, 64, 67, 0.15);\n",
              "      fill: #174EA6;\n",
              "    }\n",
              "\n",
              "    .colab-df-buttons div {\n",
              "      margin-bottom: 4px;\n",
              "    }\n",
              "\n",
              "    [theme=dark] .colab-df-convert {\n",
              "      background-color: #3B4455;\n",
              "      fill: #D2E3FC;\n",
              "    }\n",
              "\n",
              "    [theme=dark] .colab-df-convert:hover {\n",
              "      background-color: #434B5C;\n",
              "      box-shadow: 0px 1px 3px 1px rgba(0, 0, 0, 0.15);\n",
              "      filter: drop-shadow(0px 1px 2px rgba(0, 0, 0, 0.3));\n",
              "      fill: #FFFFFF;\n",
              "    }\n",
              "  </style>\n",
              "\n",
              "    <script>\n",
              "      const buttonEl =\n",
              "        document.querySelector('#df-bbcd3f64-48e7-4037-a11f-9ee39b4b76fd button.colab-df-convert');\n",
              "      buttonEl.style.display =\n",
              "        google.colab.kernel.accessAllowed ? 'block' : 'none';\n",
              "\n",
              "      async function convertToInteractive(key) {\n",
              "        const element = document.querySelector('#df-bbcd3f64-48e7-4037-a11f-9ee39b4b76fd');\n",
              "        const dataTable =\n",
              "          await google.colab.kernel.invokeFunction('convertToInteractive',\n",
              "                                                    [key], {});\n",
              "        if (!dataTable) return;\n",
              "\n",
              "        const docLinkHtml = 'Like what you see? Visit the ' +\n",
              "          '<a target=\"_blank\" href=https://colab.research.google.com/notebooks/data_table.ipynb>data table notebook</a>'\n",
              "          + ' to learn more about interactive tables.';\n",
              "        element.innerHTML = '';\n",
              "        dataTable['output_type'] = 'display_data';\n",
              "        await google.colab.output.renderOutput(dataTable, element);\n",
              "        const docLink = document.createElement('div');\n",
              "        docLink.innerHTML = docLinkHtml;\n",
              "        element.appendChild(docLink);\n",
              "      }\n",
              "    </script>\n",
              "  </div>\n",
              "\n",
              "\n",
              "<div id=\"df-102fa6d1-0818-40fe-90fc-673d39153e0d\">\n",
              "  <button class=\"colab-df-quickchart\" onclick=\"quickchart('df-102fa6d1-0818-40fe-90fc-673d39153e0d')\"\n",
              "            title=\"Suggest charts\"\n",
              "            style=\"display:none;\">\n",
              "\n",
              "<svg xmlns=\"http://www.w3.org/2000/svg\" height=\"24px\"viewBox=\"0 0 24 24\"\n",
              "     width=\"24px\">\n",
              "    <g>\n",
              "        <path d=\"M19 3H5c-1.1 0-2 .9-2 2v14c0 1.1.9 2 2 2h14c1.1 0 2-.9 2-2V5c0-1.1-.9-2-2-2zM9 17H7v-7h2v7zm4 0h-2V7h2v10zm4 0h-2v-4h2v4z\"/>\n",
              "    </g>\n",
              "</svg>\n",
              "  </button>\n",
              "\n",
              "<style>\n",
              "  .colab-df-quickchart {\n",
              "      --bg-color: #E8F0FE;\n",
              "      --fill-color: #1967D2;\n",
              "      --hover-bg-color: #E2EBFA;\n",
              "      --hover-fill-color: #174EA6;\n",
              "      --disabled-fill-color: #AAA;\n",
              "      --disabled-bg-color: #DDD;\n",
              "  }\n",
              "\n",
              "  [theme=dark] .colab-df-quickchart {\n",
              "      --bg-color: #3B4455;\n",
              "      --fill-color: #D2E3FC;\n",
              "      --hover-bg-color: #434B5C;\n",
              "      --hover-fill-color: #FFFFFF;\n",
              "      --disabled-bg-color: #3B4455;\n",
              "      --disabled-fill-color: #666;\n",
              "  }\n",
              "\n",
              "  .colab-df-quickchart {\n",
              "    background-color: var(--bg-color);\n",
              "    border: none;\n",
              "    border-radius: 50%;\n",
              "    cursor: pointer;\n",
              "    display: none;\n",
              "    fill: var(--fill-color);\n",
              "    height: 32px;\n",
              "    padding: 0;\n",
              "    width: 32px;\n",
              "  }\n",
              "\n",
              "  .colab-df-quickchart:hover {\n",
              "    background-color: var(--hover-bg-color);\n",
              "    box-shadow: 0 1px 2px rgba(60, 64, 67, 0.3), 0 1px 3px 1px rgba(60, 64, 67, 0.15);\n",
              "    fill: var(--button-hover-fill-color);\n",
              "  }\n",
              "\n",
              "  .colab-df-quickchart-complete:disabled,\n",
              "  .colab-df-quickchart-complete:disabled:hover {\n",
              "    background-color: var(--disabled-bg-color);\n",
              "    fill: var(--disabled-fill-color);\n",
              "    box-shadow: none;\n",
              "  }\n",
              "\n",
              "  .colab-df-spinner {\n",
              "    border: 2px solid var(--fill-color);\n",
              "    border-color: transparent;\n",
              "    border-bottom-color: var(--fill-color);\n",
              "    animation:\n",
              "      spin 1s steps(1) infinite;\n",
              "  }\n",
              "\n",
              "  @keyframes spin {\n",
              "    0% {\n",
              "      border-color: transparent;\n",
              "      border-bottom-color: var(--fill-color);\n",
              "      border-left-color: var(--fill-color);\n",
              "    }\n",
              "    20% {\n",
              "      border-color: transparent;\n",
              "      border-left-color: var(--fill-color);\n",
              "      border-top-color: var(--fill-color);\n",
              "    }\n",
              "    30% {\n",
              "      border-color: transparent;\n",
              "      border-left-color: var(--fill-color);\n",
              "      border-top-color: var(--fill-color);\n",
              "      border-right-color: var(--fill-color);\n",
              "    }\n",
              "    40% {\n",
              "      border-color: transparent;\n",
              "      border-right-color: var(--fill-color);\n",
              "      border-top-color: var(--fill-color);\n",
              "    }\n",
              "    60% {\n",
              "      border-color: transparent;\n",
              "      border-right-color: var(--fill-color);\n",
              "    }\n",
              "    80% {\n",
              "      border-color: transparent;\n",
              "      border-right-color: var(--fill-color);\n",
              "      border-bottom-color: var(--fill-color);\n",
              "    }\n",
              "    90% {\n",
              "      border-color: transparent;\n",
              "      border-bottom-color: var(--fill-color);\n",
              "    }\n",
              "  }\n",
              "</style>\n",
              "\n",
              "  <script>\n",
              "    async function quickchart(key) {\n",
              "      const quickchartButtonEl =\n",
              "        document.querySelector('#' + key + ' button');\n",
              "      quickchartButtonEl.disabled = true;  // To prevent multiple clicks.\n",
              "      quickchartButtonEl.classList.add('colab-df-spinner');\n",
              "      try {\n",
              "        const charts = await google.colab.kernel.invokeFunction(\n",
              "            'suggestCharts', [key], {});\n",
              "      } catch (error) {\n",
              "        console.error('Error during call to suggestCharts:', error);\n",
              "      }\n",
              "      quickchartButtonEl.classList.remove('colab-df-spinner');\n",
              "      quickchartButtonEl.classList.add('colab-df-quickchart-complete');\n",
              "    }\n",
              "    (() => {\n",
              "      let quickchartButtonEl =\n",
              "        document.querySelector('#df-102fa6d1-0818-40fe-90fc-673d39153e0d button');\n",
              "      quickchartButtonEl.style.display =\n",
              "        google.colab.kernel.accessAllowed ? 'block' : 'none';\n",
              "    })();\n",
              "  </script>\n",
              "</div>\n",
              "    </div>\n",
              "  </div>\n"
            ],
            "text/plain": [
              "                     quantity_sum  quantity_mean  quantity_median  \\\n",
              "client_id                                                           \n",
              "1515915625566821487             1           1.00             1.00   \n",
              "1515915625577221089             1           1.00             1.00   \n",
              "1515915625559122412             3           1.00             1.00   \n",
              "1515915625485721611            14           1.00             1.00   \n",
              "1515915625947193107             3           1.00             1.00   \n",
              "\n",
              "                     quantity_min  quantity_max  price_sum  price_mean  \\\n",
              "client_id                                                                \n",
              "1515915625566821487             1             1    3999.00     3999.00   \n",
              "1515915625577221089             1             1    5999.00     5999.00   \n",
              "1515915625559122412             1             1  347994.00   115998.00   \n",
              "1515915625485721611             1             1   24810.00     1772.14   \n",
              "1515915625947193107             1             1    1197.00      399.00   \n",
              "\n",
              "                     price_median  price_min  price_max  date_count  \\\n",
              "client_id                                                             \n",
              "1515915625566821487       3999.00    3999.00    3999.00           1   \n",
              "1515915625577221089       5999.00    5999.00    5999.00           1   \n",
              "1515915625559122412     115998.00  115998.00  115998.00           3   \n",
              "1515915625485721611       1949.00     599.00    2499.00          14   \n",
              "1515915625947193107        399.00     199.00     599.00           3   \n",
              "\n",
              "                     total_buy  mean_buy_days  mean_quantity_month  \\\n",
              "client_id                                                            \n",
              "1515915625566821487          1         365.00                 0.08   \n",
              "1515915625577221089          1         365.00                 0.08   \n",
              "1515915625559122412          1         365.00                 0.25   \n",
              "1515915625485721611          1         365.00                 1.17   \n",
              "1515915625947193107          1         365.00                 0.25   \n",
              "\n",
              "                     mean_order_month  mean_price_month  \n",
              "client_id                                                \n",
              "1515915625566821487              0.08            333.25  \n",
              "1515915625577221089              0.08            499.92  \n",
              "1515915625559122412              0.25          28999.50  \n",
              "1515915625485721611              1.17           2067.50  \n",
              "1515915625947193107              0.25             99.75  "
            ]
          },
          "execution_count": 1381,
          "metadata": {},
          "output_type": "execute_result"
        }
      ],
      "source": [
        "x_train.head()"
      ]
    },
    {
      "cell_type": "code",
      "execution_count": null,
      "metadata": {
        "colab": {
          "base_uri": "https://localhost:8080/",
          "height": 257
        },
        "id": "L9fnonO-q4x4",
        "outputId": "2543c853-5d5f-4a6a-be0b-f010775193f0"
      },
      "outputs": [
        {
          "data": {
            "application/vnd.google.colaboratory.intrinsic+json": {
              "summary": "{\n  \"name\": \"x_test\",\n  \"rows\": 11751,\n  \"fields\": [\n    {\n      \"column\": \"quantity_sum\",\n      \"properties\": {\n        \"dtype\": \"number\",\n        \"std\": 6,\n        \"min\": 1,\n        \"max\": 470,\n        \"num_unique_values\": 60,\n        \"samples\": [\n          6,\n          36,\n          58\n        ],\n        \"semantic_type\": \"\",\n        \"description\": \"\"\n      }\n    },\n    {\n      \"column\": \"quantity_mean\",\n      \"properties\": {\n        \"dtype\": \"number\",\n        \"std\": 0.21768607386772815,\n        \"min\": 1.0,\n        \"max\": 18.0,\n        \"num_unique_values\": 38,\n        \"samples\": [\n          1.2142857142857142,\n          4.666666666666667,\n          2.0\n        ],\n        \"semantic_type\": \"\",\n        \"description\": \"\"\n      }\n    },\n    {\n      \"column\": \"quantity_median\",\n      \"properties\": {\n        \"dtype\": \"number\",\n        \"std\": 0.20690341914618257,\n        \"min\": 1.0,\n        \"max\": 18.0,\n        \"num_unique_values\": 10,\n        \"samples\": [\n          18.0,\n          2.0,\n          10.0\n        ],\n        \"semantic_type\": \"\",\n        \"description\": \"\"\n      }\n    },\n    {\n      \"column\": \"quantity_min\",\n      \"properties\": {\n        \"dtype\": \"number\",\n        \"std\": 0,\n        \"min\": 1,\n        \"max\": 18,\n        \"num_unique_values\": 7,\n        \"samples\": [\n          1,\n          2,\n          18\n        ],\n        \"semantic_type\": \"\",\n        \"description\": \"\"\n      }\n    },\n    {\n      \"column\": \"quantity_max\",\n      \"properties\": {\n        \"dtype\": \"number\",\n        \"std\": 0,\n        \"min\": 1,\n        \"max\": 30,\n        \"num_unique_values\": 14,\n        \"samples\": [\n          7,\n          20,\n          1\n        ],\n        \"semantic_type\": \"\",\n        \"description\": \"\"\n      }\n    },\n    {\n      \"column\": \"price_sum\",\n      \"properties\": {\n        \"dtype\": \"number\",\n        \"std\": 166180.42118395978,\n        \"min\": 2.0,\n        \"max\": 15599976.0,\n        \"num_unique_values\": 5104,\n        \"samples\": [\n          13079.0,\n          2699.0,\n          7556.0\n        ],\n        \"semantic_type\": \"\",\n        \"description\": \"\"\n      }\n    },\n    {\n      \"column\": \"price_mean\",\n      \"properties\": {\n        \"dtype\": \"number\",\n        \"std\": 29676.427217467157,\n        \"min\": 1.0,\n        \"max\": 1299998.0,\n        \"num_unique_values\": 5226,\n        \"samples\": [\n          372.6666666666667,\n          234.33333333333334,\n          2999.0\n        ],\n        \"semantic_type\": \"\",\n        \"description\": \"\"\n      }\n    },\n    {\n      \"column\": \"price_median\",\n      \"properties\": {\n        \"dtype\": \"number\",\n        \"std\": 29839.036701488483,\n        \"min\": 1.0,\n        \"max\": 1299998.0,\n        \"num_unique_values\": 3235,\n        \"samples\": [\n          1553.0,\n          24860.0,\n          2218.0\n        ],\n        \"semantic_type\": \"\",\n        \"description\": \"\"\n      }\n    },\n    {\n      \"column\": \"price_min\",\n      \"properties\": {\n        \"dtype\": \"number\",\n        \"std\": 27666.285943390256,\n        \"min\": 1.0,\n        \"max\": 1299998.0,\n        \"num_unique_values\": 2009,\n        \"samples\": [\n          3818.0,\n          368.0,\n          14.0\n        ],\n        \"semantic_type\": \"\",\n        \"description\": \"\"\n      }\n    },\n    {\n      \"column\": \"price_max\",\n      \"properties\": {\n        \"dtype\": \"number\",\n        \"std\": 37339.702665514,\n        \"min\": 1.0,\n        \"max\": 1299998.0,\n        \"num_unique_values\": 2262,\n        \"samples\": [\n          13980.0,\n          10191.0,\n          2947.0\n        ],\n        \"semantic_type\": \"\",\n        \"description\": \"\"\n      }\n    },\n    {\n      \"column\": \"date_count\",\n      \"properties\": {\n        \"dtype\": \"number\",\n        \"std\": 6,\n        \"min\": 1,\n        \"max\": 392,\n        \"num_unique_values\": 60,\n        \"samples\": [\n          6,\n          36,\n          58\n        ],\n        \"semantic_type\": \"\",\n        \"description\": \"\"\n      }\n    },\n    {\n      \"column\": \"total_buy\",\n      \"properties\": {\n        \"dtype\": \"number\",\n        \"std\": 0,\n        \"min\": 1,\n        \"max\": 37,\n        \"num_unique_values\": 18,\n        \"samples\": [\n          1,\n          2,\n          13\n        ],\n        \"semantic_type\": \"\",\n        \"description\": \"\"\n      }\n    },\n    {\n      \"column\": \"mean_buy_days\",\n      \"properties\": {\n        \"dtype\": \"number\",\n        \"std\": 72.51206420966108,\n        \"min\": 9.864864864864865,\n        \"max\": 365.0,\n        \"num_unique_values\": 18,\n        \"samples\": [\n          365.0,\n          182.5,\n          28.076923076923077\n        ],\n        \"semantic_type\": \"\",\n        \"description\": \"\"\n      }\n    },\n    {\n      \"column\": \"mean_quantity_month\",\n      \"properties\": {\n        \"dtype\": \"number\",\n        \"std\": 0.5540099313636464,\n        \"min\": 0.08333333333333333,\n        \"max\": 39.166666666666664,\n        \"num_unique_values\": 60,\n        \"samples\": [\n          0.5,\n          3.0,\n          4.833333333333333\n        ],\n        \"semantic_type\": \"\",\n        \"description\": \"\"\n      }\n    },\n    {\n      \"column\": \"mean_order_month\",\n      \"properties\": {\n        \"dtype\": \"number\",\n        \"std\": 0.5107502019384852,\n        \"min\": 0.08333333333333333,\n        \"max\": 32.666666666666664,\n        \"num_unique_values\": 60,\n        \"samples\": [\n          0.5,\n          3.0,\n          4.833333333333333\n        ],\n        \"semantic_type\": \"\",\n        \"description\": \"\"\n      }\n    },\n    {\n      \"column\": \"mean_price_month\",\n      \"properties\": {\n        \"dtype\": \"number\",\n        \"std\": 13848.368431996645,\n        \"min\": 0.16666666666666666,\n        \"max\": 1299998.0,\n        \"num_unique_values\": 5104,\n        \"samples\": [\n          1089.9166666666667,\n          224.91666666666666,\n          629.6666666666666\n        ],\n        \"semantic_type\": \"\",\n        \"description\": \"\"\n      }\n    }\n  ]\n}",
              "type": "dataframe",
              "variable_name": "x_test"
            },
            "text/html": [
              "\n",
              "  <div id=\"df-feb9ad31-05b6-47d1-a8e1-cbd3a3d5ccf7\" class=\"colab-df-container\">\n",
              "    <div>\n",
              "<style scoped>\n",
              "    .dataframe tbody tr th:only-of-type {\n",
              "        vertical-align: middle;\n",
              "    }\n",
              "\n",
              "    .dataframe tbody tr th {\n",
              "        vertical-align: top;\n",
              "    }\n",
              "\n",
              "    .dataframe thead th {\n",
              "        text-align: right;\n",
              "    }\n",
              "</style>\n",
              "<table border=\"1\" class=\"dataframe\">\n",
              "  <thead>\n",
              "    <tr style=\"text-align: right;\">\n",
              "      <th></th>\n",
              "      <th>quantity_sum</th>\n",
              "      <th>quantity_mean</th>\n",
              "      <th>quantity_median</th>\n",
              "      <th>quantity_min</th>\n",
              "      <th>quantity_max</th>\n",
              "      <th>price_sum</th>\n",
              "      <th>price_mean</th>\n",
              "      <th>price_median</th>\n",
              "      <th>price_min</th>\n",
              "      <th>price_max</th>\n",
              "      <th>date_count</th>\n",
              "      <th>total_buy</th>\n",
              "      <th>mean_buy_days</th>\n",
              "      <th>mean_quantity_month</th>\n",
              "      <th>mean_order_month</th>\n",
              "      <th>mean_price_month</th>\n",
              "    </tr>\n",
              "    <tr>\n",
              "      <th>client_id</th>\n",
              "      <th></th>\n",
              "      <th></th>\n",
              "      <th></th>\n",
              "      <th></th>\n",
              "      <th></th>\n",
              "      <th></th>\n",
              "      <th></th>\n",
              "      <th></th>\n",
              "      <th></th>\n",
              "      <th></th>\n",
              "      <th></th>\n",
              "      <th></th>\n",
              "      <th></th>\n",
              "      <th></th>\n",
              "      <th></th>\n",
              "      <th></th>\n",
              "    </tr>\n",
              "  </thead>\n",
              "  <tbody>\n",
              "    <tr>\n",
              "      <th>1515915625518117010</th>\n",
              "      <td>6</td>\n",
              "      <td>1.00</td>\n",
              "      <td>1.00</td>\n",
              "      <td>1</td>\n",
              "      <td>1</td>\n",
              "      <td>2826.00</td>\n",
              "      <td>471.00</td>\n",
              "      <td>54.00</td>\n",
              "      <td>2.00</td>\n",
              "      <td>1796.00</td>\n",
              "      <td>6</td>\n",
              "      <td>1</td>\n",
              "      <td>365.00</td>\n",
              "      <td>0.50</td>\n",
              "      <td>0.50</td>\n",
              "      <td>235.50</td>\n",
              "    </tr>\n",
              "    <tr>\n",
              "      <th>1515915625551836337</th>\n",
              "      <td>3</td>\n",
              "      <td>1.00</td>\n",
              "      <td>1.00</td>\n",
              "      <td>1</td>\n",
              "      <td>1</td>\n",
              "      <td>42794.00</td>\n",
              "      <td>14264.67</td>\n",
              "      <td>7598.00</td>\n",
              "      <td>1198.00</td>\n",
              "      <td>33998.00</td>\n",
              "      <td>3</td>\n",
              "      <td>2</td>\n",
              "      <td>182.50</td>\n",
              "      <td>0.25</td>\n",
              "      <td>0.25</td>\n",
              "      <td>3566.17</td>\n",
              "    </tr>\n",
              "    <tr>\n",
              "      <th>1515915625518107116</th>\n",
              "      <td>1</td>\n",
              "      <td>1.00</td>\n",
              "      <td>1.00</td>\n",
              "      <td>1</td>\n",
              "      <td>1</td>\n",
              "      <td>2.00</td>\n",
              "      <td>2.00</td>\n",
              "      <td>2.00</td>\n",
              "      <td>2.00</td>\n",
              "      <td>2.00</td>\n",
              "      <td>1</td>\n",
              "      <td>1</td>\n",
              "      <td>365.00</td>\n",
              "      <td>0.08</td>\n",
              "      <td>0.08</td>\n",
              "      <td>0.17</td>\n",
              "    </tr>\n",
              "    <tr>\n",
              "      <th>1515915625518777669</th>\n",
              "      <td>1</td>\n",
              "      <td>1.00</td>\n",
              "      <td>1.00</td>\n",
              "      <td>1</td>\n",
              "      <td>1</td>\n",
              "      <td>2036.00</td>\n",
              "      <td>2036.00</td>\n",
              "      <td>2036.00</td>\n",
              "      <td>2036.00</td>\n",
              "      <td>2036.00</td>\n",
              "      <td>1</td>\n",
              "      <td>1</td>\n",
              "      <td>365.00</td>\n",
              "      <td>0.08</td>\n",
              "      <td>0.08</td>\n",
              "      <td>169.67</td>\n",
              "    </tr>\n",
              "    <tr>\n",
              "      <th>1515915625586004794</th>\n",
              "      <td>8</td>\n",
              "      <td>1.00</td>\n",
              "      <td>1.00</td>\n",
              "      <td>1</td>\n",
              "      <td>1</td>\n",
              "      <td>9150.00</td>\n",
              "      <td>1143.75</td>\n",
              "      <td>1085.50</td>\n",
              "      <td>10.00</td>\n",
              "      <td>2461.00</td>\n",
              "      <td>8</td>\n",
              "      <td>1</td>\n",
              "      <td>365.00</td>\n",
              "      <td>0.67</td>\n",
              "      <td>0.67</td>\n",
              "      <td>762.50</td>\n",
              "    </tr>\n",
              "  </tbody>\n",
              "</table>\n",
              "</div>\n",
              "    <div class=\"colab-df-buttons\">\n",
              "\n",
              "  <div class=\"colab-df-container\">\n",
              "    <button class=\"colab-df-convert\" onclick=\"convertToInteractive('df-feb9ad31-05b6-47d1-a8e1-cbd3a3d5ccf7')\"\n",
              "            title=\"Convert this dataframe to an interactive table.\"\n",
              "            style=\"display:none;\">\n",
              "\n",
              "  <svg xmlns=\"http://www.w3.org/2000/svg\" height=\"24px\" viewBox=\"0 -960 960 960\">\n",
              "    <path d=\"M120-120v-720h720v720H120Zm60-500h600v-160H180v160Zm220 220h160v-160H400v160Zm0 220h160v-160H400v160ZM180-400h160v-160H180v160Zm440 0h160v-160H620v160ZM180-180h160v-160H180v160Zm440 0h160v-160H620v160Z\"/>\n",
              "  </svg>\n",
              "    </button>\n",
              "\n",
              "  <style>\n",
              "    .colab-df-container {\n",
              "      display:flex;\n",
              "      gap: 12px;\n",
              "    }\n",
              "\n",
              "    .colab-df-convert {\n",
              "      background-color: #E8F0FE;\n",
              "      border: none;\n",
              "      border-radius: 50%;\n",
              "      cursor: pointer;\n",
              "      display: none;\n",
              "      fill: #1967D2;\n",
              "      height: 32px;\n",
              "      padding: 0 0 0 0;\n",
              "      width: 32px;\n",
              "    }\n",
              "\n",
              "    .colab-df-convert:hover {\n",
              "      background-color: #E2EBFA;\n",
              "      box-shadow: 0px 1px 2px rgba(60, 64, 67, 0.3), 0px 1px 3px 1px rgba(60, 64, 67, 0.15);\n",
              "      fill: #174EA6;\n",
              "    }\n",
              "\n",
              "    .colab-df-buttons div {\n",
              "      margin-bottom: 4px;\n",
              "    }\n",
              "\n",
              "    [theme=dark] .colab-df-convert {\n",
              "      background-color: #3B4455;\n",
              "      fill: #D2E3FC;\n",
              "    }\n",
              "\n",
              "    [theme=dark] .colab-df-convert:hover {\n",
              "      background-color: #434B5C;\n",
              "      box-shadow: 0px 1px 3px 1px rgba(0, 0, 0, 0.15);\n",
              "      filter: drop-shadow(0px 1px 2px rgba(0, 0, 0, 0.3));\n",
              "      fill: #FFFFFF;\n",
              "    }\n",
              "  </style>\n",
              "\n",
              "    <script>\n",
              "      const buttonEl =\n",
              "        document.querySelector('#df-feb9ad31-05b6-47d1-a8e1-cbd3a3d5ccf7 button.colab-df-convert');\n",
              "      buttonEl.style.display =\n",
              "        google.colab.kernel.accessAllowed ? 'block' : 'none';\n",
              "\n",
              "      async function convertToInteractive(key) {\n",
              "        const element = document.querySelector('#df-feb9ad31-05b6-47d1-a8e1-cbd3a3d5ccf7');\n",
              "        const dataTable =\n",
              "          await google.colab.kernel.invokeFunction('convertToInteractive',\n",
              "                                                    [key], {});\n",
              "        if (!dataTable) return;\n",
              "\n",
              "        const docLinkHtml = 'Like what you see? Visit the ' +\n",
              "          '<a target=\"_blank\" href=https://colab.research.google.com/notebooks/data_table.ipynb>data table notebook</a>'\n",
              "          + ' to learn more about interactive tables.';\n",
              "        element.innerHTML = '';\n",
              "        dataTable['output_type'] = 'display_data';\n",
              "        await google.colab.output.renderOutput(dataTable, element);\n",
              "        const docLink = document.createElement('div');\n",
              "        docLink.innerHTML = docLinkHtml;\n",
              "        element.appendChild(docLink);\n",
              "      }\n",
              "    </script>\n",
              "  </div>\n",
              "\n",
              "\n",
              "<div id=\"df-e16d728c-73cd-48ee-809f-6c62eeffaba8\">\n",
              "  <button class=\"colab-df-quickchart\" onclick=\"quickchart('df-e16d728c-73cd-48ee-809f-6c62eeffaba8')\"\n",
              "            title=\"Suggest charts\"\n",
              "            style=\"display:none;\">\n",
              "\n",
              "<svg xmlns=\"http://www.w3.org/2000/svg\" height=\"24px\"viewBox=\"0 0 24 24\"\n",
              "     width=\"24px\">\n",
              "    <g>\n",
              "        <path d=\"M19 3H5c-1.1 0-2 .9-2 2v14c0 1.1.9 2 2 2h14c1.1 0 2-.9 2-2V5c0-1.1-.9-2-2-2zM9 17H7v-7h2v7zm4 0h-2V7h2v10zm4 0h-2v-4h2v4z\"/>\n",
              "    </g>\n",
              "</svg>\n",
              "  </button>\n",
              "\n",
              "<style>\n",
              "  .colab-df-quickchart {\n",
              "      --bg-color: #E8F0FE;\n",
              "      --fill-color: #1967D2;\n",
              "      --hover-bg-color: #E2EBFA;\n",
              "      --hover-fill-color: #174EA6;\n",
              "      --disabled-fill-color: #AAA;\n",
              "      --disabled-bg-color: #DDD;\n",
              "  }\n",
              "\n",
              "  [theme=dark] .colab-df-quickchart {\n",
              "      --bg-color: #3B4455;\n",
              "      --fill-color: #D2E3FC;\n",
              "      --hover-bg-color: #434B5C;\n",
              "      --hover-fill-color: #FFFFFF;\n",
              "      --disabled-bg-color: #3B4455;\n",
              "      --disabled-fill-color: #666;\n",
              "  }\n",
              "\n",
              "  .colab-df-quickchart {\n",
              "    background-color: var(--bg-color);\n",
              "    border: none;\n",
              "    border-radius: 50%;\n",
              "    cursor: pointer;\n",
              "    display: none;\n",
              "    fill: var(--fill-color);\n",
              "    height: 32px;\n",
              "    padding: 0;\n",
              "    width: 32px;\n",
              "  }\n",
              "\n",
              "  .colab-df-quickchart:hover {\n",
              "    background-color: var(--hover-bg-color);\n",
              "    box-shadow: 0 1px 2px rgba(60, 64, 67, 0.3), 0 1px 3px 1px rgba(60, 64, 67, 0.15);\n",
              "    fill: var(--button-hover-fill-color);\n",
              "  }\n",
              "\n",
              "  .colab-df-quickchart-complete:disabled,\n",
              "  .colab-df-quickchart-complete:disabled:hover {\n",
              "    background-color: var(--disabled-bg-color);\n",
              "    fill: var(--disabled-fill-color);\n",
              "    box-shadow: none;\n",
              "  }\n",
              "\n",
              "  .colab-df-spinner {\n",
              "    border: 2px solid var(--fill-color);\n",
              "    border-color: transparent;\n",
              "    border-bottom-color: var(--fill-color);\n",
              "    animation:\n",
              "      spin 1s steps(1) infinite;\n",
              "  }\n",
              "\n",
              "  @keyframes spin {\n",
              "    0% {\n",
              "      border-color: transparent;\n",
              "      border-bottom-color: var(--fill-color);\n",
              "      border-left-color: var(--fill-color);\n",
              "    }\n",
              "    20% {\n",
              "      border-color: transparent;\n",
              "      border-left-color: var(--fill-color);\n",
              "      border-top-color: var(--fill-color);\n",
              "    }\n",
              "    30% {\n",
              "      border-color: transparent;\n",
              "      border-left-color: var(--fill-color);\n",
              "      border-top-color: var(--fill-color);\n",
              "      border-right-color: var(--fill-color);\n",
              "    }\n",
              "    40% {\n",
              "      border-color: transparent;\n",
              "      border-right-color: var(--fill-color);\n",
              "      border-top-color: var(--fill-color);\n",
              "    }\n",
              "    60% {\n",
              "      border-color: transparent;\n",
              "      border-right-color: var(--fill-color);\n",
              "    }\n",
              "    80% {\n",
              "      border-color: transparent;\n",
              "      border-right-color: var(--fill-color);\n",
              "      border-bottom-color: var(--fill-color);\n",
              "    }\n",
              "    90% {\n",
              "      border-color: transparent;\n",
              "      border-bottom-color: var(--fill-color);\n",
              "    }\n",
              "  }\n",
              "</style>\n",
              "\n",
              "  <script>\n",
              "    async function quickchart(key) {\n",
              "      const quickchartButtonEl =\n",
              "        document.querySelector('#' + key + ' button');\n",
              "      quickchartButtonEl.disabled = true;  // To prevent multiple clicks.\n",
              "      quickchartButtonEl.classList.add('colab-df-spinner');\n",
              "      try {\n",
              "        const charts = await google.colab.kernel.invokeFunction(\n",
              "            'suggestCharts', [key], {});\n",
              "      } catch (error) {\n",
              "        console.error('Error during call to suggestCharts:', error);\n",
              "      }\n",
              "      quickchartButtonEl.classList.remove('colab-df-spinner');\n",
              "      quickchartButtonEl.classList.add('colab-df-quickchart-complete');\n",
              "    }\n",
              "    (() => {\n",
              "      let quickchartButtonEl =\n",
              "        document.querySelector('#df-e16d728c-73cd-48ee-809f-6c62eeffaba8 button');\n",
              "      quickchartButtonEl.style.display =\n",
              "        google.colab.kernel.accessAllowed ? 'block' : 'none';\n",
              "    })();\n",
              "  </script>\n",
              "</div>\n",
              "    </div>\n",
              "  </div>\n"
            ],
            "text/plain": [
              "                     quantity_sum  quantity_mean  quantity_median  \\\n",
              "client_id                                                           \n",
              "1515915625518117010             6           1.00             1.00   \n",
              "1515915625551836337             3           1.00             1.00   \n",
              "1515915625518107116             1           1.00             1.00   \n",
              "1515915625518777669             1           1.00             1.00   \n",
              "1515915625586004794             8           1.00             1.00   \n",
              "\n",
              "                     quantity_min  quantity_max  price_sum  price_mean  \\\n",
              "client_id                                                                \n",
              "1515915625518117010             1             1    2826.00      471.00   \n",
              "1515915625551836337             1             1   42794.00    14264.67   \n",
              "1515915625518107116             1             1       2.00        2.00   \n",
              "1515915625518777669             1             1    2036.00     2036.00   \n",
              "1515915625586004794             1             1    9150.00     1143.75   \n",
              "\n",
              "                     price_median  price_min  price_max  date_count  \\\n",
              "client_id                                                             \n",
              "1515915625518117010         54.00       2.00    1796.00           6   \n",
              "1515915625551836337       7598.00    1198.00   33998.00           3   \n",
              "1515915625518107116          2.00       2.00       2.00           1   \n",
              "1515915625518777669       2036.00    2036.00    2036.00           1   \n",
              "1515915625586004794       1085.50      10.00    2461.00           8   \n",
              "\n",
              "                     total_buy  mean_buy_days  mean_quantity_month  \\\n",
              "client_id                                                            \n",
              "1515915625518117010          1         365.00                 0.50   \n",
              "1515915625551836337          2         182.50                 0.25   \n",
              "1515915625518107116          1         365.00                 0.08   \n",
              "1515915625518777669          1         365.00                 0.08   \n",
              "1515915625586004794          1         365.00                 0.67   \n",
              "\n",
              "                     mean_order_month  mean_price_month  \n",
              "client_id                                                \n",
              "1515915625518117010              0.50            235.50  \n",
              "1515915625551836337              0.25           3566.17  \n",
              "1515915625518107116              0.08              0.17  \n",
              "1515915625518777669              0.08            169.67  \n",
              "1515915625586004794              0.67            762.50  "
            ]
          },
          "execution_count": 1382,
          "metadata": {},
          "output_type": "execute_result"
        }
      ],
      "source": [
        "x_test.head()"
      ]
    },
    {
      "cell_type": "code",
      "execution_count": null,
      "metadata": {
        "id": "xcjUFK6aqkqp"
      },
      "outputs": [],
      "source": [
        "list_x = list(x_train.columns)"
      ]
    },
    {
      "cell_type": "code",
      "execution_count": null,
      "metadata": {
        "id": "WBmnsLcBr-fE"
      },
      "outputs": [],
      "source": [
        "numeric = list_x"
      ]
    },
    {
      "cell_type": "code",
      "execution_count": null,
      "metadata": {
        "id": "4TvLFur0r-jE"
      },
      "outputs": [],
      "source": [
        "scaler = StandardScaler()"
      ]
    },
    {
      "cell_type": "code",
      "execution_count": null,
      "metadata": {
        "id": "Kwp6M6kUr-nl"
      },
      "outputs": [],
      "source": [
        "x_train[numeric] = scaler.fit_transform(x_train[numeric])"
      ]
    },
    {
      "cell_type": "code",
      "execution_count": null,
      "metadata": {
        "id": "V4LUzIQHr-qd"
      },
      "outputs": [],
      "source": [
        "x_test[numeric] = scaler.transform(x_test[numeric])"
      ]
    },
    {
      "cell_type": "code",
      "execution_count": null,
      "metadata": {
        "colab": {
          "base_uri": "https://localhost:8080/",
          "height": 257
        },
        "id": "97jyBfDmtvKH",
        "outputId": "54a1c984-b190-40fb-9549-f66a0d41dd74"
      },
      "outputs": [
        {
          "data": {
            "application/vnd.google.colaboratory.intrinsic+json": {
              "summary": "{\n  \"name\": \"x_train\",\n  \"rows\": 35253,\n  \"fields\": [\n    {\n      \"column\": \"quantity_sum\",\n      \"properties\": {\n        \"dtype\": \"number\",\n        \"std\": 1.0000141834918346,\n        \"min\": -0.45442026058808677,\n        \"max\": 48.844624353998356,\n        \"num_unique_values\": 90,\n        \"samples\": [\n          20.74102885714812,\n          3.941672889757201,\n          7.552749406112259\n        ],\n        \"semantic_type\": \"\",\n        \"description\": \"\"\n      }\n    },\n    {\n      \"column\": \"quantity_mean\",\n      \"properties\": {\n        \"dtype\": \"number\",\n        \"std\": 1.0000141834918346,\n        \"min\": -0.053703205197632706,\n        \"max\": 113.35082730871304,\n        \"num_unique_values\": 61,\n        \"samples\": [\n          -0.053703205197632706,\n          1.5663615164296623,\n          0.372629616283234\n        ],\n        \"semantic_type\": \"\",\n        \"description\": \"\"\n      }\n    },\n    {\n      \"column\": \"quantity_median\",\n      \"properties\": {\n        \"dtype\": \"number\",\n        \"std\": 1.0000141834918346,\n        \"min\": -0.044269472760841075,\n        \"max\": 122.70204583808548,\n        \"num_unique_values\": 10,\n        \"samples\": [\n          26.25851237956337,\n          4.339527502626527,\n          43.79370028111285\n        ],\n        \"semantic_type\": \"\",\n        \"description\": \"\"\n      }\n    },\n    {\n      \"column\": \"quantity_min\",\n      \"properties\": {\n        \"dtype\": \"number\",\n        \"std\": 1.0000141834918346,\n        \"min\": -0.03329017290326009,\n        \"max\": 132.4675043030729,\n        \"num_unique_values\": 6,\n        \"samples\": [\n          -0.03329017290326009,\n          9.431052289666464,\n          28.359737214805914\n        ],\n        \"semantic_type\": \"\",\n        \"description\": \"\"\n      }\n    },\n    {\n      \"column\": \"quantity_max\",\n      \"properties\": {\n        \"dtype\": \"number\",\n        \"std\": 1.0000141834918346,\n        \"min\": -0.04196059277286762,\n        \"max\": 126.45472714557503,\n        \"num_unique_values\": 14,\n        \"samples\": [\n          18.02899479841969,\n          126.45472714557503,\n          -0.04196059277286762\n        ],\n        \"semantic_type\": \"\",\n        \"description\": \"\"\n      }\n    },\n    {\n      \"column\": \"price_sum\",\n      \"properties\": {\n        \"dtype\": \"number\",\n        \"std\": 1.0000141834918344,\n        \"min\": -0.22562644976877158,\n        \"max\": 121.34744007851249,\n        \"num_unique_values\": 11061,\n        \"samples\": [\n          -0.16763809026166368,\n          0.14687778546054042,\n          0.30838365877026663\n        ],\n        \"semantic_type\": \"\",\n        \"description\": \"\"\n      }\n    },\n    {\n      \"column\": \"price_mean\",\n      \"properties\": {\n        \"dtype\": \"number\",\n        \"std\": 1.0000141834918346,\n        \"min\": -0.45886259972732507,\n        \"max\": 13.829134020360291,\n        \"num_unique_values\": 12107,\n        \"samples\": [\n          -0.3495411640353283,\n          -0.3950583505131368,\n          -0.39821120258798814\n        ],\n        \"semantic_type\": \"\",\n        \"description\": \"\"\n      }\n    },\n    {\n      \"column\": \"price_median\",\n      \"properties\": {\n        \"dtype\": \"number\",\n        \"std\": 1.0000141834918346,\n        \"min\": -0.43897713611406997,\n        \"max\": 13.74863500331149,\n        \"num_unique_values\": 6095,\n        \"samples\": [\n          -0.43220903150620826,\n          0.3137663913421232,\n          1.8932320869949875\n        ],\n        \"semantic_type\": \"\",\n        \"description\": \"\"\n      }\n    },\n    {\n      \"column\": \"price_min\",\n      \"properties\": {\n        \"dtype\": \"number\",\n        \"std\": 1.0000141834918346,\n        \"min\": -0.3585137324084038,\n        \"max\": 15.057900913925112,\n        \"num_unique_values\": 3538,\n        \"samples\": [\n          -0.30235364966572587,\n          1.0108012262292432,\n          -0.31544980341454365\n        ],\n        \"semantic_type\": \"\",\n        \"description\": \"\"\n      }\n    },\n    {\n      \"column\": \"price_max\",\n      \"properties\": {\n        \"dtype\": \"number\",\n        \"std\": 1.0000141834918346,\n        \"min\": -0.48521168570426737,\n        \"max\": 14.862430947358424,\n        \"num_unique_values\": 4177,\n        \"samples\": [\n          -0.47591780102133985,\n          1.1893644354988124,\n          -0.4851832640385703\n        ],\n        \"semantic_type\": \"\",\n        \"description\": \"\"\n      }\n    },\n    {\n      \"column\": \"date_count\",\n      \"properties\": {\n        \"dtype\": \"number\",\n        \"std\": 1.0000141834918346,\n        \"min\": -0.46961485545713594,\n        \"max\": 45.23212525101763,\n        \"num_unique_values\": 88,\n        \"samples\": [\n          12.307215711944412,\n          -0.46961485545713594,\n          3.7893286670100466\n        ],\n        \"semantic_type\": \"\",\n        \"description\": \"\"\n      }\n    },\n    {\n      \"column\": \"total_buy\",\n      \"properties\": {\n        \"dtype\": \"number\",\n        \"std\": 1.0000141834918346,\n        \"min\": -0.24373801853697033,\n        \"max\": 55.19873601254536,\n        \"num_unique_values\": 28,\n        \"samples\": [\n          10.627335320890937,\n          24.75973066214722,\n          5.191798651176984\n        ],\n        \"semantic_type\": \"\",\n        \"description\": \"\"\n      }\n    },\n    {\n      \"column\": \"mean_buy_days\",\n      \"properties\": {\n        \"dtype\": \"number\",\n        \"std\": 1.0000141834918346,\n        \"min\": -4.566418949355914,\n        \"max\": 0.39171813997922117,\n        \"num_unique_values\": 28,\n        \"samples\": [\n          -4.204059554235164,\n          -4.452997512671777,\n          -3.8210780797172994\n        ],\n        \"semantic_type\": \"\",\n        \"description\": \"\"\n      }\n    },\n    {\n      \"column\": \"mean_quantity_month\",\n      \"properties\": {\n        \"dtype\": \"number\",\n        \"std\": 1.0000141834918346,\n        \"min\": -0.45442026058808693,\n        \"max\": 48.84462435399836,\n        \"num_unique_values\": 90,\n        \"samples\": [\n          20.741028857148127,\n          3.9416728897572013,\n          7.552749406112261\n        ],\n        \"semantic_type\": \"\",\n        \"description\": \"\"\n      }\n    },\n    {\n      \"column\": \"mean_order_month\",\n      \"properties\": {\n        \"dtype\": \"number\",\n        \"std\": 1.0000141834918346,\n        \"min\": -0.4696148554571358,\n        \"max\": 45.23212525101762,\n        \"num_unique_values\": 88,\n        \"samples\": [\n          12.307215711944409,\n          -0.4696148554571358,\n          3.7893286670100457\n        ],\n        \"semantic_type\": \"\",\n        \"description\": \"\"\n      }\n    },\n    {\n      \"column\": \"mean_price_month\",\n      \"properties\": {\n        \"dtype\": \"number\",\n        \"std\": 1.0000141834918346,\n        \"min\": -0.2256264497687716,\n        \"max\": 121.3474400785125,\n        \"num_unique_values\": 11061,\n        \"samples\": [\n          -0.1676380902616637,\n          0.14687778546054048,\n          0.30838365877026674\n        ],\n        \"semantic_type\": \"\",\n        \"description\": \"\"\n      }\n    }\n  ]\n}",
              "type": "dataframe",
              "variable_name": "x_train"
            },
            "text/html": [
              "\n",
              "  <div id=\"df-96c40cae-4a8e-4cc0-852c-0315cc07b54e\" class=\"colab-df-container\">\n",
              "    <div>\n",
              "<style scoped>\n",
              "    .dataframe tbody tr th:only-of-type {\n",
              "        vertical-align: middle;\n",
              "    }\n",
              "\n",
              "    .dataframe tbody tr th {\n",
              "        vertical-align: top;\n",
              "    }\n",
              "\n",
              "    .dataframe thead th {\n",
              "        text-align: right;\n",
              "    }\n",
              "</style>\n",
              "<table border=\"1\" class=\"dataframe\">\n",
              "  <thead>\n",
              "    <tr style=\"text-align: right;\">\n",
              "      <th></th>\n",
              "      <th>quantity_sum</th>\n",
              "      <th>quantity_mean</th>\n",
              "      <th>quantity_median</th>\n",
              "      <th>quantity_min</th>\n",
              "      <th>quantity_max</th>\n",
              "      <th>price_sum</th>\n",
              "      <th>price_mean</th>\n",
              "      <th>price_median</th>\n",
              "      <th>price_min</th>\n",
              "      <th>price_max</th>\n",
              "      <th>date_count</th>\n",
              "      <th>total_buy</th>\n",
              "      <th>mean_buy_days</th>\n",
              "      <th>mean_quantity_month</th>\n",
              "      <th>mean_order_month</th>\n",
              "      <th>mean_price_month</th>\n",
              "    </tr>\n",
              "    <tr>\n",
              "      <th>client_id</th>\n",
              "      <th></th>\n",
              "      <th></th>\n",
              "      <th></th>\n",
              "      <th></th>\n",
              "      <th></th>\n",
              "      <th></th>\n",
              "      <th></th>\n",
              "      <th></th>\n",
              "      <th></th>\n",
              "      <th></th>\n",
              "      <th></th>\n",
              "      <th></th>\n",
              "      <th></th>\n",
              "      <th></th>\n",
              "      <th></th>\n",
              "      <th></th>\n",
              "    </tr>\n",
              "  </thead>\n",
              "  <tbody>\n",
              "    <tr>\n",
              "      <th>1515915625566821487</th>\n",
              "      <td>-0.45</td>\n",
              "      <td>-0.05</td>\n",
              "      <td>-0.04</td>\n",
              "      <td>-0.03</td>\n",
              "      <td>-0.04</td>\n",
              "      <td>-0.20</td>\n",
              "      <td>-0.31</td>\n",
              "      <td>-0.29</td>\n",
              "      <td>-0.20</td>\n",
              "      <td>-0.37</td>\n",
              "      <td>-0.47</td>\n",
              "      <td>-0.24</td>\n",
              "      <td>0.39</td>\n",
              "      <td>-0.45</td>\n",
              "      <td>-0.47</td>\n",
              "      <td>-0.20</td>\n",
              "    </tr>\n",
              "    <tr>\n",
              "      <th>1515915625577221089</th>\n",
              "      <td>-0.45</td>\n",
              "      <td>-0.05</td>\n",
              "      <td>-0.04</td>\n",
              "      <td>-0.03</td>\n",
              "      <td>-0.04</td>\n",
              "      <td>-0.18</td>\n",
              "      <td>-0.24</td>\n",
              "      <td>-0.22</td>\n",
              "      <td>-0.12</td>\n",
              "      <td>-0.31</td>\n",
              "      <td>-0.47</td>\n",
              "      <td>-0.24</td>\n",
              "      <td>0.39</td>\n",
              "      <td>-0.45</td>\n",
              "      <td>-0.47</td>\n",
              "      <td>-0.18</td>\n",
              "    </tr>\n",
              "    <tr>\n",
              "      <th>1515915625559122412</th>\n",
              "      <td>-0.14</td>\n",
              "      <td>-0.05</td>\n",
              "      <td>-0.04</td>\n",
              "      <td>-0.03</td>\n",
              "      <td>-0.04</td>\n",
              "      <td>2.22</td>\n",
              "      <td>3.77</td>\n",
              "      <td>3.76</td>\n",
              "      <td>4.20</td>\n",
              "      <td>2.81</td>\n",
              "      <td>-0.14</td>\n",
              "      <td>-0.24</td>\n",
              "      <td>0.39</td>\n",
              "      <td>-0.14</td>\n",
              "      <td>-0.14</td>\n",
              "      <td>2.22</td>\n",
              "    </tr>\n",
              "    <tr>\n",
              "      <th>1515915625485721611</th>\n",
              "      <td>1.59</td>\n",
              "      <td>-0.05</td>\n",
              "      <td>-0.04</td>\n",
              "      <td>-0.03</td>\n",
              "      <td>-0.04</td>\n",
              "      <td>-0.05</td>\n",
              "      <td>-0.39</td>\n",
              "      <td>-0.37</td>\n",
              "      <td>-0.33</td>\n",
              "      <td>-0.41</td>\n",
              "      <td>1.66</td>\n",
              "      <td>-0.24</td>\n",
              "      <td>0.39</td>\n",
              "      <td>1.59</td>\n",
              "      <td>1.66</td>\n",
              "      <td>-0.05</td>\n",
              "    </tr>\n",
              "    <tr>\n",
              "      <th>1515915625947193107</th>\n",
              "      <td>-0.14</td>\n",
              "      <td>-0.05</td>\n",
              "      <td>-0.04</td>\n",
              "      <td>-0.03</td>\n",
              "      <td>-0.04</td>\n",
              "      <td>-0.22</td>\n",
              "      <td>-0.44</td>\n",
              "      <td>-0.42</td>\n",
              "      <td>-0.35</td>\n",
              "      <td>-0.47</td>\n",
              "      <td>-0.14</td>\n",
              "      <td>-0.24</td>\n",
              "      <td>0.39</td>\n",
              "      <td>-0.14</td>\n",
              "      <td>-0.14</td>\n",
              "      <td>-0.22</td>\n",
              "    </tr>\n",
              "  </tbody>\n",
              "</table>\n",
              "</div>\n",
              "    <div class=\"colab-df-buttons\">\n",
              "\n",
              "  <div class=\"colab-df-container\">\n",
              "    <button class=\"colab-df-convert\" onclick=\"convertToInteractive('df-96c40cae-4a8e-4cc0-852c-0315cc07b54e')\"\n",
              "            title=\"Convert this dataframe to an interactive table.\"\n",
              "            style=\"display:none;\">\n",
              "\n",
              "  <svg xmlns=\"http://www.w3.org/2000/svg\" height=\"24px\" viewBox=\"0 -960 960 960\">\n",
              "    <path d=\"M120-120v-720h720v720H120Zm60-500h600v-160H180v160Zm220 220h160v-160H400v160Zm0 220h160v-160H400v160ZM180-400h160v-160H180v160Zm440 0h160v-160H620v160ZM180-180h160v-160H180v160Zm440 0h160v-160H620v160Z\"/>\n",
              "  </svg>\n",
              "    </button>\n",
              "\n",
              "  <style>\n",
              "    .colab-df-container {\n",
              "      display:flex;\n",
              "      gap: 12px;\n",
              "    }\n",
              "\n",
              "    .colab-df-convert {\n",
              "      background-color: #E8F0FE;\n",
              "      border: none;\n",
              "      border-radius: 50%;\n",
              "      cursor: pointer;\n",
              "      display: none;\n",
              "      fill: #1967D2;\n",
              "      height: 32px;\n",
              "      padding: 0 0 0 0;\n",
              "      width: 32px;\n",
              "    }\n",
              "\n",
              "    .colab-df-convert:hover {\n",
              "      background-color: #E2EBFA;\n",
              "      box-shadow: 0px 1px 2px rgba(60, 64, 67, 0.3), 0px 1px 3px 1px rgba(60, 64, 67, 0.15);\n",
              "      fill: #174EA6;\n",
              "    }\n",
              "\n",
              "    .colab-df-buttons div {\n",
              "      margin-bottom: 4px;\n",
              "    }\n",
              "\n",
              "    [theme=dark] .colab-df-convert {\n",
              "      background-color: #3B4455;\n",
              "      fill: #D2E3FC;\n",
              "    }\n",
              "\n",
              "    [theme=dark] .colab-df-convert:hover {\n",
              "      background-color: #434B5C;\n",
              "      box-shadow: 0px 1px 3px 1px rgba(0, 0, 0, 0.15);\n",
              "      filter: drop-shadow(0px 1px 2px rgba(0, 0, 0, 0.3));\n",
              "      fill: #FFFFFF;\n",
              "    }\n",
              "  </style>\n",
              "\n",
              "    <script>\n",
              "      const buttonEl =\n",
              "        document.querySelector('#df-96c40cae-4a8e-4cc0-852c-0315cc07b54e button.colab-df-convert');\n",
              "      buttonEl.style.display =\n",
              "        google.colab.kernel.accessAllowed ? 'block' : 'none';\n",
              "\n",
              "      async function convertToInteractive(key) {\n",
              "        const element = document.querySelector('#df-96c40cae-4a8e-4cc0-852c-0315cc07b54e');\n",
              "        const dataTable =\n",
              "          await google.colab.kernel.invokeFunction('convertToInteractive',\n",
              "                                                    [key], {});\n",
              "        if (!dataTable) return;\n",
              "\n",
              "        const docLinkHtml = 'Like what you see? Visit the ' +\n",
              "          '<a target=\"_blank\" href=https://colab.research.google.com/notebooks/data_table.ipynb>data table notebook</a>'\n",
              "          + ' to learn more about interactive tables.';\n",
              "        element.innerHTML = '';\n",
              "        dataTable['output_type'] = 'display_data';\n",
              "        await google.colab.output.renderOutput(dataTable, element);\n",
              "        const docLink = document.createElement('div');\n",
              "        docLink.innerHTML = docLinkHtml;\n",
              "        element.appendChild(docLink);\n",
              "      }\n",
              "    </script>\n",
              "  </div>\n",
              "\n",
              "\n",
              "<div id=\"df-60cece71-b347-4400-9f63-43d532d3b4d5\">\n",
              "  <button class=\"colab-df-quickchart\" onclick=\"quickchart('df-60cece71-b347-4400-9f63-43d532d3b4d5')\"\n",
              "            title=\"Suggest charts\"\n",
              "            style=\"display:none;\">\n",
              "\n",
              "<svg xmlns=\"http://www.w3.org/2000/svg\" height=\"24px\"viewBox=\"0 0 24 24\"\n",
              "     width=\"24px\">\n",
              "    <g>\n",
              "        <path d=\"M19 3H5c-1.1 0-2 .9-2 2v14c0 1.1.9 2 2 2h14c1.1 0 2-.9 2-2V5c0-1.1-.9-2-2-2zM9 17H7v-7h2v7zm4 0h-2V7h2v10zm4 0h-2v-4h2v4z\"/>\n",
              "    </g>\n",
              "</svg>\n",
              "  </button>\n",
              "\n",
              "<style>\n",
              "  .colab-df-quickchart {\n",
              "      --bg-color: #E8F0FE;\n",
              "      --fill-color: #1967D2;\n",
              "      --hover-bg-color: #E2EBFA;\n",
              "      --hover-fill-color: #174EA6;\n",
              "      --disabled-fill-color: #AAA;\n",
              "      --disabled-bg-color: #DDD;\n",
              "  }\n",
              "\n",
              "  [theme=dark] .colab-df-quickchart {\n",
              "      --bg-color: #3B4455;\n",
              "      --fill-color: #D2E3FC;\n",
              "      --hover-bg-color: #434B5C;\n",
              "      --hover-fill-color: #FFFFFF;\n",
              "      --disabled-bg-color: #3B4455;\n",
              "      --disabled-fill-color: #666;\n",
              "  }\n",
              "\n",
              "  .colab-df-quickchart {\n",
              "    background-color: var(--bg-color);\n",
              "    border: none;\n",
              "    border-radius: 50%;\n",
              "    cursor: pointer;\n",
              "    display: none;\n",
              "    fill: var(--fill-color);\n",
              "    height: 32px;\n",
              "    padding: 0;\n",
              "    width: 32px;\n",
              "  }\n",
              "\n",
              "  .colab-df-quickchart:hover {\n",
              "    background-color: var(--hover-bg-color);\n",
              "    box-shadow: 0 1px 2px rgba(60, 64, 67, 0.3), 0 1px 3px 1px rgba(60, 64, 67, 0.15);\n",
              "    fill: var(--button-hover-fill-color);\n",
              "  }\n",
              "\n",
              "  .colab-df-quickchart-complete:disabled,\n",
              "  .colab-df-quickchart-complete:disabled:hover {\n",
              "    background-color: var(--disabled-bg-color);\n",
              "    fill: var(--disabled-fill-color);\n",
              "    box-shadow: none;\n",
              "  }\n",
              "\n",
              "  .colab-df-spinner {\n",
              "    border: 2px solid var(--fill-color);\n",
              "    border-color: transparent;\n",
              "    border-bottom-color: var(--fill-color);\n",
              "    animation:\n",
              "      spin 1s steps(1) infinite;\n",
              "  }\n",
              "\n",
              "  @keyframes spin {\n",
              "    0% {\n",
              "      border-color: transparent;\n",
              "      border-bottom-color: var(--fill-color);\n",
              "      border-left-color: var(--fill-color);\n",
              "    }\n",
              "    20% {\n",
              "      border-color: transparent;\n",
              "      border-left-color: var(--fill-color);\n",
              "      border-top-color: var(--fill-color);\n",
              "    }\n",
              "    30% {\n",
              "      border-color: transparent;\n",
              "      border-left-color: var(--fill-color);\n",
              "      border-top-color: var(--fill-color);\n",
              "      border-right-color: var(--fill-color);\n",
              "    }\n",
              "    40% {\n",
              "      border-color: transparent;\n",
              "      border-right-color: var(--fill-color);\n",
              "      border-top-color: var(--fill-color);\n",
              "    }\n",
              "    60% {\n",
              "      border-color: transparent;\n",
              "      border-right-color: var(--fill-color);\n",
              "    }\n",
              "    80% {\n",
              "      border-color: transparent;\n",
              "      border-right-color: var(--fill-color);\n",
              "      border-bottom-color: var(--fill-color);\n",
              "    }\n",
              "    90% {\n",
              "      border-color: transparent;\n",
              "      border-bottom-color: var(--fill-color);\n",
              "    }\n",
              "  }\n",
              "</style>\n",
              "\n",
              "  <script>\n",
              "    async function quickchart(key) {\n",
              "      const quickchartButtonEl =\n",
              "        document.querySelector('#' + key + ' button');\n",
              "      quickchartButtonEl.disabled = true;  // To prevent multiple clicks.\n",
              "      quickchartButtonEl.classList.add('colab-df-spinner');\n",
              "      try {\n",
              "        const charts = await google.colab.kernel.invokeFunction(\n",
              "            'suggestCharts', [key], {});\n",
              "      } catch (error) {\n",
              "        console.error('Error during call to suggestCharts:', error);\n",
              "      }\n",
              "      quickchartButtonEl.classList.remove('colab-df-spinner');\n",
              "      quickchartButtonEl.classList.add('colab-df-quickchart-complete');\n",
              "    }\n",
              "    (() => {\n",
              "      let quickchartButtonEl =\n",
              "        document.querySelector('#df-60cece71-b347-4400-9f63-43d532d3b4d5 button');\n",
              "      quickchartButtonEl.style.display =\n",
              "        google.colab.kernel.accessAllowed ? 'block' : 'none';\n",
              "    })();\n",
              "  </script>\n",
              "</div>\n",
              "    </div>\n",
              "  </div>\n"
            ],
            "text/plain": [
              "                     quantity_sum  quantity_mean  quantity_median  \\\n",
              "client_id                                                           \n",
              "1515915625566821487         -0.45          -0.05            -0.04   \n",
              "1515915625577221089         -0.45          -0.05            -0.04   \n",
              "1515915625559122412         -0.14          -0.05            -0.04   \n",
              "1515915625485721611          1.59          -0.05            -0.04   \n",
              "1515915625947193107         -0.14          -0.05            -0.04   \n",
              "\n",
              "                     quantity_min  quantity_max  price_sum  price_mean  \\\n",
              "client_id                                                                \n",
              "1515915625566821487         -0.03         -0.04      -0.20       -0.31   \n",
              "1515915625577221089         -0.03         -0.04      -0.18       -0.24   \n",
              "1515915625559122412         -0.03         -0.04       2.22        3.77   \n",
              "1515915625485721611         -0.03         -0.04      -0.05       -0.39   \n",
              "1515915625947193107         -0.03         -0.04      -0.22       -0.44   \n",
              "\n",
              "                     price_median  price_min  price_max  date_count  \\\n",
              "client_id                                                             \n",
              "1515915625566821487         -0.29      -0.20      -0.37       -0.47   \n",
              "1515915625577221089         -0.22      -0.12      -0.31       -0.47   \n",
              "1515915625559122412          3.76       4.20       2.81       -0.14   \n",
              "1515915625485721611         -0.37      -0.33      -0.41        1.66   \n",
              "1515915625947193107         -0.42      -0.35      -0.47       -0.14   \n",
              "\n",
              "                     total_buy  mean_buy_days  mean_quantity_month  \\\n",
              "client_id                                                            \n",
              "1515915625566821487      -0.24           0.39                -0.45   \n",
              "1515915625577221089      -0.24           0.39                -0.45   \n",
              "1515915625559122412      -0.24           0.39                -0.14   \n",
              "1515915625485721611      -0.24           0.39                 1.59   \n",
              "1515915625947193107      -0.24           0.39                -0.14   \n",
              "\n",
              "                     mean_order_month  mean_price_month  \n",
              "client_id                                                \n",
              "1515915625566821487             -0.47             -0.20  \n",
              "1515915625577221089             -0.47             -0.18  \n",
              "1515915625559122412             -0.14              2.22  \n",
              "1515915625485721611              1.66             -0.05  \n",
              "1515915625947193107             -0.14             -0.22  "
            ]
          },
          "execution_count": 1388,
          "metadata": {},
          "output_type": "execute_result"
        }
      ],
      "source": [
        "x_train.head()"
      ]
    },
    {
      "cell_type": "code",
      "execution_count": null,
      "metadata": {
        "colab": {
          "base_uri": "https://localhost:8080/",
          "height": 257
        },
        "id": "tYtMNpfetvKI",
        "outputId": "341cb6a8-ee68-47c3-dacd-d3fcfe8b9fdd"
      },
      "outputs": [
        {
          "data": {
            "application/vnd.google.colaboratory.intrinsic+json": {
              "summary": "{\n  \"name\": \"x_test\",\n  \"rows\": 11751,\n  \"fields\": [\n    {\n      \"column\": \"quantity_sum\",\n      \"properties\": {\n        \"dtype\": \"number\",\n        \"std\": 1.0437768276389954,\n        \"min\": -0.45442026058808677,\n        \"max\": 73.18014000769548,\n        \"num_unique_values\": 60,\n        \"samples\": [\n          0.33059637340214315,\n          5.040696177343523,\n          8.494769366900535\n        ],\n        \"semantic_type\": \"\",\n        \"description\": \"\"\n      }\n    },\n    {\n      \"column\": \"quantity_mean\",\n      \"properties\": {\n        \"dtype\": \"number\",\n        \"std\": 1.7633276433132987,\n        \"min\": -0.053703205197632706,\n        \"max\": 137.65179813312247,\n        \"num_unique_values\": 38,\n        \"samples\": [\n          1.6820804251173258,\n          29.647483357969453,\n          8.046620402938844\n        ],\n        \"semantic_type\": \"\",\n        \"description\": \"\"\n      }\n    },\n    {\n      \"column\": \"quantity_median\",\n      \"properties\": {\n        \"dtype\": \"number\",\n        \"std\": 1.8140451661006796,\n        \"min\": -0.044269472760841075,\n        \"max\": 149.0048276904097,\n        \"num_unique_values\": 10,\n        \"samples\": [\n          149.0048276904097,\n          8.723324478013897,\n          78.8640760842118\n        ],\n        \"semantic_type\": \"\",\n        \"description\": \"\"\n      }\n    },\n    {\n      \"column\": \"quantity_min\",\n      \"properties\": {\n        \"dtype\": \"number\",\n        \"std\": 1.9060055393775437,\n        \"min\": -0.03329017290326009,\n        \"max\": 160.86053169078207,\n        \"num_unique_values\": 7,\n        \"samples\": [\n          -0.03329017290326009,\n          9.431052289666464,\n          160.86053169078207\n        ],\n        \"semantic_type\": \"\",\n        \"description\": \"\"\n      }\n    },\n    {\n      \"column\": \"quantity_max\",\n      \"properties\": {\n        \"dtype\": \"number\",\n        \"std\": 1.2651277099134077,\n        \"min\": -0.04196059277286762,\n        \"max\": 74.82342602788201,\n        \"num_unique_values\": 14,\n        \"samples\": [\n          15.447429742535038,\n          49.0077754690355,\n          -0.04196059277286762\n        ],\n        \"semantic_type\": \"\",\n        \"description\": \"\"\n      }\n    },\n    {\n      \"column\": \"price_sum\",\n      \"properties\": {\n        \"dtype\": \"number\",\n        \"std\": 1.1677811447719424,\n        \"min\": -0.22561239539177036,\n        \"max\": 109.39834550736344,\n        \"num_unique_values\": 5104,\n        \"samples\": [\n          -0.13371785136917583,\n          -0.20666006800560094,\n          -0.17252901345809452\n        ],\n        \"semantic_type\": \"\",\n        \"description\": \"\"\n      }\n    },\n    {\n      \"column\": \"price_mean\",\n      \"properties\": {\n        \"dtype\": \"number\",\n        \"std\": 1.0816807529105936,\n        \"min\": -0.4588261505703904,\n        \"max\": 46.92496851706578,\n        \"num_unique_values\": 5226,\n        \"samples\": [\n          -0.44527921390966113,\n          -0.45032134728562756,\n          -0.3495515780801668\n        ],\n        \"semantic_type\": \"\",\n        \"description\": \"\"\n      }\n    },\n    {\n      \"column\": \"price_median\",\n      \"properties\": {\n        \"dtype\": \"number\",\n        \"std\": 1.0799664267032048,\n        \"min\": -0.43894094304130066,\n        \"max\": 46.61194507784863,\n        \"num_unique_values\": 3235,\n        \"samples\": [\n          -0.3827692941033253,\n          0.4607826529310768,\n          -0.35870090071173144\n        ],\n        \"semantic_type\": \"\",\n        \"description\": \"\"\n      }\n    },\n    {\n      \"column\": \"price_min\",\n      \"properties\": {\n        \"dtype\": \"number\",\n        \"std\": 1.0880538569771594,\n        \"min\": -0.3584744046193683,\n        \"max\": 50.76753335814888,\n        \"num_unique_values\": 2009,\n        \"samples\": [\n          -0.2083602338709078,\n          -0.3440411060433439,\n          -0.357963143361907\n        ],\n        \"semantic_type\": \"\",\n        \"description\": \"\"\n      }\n    },\n    {\n      \"column\": \"price_max\",\n      \"properties\": {\n        \"dtype\": \"number\",\n        \"std\": 1.0612565463855927,\n        \"min\": -0.4851832640385703,\n        \"max\": 36.462896877098245,\n        \"num_unique_values\": 2262,\n        \"samples\": [\n          -0.08787679925984271,\n          -0.19556649058587455,\n          -0.4014530368951315\n        ],\n        \"semantic_type\": \"\",\n        \"description\": \"\"\n      }\n    },\n    {\n      \"column\": \"date_count\",\n      \"properties\": {\n        \"dtype\": \"number\",\n        \"std\": 1.0039644296052541,\n        \"min\": -0.46961485545713594,\n        \"max\": 63.57834350164549,\n        \"num_unique_values\": 60,\n        \"samples\": [\n          0.3494127450173222,\n          5.263578347864071,\n          8.867299789951687\n        ],\n        \"semantic_type\": \"\",\n        \"description\": \"\"\n      }\n    },\n    {\n      \"column\": \"total_buy\",\n      \"properties\": {\n        \"dtype\": \"number\",\n        \"std\": 0.9061024059891823,\n        \"min\": -0.24373801853697033,\n        \"max\": 38.8921260034035,\n        \"num_unique_values\": 18,\n        \"samples\": [\n          -0.24373801853697033,\n          0.8433693154058205,\n          12.80154998877652\n        ],\n        \"semantic_type\": \"\",\n        \"description\": \"\"\n      }\n    },\n    {\n      \"column\": \"mean_buy_days\",\n      \"properties\": {\n        \"dtype\": \"number\",\n        \"std\": 1.0043130410460872,\n        \"min\": -4.527006094909689,\n        \"max\": 0.39171813997922117,\n        \"num_unique_values\": 18,\n        \"samples\": [\n          0.39171813997922117,\n          -2.135959591838691,\n          -4.274763826453847\n        ],\n        \"semantic_type\": \"\",\n        \"description\": \"\"\n      }\n    },\n    {\n      \"column\": \"mean_quantity_month\",\n      \"properties\": {\n        \"dtype\": \"number\",\n        \"std\": 1.0437768276389956,\n        \"min\": -0.45442026058808693,\n        \"max\": 73.1801400076955,\n        \"num_unique_values\": 60,\n        \"samples\": [\n          0.3305963734021432,\n          5.0406961773435235,\n          8.494769366900536\n        ],\n        \"semantic_type\": \"\",\n        \"description\": \"\"\n      }\n    },\n    {\n      \"column\": \"mean_order_month\",\n      \"properties\": {\n        \"dtype\": \"number\",\n        \"std\": 1.003964429605254,\n        \"min\": -0.4696148554571358,\n        \"max\": 63.57834350164548,\n        \"num_unique_values\": 60,\n        \"samples\": [\n          0.3494127450173223,\n          5.263578347864071,\n          8.867299789951685\n        ],\n        \"semantic_type\": \"\",\n        \"description\": \"\"\n      }\n    },\n    {\n      \"column\": \"mean_price_month\",\n      \"properties\": {\n        \"dtype\": \"number\",\n        \"std\": 1.1677811447719426,\n        \"min\": -0.2256123953917704,\n        \"max\": 109.39834550736347,\n        \"num_unique_values\": 5104,\n        \"samples\": [\n          -0.13371785136917583,\n          -0.20666006800560097,\n          -0.17252901345809454\n        ],\n        \"semantic_type\": \"\",\n        \"description\": \"\"\n      }\n    }\n  ]\n}",
              "type": "dataframe",
              "variable_name": "x_test"
            },
            "text/html": [
              "\n",
              "  <div id=\"df-001a645a-6f93-44a6-959c-a877b04849f2\" class=\"colab-df-container\">\n",
              "    <div>\n",
              "<style scoped>\n",
              "    .dataframe tbody tr th:only-of-type {\n",
              "        vertical-align: middle;\n",
              "    }\n",
              "\n",
              "    .dataframe tbody tr th {\n",
              "        vertical-align: top;\n",
              "    }\n",
              "\n",
              "    .dataframe thead th {\n",
              "        text-align: right;\n",
              "    }\n",
              "</style>\n",
              "<table border=\"1\" class=\"dataframe\">\n",
              "  <thead>\n",
              "    <tr style=\"text-align: right;\">\n",
              "      <th></th>\n",
              "      <th>quantity_sum</th>\n",
              "      <th>quantity_mean</th>\n",
              "      <th>quantity_median</th>\n",
              "      <th>quantity_min</th>\n",
              "      <th>quantity_max</th>\n",
              "      <th>price_sum</th>\n",
              "      <th>price_mean</th>\n",
              "      <th>price_median</th>\n",
              "      <th>price_min</th>\n",
              "      <th>price_max</th>\n",
              "      <th>date_count</th>\n",
              "      <th>total_buy</th>\n",
              "      <th>mean_buy_days</th>\n",
              "      <th>mean_quantity_month</th>\n",
              "      <th>mean_order_month</th>\n",
              "      <th>mean_price_month</th>\n",
              "    </tr>\n",
              "    <tr>\n",
              "      <th>client_id</th>\n",
              "      <th></th>\n",
              "      <th></th>\n",
              "      <th></th>\n",
              "      <th></th>\n",
              "      <th></th>\n",
              "      <th></th>\n",
              "      <th></th>\n",
              "      <th></th>\n",
              "      <th></th>\n",
              "      <th></th>\n",
              "      <th></th>\n",
              "      <th></th>\n",
              "      <th></th>\n",
              "      <th></th>\n",
              "      <th></th>\n",
              "      <th></th>\n",
              "    </tr>\n",
              "  </thead>\n",
              "  <tbody>\n",
              "    <tr>\n",
              "      <th>1515915625518117010</th>\n",
              "      <td>0.33</td>\n",
              "      <td>-0.05</td>\n",
              "      <td>-0.04</td>\n",
              "      <td>-0.03</td>\n",
              "      <td>-0.04</td>\n",
              "      <td>-0.21</td>\n",
              "      <td>-0.44</td>\n",
              "      <td>-0.44</td>\n",
              "      <td>-0.36</td>\n",
              "      <td>-0.43</td>\n",
              "      <td>0.35</td>\n",
              "      <td>-0.24</td>\n",
              "      <td>0.39</td>\n",
              "      <td>0.33</td>\n",
              "      <td>0.35</td>\n",
              "      <td>-0.21</td>\n",
              "    </tr>\n",
              "    <tr>\n",
              "      <th>1515915625551836337</th>\n",
              "      <td>-0.14</td>\n",
              "      <td>-0.05</td>\n",
              "      <td>-0.04</td>\n",
              "      <td>-0.03</td>\n",
              "      <td>-0.04</td>\n",
              "      <td>0.08</td>\n",
              "      <td>0.06</td>\n",
              "      <td>-0.16</td>\n",
              "      <td>-0.31</td>\n",
              "      <td>0.48</td>\n",
              "      <td>-0.14</td>\n",
              "      <td>0.84</td>\n",
              "      <td>-2.14</td>\n",
              "      <td>-0.14</td>\n",
              "      <td>-0.14</td>\n",
              "      <td>0.08</td>\n",
              "    </tr>\n",
              "    <tr>\n",
              "      <th>1515915625518107116</th>\n",
              "      <td>-0.45</td>\n",
              "      <td>-0.05</td>\n",
              "      <td>-0.04</td>\n",
              "      <td>-0.03</td>\n",
              "      <td>-0.04</td>\n",
              "      <td>-0.23</td>\n",
              "      <td>-0.46</td>\n",
              "      <td>-0.44</td>\n",
              "      <td>-0.36</td>\n",
              "      <td>-0.49</td>\n",
              "      <td>-0.47</td>\n",
              "      <td>-0.24</td>\n",
              "      <td>0.39</td>\n",
              "      <td>-0.45</td>\n",
              "      <td>-0.47</td>\n",
              "      <td>-0.23</td>\n",
              "    </tr>\n",
              "    <tr>\n",
              "      <th>1515915625518777669</th>\n",
              "      <td>-0.45</td>\n",
              "      <td>-0.05</td>\n",
              "      <td>-0.04</td>\n",
              "      <td>-0.03</td>\n",
              "      <td>-0.04</td>\n",
              "      <td>-0.21</td>\n",
              "      <td>-0.38</td>\n",
              "      <td>-0.37</td>\n",
              "      <td>-0.28</td>\n",
              "      <td>-0.43</td>\n",
              "      <td>-0.47</td>\n",
              "      <td>-0.24</td>\n",
              "      <td>0.39</td>\n",
              "      <td>-0.45</td>\n",
              "      <td>-0.47</td>\n",
              "      <td>-0.21</td>\n",
              "    </tr>\n",
              "    <tr>\n",
              "      <th>1515915625586004794</th>\n",
              "      <td>0.64</td>\n",
              "      <td>-0.05</td>\n",
              "      <td>-0.04</td>\n",
              "      <td>-0.03</td>\n",
              "      <td>-0.04</td>\n",
              "      <td>-0.16</td>\n",
              "      <td>-0.42</td>\n",
              "      <td>-0.40</td>\n",
              "      <td>-0.36</td>\n",
              "      <td>-0.42</td>\n",
              "      <td>0.68</td>\n",
              "      <td>-0.24</td>\n",
              "      <td>0.39</td>\n",
              "      <td>0.64</td>\n",
              "      <td>0.68</td>\n",
              "      <td>-0.16</td>\n",
              "    </tr>\n",
              "  </tbody>\n",
              "</table>\n",
              "</div>\n",
              "    <div class=\"colab-df-buttons\">\n",
              "\n",
              "  <div class=\"colab-df-container\">\n",
              "    <button class=\"colab-df-convert\" onclick=\"convertToInteractive('df-001a645a-6f93-44a6-959c-a877b04849f2')\"\n",
              "            title=\"Convert this dataframe to an interactive table.\"\n",
              "            style=\"display:none;\">\n",
              "\n",
              "  <svg xmlns=\"http://www.w3.org/2000/svg\" height=\"24px\" viewBox=\"0 -960 960 960\">\n",
              "    <path d=\"M120-120v-720h720v720H120Zm60-500h600v-160H180v160Zm220 220h160v-160H400v160Zm0 220h160v-160H400v160ZM180-400h160v-160H180v160Zm440 0h160v-160H620v160ZM180-180h160v-160H180v160Zm440 0h160v-160H620v160Z\"/>\n",
              "  </svg>\n",
              "    </button>\n",
              "\n",
              "  <style>\n",
              "    .colab-df-container {\n",
              "      display:flex;\n",
              "      gap: 12px;\n",
              "    }\n",
              "\n",
              "    .colab-df-convert {\n",
              "      background-color: #E8F0FE;\n",
              "      border: none;\n",
              "      border-radius: 50%;\n",
              "      cursor: pointer;\n",
              "      display: none;\n",
              "      fill: #1967D2;\n",
              "      height: 32px;\n",
              "      padding: 0 0 0 0;\n",
              "      width: 32px;\n",
              "    }\n",
              "\n",
              "    .colab-df-convert:hover {\n",
              "      background-color: #E2EBFA;\n",
              "      box-shadow: 0px 1px 2px rgba(60, 64, 67, 0.3), 0px 1px 3px 1px rgba(60, 64, 67, 0.15);\n",
              "      fill: #174EA6;\n",
              "    }\n",
              "\n",
              "    .colab-df-buttons div {\n",
              "      margin-bottom: 4px;\n",
              "    }\n",
              "\n",
              "    [theme=dark] .colab-df-convert {\n",
              "      background-color: #3B4455;\n",
              "      fill: #D2E3FC;\n",
              "    }\n",
              "\n",
              "    [theme=dark] .colab-df-convert:hover {\n",
              "      background-color: #434B5C;\n",
              "      box-shadow: 0px 1px 3px 1px rgba(0, 0, 0, 0.15);\n",
              "      filter: drop-shadow(0px 1px 2px rgba(0, 0, 0, 0.3));\n",
              "      fill: #FFFFFF;\n",
              "    }\n",
              "  </style>\n",
              "\n",
              "    <script>\n",
              "      const buttonEl =\n",
              "        document.querySelector('#df-001a645a-6f93-44a6-959c-a877b04849f2 button.colab-df-convert');\n",
              "      buttonEl.style.display =\n",
              "        google.colab.kernel.accessAllowed ? 'block' : 'none';\n",
              "\n",
              "      async function convertToInteractive(key) {\n",
              "        const element = document.querySelector('#df-001a645a-6f93-44a6-959c-a877b04849f2');\n",
              "        const dataTable =\n",
              "          await google.colab.kernel.invokeFunction('convertToInteractive',\n",
              "                                                    [key], {});\n",
              "        if (!dataTable) return;\n",
              "\n",
              "        const docLinkHtml = 'Like what you see? Visit the ' +\n",
              "          '<a target=\"_blank\" href=https://colab.research.google.com/notebooks/data_table.ipynb>data table notebook</a>'\n",
              "          + ' to learn more about interactive tables.';\n",
              "        element.innerHTML = '';\n",
              "        dataTable['output_type'] = 'display_data';\n",
              "        await google.colab.output.renderOutput(dataTable, element);\n",
              "        const docLink = document.createElement('div');\n",
              "        docLink.innerHTML = docLinkHtml;\n",
              "        element.appendChild(docLink);\n",
              "      }\n",
              "    </script>\n",
              "  </div>\n",
              "\n",
              "\n",
              "<div id=\"df-56fd08a0-9df7-448a-9356-23448f0cb134\">\n",
              "  <button class=\"colab-df-quickchart\" onclick=\"quickchart('df-56fd08a0-9df7-448a-9356-23448f0cb134')\"\n",
              "            title=\"Suggest charts\"\n",
              "            style=\"display:none;\">\n",
              "\n",
              "<svg xmlns=\"http://www.w3.org/2000/svg\" height=\"24px\"viewBox=\"0 0 24 24\"\n",
              "     width=\"24px\">\n",
              "    <g>\n",
              "        <path d=\"M19 3H5c-1.1 0-2 .9-2 2v14c0 1.1.9 2 2 2h14c1.1 0 2-.9 2-2V5c0-1.1-.9-2-2-2zM9 17H7v-7h2v7zm4 0h-2V7h2v10zm4 0h-2v-4h2v4z\"/>\n",
              "    </g>\n",
              "</svg>\n",
              "  </button>\n",
              "\n",
              "<style>\n",
              "  .colab-df-quickchart {\n",
              "      --bg-color: #E8F0FE;\n",
              "      --fill-color: #1967D2;\n",
              "      --hover-bg-color: #E2EBFA;\n",
              "      --hover-fill-color: #174EA6;\n",
              "      --disabled-fill-color: #AAA;\n",
              "      --disabled-bg-color: #DDD;\n",
              "  }\n",
              "\n",
              "  [theme=dark] .colab-df-quickchart {\n",
              "      --bg-color: #3B4455;\n",
              "      --fill-color: #D2E3FC;\n",
              "      --hover-bg-color: #434B5C;\n",
              "      --hover-fill-color: #FFFFFF;\n",
              "      --disabled-bg-color: #3B4455;\n",
              "      --disabled-fill-color: #666;\n",
              "  }\n",
              "\n",
              "  .colab-df-quickchart {\n",
              "    background-color: var(--bg-color);\n",
              "    border: none;\n",
              "    border-radius: 50%;\n",
              "    cursor: pointer;\n",
              "    display: none;\n",
              "    fill: var(--fill-color);\n",
              "    height: 32px;\n",
              "    padding: 0;\n",
              "    width: 32px;\n",
              "  }\n",
              "\n",
              "  .colab-df-quickchart:hover {\n",
              "    background-color: var(--hover-bg-color);\n",
              "    box-shadow: 0 1px 2px rgba(60, 64, 67, 0.3), 0 1px 3px 1px rgba(60, 64, 67, 0.15);\n",
              "    fill: var(--button-hover-fill-color);\n",
              "  }\n",
              "\n",
              "  .colab-df-quickchart-complete:disabled,\n",
              "  .colab-df-quickchart-complete:disabled:hover {\n",
              "    background-color: var(--disabled-bg-color);\n",
              "    fill: var(--disabled-fill-color);\n",
              "    box-shadow: none;\n",
              "  }\n",
              "\n",
              "  .colab-df-spinner {\n",
              "    border: 2px solid var(--fill-color);\n",
              "    border-color: transparent;\n",
              "    border-bottom-color: var(--fill-color);\n",
              "    animation:\n",
              "      spin 1s steps(1) infinite;\n",
              "  }\n",
              "\n",
              "  @keyframes spin {\n",
              "    0% {\n",
              "      border-color: transparent;\n",
              "      border-bottom-color: var(--fill-color);\n",
              "      border-left-color: var(--fill-color);\n",
              "    }\n",
              "    20% {\n",
              "      border-color: transparent;\n",
              "      border-left-color: var(--fill-color);\n",
              "      border-top-color: var(--fill-color);\n",
              "    }\n",
              "    30% {\n",
              "      border-color: transparent;\n",
              "      border-left-color: var(--fill-color);\n",
              "      border-top-color: var(--fill-color);\n",
              "      border-right-color: var(--fill-color);\n",
              "    }\n",
              "    40% {\n",
              "      border-color: transparent;\n",
              "      border-right-color: var(--fill-color);\n",
              "      border-top-color: var(--fill-color);\n",
              "    }\n",
              "    60% {\n",
              "      border-color: transparent;\n",
              "      border-right-color: var(--fill-color);\n",
              "    }\n",
              "    80% {\n",
              "      border-color: transparent;\n",
              "      border-right-color: var(--fill-color);\n",
              "      border-bottom-color: var(--fill-color);\n",
              "    }\n",
              "    90% {\n",
              "      border-color: transparent;\n",
              "      border-bottom-color: var(--fill-color);\n",
              "    }\n",
              "  }\n",
              "</style>\n",
              "\n",
              "  <script>\n",
              "    async function quickchart(key) {\n",
              "      const quickchartButtonEl =\n",
              "        document.querySelector('#' + key + ' button');\n",
              "      quickchartButtonEl.disabled = true;  // To prevent multiple clicks.\n",
              "      quickchartButtonEl.classList.add('colab-df-spinner');\n",
              "      try {\n",
              "        const charts = await google.colab.kernel.invokeFunction(\n",
              "            'suggestCharts', [key], {});\n",
              "      } catch (error) {\n",
              "        console.error('Error during call to suggestCharts:', error);\n",
              "      }\n",
              "      quickchartButtonEl.classList.remove('colab-df-spinner');\n",
              "      quickchartButtonEl.classList.add('colab-df-quickchart-complete');\n",
              "    }\n",
              "    (() => {\n",
              "      let quickchartButtonEl =\n",
              "        document.querySelector('#df-56fd08a0-9df7-448a-9356-23448f0cb134 button');\n",
              "      quickchartButtonEl.style.display =\n",
              "        google.colab.kernel.accessAllowed ? 'block' : 'none';\n",
              "    })();\n",
              "  </script>\n",
              "</div>\n",
              "    </div>\n",
              "  </div>\n"
            ],
            "text/plain": [
              "                     quantity_sum  quantity_mean  quantity_median  \\\n",
              "client_id                                                           \n",
              "1515915625518117010          0.33          -0.05            -0.04   \n",
              "1515915625551836337         -0.14          -0.05            -0.04   \n",
              "1515915625518107116         -0.45          -0.05            -0.04   \n",
              "1515915625518777669         -0.45          -0.05            -0.04   \n",
              "1515915625586004794          0.64          -0.05            -0.04   \n",
              "\n",
              "                     quantity_min  quantity_max  price_sum  price_mean  \\\n",
              "client_id                                                                \n",
              "1515915625518117010         -0.03         -0.04      -0.21       -0.44   \n",
              "1515915625551836337         -0.03         -0.04       0.08        0.06   \n",
              "1515915625518107116         -0.03         -0.04      -0.23       -0.46   \n",
              "1515915625518777669         -0.03         -0.04      -0.21       -0.38   \n",
              "1515915625586004794         -0.03         -0.04      -0.16       -0.42   \n",
              "\n",
              "                     price_median  price_min  price_max  date_count  \\\n",
              "client_id                                                             \n",
              "1515915625518117010         -0.44      -0.36      -0.43        0.35   \n",
              "1515915625551836337         -0.16      -0.31       0.48       -0.14   \n",
              "1515915625518107116         -0.44      -0.36      -0.49       -0.47   \n",
              "1515915625518777669         -0.37      -0.28      -0.43       -0.47   \n",
              "1515915625586004794         -0.40      -0.36      -0.42        0.68   \n",
              "\n",
              "                     total_buy  mean_buy_days  mean_quantity_month  \\\n",
              "client_id                                                            \n",
              "1515915625518117010      -0.24           0.39                 0.33   \n",
              "1515915625551836337       0.84          -2.14                -0.14   \n",
              "1515915625518107116      -0.24           0.39                -0.45   \n",
              "1515915625518777669      -0.24           0.39                -0.45   \n",
              "1515915625586004794      -0.24           0.39                 0.64   \n",
              "\n",
              "                     mean_order_month  mean_price_month  \n",
              "client_id                                                \n",
              "1515915625518117010              0.35             -0.21  \n",
              "1515915625551836337             -0.14              0.08  \n",
              "1515915625518107116             -0.47             -0.23  \n",
              "1515915625518777669             -0.47             -0.21  \n",
              "1515915625586004794              0.68             -0.16  "
            ]
          },
          "execution_count": 1389,
          "metadata": {},
          "output_type": "execute_result"
        }
      ],
      "source": [
        "x_test.head()"
      ]
    },
    {
      "cell_type": "markdown",
      "metadata": {
        "id": "BVSm3zIyuG1J"
      },
      "source": [
        "#### Вывод:\n",
        "\n",
        "1.\tДатасет разделен на обучающую 75% и тестовую выборку 25%\n",
        "2.\tКатегориальные признаки в таргете преобразованы в численные техникой LabelEncoder библиотеки sklearn.\n",
        "3.\tПроведено масштабирование признаков. Для выборки train применен метод fit и transform совместно - fit_transform, а для выборки test – transform.\n"
      ]
    },
    {
      "cell_type": "markdown",
      "metadata": {
        "id": "Z89amYfUviHg"
      },
      "source": [
        "# Обучение модели"
      ]
    },
    {
      "cell_type": "markdown",
      "metadata": {
        "id": "u92fGFdkw_j8"
      },
      "source": [
        "В таргете имеем дисбалланс классов - устраняем."
      ]
    },
    {
      "cell_type": "code",
      "execution_count": null,
      "metadata": {
        "id": "IqcvAzuPwSKJ"
      },
      "outputs": [],
      "source": [
        "classes = np.unique(y_train)\n",
        "weights = compute_class_weight(class_weight='balanced', classes=classes, y=y_train)\n",
        "class_weights = dict(zip(classes, weights))"
      ]
    },
    {
      "cell_type": "markdown",
      "metadata": {
        "id": "E_vveN19xbcD"
      },
      "source": [
        "Обучать будем модель CatBoostClassifier"
      ]
    },
    {
      "cell_type": "code",
      "execution_count": null,
      "metadata": {
        "colab": {
          "base_uri": "https://localhost:8080/"
        },
        "id": "zsYcGl0ExeKQ",
        "outputId": "32a69a93-6569-4222-b802-5100014ba99f"
      },
      "outputs": [
        {
          "name": "stdout",
          "output_type": "stream",
          "text": [
            "0:\tlearn: 1.3556083\ttotal: 56.5ms\tremaining: 56.4s\n",
            "100:\tlearn: 0.6507665\ttotal: 6.85s\tremaining: 1m\n",
            "200:\tlearn: 0.6085929\ttotal: 12.3s\tremaining: 48.9s\n",
            "300:\tlearn: 0.5884000\ttotal: 19s\tremaining: 44.2s\n",
            "400:\tlearn: 0.5731976\ttotal: 24.4s\tremaining: 36.5s\n",
            "500:\tlearn: 0.5617338\ttotal: 31.2s\tremaining: 31.1s\n",
            "600:\tlearn: 0.5526687\ttotal: 36.6s\tremaining: 24.3s\n",
            "700:\tlearn: 0.5461134\ttotal: 43.5s\tremaining: 18.5s\n",
            "800:\tlearn: 0.5407762\ttotal: 49s\tremaining: 12.2s\n",
            "900:\tlearn: 0.5360704\ttotal: 55.8s\tremaining: 6.13s\n",
            "999:\tlearn: 0.5317490\ttotal: 1m 1s\tremaining: 0us\n",
            "CPU times: user 1min 44s, sys: 2.43 s, total: 1min 47s\n",
            "Wall time: 1min 1s\n"
          ]
        }
      ],
      "source": [
        "%%time\n",
        "\n",
        "model = CatBoostClassifier(\n",
        "        random_state=42,\n",
        "        early_stopping_rounds=100,\n",
        "        #learning_rate=0.01,\n",
        "        leaf_estimation_method='Gradient',\n",
        "        iterations=1000,\n",
        "        subsample=0.02,\n",
        "        #max_depth=4,\n",
        "        verbose=100,\n",
        "        #l2_leaf_reg = 7,\n",
        "        bootstrap_type=\"Bernoulli\",\n",
        "        class_weights=class_weights,\n",
        "        loss_function='MultiClass',\n",
        "        eval_metric='TotalF1'\n",
        "        )\n",
        "\n",
        "model.fit(x_train, y_train)\n",
        "pred = model.predict(x_test)"
      ]
    },
    {
      "cell_type": "code",
      "execution_count": null,
      "metadata": {
        "colab": {
          "base_uri": "https://localhost:8080/"
        },
        "id": "v6f66nMLx4Co",
        "outputId": "63f73e16-d7dd-4c5b-d6ab-6854981e3ac4"
      },
      "outputs": [
        {
          "name": "stdout",
          "output_type": "stream",
          "text": [
            "              precision    recall  f1-score   support\n",
            "\n",
            "           0       0.48      0.72      0.58      1839\n",
            "           1       0.76      0.46      0.58      5854\n",
            "           2       0.42      0.97      0.58       284\n",
            "           3       0.67      0.84      0.74      3774\n",
            "\n",
            "    accuracy                           0.64     11751\n",
            "   macro avg       0.58      0.75      0.62     11751\n",
            "weighted avg       0.68      0.64      0.63     11751\n",
            "\n"
          ]
        }
      ],
      "source": [
        "print(classification_report(y_test, pred))"
      ]
    },
    {
      "cell_type": "markdown",
      "metadata": {
        "id": "QrrqKTNOUMAW"
      },
      "source": [
        "**************"
      ]
    },
    {
      "cell_type": "markdown",
      "metadata": {
        "id": "e1HW9I8fTTJd"
      },
      "source": [
        "# Вывод"
      ]
    },
    {
      "cell_type": "markdown",
      "metadata": {
        "id": "O5ywjWnxTQqW"
      },
      "source": [
        "С целью создания решения для предсказания, совершит ли покупатель повторную покупку в течение ближайших 30 дней по информации трех интернет-магазинов: мультикатегорийный магазин с посещаемостью более 8 млн сессий в месяц, магазин одежды, маленький магазин подарков проведен исследовательский анализ данных, предобработка и генерация необходимых признаков.\n",
        "\n",
        "Данные использованы для обучения модели CatBoostClassifier.\n",
        "\n",
        "В ходе проверки модели получены значения удовлетворительного уровня recall - 0.75, при этом значение precision 0.58.\n",
        "\n",
        "Модель предсказывает категорию покупателя premiere, best, potential и so_so.\n",
        "Далее для получения результата КАКОЙ ПОКУПАТЕЛЬ КУПИТ В ТЕЧЕНИИ 30 ДНЕЙ следует воспользоваться алгоритмом расчета:\n",
        "\n",
        "1. таблица y_30 - клиенты, которые совершают покупку не реже 1 раза в месяц\n",
        "2. таблица таблица y_30 - клиенты, которые совершили покупки в течении последнего месяца заданного периода\n"
      ]
    }
  ],
  "metadata": {
    "ExecuteTimeLog": [
      {
        "duration": 9724,
        "start_time": "2022-05-22T15:13:50.449Z"
      },
      {
        "duration": 1523,
        "start_time": "2022-05-22T15:28:28.179Z"
      },
      {
        "duration": 56,
        "start_time": "2022-05-22T15:28:59.097Z"
      },
      {
        "duration": 25,
        "start_time": "2022-05-22T15:28:59.370Z"
      },
      {
        "duration": 53,
        "start_time": "2022-05-22T15:28:59.641Z"
      },
      {
        "duration": 20,
        "start_time": "2022-05-22T15:28:59.888Z"
      },
      {
        "duration": 42,
        "start_time": "2022-05-22T15:29:00.184Z"
      },
      {
        "duration": 18,
        "start_time": "2022-05-22T15:29:00.465Z"
      },
      {
        "duration": 66,
        "start_time": "2022-05-22T15:29:03.524Z"
      },
      {
        "duration": 7,
        "start_time": "2022-05-22T15:29:04.132Z"
      },
      {
        "duration": 48,
        "start_time": "2022-05-22T15:29:11.540Z"
      },
      {
        "duration": 17,
        "start_time": "2022-05-22T15:29:14.789Z"
      },
      {
        "duration": 4,
        "start_time": "2022-05-22T15:29:23.506Z"
      },
      {
        "duration": 3,
        "start_time": "2022-05-22T15:29:29.505Z"
      },
      {
        "duration": 4,
        "start_time": "2022-05-22T15:29:29.772Z"
      },
      {
        "duration": 18,
        "start_time": "2022-05-22T15:29:37.819Z"
      },
      {
        "duration": 12,
        "start_time": "2022-05-22T15:29:59.193Z"
      },
      {
        "duration": 10,
        "start_time": "2022-05-22T15:29:59.694Z"
      },
      {
        "duration": 9,
        "start_time": "2022-05-22T15:30:02.168Z"
      },
      {
        "duration": 11,
        "start_time": "2022-05-22T15:30:31.760Z"
      },
      {
        "duration": 30,
        "start_time": "2022-05-22T15:30:32.222Z"
      },
      {
        "duration": 10,
        "start_time": "2022-05-22T15:30:32.618Z"
      },
      {
        "duration": 6,
        "start_time": "2022-05-22T15:30:33.400Z"
      },
      {
        "duration": 16,
        "start_time": "2022-05-22T15:30:41.320Z"
      },
      {
        "duration": 8,
        "start_time": "2022-05-22T15:30:50.277Z"
      },
      {
        "duration": 419,
        "start_time": "2022-05-22T15:30:53.074Z"
      },
      {
        "duration": 8,
        "start_time": "2022-05-22T15:31:02.269Z"
      },
      {
        "duration": 278,
        "start_time": "2022-05-22T15:31:04.497Z"
      },
      {
        "duration": 12,
        "start_time": "2022-05-22T15:32:06.292Z"
      },
      {
        "duration": 9,
        "start_time": "2022-05-22T15:32:09.765Z"
      },
      {
        "duration": 18,
        "start_time": "2022-05-22T15:32:12.823Z"
      },
      {
        "duration": 3,
        "start_time": "2022-05-22T15:32:17.330Z"
      },
      {
        "duration": 39,
        "start_time": "2022-05-22T15:32:19.565Z"
      },
      {
        "duration": 3,
        "start_time": "2022-05-22T15:32:33.698Z"
      },
      {
        "duration": 6,
        "start_time": "2022-05-22T15:32:36.265Z"
      },
      {
        "duration": 7,
        "start_time": "2022-05-22T15:32:41.767Z"
      },
      {
        "duration": 5,
        "start_time": "2022-05-22T15:32:44.968Z"
      },
      {
        "duration": 9,
        "start_time": "2022-05-22T15:32:53.168Z"
      },
      {
        "duration": 5,
        "start_time": "2022-05-22T15:33:28.630Z"
      },
      {
        "duration": 6,
        "start_time": "2022-05-22T15:33:29.086Z"
      },
      {
        "duration": 6,
        "start_time": "2022-05-22T15:33:30.627Z"
      },
      {
        "duration": 4,
        "start_time": "2022-05-22T15:33:31.684Z"
      },
      {
        "duration": 14,
        "start_time": "2022-05-22T15:33:33.660Z"
      },
      {
        "duration": 10,
        "start_time": "2022-05-22T15:33:38.670Z"
      },
      {
        "duration": 280,
        "start_time": "2022-05-22T15:33:40.746Z"
      },
      {
        "duration": 7,
        "start_time": "2022-05-22T15:33:46.569Z"
      },
      {
        "duration": 10,
        "start_time": "2022-05-22T15:33:48.578Z"
      },
      {
        "duration": 260,
        "start_time": "2022-05-22T15:33:51.569Z"
      },
      {
        "duration": 400,
        "start_time": "2022-05-22T15:33:57.928Z"
      },
      {
        "duration": 14,
        "start_time": "2022-05-22T15:34:04.265Z"
      },
      {
        "duration": 6,
        "start_time": "2022-05-22T15:34:37.869Z"
      },
      {
        "duration": 32,
        "start_time": "2022-05-22T15:34:41.204Z"
      },
      {
        "duration": 3,
        "start_time": "2022-05-22T15:34:46.769Z"
      },
      {
        "duration": 3,
        "start_time": "2022-05-22T15:34:47.325Z"
      },
      {
        "duration": 8,
        "start_time": "2022-05-22T15:34:47.828Z"
      },
      {
        "duration": 9,
        "start_time": "2022-05-22T15:34:48.528Z"
      },
      {
        "duration": 22,
        "start_time": "2022-05-22T15:34:57.680Z"
      },
      {
        "duration": 18,
        "start_time": "2022-05-22T15:34:59.602Z"
      },
      {
        "duration": 6,
        "start_time": "2022-05-22T15:35:08.698Z"
      },
      {
        "duration": 5,
        "start_time": "2022-05-22T15:35:12.969Z"
      },
      {
        "duration": 7,
        "start_time": "2022-05-22T15:35:20.714Z"
      },
      {
        "duration": 3,
        "start_time": "2022-05-22T15:35:22.768Z"
      },
      {
        "duration": 4,
        "start_time": "2022-05-22T15:35:26.035Z"
      },
      {
        "duration": 3,
        "start_time": "2022-05-22T15:35:30.107Z"
      },
      {
        "duration": 6812,
        "start_time": "2022-05-22T15:35:52.867Z"
      },
      {
        "duration": 1913,
        "start_time": "2022-05-22T15:35:59.813Z"
      },
      {
        "duration": 119,
        "start_time": "2022-05-22T15:36:08.392Z"
      },
      {
        "duration": 139,
        "start_time": "2022-05-22T15:36:13.788Z"
      },
      {
        "duration": 10,
        "start_time": "2022-05-22T15:36:21.237Z"
      },
      {
        "duration": 10,
        "start_time": "2022-05-22T15:36:21.739Z"
      },
      {
        "duration": 7,
        "start_time": "2022-05-22T15:36:24.704Z"
      },
      {
        "duration": 27649,
        "start_time": "2022-05-22T15:36:30.671Z"
      },
      {
        "duration": 6,
        "start_time": "2022-05-22T15:36:58.322Z"
      },
      {
        "duration": 57,
        "start_time": "2022-05-22T15:36:58.330Z"
      },
      {
        "duration": 886,
        "start_time": "2022-05-22T15:36:58.389Z"
      },
      {
        "duration": 20,
        "start_time": "2022-05-22T15:36:59.350Z"
      },
      {
        "duration": 6,
        "start_time": "2022-05-22T15:36:59.442Z"
      },
      {
        "duration": 10,
        "start_time": "2022-05-22T15:37:04.122Z"
      },
      {
        "duration": 1409,
        "start_time": "2022-05-22T19:02:49.348Z"
      },
      {
        "duration": 94,
        "start_time": "2022-05-22T19:02:53.879Z"
      },
      {
        "duration": 16,
        "start_time": "2022-05-22T19:02:54.092Z"
      },
      {
        "duration": 36,
        "start_time": "2022-05-22T19:02:54.268Z"
      },
      {
        "duration": 10,
        "start_time": "2022-05-22T19:02:54.400Z"
      },
      {
        "duration": 38,
        "start_time": "2022-05-22T19:02:54.591Z"
      },
      {
        "duration": 12,
        "start_time": "2022-05-22T19:02:54.962Z"
      },
      {
        "duration": 43,
        "start_time": "2022-05-22T19:02:55.547Z"
      },
      {
        "duration": 8,
        "start_time": "2022-05-22T19:02:56.550Z"
      },
      {
        "duration": 29,
        "start_time": "2022-05-22T19:02:57.413Z"
      },
      {
        "duration": 19,
        "start_time": "2022-05-22T19:02:57.682Z"
      },
      {
        "duration": 3,
        "start_time": "2022-05-22T19:03:42.863Z"
      },
      {
        "duration": 3,
        "start_time": "2022-05-22T19:03:44.906Z"
      },
      {
        "duration": 3,
        "start_time": "2022-05-22T19:03:45.844Z"
      },
      {
        "duration": 21,
        "start_time": "2022-05-22T19:03:47.599Z"
      },
      {
        "duration": 13,
        "start_time": "2022-05-22T19:04:06.285Z"
      },
      {
        "duration": 10,
        "start_time": "2022-05-22T19:04:07.156Z"
      },
      {
        "duration": 10,
        "start_time": "2022-05-22T19:04:07.850Z"
      },
      {
        "duration": 7,
        "start_time": "2022-05-22T19:04:09.616Z"
      },
      {
        "duration": 22,
        "start_time": "2022-05-22T19:04:09.799Z"
      },
      {
        "duration": 9,
        "start_time": "2022-05-22T19:04:09.992Z"
      },
      {
        "duration": 6,
        "start_time": "2022-05-22T19:04:10.648Z"
      },
      {
        "duration": 16,
        "start_time": "2022-05-22T19:04:13.212Z"
      },
      {
        "duration": 8,
        "start_time": "2022-05-22T19:05:22.610Z"
      },
      {
        "duration": 926,
        "start_time": "2022-05-22T19:05:23.454Z"
      },
      {
        "duration": 9,
        "start_time": "2022-05-22T19:06:41.407Z"
      },
      {
        "duration": 239,
        "start_time": "2022-05-22T19:06:42.147Z"
      },
      {
        "duration": 12,
        "start_time": "2022-05-22T19:07:03.091Z"
      },
      {
        "duration": 10,
        "start_time": "2022-05-22T19:07:04.694Z"
      },
      {
        "duration": 12,
        "start_time": "2022-05-22T19:07:05.145Z"
      },
      {
        "duration": 3,
        "start_time": "2022-05-22T19:07:06.031Z"
      },
      {
        "duration": 35,
        "start_time": "2022-05-22T19:07:06.580Z"
      },
      {
        "duration": 4,
        "start_time": "2022-05-22T19:07:47.659Z"
      },
      {
        "duration": 6,
        "start_time": "2022-05-22T19:07:48.247Z"
      },
      {
        "duration": 7,
        "start_time": "2022-05-22T19:07:54.978Z"
      },
      {
        "duration": 6,
        "start_time": "2022-05-22T19:07:56.075Z"
      },
      {
        "duration": 6,
        "start_time": "2022-05-22T19:08:19.108Z"
      },
      {
        "duration": 4,
        "start_time": "2022-05-22T19:08:20.682Z"
      },
      {
        "duration": 7,
        "start_time": "2022-05-22T19:08:21.274Z"
      },
      {
        "duration": 5,
        "start_time": "2022-05-22T19:08:22.294Z"
      },
      {
        "duration": 4,
        "start_time": "2022-05-22T19:08:22.905Z"
      },
      {
        "duration": 6,
        "start_time": "2022-05-22T19:08:23.118Z"
      },
      {
        "duration": 9,
        "start_time": "2022-05-22T19:08:24.349Z"
      },
      {
        "duration": 218,
        "start_time": "2022-05-22T19:08:24.601Z"
      },
      {
        "duration": 5,
        "start_time": "2022-05-22T19:08:25.253Z"
      },
      {
        "duration": 8,
        "start_time": "2022-05-22T19:08:25.457Z"
      },
      {
        "duration": 210,
        "start_time": "2022-05-22T19:08:25.687Z"
      },
      {
        "duration": 398,
        "start_time": "2022-05-22T19:08:27.391Z"
      },
      {
        "duration": 12,
        "start_time": "2022-05-22T19:08:27.791Z"
      },
      {
        "duration": 5,
        "start_time": "2022-05-22T19:08:38.405Z"
      },
      {
        "duration": 3,
        "start_time": "2022-05-22T19:10:13.693Z"
      },
      {
        "duration": 4,
        "start_time": "2022-05-22T19:10:14.417Z"
      },
      {
        "duration": 9,
        "start_time": "2022-05-22T19:10:15.005Z"
      },
      {
        "duration": 10,
        "start_time": "2022-05-22T19:10:15.768Z"
      },
      {
        "duration": 20,
        "start_time": "2022-05-22T19:10:25.847Z"
      },
      {
        "duration": 15,
        "start_time": "2022-05-22T19:10:26.376Z"
      },
      {
        "duration": 6,
        "start_time": "2022-05-22T19:11:48.609Z"
      },
      {
        "duration": 4,
        "start_time": "2022-05-22T19:11:49.714Z"
      },
      {
        "duration": 4,
        "start_time": "2022-05-22T19:11:51.358Z"
      },
      {
        "duration": 3,
        "start_time": "2022-05-22T19:11:51.967Z"
      },
      {
        "duration": 4,
        "start_time": "2022-05-22T19:11:52.471Z"
      },
      {
        "duration": 3,
        "start_time": "2022-05-22T19:11:53.578Z"
      },
      {
        "duration": 6351,
        "start_time": "2022-05-22T19:12:34.725Z"
      },
      {
        "duration": 1151,
        "start_time": "2022-05-22T19:12:41.096Z"
      },
      {
        "duration": 116,
        "start_time": "2022-05-22T19:12:45.357Z"
      },
      {
        "duration": 5,
        "start_time": "2022-05-22T19:12:46.021Z"
      },
      {
        "duration": 6,
        "start_time": "2022-05-22T19:12:46.752Z"
      },
      {
        "duration": 6,
        "start_time": "2022-05-22T19:12:47.356Z"
      },
      {
        "duration": 24471,
        "start_time": "2022-05-22T19:12:49.415Z"
      },
      {
        "duration": 4,
        "start_time": "2022-05-22T19:13:13.888Z"
      },
      {
        "duration": 7,
        "start_time": "2022-05-22T19:13:13.894Z"
      },
      {
        "duration": 830,
        "start_time": "2022-05-22T19:13:13.903Z"
      },
      {
        "duration": 96,
        "start_time": "2022-05-22T19:13:14.735Z"
      },
      {
        "duration": 95,
        "start_time": "2022-05-22T19:13:14.833Z"
      },
      {
        "duration": 23,
        "start_time": "2022-05-22T19:13:14.930Z"
      },
      {
        "duration": 1586,
        "start_time": "2022-05-23T12:14:58.801Z"
      },
      {
        "duration": 94,
        "start_time": "2022-05-23T12:15:00.389Z"
      },
      {
        "duration": 16,
        "start_time": "2022-05-23T12:15:00.485Z"
      },
      {
        "duration": 38,
        "start_time": "2022-05-23T12:15:00.503Z"
      },
      {
        "duration": 9,
        "start_time": "2022-05-23T12:15:00.543Z"
      },
      {
        "duration": 61,
        "start_time": "2022-05-23T12:15:00.554Z"
      },
      {
        "duration": 12,
        "start_time": "2022-05-23T12:15:00.618Z"
      },
      {
        "duration": 60,
        "start_time": "2022-05-23T12:15:00.632Z"
      },
      {
        "duration": 6,
        "start_time": "2022-05-23T12:15:00.694Z"
      },
      {
        "duration": 48,
        "start_time": "2022-05-23T12:15:00.703Z"
      },
      {
        "duration": 31,
        "start_time": "2022-05-23T12:15:00.752Z"
      },
      {
        "duration": 25,
        "start_time": "2022-05-23T12:15:00.785Z"
      },
      {
        "duration": 24,
        "start_time": "2022-05-23T12:15:00.812Z"
      },
      {
        "duration": 14,
        "start_time": "2022-05-23T12:15:00.838Z"
      },
      {
        "duration": 33,
        "start_time": "2022-05-23T12:15:00.853Z"
      },
      {
        "duration": 20,
        "start_time": "2022-05-23T12:15:00.888Z"
      },
      {
        "duration": 10,
        "start_time": "2022-05-23T12:15:04.501Z"
      },
      {
        "duration": 30,
        "start_time": "2022-05-23T12:15:53.883Z"
      },
      {
        "duration": 10,
        "start_time": "2022-05-23T12:16:51.279Z"
      },
      {
        "duration": 6,
        "start_time": "2022-05-23T12:39:24.645Z"
      },
      {
        "duration": 51,
        "start_time": "2022-05-23T12:39:24.653Z"
      },
      {
        "duration": 11,
        "start_time": "2022-05-23T12:39:24.706Z"
      },
      {
        "duration": 16,
        "start_time": "2022-05-23T12:39:24.720Z"
      },
      {
        "duration": 9,
        "start_time": "2022-05-23T12:39:24.739Z"
      },
      {
        "duration": 27,
        "start_time": "2022-05-23T12:39:24.751Z"
      },
      {
        "duration": 11,
        "start_time": "2022-05-23T12:39:24.782Z"
      },
      {
        "duration": 17,
        "start_time": "2022-05-23T12:39:24.795Z"
      },
      {
        "duration": 8,
        "start_time": "2022-05-23T12:39:24.814Z"
      },
      {
        "duration": 51,
        "start_time": "2022-05-23T12:39:24.823Z"
      },
      {
        "duration": 30,
        "start_time": "2022-05-23T12:39:24.878Z"
      },
      {
        "duration": 6,
        "start_time": "2022-05-23T12:39:24.910Z"
      },
      {
        "duration": 9,
        "start_time": "2022-05-23T12:39:24.918Z"
      },
      {
        "duration": 7,
        "start_time": "2022-05-23T12:39:24.930Z"
      },
      {
        "duration": 61,
        "start_time": "2022-05-23T12:39:24.938Z"
      },
      {
        "duration": 18,
        "start_time": "2022-05-23T12:39:25.001Z"
      },
      {
        "duration": 38,
        "start_time": "2022-05-23T12:39:25.022Z"
      },
      {
        "duration": 16,
        "start_time": "2022-05-23T12:39:25.061Z"
      },
      {
        "duration": 18,
        "start_time": "2022-05-23T12:39:25.079Z"
      },
      {
        "duration": 29,
        "start_time": "2022-05-23T12:39:25.099Z"
      },
      {
        "duration": 12,
        "start_time": "2022-05-23T12:39:25.130Z"
      },
      {
        "duration": 34,
        "start_time": "2022-05-23T12:39:25.144Z"
      },
      {
        "duration": 32,
        "start_time": "2022-05-23T12:39:25.180Z"
      },
      {
        "duration": 12,
        "start_time": "2022-05-23T12:39:25.214Z"
      },
      {
        "duration": 720,
        "start_time": "2022-05-23T12:39:25.229Z"
      },
      {
        "duration": 7,
        "start_time": "2022-05-23T12:40:00.377Z"
      },
      {
        "duration": 56,
        "start_time": "2022-05-23T12:40:00.386Z"
      },
      {
        "duration": 13,
        "start_time": "2022-05-23T12:40:00.444Z"
      },
      {
        "duration": 41,
        "start_time": "2022-05-23T12:40:00.460Z"
      },
      {
        "duration": 11,
        "start_time": "2022-05-23T12:40:00.503Z"
      },
      {
        "duration": 32,
        "start_time": "2022-05-23T12:40:00.516Z"
      },
      {
        "duration": 29,
        "start_time": "2022-05-23T12:40:00.550Z"
      },
      {
        "duration": 42,
        "start_time": "2022-05-23T12:40:00.582Z"
      },
      {
        "duration": 21,
        "start_time": "2022-05-23T12:40:00.627Z"
      },
      {
        "duration": 64,
        "start_time": "2022-05-23T12:40:00.650Z"
      },
      {
        "duration": 24,
        "start_time": "2022-05-23T12:40:00.716Z"
      },
      {
        "duration": 17,
        "start_time": "2022-05-23T12:40:00.742Z"
      },
      {
        "duration": 40,
        "start_time": "2022-05-23T12:40:00.760Z"
      },
      {
        "duration": 33,
        "start_time": "2022-05-23T12:40:00.802Z"
      },
      {
        "duration": 46,
        "start_time": "2022-05-23T12:40:00.837Z"
      },
      {
        "duration": 30,
        "start_time": "2022-05-23T12:40:00.885Z"
      },
      {
        "duration": 74,
        "start_time": "2022-05-23T12:40:00.917Z"
      },
      {
        "duration": 40,
        "start_time": "2022-05-23T12:40:00.993Z"
      },
      {
        "duration": 55,
        "start_time": "2022-05-23T12:40:01.035Z"
      },
      {
        "duration": 41,
        "start_time": "2022-05-23T12:40:01.092Z"
      },
      {
        "duration": 11,
        "start_time": "2022-05-23T12:40:01.135Z"
      },
      {
        "duration": 44,
        "start_time": "2022-05-23T12:40:01.148Z"
      },
      {
        "duration": 38,
        "start_time": "2022-05-23T12:40:01.194Z"
      },
      {
        "duration": 18,
        "start_time": "2022-05-23T12:40:01.238Z"
      },
      {
        "duration": 358,
        "start_time": "2022-05-23T12:40:01.259Z"
      },
      {
        "duration": 11,
        "start_time": "2022-05-23T12:40:01.619Z"
      },
      {
        "duration": 352,
        "start_time": "2022-05-23T12:40:01.632Z"
      },
      {
        "duration": 15,
        "start_time": "2022-05-23T12:40:01.986Z"
      },
      {
        "duration": 12,
        "start_time": "2022-05-23T12:40:02.004Z"
      },
      {
        "duration": 23,
        "start_time": "2022-05-23T12:40:02.018Z"
      },
      {
        "duration": 43,
        "start_time": "2022-05-23T12:40:02.043Z"
      },
      {
        "duration": 59,
        "start_time": "2022-05-23T12:40:02.088Z"
      },
      {
        "duration": 5,
        "start_time": "2022-05-23T12:40:02.149Z"
      },
      {
        "duration": 10,
        "start_time": "2022-05-23T12:40:02.155Z"
      },
      {
        "duration": 31,
        "start_time": "2022-05-23T12:40:02.166Z"
      },
      {
        "duration": 10,
        "start_time": "2022-05-23T12:40:02.199Z"
      },
      {
        "duration": 24,
        "start_time": "2022-05-23T12:40:02.212Z"
      },
      {
        "duration": 22,
        "start_time": "2022-05-23T12:40:02.238Z"
      },
      {
        "duration": 28,
        "start_time": "2022-05-23T12:40:02.262Z"
      },
      {
        "duration": 20,
        "start_time": "2022-05-23T12:40:02.292Z"
      },
      {
        "duration": 10,
        "start_time": "2022-05-23T12:40:02.314Z"
      },
      {
        "duration": 19,
        "start_time": "2022-05-23T12:40:02.326Z"
      },
      {
        "duration": 20,
        "start_time": "2022-05-23T12:40:02.347Z"
      },
      {
        "duration": 327,
        "start_time": "2022-05-23T12:40:02.369Z"
      },
      {
        "duration": 5,
        "start_time": "2022-05-23T12:40:02.698Z"
      },
      {
        "duration": 14,
        "start_time": "2022-05-23T12:40:02.705Z"
      },
      {
        "duration": 298,
        "start_time": "2022-05-23T12:40:02.721Z"
      },
      {
        "duration": 595,
        "start_time": "2022-05-23T12:40:03.021Z"
      },
      {
        "duration": 12,
        "start_time": "2022-05-23T12:40:03.618Z"
      },
      {
        "duration": 6,
        "start_time": "2022-05-23T12:40:03.632Z"
      },
      {
        "duration": 16,
        "start_time": "2022-05-23T12:40:03.639Z"
      },
      {
        "duration": 22,
        "start_time": "2022-05-23T12:40:03.664Z"
      },
      {
        "duration": 26,
        "start_time": "2022-05-23T12:40:03.688Z"
      },
      {
        "duration": 16,
        "start_time": "2022-05-23T12:40:03.716Z"
      },
      {
        "duration": 28,
        "start_time": "2022-05-23T12:40:03.734Z"
      },
      {
        "duration": 26,
        "start_time": "2022-05-23T12:40:03.764Z"
      },
      {
        "duration": 26,
        "start_time": "2022-05-23T12:40:03.792Z"
      },
      {
        "duration": 5,
        "start_time": "2022-05-23T12:40:03.820Z"
      },
      {
        "duration": 10,
        "start_time": "2022-05-23T12:40:03.827Z"
      },
      {
        "duration": 10,
        "start_time": "2022-05-23T12:40:03.839Z"
      },
      {
        "duration": 12,
        "start_time": "2022-05-23T12:40:03.851Z"
      },
      {
        "duration": 20,
        "start_time": "2022-05-23T12:40:03.866Z"
      },
      {
        "duration": 7371,
        "start_time": "2022-05-23T12:40:03.888Z"
      },
      {
        "duration": 1350,
        "start_time": "2022-05-23T12:40:11.261Z"
      },
      {
        "duration": 138,
        "start_time": "2022-05-23T12:40:12.612Z"
      },
      {
        "duration": 12,
        "start_time": "2022-05-23T12:40:12.752Z"
      },
      {
        "duration": 12,
        "start_time": "2022-05-23T12:40:12.771Z"
      },
      {
        "duration": 12,
        "start_time": "2022-05-23T12:40:12.784Z"
      },
      {
        "duration": 29743,
        "start_time": "2022-05-23T12:40:12.801Z"
      },
      {
        "duration": 8,
        "start_time": "2022-05-23T12:40:42.546Z"
      },
      {
        "duration": 10,
        "start_time": "2022-05-23T12:40:42.574Z"
      },
      {
        "duration": 301,
        "start_time": "2022-05-23T12:40:42.587Z"
      },
      {
        "duration": 22,
        "start_time": "2022-05-23T12:40:42.967Z"
      },
      {
        "duration": 19,
        "start_time": "2022-05-23T12:40:43.069Z"
      },
      {
        "duration": 12,
        "start_time": "2022-05-23T12:40:43.090Z"
      },
      {
        "duration": 12,
        "start_time": "2022-05-23T12:44:20.562Z"
      },
      {
        "duration": 3,
        "start_time": "2022-05-23T12:44:21.263Z"
      },
      {
        "duration": 10,
        "start_time": "2022-05-23T12:44:21.787Z"
      },
      {
        "duration": 10,
        "start_time": "2022-05-23T12:44:22.343Z"
      },
      {
        "duration": 1454,
        "start_time": "2022-05-23T12:46:34.126Z"
      },
      {
        "duration": 45,
        "start_time": "2022-05-23T12:46:35.583Z"
      },
      {
        "duration": 17,
        "start_time": "2022-05-23T12:46:35.630Z"
      },
      {
        "duration": 20,
        "start_time": "2022-05-23T12:46:35.650Z"
      },
      {
        "duration": 27,
        "start_time": "2022-05-23T12:46:35.673Z"
      },
      {
        "duration": 30,
        "start_time": "2022-05-23T12:46:35.702Z"
      },
      {
        "duration": 17,
        "start_time": "2022-05-23T12:46:35.734Z"
      },
      {
        "duration": 29,
        "start_time": "2022-05-23T12:46:35.753Z"
      },
      {
        "duration": 13,
        "start_time": "2022-05-23T12:46:35.790Z"
      },
      {
        "duration": 37,
        "start_time": "2022-05-23T12:46:35.806Z"
      },
      {
        "duration": 22,
        "start_time": "2022-05-23T12:46:35.846Z"
      },
      {
        "duration": 28,
        "start_time": "2022-05-23T12:46:35.870Z"
      },
      {
        "duration": 9,
        "start_time": "2022-05-23T12:46:35.900Z"
      },
      {
        "duration": 9,
        "start_time": "2022-05-23T12:46:35.911Z"
      },
      {
        "duration": 27,
        "start_time": "2022-05-23T12:46:35.921Z"
      },
      {
        "duration": 13,
        "start_time": "2022-05-23T12:46:35.950Z"
      },
      {
        "duration": 56,
        "start_time": "2022-05-23T12:46:35.966Z"
      },
      {
        "duration": 11,
        "start_time": "2022-05-23T12:46:36.024Z"
      },
      {
        "duration": 19,
        "start_time": "2022-05-23T12:46:36.037Z"
      },
      {
        "duration": 35,
        "start_time": "2022-05-23T12:46:36.058Z"
      },
      {
        "duration": 16,
        "start_time": "2022-05-23T12:46:36.095Z"
      },
      {
        "duration": 10,
        "start_time": "2022-05-23T12:46:36.113Z"
      },
      {
        "duration": 46,
        "start_time": "2022-05-23T12:46:36.124Z"
      },
      {
        "duration": 12,
        "start_time": "2022-05-23T12:46:36.174Z"
      },
      {
        "duration": 333,
        "start_time": "2022-05-23T12:46:36.188Z"
      },
      {
        "duration": 9,
        "start_time": "2022-05-23T12:46:36.523Z"
      },
      {
        "duration": 357,
        "start_time": "2022-05-23T12:46:36.534Z"
      },
      {
        "duration": 15,
        "start_time": "2022-05-23T12:46:36.895Z"
      },
      {
        "duration": 14,
        "start_time": "2022-05-23T12:46:36.912Z"
      },
      {
        "duration": 52,
        "start_time": "2022-05-23T12:46:36.928Z"
      },
      {
        "duration": 9,
        "start_time": "2022-05-23T12:46:36.982Z"
      },
      {
        "duration": 47,
        "start_time": "2022-05-23T12:46:36.993Z"
      },
      {
        "duration": 3,
        "start_time": "2022-05-23T12:46:37.042Z"
      },
      {
        "duration": 12,
        "start_time": "2022-05-23T12:46:37.070Z"
      },
      {
        "duration": 22,
        "start_time": "2022-05-23T12:46:37.084Z"
      },
      {
        "duration": 8,
        "start_time": "2022-05-23T12:46:37.108Z"
      },
      {
        "duration": 7,
        "start_time": "2022-05-23T12:46:37.118Z"
      },
      {
        "duration": 10,
        "start_time": "2022-05-23T12:46:37.127Z"
      },
      {
        "duration": 10,
        "start_time": "2022-05-23T12:46:37.139Z"
      },
      {
        "duration": 18,
        "start_time": "2022-05-23T12:46:37.151Z"
      },
      {
        "duration": 8,
        "start_time": "2022-05-23T12:46:37.172Z"
      },
      {
        "duration": 8,
        "start_time": "2022-05-23T12:46:37.183Z"
      },
      {
        "duration": 9,
        "start_time": "2022-05-23T12:46:37.193Z"
      },
      {
        "duration": 343,
        "start_time": "2022-05-23T12:46:37.204Z"
      },
      {
        "duration": 5,
        "start_time": "2022-05-23T12:46:37.549Z"
      },
      {
        "duration": 19,
        "start_time": "2022-05-23T12:46:37.555Z"
      },
      {
        "duration": 317,
        "start_time": "2022-05-23T12:46:37.576Z"
      },
      {
        "duration": 401,
        "start_time": "2022-05-23T12:46:37.894Z"
      },
      {
        "duration": 14,
        "start_time": "2022-05-23T12:46:38.297Z"
      },
      {
        "duration": 6,
        "start_time": "2022-05-23T12:46:38.312Z"
      },
      {
        "duration": 169,
        "start_time": "2022-05-23T12:46:38.320Z"
      },
      {
        "duration": 0,
        "start_time": "2022-05-23T12:46:38.491Z"
      },
      {
        "duration": 0,
        "start_time": "2022-05-23T12:46:38.492Z"
      },
      {
        "duration": 0,
        "start_time": "2022-05-23T12:46:38.493Z"
      },
      {
        "duration": 0,
        "start_time": "2022-05-23T12:46:38.495Z"
      },
      {
        "duration": 5,
        "start_time": "2022-05-23T12:49:17.145Z"
      },
      {
        "duration": 50,
        "start_time": "2022-05-23T12:49:17.156Z"
      },
      {
        "duration": 12,
        "start_time": "2022-05-23T12:49:17.208Z"
      },
      {
        "duration": 21,
        "start_time": "2022-05-23T12:49:17.222Z"
      },
      {
        "duration": 9,
        "start_time": "2022-05-23T12:49:17.245Z"
      },
      {
        "duration": 26,
        "start_time": "2022-05-23T12:49:17.257Z"
      },
      {
        "duration": 12,
        "start_time": "2022-05-23T12:49:17.286Z"
      },
      {
        "duration": 18,
        "start_time": "2022-05-23T12:49:17.300Z"
      },
      {
        "duration": 8,
        "start_time": "2022-05-23T12:49:17.319Z"
      },
      {
        "duration": 56,
        "start_time": "2022-05-23T12:49:17.329Z"
      },
      {
        "duration": 20,
        "start_time": "2022-05-23T12:49:17.388Z"
      },
      {
        "duration": 16,
        "start_time": "2022-05-23T12:49:17.410Z"
      },
      {
        "duration": 9,
        "start_time": "2022-05-23T12:49:17.428Z"
      },
      {
        "duration": 11,
        "start_time": "2022-05-23T12:49:17.439Z"
      },
      {
        "duration": 30,
        "start_time": "2022-05-23T12:49:17.468Z"
      },
      {
        "duration": 23,
        "start_time": "2022-05-23T12:49:17.500Z"
      },
      {
        "duration": 64,
        "start_time": "2022-05-23T12:49:17.525Z"
      },
      {
        "duration": 11,
        "start_time": "2022-05-23T12:49:17.590Z"
      },
      {
        "duration": 9,
        "start_time": "2022-05-23T12:49:17.603Z"
      },
      {
        "duration": 27,
        "start_time": "2022-05-23T12:49:17.614Z"
      },
      {
        "duration": 23,
        "start_time": "2022-05-23T12:49:17.643Z"
      },
      {
        "duration": 11,
        "start_time": "2022-05-23T12:49:17.669Z"
      },
      {
        "duration": 22,
        "start_time": "2022-05-23T12:49:17.683Z"
      },
      {
        "duration": 9,
        "start_time": "2022-05-23T12:49:17.706Z"
      },
      {
        "duration": 431,
        "start_time": "2022-05-23T12:49:17.717Z"
      },
      {
        "duration": 16,
        "start_time": "2022-05-23T12:49:18.150Z"
      },
      {
        "duration": 302,
        "start_time": "2022-05-23T12:49:18.168Z"
      },
      {
        "duration": 16,
        "start_time": "2022-05-23T12:49:18.473Z"
      },
      {
        "duration": 11,
        "start_time": "2022-05-23T12:49:18.491Z"
      },
      {
        "duration": 15,
        "start_time": "2022-05-23T12:49:18.504Z"
      },
      {
        "duration": 3,
        "start_time": "2022-05-23T12:49:18.521Z"
      },
      {
        "duration": 102,
        "start_time": "2022-05-23T12:49:18.525Z"
      },
      {
        "duration": 4,
        "start_time": "2022-05-23T12:49:18.629Z"
      },
      {
        "duration": 14,
        "start_time": "2022-05-23T12:49:18.635Z"
      },
      {
        "duration": 15,
        "start_time": "2022-05-23T12:49:18.651Z"
      },
      {
        "duration": 8,
        "start_time": "2022-05-23T12:49:18.668Z"
      },
      {
        "duration": 20,
        "start_time": "2022-05-23T12:49:18.678Z"
      },
      {
        "duration": 5,
        "start_time": "2022-05-23T12:49:18.700Z"
      },
      {
        "duration": 8,
        "start_time": "2022-05-23T12:49:18.707Z"
      },
      {
        "duration": 6,
        "start_time": "2022-05-23T12:49:18.716Z"
      },
      {
        "duration": 7,
        "start_time": "2022-05-23T12:49:18.724Z"
      },
      {
        "duration": 31,
        "start_time": "2022-05-23T12:49:18.734Z"
      },
      {
        "duration": 26,
        "start_time": "2022-05-23T12:49:18.768Z"
      },
      {
        "duration": 334,
        "start_time": "2022-05-23T12:49:18.796Z"
      },
      {
        "duration": 6,
        "start_time": "2022-05-23T12:49:19.133Z"
      },
      {
        "duration": 33,
        "start_time": "2022-05-23T12:49:19.141Z"
      },
      {
        "duration": 346,
        "start_time": "2022-05-23T12:49:19.176Z"
      },
      {
        "duration": 478,
        "start_time": "2022-05-23T12:49:19.523Z"
      },
      {
        "duration": 13,
        "start_time": "2022-05-23T12:49:20.003Z"
      },
      {
        "duration": 5,
        "start_time": "2022-05-23T12:49:20.018Z"
      },
      {
        "duration": 51,
        "start_time": "2022-05-23T12:49:20.025Z"
      },
      {
        "duration": 20,
        "start_time": "2022-05-23T12:49:20.079Z"
      },
      {
        "duration": 9,
        "start_time": "2022-05-23T12:49:20.101Z"
      },
      {
        "duration": 9,
        "start_time": "2022-05-23T12:49:20.112Z"
      },
      {
        "duration": 3,
        "start_time": "2022-05-23T12:50:21.080Z"
      },
      {
        "duration": 3,
        "start_time": "2022-05-23T12:50:21.520Z"
      },
      {
        "duration": 12,
        "start_time": "2022-05-23T12:50:21.982Z"
      },
      {
        "duration": 11,
        "start_time": "2022-05-23T12:50:22.375Z"
      },
      {
        "duration": 38,
        "start_time": "2022-05-23T12:50:22.829Z"
      },
      {
        "duration": 24,
        "start_time": "2022-05-23T12:50:23.288Z"
      },
      {
        "duration": 3,
        "start_time": "2022-05-23T12:53:33.298Z"
      },
      {
        "duration": 3,
        "start_time": "2022-05-23T12:53:33.683Z"
      },
      {
        "duration": 11,
        "start_time": "2022-05-23T12:53:34.057Z"
      },
      {
        "duration": 3,
        "start_time": "2022-05-23T12:54:27.844Z"
      },
      {
        "duration": 4,
        "start_time": "2022-05-23T12:54:28.257Z"
      },
      {
        "duration": 12,
        "start_time": "2022-05-23T12:54:28.679Z"
      },
      {
        "duration": 8,
        "start_time": "2022-05-23T12:54:29.506Z"
      },
      {
        "duration": 5,
        "start_time": "2022-05-23T12:54:42.105Z"
      },
      {
        "duration": 10,
        "start_time": "2022-05-23T12:54:59.819Z"
      },
      {
        "duration": 1543,
        "start_time": "2022-05-23T14:53:08.060Z"
      },
      {
        "duration": 155,
        "start_time": "2022-05-23T14:53:09.606Z"
      },
      {
        "duration": 21,
        "start_time": "2022-05-23T14:53:09.763Z"
      },
      {
        "duration": 109,
        "start_time": "2022-05-23T14:53:09.786Z"
      },
      {
        "duration": 10,
        "start_time": "2022-05-23T14:53:09.898Z"
      },
      {
        "duration": 116,
        "start_time": "2022-05-23T14:53:09.910Z"
      },
      {
        "duration": 11,
        "start_time": "2022-05-23T14:53:10.029Z"
      },
      {
        "duration": 75,
        "start_time": "2022-05-23T14:53:10.042Z"
      },
      {
        "duration": 7,
        "start_time": "2022-05-23T14:53:10.119Z"
      },
      {
        "duration": 39,
        "start_time": "2022-05-23T14:53:10.129Z"
      },
      {
        "duration": 18,
        "start_time": "2022-05-23T14:53:10.169Z"
      },
      {
        "duration": 20,
        "start_time": "2022-05-23T14:53:10.189Z"
      },
      {
        "duration": 8,
        "start_time": "2022-05-23T14:53:10.211Z"
      },
      {
        "duration": 30,
        "start_time": "2022-05-23T14:53:10.221Z"
      },
      {
        "duration": 21,
        "start_time": "2022-05-23T14:53:10.253Z"
      },
      {
        "duration": 15,
        "start_time": "2022-05-23T14:53:10.276Z"
      },
      {
        "duration": 41,
        "start_time": "2022-05-23T14:53:10.293Z"
      },
      {
        "duration": 12,
        "start_time": "2022-05-23T14:53:10.336Z"
      },
      {
        "duration": 24,
        "start_time": "2022-05-23T14:53:10.350Z"
      },
      {
        "duration": 36,
        "start_time": "2022-05-23T14:53:10.376Z"
      },
      {
        "duration": 11,
        "start_time": "2022-05-23T14:53:10.414Z"
      },
      {
        "duration": 22,
        "start_time": "2022-05-23T14:53:10.427Z"
      },
      {
        "duration": 32,
        "start_time": "2022-05-23T14:53:10.451Z"
      },
      {
        "duration": 23,
        "start_time": "2022-05-23T14:53:10.485Z"
      },
      {
        "duration": 273,
        "start_time": "2022-05-23T14:53:10.510Z"
      },
      {
        "duration": 10,
        "start_time": "2022-05-23T14:53:10.785Z"
      },
      {
        "duration": 398,
        "start_time": "2022-05-23T14:53:10.797Z"
      },
      {
        "duration": 14,
        "start_time": "2022-05-23T14:53:11.199Z"
      },
      {
        "duration": 32,
        "start_time": "2022-05-23T14:53:11.214Z"
      },
      {
        "duration": 40,
        "start_time": "2022-05-23T14:53:11.248Z"
      },
      {
        "duration": 31,
        "start_time": "2022-05-23T14:53:11.290Z"
      },
      {
        "duration": 66,
        "start_time": "2022-05-23T14:53:11.323Z"
      },
      {
        "duration": 31,
        "start_time": "2022-05-23T14:53:18.428Z"
      },
      {
        "duration": 5,
        "start_time": "2022-05-23T14:53:24.679Z"
      },
      {
        "duration": 6,
        "start_time": "2022-05-23T14:53:25.467Z"
      },
      {
        "duration": 43,
        "start_time": "2022-05-23T14:53:29.421Z"
      },
      {
        "duration": 8,
        "start_time": "2022-05-23T14:54:02.945Z"
      },
      {
        "duration": 8,
        "start_time": "2022-05-23T14:54:04.986Z"
      },
      {
        "duration": 5,
        "start_time": "2022-05-23T14:58:52.024Z"
      },
      {
        "duration": 78,
        "start_time": "2022-05-23T14:58:52.031Z"
      },
      {
        "duration": 11,
        "start_time": "2022-05-23T14:58:52.111Z"
      },
      {
        "duration": 41,
        "start_time": "2022-05-23T14:58:52.123Z"
      },
      {
        "duration": 19,
        "start_time": "2022-05-23T14:58:52.166Z"
      },
      {
        "duration": 48,
        "start_time": "2022-05-23T14:58:52.186Z"
      },
      {
        "duration": 27,
        "start_time": "2022-05-23T14:58:52.236Z"
      },
      {
        "duration": 45,
        "start_time": "2022-05-23T14:58:52.265Z"
      },
      {
        "duration": 8,
        "start_time": "2022-05-23T14:58:52.312Z"
      },
      {
        "duration": 57,
        "start_time": "2022-05-23T14:58:52.321Z"
      },
      {
        "duration": 20,
        "start_time": "2022-05-23T14:58:52.381Z"
      },
      {
        "duration": 41,
        "start_time": "2022-05-23T14:58:52.403Z"
      },
      {
        "duration": 14,
        "start_time": "2022-05-23T14:58:52.446Z"
      },
      {
        "duration": 44,
        "start_time": "2022-05-23T14:58:52.461Z"
      },
      {
        "duration": 56,
        "start_time": "2022-05-23T14:58:52.507Z"
      },
      {
        "duration": 16,
        "start_time": "2022-05-23T14:58:52.565Z"
      },
      {
        "duration": 58,
        "start_time": "2022-05-23T14:58:52.583Z"
      },
      {
        "duration": 10,
        "start_time": "2022-05-23T14:58:52.643Z"
      },
      {
        "duration": 29,
        "start_time": "2022-05-23T14:58:52.654Z"
      },
      {
        "duration": 45,
        "start_time": "2022-05-23T14:58:52.685Z"
      },
      {
        "duration": 25,
        "start_time": "2022-05-23T14:58:52.732Z"
      },
      {
        "duration": 48,
        "start_time": "2022-05-23T14:58:52.759Z"
      },
      {
        "duration": 38,
        "start_time": "2022-05-23T14:58:52.809Z"
      },
      {
        "duration": 23,
        "start_time": "2022-05-23T14:58:52.849Z"
      },
      {
        "duration": 260,
        "start_time": "2022-05-23T14:58:52.873Z"
      },
      {
        "duration": 9,
        "start_time": "2022-05-23T14:58:53.134Z"
      },
      {
        "duration": 237,
        "start_time": "2022-05-23T14:58:53.144Z"
      },
      {
        "duration": 12,
        "start_time": "2022-05-23T14:58:53.382Z"
      },
      {
        "duration": 14,
        "start_time": "2022-05-23T14:58:53.398Z"
      },
      {
        "duration": 18,
        "start_time": "2022-05-23T14:58:53.414Z"
      },
      {
        "duration": 17,
        "start_time": "2022-05-23T14:58:53.434Z"
      },
      {
        "duration": 56,
        "start_time": "2022-05-23T14:58:53.453Z"
      },
      {
        "duration": 13,
        "start_time": "2022-05-23T14:58:53.510Z"
      },
      {
        "duration": 25,
        "start_time": "2022-05-23T14:58:53.525Z"
      },
      {
        "duration": 24,
        "start_time": "2022-05-23T14:58:53.551Z"
      },
      {
        "duration": 42,
        "start_time": "2022-05-23T14:58:53.577Z"
      },
      {
        "duration": 25,
        "start_time": "2022-05-23T14:58:53.621Z"
      },
      {
        "duration": 21,
        "start_time": "2022-05-23T14:58:53.648Z"
      },
      {
        "duration": 34,
        "start_time": "2022-05-23T14:58:53.670Z"
      },
      {
        "duration": 113,
        "start_time": "2022-05-23T14:58:53.706Z"
      },
      {
        "duration": 29,
        "start_time": "2022-05-23T14:58:53.821Z"
      },
      {
        "duration": 35,
        "start_time": "2022-05-23T14:58:53.851Z"
      },
      {
        "duration": 47,
        "start_time": "2022-05-23T14:58:53.888Z"
      },
      {
        "duration": 248,
        "start_time": "2022-05-23T14:58:53.937Z"
      },
      {
        "duration": 5,
        "start_time": "2022-05-23T14:58:54.187Z"
      },
      {
        "duration": 32,
        "start_time": "2022-05-23T14:58:54.194Z"
      },
      {
        "duration": 224,
        "start_time": "2022-05-23T14:58:54.228Z"
      },
      {
        "duration": 386,
        "start_time": "2022-05-23T14:58:54.453Z"
      },
      {
        "duration": 9,
        "start_time": "2022-05-23T14:58:54.841Z"
      },
      {
        "duration": 9,
        "start_time": "2022-05-23T14:58:54.859Z"
      },
      {
        "duration": 46,
        "start_time": "2022-05-23T14:58:54.870Z"
      },
      {
        "duration": 24,
        "start_time": "2022-05-23T14:58:54.918Z"
      },
      {
        "duration": 25,
        "start_time": "2022-05-23T14:58:54.944Z"
      },
      {
        "duration": 16,
        "start_time": "2022-05-23T14:58:54.970Z"
      },
      {
        "duration": 2,
        "start_time": "2022-05-23T14:58:59.349Z"
      },
      {
        "duration": 2,
        "start_time": "2022-05-23T14:59:00.087Z"
      },
      {
        "duration": 9,
        "start_time": "2022-05-23T14:59:00.615Z"
      },
      {
        "duration": 9,
        "start_time": "2022-05-23T14:59:12.253Z"
      },
      {
        "duration": 6,
        "start_time": "2022-05-23T14:59:13.058Z"
      },
      {
        "duration": 7,
        "start_time": "2022-05-23T14:59:13.589Z"
      },
      {
        "duration": 24,
        "start_time": "2022-05-23T14:59:27.270Z"
      },
      {
        "duration": 1295,
        "start_time": "2022-05-23T15:08:17.858Z"
      },
      {
        "duration": 49,
        "start_time": "2022-05-23T15:08:19.155Z"
      },
      {
        "duration": 14,
        "start_time": "2022-05-23T15:08:19.206Z"
      },
      {
        "duration": 38,
        "start_time": "2022-05-23T15:08:19.222Z"
      },
      {
        "duration": 13,
        "start_time": "2022-05-23T15:08:19.262Z"
      },
      {
        "duration": 35,
        "start_time": "2022-05-23T15:08:19.276Z"
      },
      {
        "duration": 10,
        "start_time": "2022-05-23T15:08:19.312Z"
      },
      {
        "duration": 21,
        "start_time": "2022-05-23T15:08:19.323Z"
      },
      {
        "duration": 6,
        "start_time": "2022-05-23T15:08:19.345Z"
      },
      {
        "duration": 33,
        "start_time": "2022-05-23T15:08:19.354Z"
      },
      {
        "duration": 21,
        "start_time": "2022-05-23T15:08:19.389Z"
      },
      {
        "duration": 17,
        "start_time": "2022-05-23T15:08:19.411Z"
      },
      {
        "duration": 14,
        "start_time": "2022-05-23T15:08:19.430Z"
      },
      {
        "duration": 10,
        "start_time": "2022-05-23T15:08:19.445Z"
      },
      {
        "duration": 29,
        "start_time": "2022-05-23T15:08:19.457Z"
      },
      {
        "duration": 26,
        "start_time": "2022-05-23T15:08:19.487Z"
      },
      {
        "duration": 51,
        "start_time": "2022-05-23T15:08:19.515Z"
      },
      {
        "duration": 12,
        "start_time": "2022-05-23T15:08:19.568Z"
      },
      {
        "duration": 6,
        "start_time": "2022-05-23T15:08:19.581Z"
      },
      {
        "duration": 24,
        "start_time": "2022-05-23T15:08:19.588Z"
      },
      {
        "duration": 21,
        "start_time": "2022-05-23T15:08:19.614Z"
      },
      {
        "duration": 31,
        "start_time": "2022-05-23T15:08:19.637Z"
      },
      {
        "duration": 19,
        "start_time": "2022-05-23T15:08:19.670Z"
      },
      {
        "duration": 9,
        "start_time": "2022-05-23T15:08:19.691Z"
      },
      {
        "duration": 278,
        "start_time": "2022-05-23T15:08:19.702Z"
      },
      {
        "duration": 9,
        "start_time": "2022-05-23T15:08:19.982Z"
      },
      {
        "duration": 275,
        "start_time": "2022-05-23T15:08:19.993Z"
      },
      {
        "duration": 11,
        "start_time": "2022-05-23T15:08:20.272Z"
      },
      {
        "duration": 11,
        "start_time": "2022-05-23T15:08:20.285Z"
      },
      {
        "duration": 14,
        "start_time": "2022-05-23T15:08:20.298Z"
      },
      {
        "duration": 4,
        "start_time": "2022-05-23T15:08:20.313Z"
      },
      {
        "duration": 72,
        "start_time": "2022-05-23T15:08:20.319Z"
      },
      {
        "duration": 3,
        "start_time": "2022-05-23T15:08:20.393Z"
      },
      {
        "duration": 14,
        "start_time": "2022-05-23T15:08:20.398Z"
      },
      {
        "duration": 23,
        "start_time": "2022-05-23T15:08:20.414Z"
      },
      {
        "duration": 14,
        "start_time": "2022-05-23T15:08:20.440Z"
      },
      {
        "duration": 20,
        "start_time": "2022-05-23T15:08:20.456Z"
      },
      {
        "duration": 10,
        "start_time": "2022-05-23T15:08:20.478Z"
      },
      {
        "duration": 32,
        "start_time": "2022-05-23T15:08:20.490Z"
      },
      {
        "duration": 20,
        "start_time": "2022-05-23T15:08:20.524Z"
      },
      {
        "duration": 13,
        "start_time": "2022-05-23T15:08:20.545Z"
      },
      {
        "duration": 15,
        "start_time": "2022-05-23T15:08:20.560Z"
      },
      {
        "duration": 36,
        "start_time": "2022-05-23T15:08:20.577Z"
      },
      {
        "duration": 238,
        "start_time": "2022-05-23T15:08:20.615Z"
      },
      {
        "duration": 9,
        "start_time": "2022-05-23T15:08:20.854Z"
      },
      {
        "duration": 21,
        "start_time": "2022-05-23T15:08:20.864Z"
      },
      {
        "duration": 244,
        "start_time": "2022-05-23T15:08:20.887Z"
      },
      {
        "duration": 402,
        "start_time": "2022-05-23T15:08:21.133Z"
      },
      {
        "duration": 11,
        "start_time": "2022-05-23T15:08:21.537Z"
      },
      {
        "duration": 10,
        "start_time": "2022-05-23T15:08:21.560Z"
      },
      {
        "duration": 38,
        "start_time": "2022-05-23T15:08:21.572Z"
      },
      {
        "duration": 18,
        "start_time": "2022-05-23T15:08:21.612Z"
      },
      {
        "duration": 22,
        "start_time": "2022-05-23T15:08:21.631Z"
      },
      {
        "duration": 50,
        "start_time": "2022-05-23T15:08:21.655Z"
      },
      {
        "duration": 4,
        "start_time": "2022-05-23T15:08:27.702Z"
      },
      {
        "duration": 3,
        "start_time": "2022-05-23T15:08:28.359Z"
      },
      {
        "duration": 13,
        "start_time": "2022-05-23T15:08:29.069Z"
      },
      {
        "duration": 27,
        "start_time": "2022-05-23T15:08:29.666Z"
      },
      {
        "duration": 1358,
        "start_time": "2022-05-23T15:09:05.259Z"
      },
      {
        "duration": 50,
        "start_time": "2022-05-23T15:09:06.619Z"
      },
      {
        "duration": 14,
        "start_time": "2022-05-23T15:09:06.670Z"
      },
      {
        "duration": 20,
        "start_time": "2022-05-23T15:09:06.686Z"
      },
      {
        "duration": 14,
        "start_time": "2022-05-23T15:09:06.708Z"
      },
      {
        "duration": 26,
        "start_time": "2022-05-23T15:09:06.723Z"
      },
      {
        "duration": 12,
        "start_time": "2022-05-23T15:09:06.750Z"
      },
      {
        "duration": 29,
        "start_time": "2022-05-23T15:09:06.765Z"
      },
      {
        "duration": 9,
        "start_time": "2022-05-23T15:09:06.796Z"
      },
      {
        "duration": 31,
        "start_time": "2022-05-23T15:09:06.806Z"
      },
      {
        "duration": 20,
        "start_time": "2022-05-23T15:09:06.839Z"
      },
      {
        "duration": 9,
        "start_time": "2022-05-23T15:09:06.861Z"
      },
      {
        "duration": 7,
        "start_time": "2022-05-23T15:09:06.872Z"
      },
      {
        "duration": 11,
        "start_time": "2022-05-23T15:09:06.882Z"
      },
      {
        "duration": 26,
        "start_time": "2022-05-23T15:09:06.896Z"
      },
      {
        "duration": 13,
        "start_time": "2022-05-23T15:09:06.924Z"
      },
      {
        "duration": 39,
        "start_time": "2022-05-23T15:09:06.939Z"
      },
      {
        "duration": 12,
        "start_time": "2022-05-23T15:09:06.981Z"
      },
      {
        "duration": 9,
        "start_time": "2022-05-23T15:09:06.995Z"
      },
      {
        "duration": 23,
        "start_time": "2022-05-23T15:09:07.006Z"
      },
      {
        "duration": 33,
        "start_time": "2022-05-23T15:09:07.031Z"
      },
      {
        "duration": 7,
        "start_time": "2022-05-23T15:09:07.067Z"
      },
      {
        "duration": 25,
        "start_time": "2022-05-23T15:09:07.075Z"
      },
      {
        "duration": 8,
        "start_time": "2022-05-23T15:09:07.101Z"
      },
      {
        "duration": 292,
        "start_time": "2022-05-23T15:09:07.110Z"
      },
      {
        "duration": 8,
        "start_time": "2022-05-23T15:09:07.403Z"
      },
      {
        "duration": 258,
        "start_time": "2022-05-23T15:09:07.413Z"
      },
      {
        "duration": 13,
        "start_time": "2022-05-23T15:09:07.673Z"
      },
      {
        "duration": 24,
        "start_time": "2022-05-23T15:09:07.688Z"
      },
      {
        "duration": 17,
        "start_time": "2022-05-23T15:09:07.714Z"
      },
      {
        "duration": 5,
        "start_time": "2022-05-23T15:09:07.732Z"
      },
      {
        "duration": 55,
        "start_time": "2022-05-23T15:09:07.738Z"
      },
      {
        "duration": 3,
        "start_time": "2022-05-23T15:09:07.795Z"
      },
      {
        "duration": 24,
        "start_time": "2022-05-23T15:09:07.800Z"
      },
      {
        "duration": 16,
        "start_time": "2022-05-23T15:09:07.827Z"
      },
      {
        "duration": 46,
        "start_time": "2022-05-23T15:09:07.845Z"
      },
      {
        "duration": 24,
        "start_time": "2022-05-23T15:09:07.893Z"
      },
      {
        "duration": 8,
        "start_time": "2022-05-23T15:09:07.919Z"
      },
      {
        "duration": 21,
        "start_time": "2022-05-23T15:09:07.929Z"
      },
      {
        "duration": 15,
        "start_time": "2022-05-23T15:09:07.952Z"
      },
      {
        "duration": 10,
        "start_time": "2022-05-23T15:09:07.972Z"
      },
      {
        "duration": 16,
        "start_time": "2022-05-23T15:09:07.984Z"
      },
      {
        "duration": 23,
        "start_time": "2022-05-23T15:09:08.002Z"
      },
      {
        "duration": 310,
        "start_time": "2022-05-23T15:09:08.027Z"
      },
      {
        "duration": 6,
        "start_time": "2022-05-23T15:09:08.339Z"
      },
      {
        "duration": 22,
        "start_time": "2022-05-23T15:09:08.347Z"
      },
      {
        "duration": 255,
        "start_time": "2022-05-23T15:09:08.370Z"
      },
      {
        "duration": 411,
        "start_time": "2022-05-23T15:09:08.627Z"
      },
      {
        "duration": 19,
        "start_time": "2022-05-23T15:09:09.041Z"
      },
      {
        "duration": 9,
        "start_time": "2022-05-23T15:09:09.062Z"
      },
      {
        "duration": 40,
        "start_time": "2022-05-23T15:09:09.073Z"
      },
      {
        "duration": 16,
        "start_time": "2022-05-23T15:09:09.115Z"
      },
      {
        "duration": 12,
        "start_time": "2022-05-23T15:09:09.133Z"
      },
      {
        "duration": 20,
        "start_time": "2022-05-23T15:09:09.146Z"
      },
      {
        "duration": 29,
        "start_time": "2022-05-23T15:09:12.358Z"
      },
      {
        "duration": 14,
        "start_time": "2022-05-23T15:09:20.611Z"
      },
      {
        "duration": 33,
        "start_time": "2022-05-23T15:09:29.927Z"
      },
      {
        "duration": 8,
        "start_time": "2022-05-23T15:10:15.019Z"
      },
      {
        "duration": 105,
        "start_time": "2022-05-23T15:10:15.029Z"
      },
      {
        "duration": 20,
        "start_time": "2022-05-23T15:10:15.136Z"
      },
      {
        "duration": 40,
        "start_time": "2022-05-23T15:10:15.158Z"
      },
      {
        "duration": 11,
        "start_time": "2022-05-23T15:10:15.202Z"
      },
      {
        "duration": 43,
        "start_time": "2022-05-23T15:10:15.215Z"
      },
      {
        "duration": 26,
        "start_time": "2022-05-23T15:10:15.261Z"
      },
      {
        "duration": 41,
        "start_time": "2022-05-23T15:10:15.289Z"
      },
      {
        "duration": 11,
        "start_time": "2022-05-23T15:10:15.332Z"
      },
      {
        "duration": 52,
        "start_time": "2022-05-23T15:10:15.346Z"
      },
      {
        "duration": 26,
        "start_time": "2022-05-23T15:10:15.400Z"
      },
      {
        "duration": 35,
        "start_time": "2022-05-23T15:10:15.428Z"
      },
      {
        "duration": 36,
        "start_time": "2022-05-23T15:10:15.464Z"
      },
      {
        "duration": 17,
        "start_time": "2022-05-23T15:10:15.504Z"
      },
      {
        "duration": 52,
        "start_time": "2022-05-23T15:10:15.523Z"
      },
      {
        "duration": 28,
        "start_time": "2022-05-23T15:10:15.577Z"
      },
      {
        "duration": 38,
        "start_time": "2022-05-23T15:10:15.608Z"
      },
      {
        "duration": 71,
        "start_time": "2022-05-23T15:10:15.648Z"
      },
      {
        "duration": 28,
        "start_time": "2022-05-23T15:10:15.721Z"
      },
      {
        "duration": 52,
        "start_time": "2022-05-23T15:10:15.751Z"
      },
      {
        "duration": 30,
        "start_time": "2022-05-23T15:10:15.805Z"
      },
      {
        "duration": 33,
        "start_time": "2022-05-23T15:10:15.837Z"
      },
      {
        "duration": 50,
        "start_time": "2022-05-23T15:10:15.873Z"
      },
      {
        "duration": 33,
        "start_time": "2022-05-23T15:10:15.925Z"
      },
      {
        "duration": 407,
        "start_time": "2022-05-23T15:10:15.962Z"
      },
      {
        "duration": 8,
        "start_time": "2022-05-23T15:10:16.371Z"
      },
      {
        "duration": 280,
        "start_time": "2022-05-23T15:10:16.381Z"
      },
      {
        "duration": 15,
        "start_time": "2022-05-23T15:10:16.663Z"
      },
      {
        "duration": 29,
        "start_time": "2022-05-23T15:10:16.680Z"
      },
      {
        "duration": 26,
        "start_time": "2022-05-23T15:10:16.711Z"
      },
      {
        "duration": 18,
        "start_time": "2022-05-23T15:10:16.741Z"
      },
      {
        "duration": 57,
        "start_time": "2022-05-23T15:10:16.761Z"
      },
      {
        "duration": 7,
        "start_time": "2022-05-23T15:10:16.820Z"
      },
      {
        "duration": 22,
        "start_time": "2022-05-23T15:10:16.829Z"
      },
      {
        "duration": 40,
        "start_time": "2022-05-23T15:10:16.853Z"
      },
      {
        "duration": 16,
        "start_time": "2022-05-23T15:10:16.894Z"
      },
      {
        "duration": 29,
        "start_time": "2022-05-23T15:10:16.911Z"
      },
      {
        "duration": 29,
        "start_time": "2022-05-23T15:10:16.941Z"
      },
      {
        "duration": 38,
        "start_time": "2022-05-23T15:10:16.972Z"
      },
      {
        "duration": 16,
        "start_time": "2022-05-23T15:10:17.013Z"
      },
      {
        "duration": 31,
        "start_time": "2022-05-23T15:10:17.032Z"
      },
      {
        "duration": 30,
        "start_time": "2022-05-23T15:10:17.065Z"
      },
      {
        "duration": 13,
        "start_time": "2022-05-23T15:10:17.097Z"
      },
      {
        "duration": 273,
        "start_time": "2022-05-23T15:10:17.113Z"
      },
      {
        "duration": 5,
        "start_time": "2022-05-23T15:10:17.388Z"
      },
      {
        "duration": 26,
        "start_time": "2022-05-23T15:10:17.394Z"
      },
      {
        "duration": 262,
        "start_time": "2022-05-23T15:10:17.422Z"
      },
      {
        "duration": 487,
        "start_time": "2022-05-23T15:10:17.686Z"
      },
      {
        "duration": 14,
        "start_time": "2022-05-23T15:10:18.176Z"
      },
      {
        "duration": 56,
        "start_time": "2022-05-23T15:10:18.192Z"
      },
      {
        "duration": 55,
        "start_time": "2022-05-23T15:10:18.250Z"
      },
      {
        "duration": 21,
        "start_time": "2022-05-23T15:10:18.307Z"
      },
      {
        "duration": 22,
        "start_time": "2022-05-23T15:10:18.330Z"
      },
      {
        "duration": 44,
        "start_time": "2022-05-23T15:10:18.354Z"
      },
      {
        "duration": 1347,
        "start_time": "2022-05-23T15:10:26.177Z"
      },
      {
        "duration": 52,
        "start_time": "2022-05-23T15:10:27.526Z"
      },
      {
        "duration": 17,
        "start_time": "2022-05-23T15:10:27.580Z"
      },
      {
        "duration": 37,
        "start_time": "2022-05-23T15:10:27.598Z"
      },
      {
        "duration": 11,
        "start_time": "2022-05-23T15:10:27.638Z"
      },
      {
        "duration": 44,
        "start_time": "2022-05-23T15:10:27.651Z"
      },
      {
        "duration": 11,
        "start_time": "2022-05-23T15:10:27.696Z"
      },
      {
        "duration": 34,
        "start_time": "2022-05-23T15:10:27.708Z"
      },
      {
        "duration": 7,
        "start_time": "2022-05-23T15:10:27.744Z"
      },
      {
        "duration": 50,
        "start_time": "2022-05-23T15:10:27.753Z"
      },
      {
        "duration": 19,
        "start_time": "2022-05-23T15:10:27.805Z"
      },
      {
        "duration": 40,
        "start_time": "2022-05-23T15:10:27.826Z"
      },
      {
        "duration": 57,
        "start_time": "2022-05-23T15:10:27.868Z"
      },
      {
        "duration": 27,
        "start_time": "2022-05-23T15:10:27.930Z"
      },
      {
        "duration": 56,
        "start_time": "2022-05-23T15:10:27.960Z"
      },
      {
        "duration": 40,
        "start_time": "2022-05-23T15:10:28.018Z"
      },
      {
        "duration": 68,
        "start_time": "2022-05-23T15:10:28.061Z"
      },
      {
        "duration": 23,
        "start_time": "2022-05-23T15:10:28.132Z"
      },
      {
        "duration": 38,
        "start_time": "2022-05-23T15:10:28.157Z"
      },
      {
        "duration": 66,
        "start_time": "2022-05-23T15:10:28.197Z"
      },
      {
        "duration": 102,
        "start_time": "2022-05-23T15:10:28.265Z"
      },
      {
        "duration": 31,
        "start_time": "2022-05-23T15:10:28.369Z"
      },
      {
        "duration": 56,
        "start_time": "2022-05-23T15:10:28.402Z"
      },
      {
        "duration": 26,
        "start_time": "2022-05-23T15:10:28.459Z"
      },
      {
        "duration": 326,
        "start_time": "2022-05-23T15:10:28.487Z"
      },
      {
        "duration": 8,
        "start_time": "2022-05-23T15:10:28.815Z"
      },
      {
        "duration": 274,
        "start_time": "2022-05-23T15:10:28.825Z"
      },
      {
        "duration": 11,
        "start_time": "2022-05-23T15:10:29.101Z"
      },
      {
        "duration": 19,
        "start_time": "2022-05-23T15:10:29.114Z"
      },
      {
        "duration": 42,
        "start_time": "2022-05-23T15:10:29.134Z"
      },
      {
        "duration": 31,
        "start_time": "2022-05-23T15:10:29.178Z"
      },
      {
        "duration": 68,
        "start_time": "2022-05-23T15:10:29.212Z"
      },
      {
        "duration": 3,
        "start_time": "2022-05-23T15:10:29.282Z"
      },
      {
        "duration": 59,
        "start_time": "2022-05-23T15:10:29.287Z"
      },
      {
        "duration": 25,
        "start_time": "2022-05-23T15:10:29.348Z"
      },
      {
        "duration": 49,
        "start_time": "2022-05-23T15:10:29.375Z"
      },
      {
        "duration": 30,
        "start_time": "2022-05-23T15:10:29.426Z"
      },
      {
        "duration": 34,
        "start_time": "2022-05-23T15:10:29.458Z"
      },
      {
        "duration": 30,
        "start_time": "2022-05-23T15:10:29.494Z"
      },
      {
        "duration": 22,
        "start_time": "2022-05-23T15:10:29.526Z"
      },
      {
        "duration": 19,
        "start_time": "2022-05-23T15:10:29.553Z"
      },
      {
        "duration": 28,
        "start_time": "2022-05-23T15:10:29.574Z"
      },
      {
        "duration": 56,
        "start_time": "2022-05-23T15:10:29.604Z"
      },
      {
        "duration": 351,
        "start_time": "2022-05-23T15:10:29.663Z"
      },
      {
        "duration": 5,
        "start_time": "2022-05-23T15:10:30.016Z"
      },
      {
        "duration": 38,
        "start_time": "2022-05-23T15:10:30.023Z"
      },
      {
        "duration": 261,
        "start_time": "2022-05-23T15:10:30.063Z"
      },
      {
        "duration": 427,
        "start_time": "2022-05-23T15:10:30.327Z"
      },
      {
        "duration": 16,
        "start_time": "2022-05-23T15:10:30.755Z"
      },
      {
        "duration": 27,
        "start_time": "2022-05-23T15:10:30.773Z"
      },
      {
        "duration": 49,
        "start_time": "2022-05-23T15:10:30.802Z"
      },
      {
        "duration": 33,
        "start_time": "2022-05-23T15:10:30.853Z"
      },
      {
        "duration": 32,
        "start_time": "2022-05-23T15:10:30.888Z"
      },
      {
        "duration": 28,
        "start_time": "2022-05-23T15:10:30.922Z"
      },
      {
        "duration": 3,
        "start_time": "2022-05-23T15:10:35.897Z"
      },
      {
        "duration": 2,
        "start_time": "2022-05-23T15:10:36.403Z"
      },
      {
        "duration": 10,
        "start_time": "2022-05-23T15:10:36.905Z"
      },
      {
        "duration": 19,
        "start_time": "2022-05-23T15:10:37.656Z"
      },
      {
        "duration": 7,
        "start_time": "2022-05-23T15:10:41.399Z"
      },
      {
        "duration": 19,
        "start_time": "2022-05-23T15:36:24.636Z"
      },
      {
        "duration": 1311,
        "start_time": "2022-05-23T15:37:28.443Z"
      },
      {
        "duration": 123,
        "start_time": "2022-05-23T15:37:29.756Z"
      },
      {
        "duration": 0,
        "start_time": "2022-05-23T15:37:29.883Z"
      },
      {
        "duration": 0,
        "start_time": "2022-05-23T15:37:29.884Z"
      },
      {
        "duration": 0,
        "start_time": "2022-05-23T15:37:29.886Z"
      },
      {
        "duration": 0,
        "start_time": "2022-05-23T15:37:29.887Z"
      },
      {
        "duration": 0,
        "start_time": "2022-05-23T15:37:29.889Z"
      },
      {
        "duration": 0,
        "start_time": "2022-05-23T15:37:29.890Z"
      },
      {
        "duration": 0,
        "start_time": "2022-05-23T15:37:29.891Z"
      },
      {
        "duration": 0,
        "start_time": "2022-05-23T15:37:29.893Z"
      },
      {
        "duration": 0,
        "start_time": "2022-05-23T15:37:29.894Z"
      },
      {
        "duration": 0,
        "start_time": "2022-05-23T15:37:29.896Z"
      },
      {
        "duration": 0,
        "start_time": "2022-05-23T15:37:29.897Z"
      },
      {
        "duration": 0,
        "start_time": "2022-05-23T15:37:29.898Z"
      },
      {
        "duration": 0,
        "start_time": "2022-05-23T15:37:29.899Z"
      },
      {
        "duration": 0,
        "start_time": "2022-05-23T15:37:29.900Z"
      },
      {
        "duration": 0,
        "start_time": "2022-05-23T15:37:29.901Z"
      },
      {
        "duration": 0,
        "start_time": "2022-05-23T15:37:29.902Z"
      },
      {
        "duration": 0,
        "start_time": "2022-05-23T15:37:29.903Z"
      },
      {
        "duration": 0,
        "start_time": "2022-05-23T15:37:29.904Z"
      },
      {
        "duration": 0,
        "start_time": "2022-05-23T15:37:29.905Z"
      },
      {
        "duration": 0,
        "start_time": "2022-05-23T15:37:29.906Z"
      },
      {
        "duration": 0,
        "start_time": "2022-05-23T15:37:29.906Z"
      },
      {
        "duration": 0,
        "start_time": "2022-05-23T15:37:29.909Z"
      },
      {
        "duration": 0,
        "start_time": "2022-05-23T15:37:29.910Z"
      },
      {
        "duration": 0,
        "start_time": "2022-05-23T15:37:29.911Z"
      },
      {
        "duration": 0,
        "start_time": "2022-05-23T15:37:29.960Z"
      },
      {
        "duration": 0,
        "start_time": "2022-05-23T15:37:29.961Z"
      },
      {
        "duration": 0,
        "start_time": "2022-05-23T15:37:29.962Z"
      },
      {
        "duration": 0,
        "start_time": "2022-05-23T15:37:29.963Z"
      },
      {
        "duration": 0,
        "start_time": "2022-05-23T15:37:29.964Z"
      },
      {
        "duration": 0,
        "start_time": "2022-05-23T15:37:29.965Z"
      },
      {
        "duration": 0,
        "start_time": "2022-05-23T15:37:29.966Z"
      },
      {
        "duration": 0,
        "start_time": "2022-05-23T15:37:29.966Z"
      },
      {
        "duration": 0,
        "start_time": "2022-05-23T15:37:29.967Z"
      },
      {
        "duration": 0,
        "start_time": "2022-05-23T15:37:29.969Z"
      },
      {
        "duration": 0,
        "start_time": "2022-05-23T15:37:29.971Z"
      },
      {
        "duration": 0,
        "start_time": "2022-05-23T15:37:29.972Z"
      },
      {
        "duration": 0,
        "start_time": "2022-05-23T15:37:29.973Z"
      },
      {
        "duration": 0,
        "start_time": "2022-05-23T15:37:29.975Z"
      },
      {
        "duration": 0,
        "start_time": "2022-05-23T15:37:29.976Z"
      },
      {
        "duration": 0,
        "start_time": "2022-05-23T15:37:29.977Z"
      },
      {
        "duration": 0,
        "start_time": "2022-05-23T15:37:29.979Z"
      },
      {
        "duration": 0,
        "start_time": "2022-05-23T15:37:29.980Z"
      },
      {
        "duration": 0,
        "start_time": "2022-05-23T15:37:29.982Z"
      },
      {
        "duration": 0,
        "start_time": "2022-05-23T15:37:29.982Z"
      },
      {
        "duration": 0,
        "start_time": "2022-05-23T15:37:29.984Z"
      },
      {
        "duration": 0,
        "start_time": "2022-05-23T15:37:29.985Z"
      },
      {
        "duration": 0,
        "start_time": "2022-05-23T15:37:29.986Z"
      },
      {
        "duration": 0,
        "start_time": "2022-05-23T15:37:29.987Z"
      },
      {
        "duration": 0,
        "start_time": "2022-05-23T15:37:29.988Z"
      },
      {
        "duration": 0,
        "start_time": "2022-05-23T15:37:29.989Z"
      },
      {
        "duration": 0,
        "start_time": "2022-05-23T15:37:29.990Z"
      },
      {
        "duration": 0,
        "start_time": "2022-05-23T15:37:29.991Z"
      },
      {
        "duration": 0,
        "start_time": "2022-05-23T15:37:29.992Z"
      },
      {
        "duration": 0,
        "start_time": "2022-05-23T15:37:29.993Z"
      },
      {
        "duration": 0,
        "start_time": "2022-05-23T15:37:29.994Z"
      },
      {
        "duration": 0,
        "start_time": "2022-05-23T15:37:29.996Z"
      },
      {
        "duration": 0,
        "start_time": "2022-05-23T15:37:29.997Z"
      },
      {
        "duration": 0,
        "start_time": "2022-05-23T15:37:29.998Z"
      },
      {
        "duration": 0,
        "start_time": "2022-05-23T15:37:30.060Z"
      },
      {
        "duration": 0,
        "start_time": "2022-05-23T15:37:30.062Z"
      },
      {
        "duration": 0,
        "start_time": "2022-05-23T15:37:30.063Z"
      },
      {
        "duration": 0,
        "start_time": "2022-05-23T15:37:30.065Z"
      },
      {
        "duration": 0,
        "start_time": "2022-05-23T15:37:30.066Z"
      },
      {
        "duration": 0,
        "start_time": "2022-05-23T15:37:30.067Z"
      },
      {
        "duration": 0,
        "start_time": "2022-05-23T15:37:30.070Z"
      },
      {
        "duration": 0,
        "start_time": "2022-05-23T15:37:30.074Z"
      },
      {
        "duration": 0,
        "start_time": "2022-05-23T15:37:30.077Z"
      },
      {
        "duration": 0,
        "start_time": "2022-05-23T15:37:30.080Z"
      },
      {
        "duration": 0,
        "start_time": "2022-05-23T15:37:30.082Z"
      },
      {
        "duration": 0,
        "start_time": "2022-05-23T15:37:30.084Z"
      },
      {
        "duration": 0,
        "start_time": "2022-05-23T15:37:30.088Z"
      },
      {
        "duration": 0,
        "start_time": "2022-05-23T15:37:30.091Z"
      },
      {
        "duration": 0,
        "start_time": "2022-05-23T15:37:30.095Z"
      },
      {
        "duration": 1453,
        "start_time": "2022-05-23T15:38:03.342Z"
      },
      {
        "duration": 120,
        "start_time": "2022-05-23T15:38:04.797Z"
      },
      {
        "duration": 0,
        "start_time": "2022-05-23T15:38:04.920Z"
      },
      {
        "duration": 0,
        "start_time": "2022-05-23T15:38:04.921Z"
      },
      {
        "duration": 0,
        "start_time": "2022-05-23T15:38:04.922Z"
      },
      {
        "duration": 0,
        "start_time": "2022-05-23T15:38:04.924Z"
      },
      {
        "duration": 0,
        "start_time": "2022-05-23T15:38:04.924Z"
      },
      {
        "duration": 0,
        "start_time": "2022-05-23T15:38:04.925Z"
      },
      {
        "duration": 0,
        "start_time": "2022-05-23T15:38:04.926Z"
      },
      {
        "duration": 0,
        "start_time": "2022-05-23T15:38:04.928Z"
      },
      {
        "duration": 0,
        "start_time": "2022-05-23T15:38:04.928Z"
      },
      {
        "duration": 0,
        "start_time": "2022-05-23T15:38:04.930Z"
      },
      {
        "duration": 0,
        "start_time": "2022-05-23T15:38:04.931Z"
      },
      {
        "duration": 0,
        "start_time": "2022-05-23T15:38:04.932Z"
      },
      {
        "duration": 0,
        "start_time": "2022-05-23T15:38:04.933Z"
      },
      {
        "duration": 0,
        "start_time": "2022-05-23T15:38:04.934Z"
      },
      {
        "duration": 0,
        "start_time": "2022-05-23T15:38:04.959Z"
      },
      {
        "duration": 0,
        "start_time": "2022-05-23T15:38:04.960Z"
      },
      {
        "duration": 0,
        "start_time": "2022-05-23T15:38:04.961Z"
      },
      {
        "duration": 0,
        "start_time": "2022-05-23T15:38:04.962Z"
      },
      {
        "duration": 0,
        "start_time": "2022-05-23T15:38:04.963Z"
      },
      {
        "duration": 0,
        "start_time": "2022-05-23T15:38:04.964Z"
      },
      {
        "duration": 0,
        "start_time": "2022-05-23T15:38:04.964Z"
      },
      {
        "duration": 0,
        "start_time": "2022-05-23T15:38:04.965Z"
      },
      {
        "duration": 0,
        "start_time": "2022-05-23T15:38:04.966Z"
      },
      {
        "duration": 0,
        "start_time": "2022-05-23T15:38:04.969Z"
      },
      {
        "duration": 0,
        "start_time": "2022-05-23T15:38:04.970Z"
      },
      {
        "duration": 0,
        "start_time": "2022-05-23T15:38:04.971Z"
      },
      {
        "duration": 0,
        "start_time": "2022-05-23T15:38:04.972Z"
      },
      {
        "duration": 0,
        "start_time": "2022-05-23T15:38:04.972Z"
      },
      {
        "duration": 0,
        "start_time": "2022-05-23T15:38:04.973Z"
      },
      {
        "duration": 0,
        "start_time": "2022-05-23T15:38:04.974Z"
      },
      {
        "duration": 0,
        "start_time": "2022-05-23T15:38:04.976Z"
      },
      {
        "duration": 0,
        "start_time": "2022-05-23T15:38:04.977Z"
      },
      {
        "duration": 0,
        "start_time": "2022-05-23T15:38:04.978Z"
      },
      {
        "duration": 0,
        "start_time": "2022-05-23T15:38:04.979Z"
      },
      {
        "duration": 0,
        "start_time": "2022-05-23T15:38:04.980Z"
      },
      {
        "duration": 0,
        "start_time": "2022-05-23T15:38:04.980Z"
      },
      {
        "duration": 0,
        "start_time": "2022-05-23T15:38:04.981Z"
      },
      {
        "duration": 0,
        "start_time": "2022-05-23T15:38:04.982Z"
      },
      {
        "duration": 0,
        "start_time": "2022-05-23T15:38:04.983Z"
      },
      {
        "duration": 0,
        "start_time": "2022-05-23T15:38:04.984Z"
      },
      {
        "duration": 0,
        "start_time": "2022-05-23T15:38:04.985Z"
      },
      {
        "duration": 0,
        "start_time": "2022-05-23T15:38:04.986Z"
      },
      {
        "duration": 0,
        "start_time": "2022-05-23T15:38:04.987Z"
      },
      {
        "duration": 0,
        "start_time": "2022-05-23T15:38:04.988Z"
      },
      {
        "duration": 0,
        "start_time": "2022-05-23T15:38:04.989Z"
      },
      {
        "duration": 0,
        "start_time": "2022-05-23T15:38:04.990Z"
      },
      {
        "duration": 0,
        "start_time": "2022-05-23T15:38:04.991Z"
      },
      {
        "duration": 0,
        "start_time": "2022-05-23T15:38:04.992Z"
      },
      {
        "duration": 0,
        "start_time": "2022-05-23T15:38:04.993Z"
      },
      {
        "duration": 0,
        "start_time": "2022-05-23T15:38:04.994Z"
      },
      {
        "duration": 0,
        "start_time": "2022-05-23T15:38:05.059Z"
      },
      {
        "duration": 0,
        "start_time": "2022-05-23T15:38:05.060Z"
      },
      {
        "duration": 0,
        "start_time": "2022-05-23T15:38:05.062Z"
      },
      {
        "duration": 0,
        "start_time": "2022-05-23T15:38:05.063Z"
      },
      {
        "duration": 0,
        "start_time": "2022-05-23T15:38:05.064Z"
      },
      {
        "duration": 0,
        "start_time": "2022-05-23T15:38:05.065Z"
      },
      {
        "duration": 0,
        "start_time": "2022-05-23T15:38:05.065Z"
      },
      {
        "duration": 0,
        "start_time": "2022-05-23T15:38:05.066Z"
      },
      {
        "duration": 0,
        "start_time": "2022-05-23T15:38:05.068Z"
      },
      {
        "duration": 0,
        "start_time": "2022-05-23T15:38:05.069Z"
      },
      {
        "duration": 0,
        "start_time": "2022-05-23T15:38:05.070Z"
      },
      {
        "duration": 0,
        "start_time": "2022-05-23T15:38:05.071Z"
      },
      {
        "duration": 0,
        "start_time": "2022-05-23T15:38:05.073Z"
      },
      {
        "duration": 0,
        "start_time": "2022-05-23T15:38:05.074Z"
      },
      {
        "duration": 0,
        "start_time": "2022-05-23T15:38:05.076Z"
      },
      {
        "duration": 0,
        "start_time": "2022-05-23T15:38:05.077Z"
      },
      {
        "duration": 0,
        "start_time": "2022-05-23T15:38:05.079Z"
      },
      {
        "duration": 0,
        "start_time": "2022-05-23T15:38:05.080Z"
      },
      {
        "duration": 0,
        "start_time": "2022-05-23T15:38:05.081Z"
      },
      {
        "duration": 0,
        "start_time": "2022-05-23T15:38:05.083Z"
      },
      {
        "duration": 0,
        "start_time": "2022-05-23T15:38:05.084Z"
      },
      {
        "duration": 0,
        "start_time": "2022-05-23T15:38:05.085Z"
      },
      {
        "duration": 0,
        "start_time": "2022-05-23T15:38:05.087Z"
      },
      {
        "duration": 70,
        "start_time": "2022-05-23T17:06:11.269Z"
      },
      {
        "duration": 1721,
        "start_time": "2022-05-23T17:06:15.048Z"
      },
      {
        "duration": 141,
        "start_time": "2022-05-23T17:06:19.384Z"
      },
      {
        "duration": 1324,
        "start_time": "2022-05-23T17:07:56.076Z"
      },
      {
        "duration": 47,
        "start_time": "2022-05-23T17:07:57.402Z"
      },
      {
        "duration": 14,
        "start_time": "2022-05-23T17:07:57.451Z"
      },
      {
        "duration": 44,
        "start_time": "2022-05-23T17:07:57.467Z"
      },
      {
        "duration": 8,
        "start_time": "2022-05-23T17:07:57.512Z"
      },
      {
        "duration": 93,
        "start_time": "2022-05-23T17:07:57.521Z"
      },
      {
        "duration": 9,
        "start_time": "2022-05-23T17:07:57.616Z"
      },
      {
        "duration": 39,
        "start_time": "2022-05-23T17:07:57.627Z"
      },
      {
        "duration": 7,
        "start_time": "2022-05-23T17:07:57.668Z"
      },
      {
        "duration": 27,
        "start_time": "2022-05-23T17:07:57.677Z"
      },
      {
        "duration": 15,
        "start_time": "2022-05-23T17:07:57.706Z"
      },
      {
        "duration": 6,
        "start_time": "2022-05-23T17:07:57.722Z"
      },
      {
        "duration": 5,
        "start_time": "2022-05-23T17:07:57.729Z"
      },
      {
        "duration": 4,
        "start_time": "2022-05-23T17:07:57.736Z"
      },
      {
        "duration": 20,
        "start_time": "2022-05-23T17:07:57.741Z"
      },
      {
        "duration": 11,
        "start_time": "2022-05-23T17:07:57.763Z"
      },
      {
        "duration": 51,
        "start_time": "2022-05-23T17:07:57.775Z"
      },
      {
        "duration": 8,
        "start_time": "2022-05-23T17:07:57.827Z"
      },
      {
        "duration": 7,
        "start_time": "2022-05-23T17:07:57.836Z"
      },
      {
        "duration": 21,
        "start_time": "2022-05-23T17:07:57.844Z"
      },
      {
        "duration": 12,
        "start_time": "2022-05-23T17:07:57.866Z"
      },
      {
        "duration": 23,
        "start_time": "2022-05-23T17:07:57.880Z"
      },
      {
        "duration": 17,
        "start_time": "2022-05-23T17:07:57.905Z"
      },
      {
        "duration": 9,
        "start_time": "2022-05-23T17:07:57.923Z"
      },
      {
        "duration": 296,
        "start_time": "2022-05-23T17:07:57.933Z"
      },
      {
        "duration": 8,
        "start_time": "2022-05-23T17:07:58.230Z"
      },
      {
        "duration": 278,
        "start_time": "2022-05-23T17:07:58.239Z"
      },
      {
        "duration": 10,
        "start_time": "2022-05-23T17:07:58.520Z"
      },
      {
        "duration": 8,
        "start_time": "2022-05-23T17:07:58.532Z"
      },
      {
        "duration": 12,
        "start_time": "2022-05-23T17:07:58.542Z"
      },
      {
        "duration": 3,
        "start_time": "2022-05-23T17:07:58.556Z"
      },
      {
        "duration": 68,
        "start_time": "2022-05-23T17:07:58.560Z"
      },
      {
        "duration": 3,
        "start_time": "2022-05-23T17:07:58.629Z"
      },
      {
        "duration": 10,
        "start_time": "2022-05-23T17:07:58.633Z"
      },
      {
        "duration": 12,
        "start_time": "2022-05-23T17:07:58.645Z"
      },
      {
        "duration": 5,
        "start_time": "2022-05-23T17:07:58.659Z"
      },
      {
        "duration": 9,
        "start_time": "2022-05-23T17:07:58.666Z"
      },
      {
        "duration": 10,
        "start_time": "2022-05-23T17:07:58.676Z"
      },
      {
        "duration": 14,
        "start_time": "2022-05-23T17:07:58.688Z"
      },
      {
        "duration": 9,
        "start_time": "2022-05-23T17:07:58.704Z"
      },
      {
        "duration": 9,
        "start_time": "2022-05-23T17:07:58.714Z"
      },
      {
        "duration": 8,
        "start_time": "2022-05-23T17:07:58.724Z"
      },
      {
        "duration": 8,
        "start_time": "2022-05-23T17:07:58.733Z"
      },
      {
        "duration": 269,
        "start_time": "2022-05-23T17:07:58.742Z"
      },
      {
        "duration": 5,
        "start_time": "2022-05-23T17:07:59.013Z"
      },
      {
        "duration": 13,
        "start_time": "2022-05-23T17:07:59.019Z"
      },
      {
        "duration": 253,
        "start_time": "2022-05-23T17:07:59.033Z"
      },
      {
        "duration": 395,
        "start_time": "2022-05-23T17:07:59.288Z"
      },
      {
        "duration": 24,
        "start_time": "2022-05-23T17:07:59.685Z"
      },
      {
        "duration": 5,
        "start_time": "2022-05-23T17:07:59.711Z"
      },
      {
        "duration": 25,
        "start_time": "2022-05-23T17:07:59.718Z"
      },
      {
        "duration": 17,
        "start_time": "2022-05-23T17:07:59.744Z"
      },
      {
        "duration": 6,
        "start_time": "2022-05-23T17:07:59.763Z"
      },
      {
        "duration": 10,
        "start_time": "2022-05-23T17:07:59.771Z"
      },
      {
        "duration": 3,
        "start_time": "2022-05-23T17:08:08.769Z"
      },
      {
        "duration": 2,
        "start_time": "2022-05-23T17:08:09.600Z"
      },
      {
        "duration": 13,
        "start_time": "2022-05-23T17:08:10.258Z"
      },
      {
        "duration": 9,
        "start_time": "2022-05-23T17:08:22.776Z"
      },
      {
        "duration": 18,
        "start_time": "2022-05-23T17:08:31.775Z"
      },
      {
        "duration": 8,
        "start_time": "2022-05-23T17:08:53.191Z"
      },
      {
        "duration": 5,
        "start_time": "2022-05-23T17:08:53.927Z"
      },
      {
        "duration": 3,
        "start_time": "2022-05-23T17:08:54.505Z"
      },
      {
        "duration": 4,
        "start_time": "2022-05-23T17:08:55.355Z"
      },
      {
        "duration": 3,
        "start_time": "2022-05-23T17:08:55.950Z"
      },
      {
        "duration": 5956,
        "start_time": "2022-05-23T17:09:02.728Z"
      },
      {
        "duration": 1248,
        "start_time": "2022-05-23T17:09:15.562Z"
      },
      {
        "duration": 107,
        "start_time": "2022-05-23T17:09:23.868Z"
      },
      {
        "duration": 6,
        "start_time": "2022-05-23T17:09:31.829Z"
      },
      {
        "duration": 6,
        "start_time": "2022-05-23T17:09:32.288Z"
      },
      {
        "duration": 5,
        "start_time": "2022-05-23T17:09:32.801Z"
      },
      {
        "duration": 24749,
        "start_time": "2022-05-23T17:09:37.300Z"
      },
      {
        "duration": 5,
        "start_time": "2022-05-23T17:10:02.050Z"
      },
      {
        "duration": 24,
        "start_time": "2022-05-23T17:10:02.057Z"
      },
      {
        "duration": 427,
        "start_time": "2022-05-23T17:10:02.082Z"
      },
      {
        "duration": 92,
        "start_time": "2022-05-23T17:10:02.511Z"
      },
      {
        "duration": 98,
        "start_time": "2022-05-23T17:10:02.610Z"
      },
      {
        "duration": 2,
        "start_time": "2022-05-23T17:21:03.139Z"
      },
      {
        "duration": 2,
        "start_time": "2022-05-23T17:21:03.590Z"
      },
      {
        "duration": 10,
        "start_time": "2022-05-23T17:21:03.949Z"
      },
      {
        "duration": 6,
        "start_time": "2022-05-23T17:21:04.227Z"
      },
      {
        "duration": 9,
        "start_time": "2022-05-23T17:21:19.959Z"
      },
      {
        "duration": 118,
        "start_time": "2022-05-23T17:22:03.479Z"
      },
      {
        "duration": 10,
        "start_time": "2022-05-23T17:22:34.961Z"
      },
      {
        "duration": 11,
        "start_time": "2022-05-23T17:31:53.201Z"
      },
      {
        "duration": 6273,
        "start_time": "2022-05-23T17:33:20.374Z"
      },
      {
        "duration": 11,
        "start_time": "2022-05-23T17:33:29.204Z"
      },
      {
        "duration": 18,
        "start_time": "2022-05-23T17:33:41.496Z"
      },
      {
        "duration": 1343,
        "start_time": "2022-05-23T17:34:53.978Z"
      },
      {
        "duration": 47,
        "start_time": "2022-05-23T17:34:55.322Z"
      },
      {
        "duration": 14,
        "start_time": "2022-05-23T17:34:55.370Z"
      },
      {
        "duration": 20,
        "start_time": "2022-05-23T17:34:55.386Z"
      },
      {
        "duration": 8,
        "start_time": "2022-05-23T17:34:55.407Z"
      },
      {
        "duration": 23,
        "start_time": "2022-05-23T17:34:55.416Z"
      },
      {
        "duration": 10,
        "start_time": "2022-05-23T17:34:55.441Z"
      },
      {
        "duration": 21,
        "start_time": "2022-05-23T17:34:55.454Z"
      },
      {
        "duration": 11,
        "start_time": "2022-05-23T17:34:55.477Z"
      },
      {
        "duration": 30,
        "start_time": "2022-05-23T17:34:55.490Z"
      },
      {
        "duration": 16,
        "start_time": "2022-05-23T17:34:55.522Z"
      },
      {
        "duration": 6,
        "start_time": "2022-05-23T17:34:55.540Z"
      },
      {
        "duration": 7,
        "start_time": "2022-05-23T17:34:55.547Z"
      },
      {
        "duration": 5,
        "start_time": "2022-05-23T17:34:55.556Z"
      },
      {
        "duration": 40,
        "start_time": "2022-05-23T17:34:55.562Z"
      },
      {
        "duration": 12,
        "start_time": "2022-05-23T17:34:55.604Z"
      },
      {
        "duration": 26,
        "start_time": "2022-05-23T17:34:55.618Z"
      },
      {
        "duration": 8,
        "start_time": "2022-05-23T17:34:55.646Z"
      },
      {
        "duration": 5,
        "start_time": "2022-05-23T17:34:55.656Z"
      },
      {
        "duration": 51,
        "start_time": "2022-05-23T17:34:55.663Z"
      },
      {
        "duration": 10,
        "start_time": "2022-05-23T17:34:55.716Z"
      },
      {
        "duration": 19,
        "start_time": "2022-05-23T17:34:55.728Z"
      },
      {
        "duration": 23,
        "start_time": "2022-05-23T17:34:55.748Z"
      },
      {
        "duration": 8,
        "start_time": "2022-05-23T17:34:55.773Z"
      },
      {
        "duration": 268,
        "start_time": "2022-05-23T17:34:55.783Z"
      },
      {
        "duration": 8,
        "start_time": "2022-05-23T17:34:56.053Z"
      },
      {
        "duration": 243,
        "start_time": "2022-05-23T17:34:56.063Z"
      },
      {
        "duration": 10,
        "start_time": "2022-05-23T17:34:56.310Z"
      },
      {
        "duration": 10,
        "start_time": "2022-05-23T17:34:56.322Z"
      },
      {
        "duration": 11,
        "start_time": "2022-05-23T17:34:56.333Z"
      },
      {
        "duration": 2,
        "start_time": "2022-05-23T17:34:56.345Z"
      },
      {
        "duration": 63,
        "start_time": "2022-05-23T17:34:56.349Z"
      },
      {
        "duration": 3,
        "start_time": "2022-05-23T17:34:56.413Z"
      },
      {
        "duration": 7,
        "start_time": "2022-05-23T17:34:56.417Z"
      },
      {
        "duration": 9,
        "start_time": "2022-05-23T17:34:56.426Z"
      },
      {
        "duration": 6,
        "start_time": "2022-05-23T17:34:56.436Z"
      },
      {
        "duration": 6,
        "start_time": "2022-05-23T17:34:56.443Z"
      },
      {
        "duration": 5,
        "start_time": "2022-05-23T17:34:56.451Z"
      },
      {
        "duration": 7,
        "start_time": "2022-05-23T17:34:56.457Z"
      },
      {
        "duration": 6,
        "start_time": "2022-05-23T17:34:56.465Z"
      },
      {
        "duration": 5,
        "start_time": "2022-05-23T17:34:56.501Z"
      },
      {
        "duration": 7,
        "start_time": "2022-05-23T17:34:56.507Z"
      },
      {
        "duration": 8,
        "start_time": "2022-05-23T17:34:56.516Z"
      },
      {
        "duration": 260,
        "start_time": "2022-05-23T17:34:56.526Z"
      },
      {
        "duration": 14,
        "start_time": "2022-05-23T17:34:56.788Z"
      },
      {
        "duration": 12,
        "start_time": "2022-05-23T17:34:56.804Z"
      },
      {
        "duration": 234,
        "start_time": "2022-05-23T17:34:56.818Z"
      },
      {
        "duration": 404,
        "start_time": "2022-05-23T17:34:57.053Z"
      },
      {
        "duration": 10,
        "start_time": "2022-05-23T17:34:57.458Z"
      },
      {
        "duration": 5,
        "start_time": "2022-05-23T17:34:57.469Z"
      },
      {
        "duration": 47,
        "start_time": "2022-05-23T17:34:57.475Z"
      },
      {
        "duration": 18,
        "start_time": "2022-05-23T17:34:57.524Z"
      },
      {
        "duration": 5,
        "start_time": "2022-05-23T17:34:57.544Z"
      },
      {
        "duration": 7,
        "start_time": "2022-05-23T17:34:57.550Z"
      },
      {
        "duration": 6,
        "start_time": "2022-05-23T17:34:57.559Z"
      },
      {
        "duration": 4,
        "start_time": "2022-05-23T17:34:57.567Z"
      },
      {
        "duration": 29,
        "start_time": "2022-05-23T17:34:57.573Z"
      },
      {
        "duration": 7,
        "start_time": "2022-05-23T17:34:57.603Z"
      },
      {
        "duration": 7,
        "start_time": "2022-05-23T17:34:57.611Z"
      },
      {
        "duration": 5,
        "start_time": "2022-05-23T17:34:57.619Z"
      },
      {
        "duration": 6,
        "start_time": "2022-05-23T17:34:57.625Z"
      },
      {
        "duration": 5,
        "start_time": "2022-05-23T17:34:57.632Z"
      },
      {
        "duration": 6192,
        "start_time": "2022-05-23T17:34:57.638Z"
      },
      {
        "duration": 135,
        "start_time": "2022-05-23T17:35:05.799Z"
      },
      {
        "duration": 9,
        "start_time": "2022-05-23T17:35:27.599Z"
      },
      {
        "duration": 2296,
        "start_time": "2022-05-23T17:35:33.892Z"
      },
      {
        "duration": 19,
        "start_time": "2022-05-23T17:35:45.198Z"
      },
      {
        "duration": 116,
        "start_time": "2022-05-23T17:36:46.808Z"
      },
      {
        "duration": 6,
        "start_time": "2022-05-23T17:36:48.044Z"
      },
      {
        "duration": 5,
        "start_time": "2022-05-23T17:36:48.813Z"
      },
      {
        "duration": 6,
        "start_time": "2022-05-23T17:36:49.468Z"
      },
      {
        "duration": 13,
        "start_time": "2022-05-23T17:36:50.452Z"
      },
      {
        "duration": 13,
        "start_time": "2022-05-23T17:38:59.593Z"
      },
      {
        "duration": 10,
        "start_time": "2022-05-23T17:39:09.740Z"
      },
      {
        "duration": 10,
        "start_time": "2022-05-23T17:39:59.587Z"
      },
      {
        "duration": 1392,
        "start_time": "2022-05-23T17:42:00.944Z"
      },
      {
        "duration": 11,
        "start_time": "2022-05-23T17:42:12.068Z"
      },
      {
        "duration": 11,
        "start_time": "2022-05-23T17:42:34.270Z"
      },
      {
        "duration": 11,
        "start_time": "2022-05-23T17:42:37.858Z"
      },
      {
        "duration": 12,
        "start_time": "2022-05-23T17:42:38.481Z"
      },
      {
        "duration": 11,
        "start_time": "2022-05-23T17:44:02.521Z"
      },
      {
        "duration": 11,
        "start_time": "2022-05-23T17:48:51.862Z"
      },
      {
        "duration": 1413,
        "start_time": "2022-05-23T17:49:23.309Z"
      },
      {
        "duration": 51,
        "start_time": "2022-05-23T17:49:24.724Z"
      },
      {
        "duration": 16,
        "start_time": "2022-05-23T17:49:24.777Z"
      },
      {
        "duration": 21,
        "start_time": "2022-05-23T17:49:24.796Z"
      },
      {
        "duration": 9,
        "start_time": "2022-05-23T17:49:24.819Z"
      },
      {
        "duration": 23,
        "start_time": "2022-05-23T17:49:24.829Z"
      },
      {
        "duration": 12,
        "start_time": "2022-05-23T17:49:24.853Z"
      },
      {
        "duration": 24,
        "start_time": "2022-05-23T17:49:24.866Z"
      },
      {
        "duration": 7,
        "start_time": "2022-05-23T17:49:24.892Z"
      },
      {
        "duration": 28,
        "start_time": "2022-05-23T17:49:24.904Z"
      },
      {
        "duration": 19,
        "start_time": "2022-05-23T17:49:24.934Z"
      },
      {
        "duration": 6,
        "start_time": "2022-05-23T17:49:24.955Z"
      },
      {
        "duration": 8,
        "start_time": "2022-05-23T17:49:24.962Z"
      },
      {
        "duration": 30,
        "start_time": "2022-05-23T17:49:24.972Z"
      },
      {
        "duration": 18,
        "start_time": "2022-05-23T17:49:25.004Z"
      },
      {
        "duration": 11,
        "start_time": "2022-05-23T17:49:25.024Z"
      },
      {
        "duration": 31,
        "start_time": "2022-05-23T17:49:25.036Z"
      },
      {
        "duration": 36,
        "start_time": "2022-05-23T17:49:25.069Z"
      },
      {
        "duration": 6,
        "start_time": "2022-05-23T17:49:25.107Z"
      },
      {
        "duration": 24,
        "start_time": "2022-05-23T17:49:25.114Z"
      },
      {
        "duration": 10,
        "start_time": "2022-05-23T17:49:25.140Z"
      },
      {
        "duration": 7,
        "start_time": "2022-05-23T17:49:25.152Z"
      },
      {
        "duration": 47,
        "start_time": "2022-05-23T17:49:25.161Z"
      },
      {
        "duration": 9,
        "start_time": "2022-05-23T17:49:25.209Z"
      },
      {
        "duration": 298,
        "start_time": "2022-05-23T17:49:25.219Z"
      },
      {
        "duration": 8,
        "start_time": "2022-05-23T17:49:25.519Z"
      },
      {
        "duration": 270,
        "start_time": "2022-05-23T17:49:25.529Z"
      },
      {
        "duration": 10,
        "start_time": "2022-05-23T17:49:25.803Z"
      },
      {
        "duration": 10,
        "start_time": "2022-05-23T17:49:25.815Z"
      },
      {
        "duration": 13,
        "start_time": "2022-05-23T17:49:25.826Z"
      },
      {
        "duration": 2,
        "start_time": "2022-05-23T17:49:25.841Z"
      },
      {
        "duration": 74,
        "start_time": "2022-05-23T17:49:25.845Z"
      },
      {
        "duration": 3,
        "start_time": "2022-05-23T17:49:25.921Z"
      },
      {
        "duration": 8,
        "start_time": "2022-05-23T17:49:25.925Z"
      },
      {
        "duration": 10,
        "start_time": "2022-05-23T17:49:25.935Z"
      },
      {
        "duration": 6,
        "start_time": "2022-05-23T17:49:25.947Z"
      },
      {
        "duration": 6,
        "start_time": "2022-05-23T17:49:25.955Z"
      },
      {
        "duration": 4,
        "start_time": "2022-05-23T17:49:25.963Z"
      },
      {
        "duration": 33,
        "start_time": "2022-05-23T17:49:25.969Z"
      },
      {
        "duration": 11,
        "start_time": "2022-05-23T17:49:26.004Z"
      },
      {
        "duration": 16,
        "start_time": "2022-05-23T17:49:26.017Z"
      },
      {
        "duration": 18,
        "start_time": "2022-05-23T17:49:26.035Z"
      },
      {
        "duration": 9,
        "start_time": "2022-05-23T17:49:26.054Z"
      },
      {
        "duration": 251,
        "start_time": "2022-05-23T17:49:26.065Z"
      },
      {
        "duration": 6,
        "start_time": "2022-05-23T17:49:26.318Z"
      },
      {
        "duration": 8,
        "start_time": "2022-05-23T17:49:26.326Z"
      },
      {
        "duration": 281,
        "start_time": "2022-05-23T17:49:26.336Z"
      },
      {
        "duration": 372,
        "start_time": "2022-05-23T17:49:26.618Z"
      },
      {
        "duration": 17,
        "start_time": "2022-05-23T17:49:26.992Z"
      },
      {
        "duration": 5,
        "start_time": "2022-05-23T17:49:27.011Z"
      },
      {
        "duration": 24,
        "start_time": "2022-05-23T17:49:27.017Z"
      },
      {
        "duration": 27,
        "start_time": "2022-05-23T17:49:27.043Z"
      },
      {
        "duration": 6,
        "start_time": "2022-05-23T17:49:27.072Z"
      },
      {
        "duration": 28,
        "start_time": "2022-05-23T17:49:27.079Z"
      },
      {
        "duration": 4,
        "start_time": "2022-05-23T17:49:27.109Z"
      },
      {
        "duration": 4,
        "start_time": "2022-05-23T17:49:27.115Z"
      },
      {
        "duration": 11,
        "start_time": "2022-05-23T17:49:27.121Z"
      },
      {
        "duration": 7,
        "start_time": "2022-05-23T17:49:27.133Z"
      },
      {
        "duration": 8,
        "start_time": "2022-05-23T17:49:27.141Z"
      },
      {
        "duration": 4,
        "start_time": "2022-05-23T17:49:27.150Z"
      },
      {
        "duration": 4,
        "start_time": "2022-05-23T17:49:27.156Z"
      },
      {
        "duration": 4,
        "start_time": "2022-05-23T17:49:27.162Z"
      },
      {
        "duration": 6618,
        "start_time": "2022-05-23T17:49:27.167Z"
      },
      {
        "duration": 1114,
        "start_time": "2022-05-23T17:49:33.787Z"
      },
      {
        "duration": 127,
        "start_time": "2022-05-23T17:49:34.903Z"
      },
      {
        "duration": 4,
        "start_time": "2022-05-23T17:49:35.032Z"
      },
      {
        "duration": 14,
        "start_time": "2022-05-23T17:49:35.038Z"
      },
      {
        "duration": 13,
        "start_time": "2022-05-23T17:49:35.053Z"
      },
      {
        "duration": 27187,
        "start_time": "2022-05-23T17:49:35.067Z"
      },
      {
        "duration": 6,
        "start_time": "2022-05-23T17:50:02.255Z"
      },
      {
        "duration": 8,
        "start_time": "2022-05-23T17:50:02.263Z"
      },
      {
        "duration": 1030,
        "start_time": "2022-05-23T17:50:02.273Z"
      },
      {
        "duration": 92,
        "start_time": "2022-05-23T17:50:03.314Z"
      },
      {
        "duration": 10,
        "start_time": "2022-05-23T17:50:03.408Z"
      },
      {
        "duration": 4,
        "start_time": "2022-05-23T17:53:56.670Z"
      },
      {
        "duration": 143,
        "start_time": "2022-05-23T17:54:08.315Z"
      },
      {
        "duration": 11,
        "start_time": "2022-05-23T17:54:57.076Z"
      },
      {
        "duration": 12,
        "start_time": "2022-05-23T17:55:18.964Z"
      },
      {
        "duration": 11,
        "start_time": "2022-05-23T17:58:20.694Z"
      },
      {
        "duration": 14,
        "start_time": "2022-05-23T17:59:16.822Z"
      },
      {
        "duration": 4,
        "start_time": "2022-05-23T17:59:49.150Z"
      },
      {
        "duration": 3,
        "start_time": "2022-05-23T17:59:49.871Z"
      },
      {
        "duration": 11,
        "start_time": "2022-05-23T17:59:50.397Z"
      },
      {
        "duration": 12,
        "start_time": "2022-05-23T17:59:50.850Z"
      },
      {
        "duration": 17,
        "start_time": "2022-05-23T18:00:34.011Z"
      },
      {
        "duration": 13,
        "start_time": "2022-05-23T18:01:19.001Z"
      },
      {
        "duration": 16,
        "start_time": "2022-05-23T18:01:35.797Z"
      },
      {
        "duration": 10,
        "start_time": "2022-05-23T18:02:39.428Z"
      },
      {
        "duration": 12,
        "start_time": "2022-05-23T18:03:56.793Z"
      },
      {
        "duration": 1536,
        "start_time": "2022-05-23T18:06:25.721Z"
      },
      {
        "duration": 52,
        "start_time": "2022-05-23T18:06:27.259Z"
      },
      {
        "duration": 17,
        "start_time": "2022-05-23T18:06:27.313Z"
      },
      {
        "duration": 20,
        "start_time": "2022-05-23T18:06:27.332Z"
      },
      {
        "duration": 8,
        "start_time": "2022-05-23T18:06:27.354Z"
      },
      {
        "duration": 23,
        "start_time": "2022-05-23T18:06:27.364Z"
      },
      {
        "duration": 21,
        "start_time": "2022-05-23T18:06:27.388Z"
      },
      {
        "duration": 31,
        "start_time": "2022-05-23T18:06:27.411Z"
      },
      {
        "duration": 7,
        "start_time": "2022-05-23T18:06:27.444Z"
      },
      {
        "duration": 31,
        "start_time": "2022-05-23T18:06:27.454Z"
      },
      {
        "duration": 26,
        "start_time": "2022-05-23T18:06:27.487Z"
      },
      {
        "duration": 6,
        "start_time": "2022-05-23T18:06:27.517Z"
      },
      {
        "duration": 6,
        "start_time": "2022-05-23T18:06:27.525Z"
      },
      {
        "duration": 6,
        "start_time": "2022-05-23T18:06:27.533Z"
      },
      {
        "duration": 22,
        "start_time": "2022-05-23T18:06:27.541Z"
      },
      {
        "duration": 12,
        "start_time": "2022-05-23T18:06:27.564Z"
      },
      {
        "duration": 55,
        "start_time": "2022-05-23T18:06:27.577Z"
      },
      {
        "duration": 10,
        "start_time": "2022-05-23T18:06:27.633Z"
      },
      {
        "duration": 7,
        "start_time": "2022-05-23T18:06:27.644Z"
      },
      {
        "duration": 50,
        "start_time": "2022-05-23T18:06:27.653Z"
      },
      {
        "duration": 16,
        "start_time": "2022-05-23T18:06:27.705Z"
      },
      {
        "duration": 8,
        "start_time": "2022-05-23T18:06:27.724Z"
      },
      {
        "duration": 20,
        "start_time": "2022-05-23T18:06:27.733Z"
      },
      {
        "duration": 8,
        "start_time": "2022-05-23T18:06:27.754Z"
      },
      {
        "duration": 325,
        "start_time": "2022-05-23T18:06:27.764Z"
      },
      {
        "duration": 12,
        "start_time": "2022-05-23T18:06:28.091Z"
      },
      {
        "duration": 305,
        "start_time": "2022-05-23T18:06:28.106Z"
      },
      {
        "duration": 14,
        "start_time": "2022-05-23T18:06:28.419Z"
      },
      {
        "duration": 10,
        "start_time": "2022-05-23T18:06:28.435Z"
      },
      {
        "duration": 23,
        "start_time": "2022-05-23T18:06:28.448Z"
      },
      {
        "duration": 23,
        "start_time": "2022-05-23T18:06:28.474Z"
      },
      {
        "duration": 52,
        "start_time": "2022-05-23T18:06:28.502Z"
      },
      {
        "duration": 3,
        "start_time": "2022-05-23T18:06:28.556Z"
      },
      {
        "duration": 13,
        "start_time": "2022-05-23T18:06:28.561Z"
      },
      {
        "duration": 28,
        "start_time": "2022-05-23T18:06:28.576Z"
      },
      {
        "duration": 12,
        "start_time": "2022-05-23T18:06:28.605Z"
      },
      {
        "duration": 19,
        "start_time": "2022-05-23T18:06:28.620Z"
      },
      {
        "duration": 8,
        "start_time": "2022-05-23T18:06:28.641Z"
      },
      {
        "duration": 11,
        "start_time": "2022-05-23T18:06:28.650Z"
      },
      {
        "duration": 7,
        "start_time": "2022-05-23T18:06:28.663Z"
      },
      {
        "duration": 7,
        "start_time": "2022-05-23T18:06:28.672Z"
      },
      {
        "duration": 21,
        "start_time": "2022-05-23T18:06:28.681Z"
      },
      {
        "duration": 11,
        "start_time": "2022-05-23T18:06:28.705Z"
      },
      {
        "duration": 278,
        "start_time": "2022-05-23T18:06:28.719Z"
      },
      {
        "duration": 5,
        "start_time": "2022-05-23T18:06:29.002Z"
      },
      {
        "duration": 28,
        "start_time": "2022-05-23T18:06:29.010Z"
      },
      {
        "duration": 246,
        "start_time": "2022-05-23T18:06:29.040Z"
      },
      {
        "duration": 404,
        "start_time": "2022-05-23T18:06:29.288Z"
      },
      {
        "duration": 24,
        "start_time": "2022-05-23T18:06:29.693Z"
      },
      {
        "duration": 7,
        "start_time": "2022-05-23T18:06:29.719Z"
      },
      {
        "duration": 25,
        "start_time": "2022-05-23T18:06:29.728Z"
      },
      {
        "duration": 18,
        "start_time": "2022-05-23T18:06:29.755Z"
      },
      {
        "duration": 36,
        "start_time": "2022-05-23T18:06:29.775Z"
      },
      {
        "duration": 12,
        "start_time": "2022-05-23T18:06:29.813Z"
      },
      {
        "duration": 7,
        "start_time": "2022-05-23T18:06:29.827Z"
      },
      {
        "duration": 6,
        "start_time": "2022-05-23T18:06:29.835Z"
      },
      {
        "duration": 12,
        "start_time": "2022-05-23T18:06:29.842Z"
      },
      {
        "duration": 7,
        "start_time": "2022-05-23T18:06:29.856Z"
      },
      {
        "duration": 4,
        "start_time": "2022-05-23T18:06:29.865Z"
      },
      {
        "duration": 4,
        "start_time": "2022-05-23T18:06:29.871Z"
      },
      {
        "duration": 6,
        "start_time": "2022-05-23T18:06:29.902Z"
      },
      {
        "duration": 14,
        "start_time": "2022-05-23T18:06:29.912Z"
      },
      {
        "duration": 7019,
        "start_time": "2022-05-23T18:06:29.927Z"
      },
      {
        "duration": 1236,
        "start_time": "2022-05-23T18:06:36.948Z"
      },
      {
        "duration": 137,
        "start_time": "2022-05-23T18:06:38.186Z"
      },
      {
        "duration": 6,
        "start_time": "2022-05-23T18:06:38.325Z"
      },
      {
        "duration": 7,
        "start_time": "2022-05-23T18:06:38.332Z"
      },
      {
        "duration": 11,
        "start_time": "2022-05-23T18:06:38.341Z"
      },
      {
        "duration": 28386,
        "start_time": "2022-05-23T18:06:38.353Z"
      },
      {
        "duration": 7,
        "start_time": "2022-05-23T18:07:06.741Z"
      },
      {
        "duration": 7,
        "start_time": "2022-05-23T18:07:06.749Z"
      },
      {
        "duration": 353,
        "start_time": "2022-05-23T18:07:06.758Z"
      },
      {
        "duration": 88,
        "start_time": "2022-05-23T18:07:07.114Z"
      },
      {
        "duration": 8,
        "start_time": "2022-05-23T18:07:07.205Z"
      },
      {
        "duration": 123,
        "start_time": "2022-05-23T18:24:06.252Z"
      },
      {
        "duration": 14,
        "start_time": "2022-05-23T18:24:10.227Z"
      },
      {
        "duration": 8,
        "start_time": "2022-05-23T18:25:48.405Z"
      },
      {
        "duration": 11,
        "start_time": "2022-05-23T18:26:10.250Z"
      },
      {
        "duration": 150,
        "start_time": "2022-05-23T18:41:56.858Z"
      },
      {
        "duration": 257,
        "start_time": "2022-05-23T18:42:16.162Z"
      },
      {
        "duration": 228,
        "start_time": "2022-05-23T18:42:30.094Z"
      },
      {
        "duration": 11,
        "start_time": "2022-05-23T18:43:08.759Z"
      },
      {
        "duration": 13,
        "start_time": "2022-05-23T18:55:56.765Z"
      },
      {
        "duration": 46,
        "start_time": "2022-05-23T19:01:03.268Z"
      },
      {
        "duration": 259,
        "start_time": "2022-05-23T19:03:58.269Z"
      },
      {
        "duration": 241,
        "start_time": "2022-05-23T19:04:51.665Z"
      },
      {
        "duration": 452,
        "start_time": "2022-05-23T19:04:56.487Z"
      },
      {
        "duration": 233,
        "start_time": "2022-05-23T19:05:04.055Z"
      },
      {
        "duration": 222,
        "start_time": "2022-05-23T19:05:09.421Z"
      },
      {
        "duration": 148,
        "start_time": "2022-05-23T19:05:37.998Z"
      },
      {
        "duration": 124,
        "start_time": "2022-05-23T19:06:13.517Z"
      },
      {
        "duration": 219,
        "start_time": "2022-05-23T19:06:19.054Z"
      },
      {
        "duration": 221,
        "start_time": "2022-05-23T19:07:12.066Z"
      },
      {
        "duration": 111,
        "start_time": "2022-05-23T19:07:22.095Z"
      },
      {
        "duration": 234,
        "start_time": "2022-05-23T19:07:55.597Z"
      },
      {
        "duration": 46,
        "start_time": "2022-05-23T19:08:22.692Z"
      },
      {
        "duration": 264,
        "start_time": "2022-05-23T19:08:28.471Z"
      },
      {
        "duration": 27,
        "start_time": "2022-05-23T19:09:19.857Z"
      },
      {
        "duration": 30,
        "start_time": "2022-05-23T19:09:45.821Z"
      },
      {
        "duration": 155,
        "start_time": "2022-05-23T19:10:07.778Z"
      },
      {
        "duration": 262,
        "start_time": "2022-05-23T19:10:31.914Z"
      },
      {
        "duration": 223,
        "start_time": "2022-05-23T19:10:43.864Z"
      },
      {
        "duration": 151,
        "start_time": "2022-05-23T19:11:54.567Z"
      },
      {
        "duration": 168,
        "start_time": "2022-05-23T19:12:31.393Z"
      },
      {
        "duration": 150,
        "start_time": "2022-05-23T19:12:58.994Z"
      },
      {
        "duration": 150,
        "start_time": "2022-05-23T19:13:10.572Z"
      },
      {
        "duration": 266,
        "start_time": "2022-05-23T19:14:24.901Z"
      },
      {
        "duration": 175,
        "start_time": "2022-05-23T19:14:45.609Z"
      },
      {
        "duration": 11,
        "start_time": "2022-05-23T19:17:02.288Z"
      },
      {
        "duration": 6,
        "start_time": "2022-05-23T19:17:08.563Z"
      },
      {
        "duration": 345,
        "start_time": "2022-05-23T19:17:09.801Z"
      },
      {
        "duration": 11,
        "start_time": "2022-05-23T19:34:18.463Z"
      },
      {
        "duration": 231,
        "start_time": "2022-05-23T19:36:06.782Z"
      },
      {
        "duration": 498,
        "start_time": "2022-05-23T19:39:08.165Z"
      },
      {
        "duration": 423,
        "start_time": "2022-05-23T19:39:25.457Z"
      },
      {
        "duration": 183,
        "start_time": "2022-05-23T19:40:54.170Z"
      },
      {
        "duration": 142,
        "start_time": "2022-05-23T19:41:16.865Z"
      },
      {
        "duration": 6,
        "start_time": "2022-05-23T19:41:45.803Z"
      },
      {
        "duration": 156,
        "start_time": "2022-05-23T19:42:47.678Z"
      },
      {
        "duration": 4,
        "start_time": "2022-05-23T19:43:18.557Z"
      },
      {
        "duration": 195,
        "start_time": "2022-05-23T19:44:09.183Z"
      },
      {
        "duration": 161,
        "start_time": "2022-05-23T19:44:15.764Z"
      },
      {
        "duration": 151,
        "start_time": "2022-05-23T19:44:23.063Z"
      },
      {
        "duration": 4,
        "start_time": "2022-05-23T19:44:53.136Z"
      },
      {
        "duration": 4,
        "start_time": "2022-05-23T19:45:00.656Z"
      },
      {
        "duration": 385,
        "start_time": "2022-05-23T19:45:01.313Z"
      },
      {
        "duration": 15,
        "start_time": "2022-05-23T19:45:47.677Z"
      },
      {
        "duration": 384,
        "start_time": "2022-05-23T19:45:50.705Z"
      },
      {
        "duration": 353,
        "start_time": "2022-05-23T19:46:39.158Z"
      },
      {
        "duration": 3,
        "start_time": "2022-05-23T19:47:11.424Z"
      },
      {
        "duration": 3,
        "start_time": "2022-05-23T19:47:21.558Z"
      },
      {
        "duration": 388,
        "start_time": "2022-05-23T19:47:22.954Z"
      },
      {
        "duration": 3,
        "start_time": "2022-05-23T19:51:06.127Z"
      },
      {
        "duration": 503,
        "start_time": "2022-05-23T19:51:08.967Z"
      },
      {
        "duration": 354,
        "start_time": "2022-05-23T19:51:39.567Z"
      },
      {
        "duration": 11,
        "start_time": "2022-05-23T19:53:16.987Z"
      },
      {
        "duration": 3,
        "start_time": "2022-05-23T19:53:19.678Z"
      },
      {
        "duration": 12,
        "start_time": "2022-05-23T19:53:31.464Z"
      },
      {
        "duration": 357,
        "start_time": "2022-05-23T19:53:38.177Z"
      },
      {
        "duration": 348,
        "start_time": "2022-05-23T19:53:55.887Z"
      },
      {
        "duration": 3,
        "start_time": "2022-05-23T19:54:05.202Z"
      },
      {
        "duration": 349,
        "start_time": "2022-05-23T19:54:06.064Z"
      },
      {
        "duration": 3,
        "start_time": "2022-05-23T19:54:17.195Z"
      },
      {
        "duration": 343,
        "start_time": "2022-05-23T19:54:17.868Z"
      },
      {
        "duration": 360,
        "start_time": "2022-05-23T19:54:53.159Z"
      },
      {
        "duration": 372,
        "start_time": "2022-05-23T19:55:52.358Z"
      },
      {
        "duration": 385,
        "start_time": "2022-05-23T19:55:58.425Z"
      },
      {
        "duration": 5,
        "start_time": "2022-05-23T20:01:24.228Z"
      },
      {
        "duration": 1368,
        "start_time": "2022-05-23T20:06:34.870Z"
      },
      {
        "duration": 133,
        "start_time": "2022-05-23T20:06:36.241Z"
      },
      {
        "duration": 14,
        "start_time": "2022-05-23T20:06:36.376Z"
      },
      {
        "duration": 42,
        "start_time": "2022-05-23T20:06:36.392Z"
      },
      {
        "duration": 9,
        "start_time": "2022-05-23T20:06:36.435Z"
      },
      {
        "duration": 92,
        "start_time": "2022-05-23T20:06:36.445Z"
      },
      {
        "duration": 10,
        "start_time": "2022-05-23T20:06:36.539Z"
      },
      {
        "duration": 40,
        "start_time": "2022-05-23T20:06:36.551Z"
      },
      {
        "duration": 6,
        "start_time": "2022-05-23T20:06:36.593Z"
      },
      {
        "duration": 26,
        "start_time": "2022-05-23T20:06:36.602Z"
      },
      {
        "duration": 19,
        "start_time": "2022-05-23T20:06:36.629Z"
      },
      {
        "duration": 6,
        "start_time": "2022-05-23T20:06:36.650Z"
      },
      {
        "duration": 7,
        "start_time": "2022-05-23T20:06:36.658Z"
      },
      {
        "duration": 6,
        "start_time": "2022-05-23T20:06:36.666Z"
      },
      {
        "duration": 39,
        "start_time": "2022-05-23T20:06:36.674Z"
      },
      {
        "duration": 12,
        "start_time": "2022-05-23T20:06:36.714Z"
      },
      {
        "duration": 31,
        "start_time": "2022-05-23T20:06:36.728Z"
      },
      {
        "duration": 10,
        "start_time": "2022-05-23T20:06:36.761Z"
      },
      {
        "duration": 32,
        "start_time": "2022-05-23T20:06:36.773Z"
      },
      {
        "duration": 24,
        "start_time": "2022-05-23T20:06:36.807Z"
      },
      {
        "duration": 11,
        "start_time": "2022-05-23T20:06:36.833Z"
      },
      {
        "duration": 8,
        "start_time": "2022-05-23T20:06:36.846Z"
      },
      {
        "duration": 47,
        "start_time": "2022-05-23T20:06:36.855Z"
      },
      {
        "duration": 10,
        "start_time": "2022-05-23T20:06:36.904Z"
      },
      {
        "duration": 278,
        "start_time": "2022-05-23T20:06:36.916Z"
      },
      {
        "duration": 10,
        "start_time": "2022-05-23T20:06:37.201Z"
      },
      {
        "duration": 257,
        "start_time": "2022-05-23T20:06:37.213Z"
      },
      {
        "duration": 11,
        "start_time": "2022-05-23T20:06:37.474Z"
      },
      {
        "duration": 20,
        "start_time": "2022-05-23T20:06:37.487Z"
      },
      {
        "duration": 13,
        "start_time": "2022-05-23T20:06:37.508Z"
      },
      {
        "duration": 3,
        "start_time": "2022-05-23T20:06:37.523Z"
      },
      {
        "duration": 37,
        "start_time": "2022-05-23T20:06:37.528Z"
      },
      {
        "duration": 3,
        "start_time": "2022-05-23T20:06:37.567Z"
      },
      {
        "duration": 36,
        "start_time": "2022-05-23T20:06:37.572Z"
      },
      {
        "duration": 11,
        "start_time": "2022-05-23T20:06:37.609Z"
      },
      {
        "duration": 13,
        "start_time": "2022-05-23T20:06:37.622Z"
      },
      {
        "duration": 7,
        "start_time": "2022-05-23T20:06:37.636Z"
      },
      {
        "duration": 5,
        "start_time": "2022-05-23T20:06:37.645Z"
      },
      {
        "duration": 7,
        "start_time": "2022-05-23T20:06:37.651Z"
      },
      {
        "duration": 5,
        "start_time": "2022-05-23T20:06:37.659Z"
      },
      {
        "duration": 4,
        "start_time": "2022-05-23T20:06:37.666Z"
      },
      {
        "duration": 32,
        "start_time": "2022-05-23T20:06:37.672Z"
      },
      {
        "duration": 8,
        "start_time": "2022-05-23T20:06:37.706Z"
      },
      {
        "duration": 254,
        "start_time": "2022-05-23T20:06:37.715Z"
      },
      {
        "duration": 5,
        "start_time": "2022-05-23T20:06:37.971Z"
      },
      {
        "duration": 12,
        "start_time": "2022-05-23T20:06:37.977Z"
      },
      {
        "duration": 245,
        "start_time": "2022-05-23T20:06:37.990Z"
      },
      {
        "duration": 357,
        "start_time": "2022-05-23T20:06:38.237Z"
      },
      {
        "duration": 21,
        "start_time": "2022-05-23T20:06:38.595Z"
      },
      {
        "duration": 6,
        "start_time": "2022-05-23T20:06:38.618Z"
      },
      {
        "duration": 23,
        "start_time": "2022-05-23T20:06:38.626Z"
      },
      {
        "duration": 16,
        "start_time": "2022-05-23T20:06:38.650Z"
      },
      {
        "duration": 34,
        "start_time": "2022-05-23T20:06:38.668Z"
      },
      {
        "duration": 3,
        "start_time": "2022-05-23T20:06:38.704Z"
      },
      {
        "duration": 7,
        "start_time": "2022-05-23T20:06:38.709Z"
      },
      {
        "duration": 5,
        "start_time": "2022-05-23T20:06:38.717Z"
      },
      {
        "duration": 12,
        "start_time": "2022-05-23T20:06:38.724Z"
      },
      {
        "duration": 7,
        "start_time": "2022-05-23T20:06:38.738Z"
      },
      {
        "duration": 4,
        "start_time": "2022-05-23T20:06:38.746Z"
      },
      {
        "duration": 5,
        "start_time": "2022-05-23T20:06:38.752Z"
      },
      {
        "duration": 5,
        "start_time": "2022-05-23T20:06:38.759Z"
      },
      {
        "duration": 6,
        "start_time": "2022-05-23T20:06:38.765Z"
      },
      {
        "duration": 6029,
        "start_time": "2022-05-23T20:06:38.773Z"
      },
      {
        "duration": 1419,
        "start_time": "2022-05-23T20:06:44.803Z"
      },
      {
        "duration": 117,
        "start_time": "2022-05-23T20:06:46.224Z"
      },
      {
        "duration": 5,
        "start_time": "2022-05-23T20:06:46.343Z"
      },
      {
        "duration": 7,
        "start_time": "2022-05-23T20:06:46.349Z"
      },
      {
        "duration": 8,
        "start_time": "2022-05-23T20:06:46.358Z"
      },
      {
        "duration": 25351,
        "start_time": "2022-05-23T20:06:46.367Z"
      },
      {
        "duration": 6,
        "start_time": "2022-05-23T20:07:11.720Z"
      },
      {
        "duration": 7,
        "start_time": "2022-05-23T20:07:11.727Z"
      },
      {
        "duration": 180,
        "start_time": "2022-05-23T20:07:11.736Z"
      },
      {
        "duration": 10,
        "start_time": "2022-05-23T20:07:12.003Z"
      },
      {
        "duration": 92,
        "start_time": "2022-05-23T20:07:12.016Z"
      },
      {
        "duration": 11,
        "start_time": "2022-05-23T20:07:12.110Z"
      },
      {
        "duration": 8,
        "start_time": "2022-05-23T20:07:12.122Z"
      },
      {
        "duration": 408,
        "start_time": "2022-05-23T20:07:12.131Z"
      },
      {
        "duration": 649,
        "start_time": "2022-05-23T20:11:23.351Z"
      },
      {
        "duration": 4,
        "start_time": "2022-05-23T20:11:33.408Z"
      },
      {
        "duration": 290,
        "start_time": "2022-05-23T20:11:36.163Z"
      },
      {
        "duration": 10,
        "start_time": "2022-05-23T20:13:07.237Z"
      },
      {
        "duration": 1536,
        "start_time": "2022-05-26T08:46:47.616Z"
      },
      {
        "duration": 147,
        "start_time": "2022-05-26T08:46:49.154Z"
      },
      {
        "duration": 16,
        "start_time": "2022-05-26T08:46:49.302Z"
      },
      {
        "duration": 46,
        "start_time": "2022-05-26T08:46:49.320Z"
      },
      {
        "duration": 10,
        "start_time": "2022-05-26T08:46:49.368Z"
      },
      {
        "duration": 107,
        "start_time": "2022-05-26T08:46:49.380Z"
      },
      {
        "duration": 10,
        "start_time": "2022-05-26T08:46:49.489Z"
      },
      {
        "duration": 49,
        "start_time": "2022-05-26T08:46:49.500Z"
      },
      {
        "duration": 6,
        "start_time": "2022-05-26T08:46:49.551Z"
      },
      {
        "duration": 31,
        "start_time": "2022-05-26T08:46:49.560Z"
      },
      {
        "duration": 19,
        "start_time": "2022-05-26T08:46:49.593Z"
      },
      {
        "duration": 5,
        "start_time": "2022-05-26T08:46:51.121Z"
      },
      {
        "duration": 24,
        "start_time": "2022-05-26T08:47:09.900Z"
      },
      {
        "duration": 6,
        "start_time": "2022-05-26T08:50:23.880Z"
      },
      {
        "duration": 54,
        "start_time": "2022-05-26T08:50:23.888Z"
      },
      {
        "duration": 11,
        "start_time": "2022-05-26T08:50:23.944Z"
      },
      {
        "duration": 24,
        "start_time": "2022-05-26T08:50:23.957Z"
      },
      {
        "duration": 8,
        "start_time": "2022-05-26T08:50:23.984Z"
      },
      {
        "duration": 26,
        "start_time": "2022-05-26T08:50:23.993Z"
      },
      {
        "duration": 10,
        "start_time": "2022-05-26T08:50:24.020Z"
      },
      {
        "duration": 19,
        "start_time": "2022-05-26T08:50:24.032Z"
      },
      {
        "duration": 7,
        "start_time": "2022-05-26T08:50:24.053Z"
      },
      {
        "duration": 28,
        "start_time": "2022-05-26T08:50:24.062Z"
      },
      {
        "duration": 19,
        "start_time": "2022-05-26T08:50:24.103Z"
      },
      {
        "duration": 9,
        "start_time": "2022-05-26T08:50:24.124Z"
      },
      {
        "duration": 28,
        "start_time": "2022-05-26T08:50:24.134Z"
      },
      {
        "duration": 3,
        "start_time": "2022-05-26T08:50:24.164Z"
      },
      {
        "duration": 34,
        "start_time": "2022-05-26T08:50:24.168Z"
      },
      {
        "duration": 20,
        "start_time": "2022-05-26T08:50:24.204Z"
      },
      {
        "duration": 12,
        "start_time": "2022-05-26T08:50:24.225Z"
      },
      {
        "duration": 31,
        "start_time": "2022-05-26T08:50:24.239Z"
      },
      {
        "duration": 39,
        "start_time": "2022-05-26T08:50:24.271Z"
      },
      {
        "duration": 5,
        "start_time": "2022-05-26T08:50:24.311Z"
      },
      {
        "duration": 24,
        "start_time": "2022-05-26T08:50:24.318Z"
      },
      {
        "duration": 11,
        "start_time": "2022-05-26T08:50:24.344Z"
      },
      {
        "duration": 6,
        "start_time": "2022-05-26T08:50:24.357Z"
      },
      {
        "duration": 18,
        "start_time": "2022-05-26T08:50:24.402Z"
      },
      {
        "duration": 8,
        "start_time": "2022-05-26T08:50:24.422Z"
      },
      {
        "duration": 431,
        "start_time": "2022-05-26T08:50:24.432Z"
      },
      {
        "duration": 9,
        "start_time": "2022-05-26T08:50:24.865Z"
      },
      {
        "duration": 287,
        "start_time": "2022-05-26T08:50:24.876Z"
      },
      {
        "duration": 12,
        "start_time": "2022-05-26T08:50:25.167Z"
      },
      {
        "duration": 26,
        "start_time": "2022-05-26T08:50:25.180Z"
      },
      {
        "duration": 15,
        "start_time": "2022-05-26T08:50:25.208Z"
      },
      {
        "duration": 3,
        "start_time": "2022-05-26T08:50:25.225Z"
      },
      {
        "duration": 40,
        "start_time": "2022-05-26T08:50:25.230Z"
      },
      {
        "duration": 3,
        "start_time": "2022-05-26T08:50:25.302Z"
      },
      {
        "duration": 8,
        "start_time": "2022-05-26T08:50:25.307Z"
      },
      {
        "duration": 11,
        "start_time": "2022-05-26T08:50:25.317Z"
      },
      {
        "duration": 9,
        "start_time": "2022-05-26T08:50:25.330Z"
      },
      {
        "duration": 8,
        "start_time": "2022-05-26T08:50:25.340Z"
      },
      {
        "duration": 5,
        "start_time": "2022-05-26T08:50:25.350Z"
      },
      {
        "duration": 9,
        "start_time": "2022-05-26T08:50:25.356Z"
      },
      {
        "duration": 7,
        "start_time": "2022-05-26T08:50:25.367Z"
      },
      {
        "duration": 28,
        "start_time": "2022-05-26T08:50:25.375Z"
      },
      {
        "duration": 6,
        "start_time": "2022-05-26T08:50:25.405Z"
      },
      {
        "duration": 12,
        "start_time": "2022-05-26T08:50:25.414Z"
      },
      {
        "duration": 276,
        "start_time": "2022-05-26T08:50:25.428Z"
      },
      {
        "duration": 4,
        "start_time": "2022-05-26T08:50:25.706Z"
      },
      {
        "duration": 10,
        "start_time": "2022-05-26T08:50:25.712Z"
      },
      {
        "duration": 272,
        "start_time": "2022-05-26T08:50:25.724Z"
      },
      {
        "duration": 426,
        "start_time": "2022-05-26T08:50:26.001Z"
      },
      {
        "duration": 12,
        "start_time": "2022-05-26T08:50:26.429Z"
      },
      {
        "duration": 5,
        "start_time": "2022-05-26T08:50:26.443Z"
      },
      {
        "duration": 28,
        "start_time": "2022-05-26T08:50:26.450Z"
      },
      {
        "duration": 37,
        "start_time": "2022-05-26T08:50:26.479Z"
      },
      {
        "duration": 5,
        "start_time": "2022-05-26T08:50:26.518Z"
      },
      {
        "duration": 8,
        "start_time": "2022-05-26T08:50:26.525Z"
      },
      {
        "duration": 7,
        "start_time": "2022-05-26T08:50:26.535Z"
      },
      {
        "duration": 5,
        "start_time": "2022-05-26T08:50:26.544Z"
      },
      {
        "duration": 12,
        "start_time": "2022-05-26T08:50:26.551Z"
      },
      {
        "duration": 7,
        "start_time": "2022-05-26T08:50:26.565Z"
      },
      {
        "duration": 30,
        "start_time": "2022-05-26T08:50:26.573Z"
      },
      {
        "duration": 2,
        "start_time": "2022-05-26T08:50:26.605Z"
      },
      {
        "duration": 6,
        "start_time": "2022-05-26T08:50:26.609Z"
      },
      {
        "duration": 6,
        "start_time": "2022-05-26T08:50:26.617Z"
      },
      {
        "duration": 6634,
        "start_time": "2022-05-26T08:50:26.625Z"
      },
      {
        "duration": 1103,
        "start_time": "2022-05-26T08:50:33.261Z"
      },
      {
        "duration": 131,
        "start_time": "2022-05-26T08:50:34.366Z"
      },
      {
        "duration": 6,
        "start_time": "2022-05-26T08:50:34.501Z"
      },
      {
        "duration": 8,
        "start_time": "2022-05-26T08:50:34.508Z"
      },
      {
        "duration": 7,
        "start_time": "2022-05-26T08:50:34.518Z"
      },
      {
        "duration": 26981,
        "start_time": "2022-05-26T08:50:34.526Z"
      },
      {
        "duration": 5,
        "start_time": "2022-05-26T08:51:01.509Z"
      },
      {
        "duration": 14,
        "start_time": "2022-05-26T08:51:01.516Z"
      },
      {
        "duration": 475,
        "start_time": "2022-05-26T08:51:01.532Z"
      },
      {
        "duration": 94,
        "start_time": "2022-05-26T08:51:02.009Z"
      },
      {
        "duration": 98,
        "start_time": "2022-05-26T08:51:02.106Z"
      },
      {
        "duration": 19,
        "start_time": "2022-05-26T08:51:02.206Z"
      },
      {
        "duration": 390,
        "start_time": "2022-05-26T08:51:02.227Z"
      },
      {
        "duration": 781,
        "start_time": "2022-05-26T08:52:52.426Z"
      },
      {
        "duration": 11,
        "start_time": "2022-05-26T08:53:46.617Z"
      },
      {
        "duration": 10,
        "start_time": "2022-05-26T08:54:09.366Z"
      },
      {
        "duration": 18,
        "start_time": "2022-05-26T08:57:55.175Z"
      },
      {
        "duration": 15,
        "start_time": "2022-05-26T08:58:47.270Z"
      },
      {
        "duration": 1375,
        "start_time": "2022-05-26T08:59:33.474Z"
      },
      {
        "duration": 51,
        "start_time": "2022-05-26T08:59:34.852Z"
      },
      {
        "duration": 14,
        "start_time": "2022-05-26T08:59:34.905Z"
      },
      {
        "duration": 25,
        "start_time": "2022-05-26T08:59:34.922Z"
      },
      {
        "duration": 9,
        "start_time": "2022-05-26T08:59:34.948Z"
      },
      {
        "duration": 25,
        "start_time": "2022-05-26T08:59:34.958Z"
      },
      {
        "duration": 11,
        "start_time": "2022-05-26T08:59:34.985Z"
      },
      {
        "duration": 22,
        "start_time": "2022-05-26T08:59:34.997Z"
      },
      {
        "duration": 7,
        "start_time": "2022-05-26T08:59:35.021Z"
      },
      {
        "duration": 29,
        "start_time": "2022-05-26T08:59:35.031Z"
      },
      {
        "duration": 18,
        "start_time": "2022-05-26T08:59:35.062Z"
      },
      {
        "duration": 21,
        "start_time": "2022-05-26T08:59:35.082Z"
      },
      {
        "duration": 25,
        "start_time": "2022-05-26T08:59:35.105Z"
      },
      {
        "duration": 4,
        "start_time": "2022-05-26T08:59:35.131Z"
      },
      {
        "duration": 13,
        "start_time": "2022-05-26T08:59:35.137Z"
      },
      {
        "duration": 31,
        "start_time": "2022-05-26T08:59:35.152Z"
      },
      {
        "duration": 24,
        "start_time": "2022-05-26T08:59:35.185Z"
      },
      {
        "duration": 32,
        "start_time": "2022-05-26T08:59:35.211Z"
      },
      {
        "duration": 11,
        "start_time": "2022-05-26T08:59:35.244Z"
      },
      {
        "duration": 8,
        "start_time": "2022-05-26T08:59:35.257Z"
      },
      {
        "duration": 53,
        "start_time": "2022-05-26T08:59:35.266Z"
      },
      {
        "duration": 11,
        "start_time": "2022-05-26T08:59:35.321Z"
      },
      {
        "duration": 10,
        "start_time": "2022-05-26T08:59:35.333Z"
      },
      {
        "duration": 18,
        "start_time": "2022-05-26T08:59:35.344Z"
      },
      {
        "duration": 8,
        "start_time": "2022-05-26T08:59:35.364Z"
      },
      {
        "duration": 324,
        "start_time": "2022-05-26T08:59:35.374Z"
      },
      {
        "duration": 9,
        "start_time": "2022-05-26T08:59:35.702Z"
      },
      {
        "duration": 298,
        "start_time": "2022-05-26T08:59:35.715Z"
      },
      {
        "duration": 11,
        "start_time": "2022-05-26T08:59:36.016Z"
      },
      {
        "duration": 10,
        "start_time": "2022-05-26T08:59:36.029Z"
      },
      {
        "duration": 13,
        "start_time": "2022-05-26T08:59:36.040Z"
      },
      {
        "duration": 3,
        "start_time": "2022-05-26T08:59:36.056Z"
      },
      {
        "duration": 75,
        "start_time": "2022-05-26T08:59:36.061Z"
      },
      {
        "duration": 3,
        "start_time": "2022-05-26T08:59:36.137Z"
      },
      {
        "duration": 8,
        "start_time": "2022-05-26T08:59:36.142Z"
      },
      {
        "duration": 8,
        "start_time": "2022-05-26T08:59:36.151Z"
      },
      {
        "duration": 7,
        "start_time": "2022-05-26T08:59:36.161Z"
      },
      {
        "duration": 41,
        "start_time": "2022-05-26T08:59:36.169Z"
      },
      {
        "duration": 6,
        "start_time": "2022-05-26T08:59:36.212Z"
      },
      {
        "duration": 8,
        "start_time": "2022-05-26T08:59:36.220Z"
      },
      {
        "duration": 7,
        "start_time": "2022-05-26T08:59:36.230Z"
      },
      {
        "duration": 6,
        "start_time": "2022-05-26T08:59:36.239Z"
      },
      {
        "duration": 10,
        "start_time": "2022-05-26T08:59:36.246Z"
      },
      {
        "duration": 8,
        "start_time": "2022-05-26T08:59:36.258Z"
      },
      {
        "duration": 288,
        "start_time": "2022-05-26T08:59:36.267Z"
      },
      {
        "duration": 5,
        "start_time": "2022-05-26T08:59:36.557Z"
      },
      {
        "duration": 14,
        "start_time": "2022-05-26T08:59:36.563Z"
      },
      {
        "duration": 279,
        "start_time": "2022-05-26T08:59:36.578Z"
      },
      {
        "duration": 418,
        "start_time": "2022-05-26T08:59:36.859Z"
      },
      {
        "duration": 11,
        "start_time": "2022-05-26T08:59:37.279Z"
      },
      {
        "duration": 5,
        "start_time": "2022-05-26T08:59:37.301Z"
      },
      {
        "duration": 25,
        "start_time": "2022-05-26T08:59:37.308Z"
      },
      {
        "duration": 19,
        "start_time": "2022-05-26T08:59:37.335Z"
      },
      {
        "duration": 5,
        "start_time": "2022-05-26T08:59:37.356Z"
      },
      {
        "duration": 5,
        "start_time": "2022-05-26T08:59:37.363Z"
      },
      {
        "duration": 4,
        "start_time": "2022-05-26T08:59:37.369Z"
      },
      {
        "duration": 5,
        "start_time": "2022-05-26T08:59:37.403Z"
      },
      {
        "duration": 12,
        "start_time": "2022-05-26T08:59:37.410Z"
      },
      {
        "duration": 8,
        "start_time": "2022-05-26T08:59:37.424Z"
      },
      {
        "duration": 9,
        "start_time": "2022-05-26T08:59:37.433Z"
      },
      {
        "duration": 5,
        "start_time": "2022-05-26T08:59:37.443Z"
      },
      {
        "duration": 6,
        "start_time": "2022-05-26T08:59:37.449Z"
      },
      {
        "duration": 4,
        "start_time": "2022-05-26T08:59:37.457Z"
      },
      {
        "duration": 6840,
        "start_time": "2022-05-26T08:59:37.463Z"
      },
      {
        "duration": 1108,
        "start_time": "2022-05-26T08:59:44.305Z"
      },
      {
        "duration": 127,
        "start_time": "2022-05-26T08:59:45.415Z"
      },
      {
        "duration": 5,
        "start_time": "2022-05-26T08:59:45.544Z"
      },
      {
        "duration": 10,
        "start_time": "2022-05-26T08:59:45.551Z"
      },
      {
        "duration": 7,
        "start_time": "2022-05-26T08:59:45.562Z"
      },
      {
        "duration": 27451,
        "start_time": "2022-05-26T08:59:45.571Z"
      },
      {
        "duration": 5,
        "start_time": "2022-05-26T09:00:13.024Z"
      },
      {
        "duration": 8,
        "start_time": "2022-05-26T09:00:13.031Z"
      },
      {
        "duration": 371,
        "start_time": "2022-05-26T09:00:13.041Z"
      },
      {
        "duration": 94,
        "start_time": "2022-05-26T09:00:13.509Z"
      },
      {
        "duration": 12,
        "start_time": "2022-05-26T09:00:13.604Z"
      },
      {
        "duration": 21,
        "start_time": "2022-05-26T09:00:13.617Z"
      },
      {
        "duration": 390,
        "start_time": "2022-05-26T09:00:14.057Z"
      },
      {
        "duration": 14,
        "start_time": "2022-05-26T09:00:14.449Z"
      },
      {
        "duration": 128,
        "start_time": "2022-05-26T09:54:02.758Z"
      },
      {
        "duration": 1420,
        "start_time": "2022-05-26T09:54:14.342Z"
      },
      {
        "duration": 49,
        "start_time": "2022-05-26T09:54:15.764Z"
      },
      {
        "duration": 18,
        "start_time": "2022-05-26T09:54:15.815Z"
      },
      {
        "duration": 21,
        "start_time": "2022-05-26T09:54:15.835Z"
      },
      {
        "duration": 9,
        "start_time": "2022-05-26T09:54:15.857Z"
      },
      {
        "duration": 29,
        "start_time": "2022-05-26T09:54:15.867Z"
      },
      {
        "duration": 13,
        "start_time": "2022-05-26T09:54:15.898Z"
      },
      {
        "duration": 20,
        "start_time": "2022-05-26T09:54:15.913Z"
      },
      {
        "duration": 8,
        "start_time": "2022-05-26T09:54:15.934Z"
      },
      {
        "duration": 27,
        "start_time": "2022-05-26T09:54:15.944Z"
      },
      {
        "duration": 31,
        "start_time": "2022-05-26T09:54:15.973Z"
      },
      {
        "duration": 7,
        "start_time": "2022-05-26T09:54:16.005Z"
      },
      {
        "duration": 26,
        "start_time": "2022-05-26T09:54:16.014Z"
      },
      {
        "duration": 3,
        "start_time": "2022-05-26T09:54:16.041Z"
      },
      {
        "duration": 5,
        "start_time": "2022-05-26T09:54:16.046Z"
      },
      {
        "duration": 21,
        "start_time": "2022-05-26T09:54:16.053Z"
      },
      {
        "duration": 17,
        "start_time": "2022-05-26T09:54:16.102Z"
      },
      {
        "duration": 37,
        "start_time": "2022-05-26T09:54:16.120Z"
      },
      {
        "duration": 8,
        "start_time": "2022-05-26T09:54:16.159Z"
      },
      {
        "duration": 6,
        "start_time": "2022-05-26T09:54:16.169Z"
      },
      {
        "duration": 45,
        "start_time": "2022-05-26T09:54:16.176Z"
      },
      {
        "duration": 10,
        "start_time": "2022-05-26T09:54:16.223Z"
      },
      {
        "duration": 10,
        "start_time": "2022-05-26T09:54:16.234Z"
      },
      {
        "duration": 23,
        "start_time": "2022-05-26T09:54:16.245Z"
      },
      {
        "duration": 9,
        "start_time": "2022-05-26T09:54:16.269Z"
      },
      {
        "duration": 288,
        "start_time": "2022-05-26T09:54:16.302Z"
      },
      {
        "duration": 16,
        "start_time": "2022-05-26T09:54:16.592Z"
      },
      {
        "duration": 274,
        "start_time": "2022-05-26T09:54:16.612Z"
      },
      {
        "duration": 21,
        "start_time": "2022-05-26T09:54:16.887Z"
      },
      {
        "duration": 29,
        "start_time": "2022-05-26T09:54:16.910Z"
      },
      {
        "duration": 18,
        "start_time": "2022-05-26T09:54:16.940Z"
      },
      {
        "duration": 4,
        "start_time": "2022-05-26T09:54:16.960Z"
      },
      {
        "duration": 47,
        "start_time": "2022-05-26T09:54:16.966Z"
      },
      {
        "duration": 3,
        "start_time": "2022-05-26T09:54:17.014Z"
      },
      {
        "duration": 15,
        "start_time": "2022-05-26T09:54:17.018Z"
      },
      {
        "duration": 13,
        "start_time": "2022-05-26T09:54:17.034Z"
      },
      {
        "duration": 17,
        "start_time": "2022-05-26T09:54:17.048Z"
      },
      {
        "duration": 12,
        "start_time": "2022-05-26T09:54:17.066Z"
      },
      {
        "duration": 13,
        "start_time": "2022-05-26T09:54:17.080Z"
      },
      {
        "duration": 18,
        "start_time": "2022-05-26T09:54:17.094Z"
      },
      {
        "duration": 10,
        "start_time": "2022-05-26T09:54:17.114Z"
      },
      {
        "duration": 25,
        "start_time": "2022-05-26T09:54:17.125Z"
      },
      {
        "duration": 7,
        "start_time": "2022-05-26T09:54:17.152Z"
      },
      {
        "duration": 11,
        "start_time": "2022-05-26T09:54:17.160Z"
      },
      {
        "duration": 250,
        "start_time": "2022-05-26T09:54:17.173Z"
      },
      {
        "duration": 5,
        "start_time": "2022-05-26T09:54:17.425Z"
      },
      {
        "duration": 9,
        "start_time": "2022-05-26T09:54:17.432Z"
      },
      {
        "duration": 289,
        "start_time": "2022-05-26T09:54:17.443Z"
      },
      {
        "duration": 415,
        "start_time": "2022-05-26T09:54:17.734Z"
      },
      {
        "duration": 12,
        "start_time": "2022-05-26T09:54:18.151Z"
      },
      {
        "duration": 8,
        "start_time": "2022-05-26T09:54:18.165Z"
      },
      {
        "duration": 39,
        "start_time": "2022-05-26T09:54:18.174Z"
      },
      {
        "duration": 17,
        "start_time": "2022-05-26T09:54:18.215Z"
      },
      {
        "duration": 6,
        "start_time": "2022-05-26T09:54:18.234Z"
      },
      {
        "duration": 5,
        "start_time": "2022-05-26T09:54:18.241Z"
      },
      {
        "duration": 4,
        "start_time": "2022-05-26T09:54:18.247Z"
      },
      {
        "duration": 6,
        "start_time": "2022-05-26T09:54:18.252Z"
      },
      {
        "duration": 43,
        "start_time": "2022-05-26T09:54:18.259Z"
      },
      {
        "duration": 7,
        "start_time": "2022-05-26T09:54:18.304Z"
      },
      {
        "duration": 6,
        "start_time": "2022-05-26T09:54:18.313Z"
      },
      {
        "duration": 5,
        "start_time": "2022-05-26T09:54:18.321Z"
      },
      {
        "duration": 6,
        "start_time": "2022-05-26T09:54:18.327Z"
      },
      {
        "duration": 4,
        "start_time": "2022-05-26T09:54:18.335Z"
      },
      {
        "duration": 8183,
        "start_time": "2022-05-26T09:54:18.341Z"
      },
      {
        "duration": 1104,
        "start_time": "2022-05-26T09:54:26.526Z"
      },
      {
        "duration": 122,
        "start_time": "2022-05-26T09:54:27.632Z"
      },
      {
        "duration": 5,
        "start_time": "2022-05-26T09:54:27.756Z"
      },
      {
        "duration": 8,
        "start_time": "2022-05-26T09:54:27.762Z"
      },
      {
        "duration": 7,
        "start_time": "2022-05-26T09:54:27.772Z"
      },
      {
        "duration": 1459,
        "start_time": "2022-05-27T08:13:50.306Z"
      },
      {
        "duration": 114,
        "start_time": "2022-05-27T08:13:51.768Z"
      },
      {
        "duration": 14,
        "start_time": "2022-05-27T08:13:51.884Z"
      },
      {
        "duration": 90,
        "start_time": "2022-05-27T08:13:51.900Z"
      },
      {
        "duration": 8,
        "start_time": "2022-05-27T08:13:51.991Z"
      },
      {
        "duration": 49,
        "start_time": "2022-05-27T08:13:52.001Z"
      },
      {
        "duration": 9,
        "start_time": "2022-05-27T08:13:52.052Z"
      },
      {
        "duration": 50,
        "start_time": "2022-05-27T08:13:52.063Z"
      },
      {
        "duration": 6,
        "start_time": "2022-05-27T08:13:52.114Z"
      },
      {
        "duration": 24,
        "start_time": "2022-05-27T08:13:52.122Z"
      },
      {
        "duration": 15,
        "start_time": "2022-05-27T08:13:52.147Z"
      },
      {
        "duration": 6,
        "start_time": "2022-05-27T08:13:52.164Z"
      },
      {
        "duration": 22,
        "start_time": "2022-05-27T08:13:52.171Z"
      },
      {
        "duration": 4,
        "start_time": "2022-05-27T08:13:52.194Z"
      },
      {
        "duration": 7,
        "start_time": "2022-05-27T08:13:52.199Z"
      },
      {
        "duration": 17,
        "start_time": "2022-05-27T08:13:52.226Z"
      },
      {
        "duration": 12,
        "start_time": "2022-05-27T08:13:52.245Z"
      },
      {
        "duration": 26,
        "start_time": "2022-05-27T08:13:52.258Z"
      },
      {
        "duration": 9,
        "start_time": "2022-05-27T08:13:52.286Z"
      },
      {
        "duration": 5,
        "start_time": "2022-05-27T08:13:52.327Z"
      },
      {
        "duration": 21,
        "start_time": "2022-05-27T08:13:52.333Z"
      },
      {
        "duration": 10,
        "start_time": "2022-05-27T08:13:52.355Z"
      },
      {
        "duration": 7,
        "start_time": "2022-05-27T08:13:52.366Z"
      },
      {
        "duration": 14,
        "start_time": "2022-05-27T08:13:52.375Z"
      },
      {
        "duration": 37,
        "start_time": "2022-05-27T08:13:52.390Z"
      },
      {
        "duration": 273,
        "start_time": "2022-05-27T08:13:52.428Z"
      },
      {
        "duration": 8,
        "start_time": "2022-05-27T08:13:52.703Z"
      },
      {
        "duration": 250,
        "start_time": "2022-05-27T08:13:52.715Z"
      },
      {
        "duration": 11,
        "start_time": "2022-05-27T08:13:52.966Z"
      },
      {
        "duration": 9,
        "start_time": "2022-05-27T08:13:52.978Z"
      },
      {
        "duration": 11,
        "start_time": "2022-05-27T08:13:52.988Z"
      },
      {
        "duration": 27,
        "start_time": "2022-05-27T08:13:53.000Z"
      },
      {
        "duration": 44,
        "start_time": "2022-05-27T08:13:53.029Z"
      },
      {
        "duration": 2,
        "start_time": "2022-05-27T08:13:53.075Z"
      },
      {
        "duration": 9,
        "start_time": "2022-05-27T08:13:53.079Z"
      },
      {
        "duration": 10,
        "start_time": "2022-05-27T08:13:53.090Z"
      },
      {
        "duration": 6,
        "start_time": "2022-05-27T08:13:53.101Z"
      },
      {
        "duration": 23,
        "start_time": "2022-05-27T08:13:53.108Z"
      },
      {
        "duration": 9,
        "start_time": "2022-05-27T08:13:53.132Z"
      },
      {
        "duration": 9,
        "start_time": "2022-05-27T08:13:53.142Z"
      },
      {
        "duration": 7,
        "start_time": "2022-05-27T08:13:53.152Z"
      },
      {
        "duration": 6,
        "start_time": "2022-05-27T08:13:53.160Z"
      },
      {
        "duration": 5,
        "start_time": "2022-05-27T08:13:53.167Z"
      },
      {
        "duration": 7,
        "start_time": "2022-05-27T08:13:53.174Z"
      },
      {
        "duration": 251,
        "start_time": "2022-05-27T08:13:53.183Z"
      },
      {
        "duration": 5,
        "start_time": "2022-05-27T08:13:53.435Z"
      },
      {
        "duration": 10,
        "start_time": "2022-05-27T08:13:53.441Z"
      },
      {
        "duration": 239,
        "start_time": "2022-05-27T08:13:53.453Z"
      },
      {
        "duration": 417,
        "start_time": "2022-05-27T08:13:53.694Z"
      },
      {
        "duration": 16,
        "start_time": "2022-05-27T08:13:54.113Z"
      },
      {
        "duration": 4,
        "start_time": "2022-05-27T08:13:54.130Z"
      },
      {
        "duration": 23,
        "start_time": "2022-05-27T08:13:54.135Z"
      },
      {
        "duration": 14,
        "start_time": "2022-05-27T08:13:54.160Z"
      },
      {
        "duration": 4,
        "start_time": "2022-05-27T08:13:54.176Z"
      },
      {
        "duration": 15,
        "start_time": "2022-05-27T08:13:54.181Z"
      },
      {
        "duration": 10,
        "start_time": "2022-05-27T08:13:54.197Z"
      },
      {
        "duration": 6,
        "start_time": "2022-05-27T08:13:54.209Z"
      },
      {
        "duration": 22,
        "start_time": "2022-05-27T08:13:54.227Z"
      },
      {
        "duration": 81,
        "start_time": "2022-05-27T08:13:54.251Z"
      },
      {
        "duration": 4,
        "start_time": "2022-05-27T08:13:54.334Z"
      },
      {
        "duration": 5,
        "start_time": "2022-05-27T08:13:54.340Z"
      },
      {
        "duration": 6,
        "start_time": "2022-05-27T08:13:54.346Z"
      },
      {
        "duration": 9,
        "start_time": "2022-05-27T08:13:54.353Z"
      },
      {
        "duration": 5821,
        "start_time": "2022-05-27T08:13:54.364Z"
      },
      {
        "duration": 1035,
        "start_time": "2022-05-27T08:14:00.187Z"
      },
      {
        "duration": 116,
        "start_time": "2022-05-27T08:14:01.223Z"
      },
      {
        "duration": 4,
        "start_time": "2022-05-27T08:14:01.341Z"
      },
      {
        "duration": 26,
        "start_time": "2022-05-27T08:14:01.346Z"
      },
      {
        "duration": 97,
        "start_time": "2022-05-27T08:14:01.373Z"
      },
      {
        "duration": 23409,
        "start_time": "2022-05-27T08:14:01.474Z"
      },
      {
        "duration": 5,
        "start_time": "2022-05-27T08:14:24.885Z"
      },
      {
        "duration": 8,
        "start_time": "2022-05-27T08:14:24.891Z"
      },
      {
        "duration": 335,
        "start_time": "2022-05-27T08:14:24.901Z"
      },
      {
        "duration": 8,
        "start_time": "2022-05-27T08:14:25.328Z"
      },
      {
        "duration": 3,
        "start_time": "2022-05-27T08:14:25.428Z"
      },
      {
        "duration": 14,
        "start_time": "2022-05-27T08:14:25.432Z"
      },
      {
        "duration": 371,
        "start_time": "2022-05-27T08:14:25.447Z"
      },
      {
        "duration": 12,
        "start_time": "2022-05-27T08:14:25.826Z"
      },
      {
        "duration": 126,
        "start_time": "2022-05-27T08:14:25.839Z"
      },
      {
        "duration": 0,
        "start_time": "2022-05-27T08:14:25.967Z"
      },
      {
        "duration": 0,
        "start_time": "2022-05-27T08:14:25.968Z"
      },
      {
        "duration": 9,
        "start_time": "2022-05-27T08:36:42.271Z"
      },
      {
        "duration": 789,
        "start_time": "2022-05-27T08:36:59.954Z"
      },
      {
        "duration": 18,
        "start_time": "2022-05-27T08:37:33.928Z"
      },
      {
        "duration": 1284,
        "start_time": "2022-05-27T08:39:56.804Z"
      },
      {
        "duration": 48,
        "start_time": "2022-05-27T08:39:58.090Z"
      },
      {
        "duration": 12,
        "start_time": "2022-05-27T08:39:58.140Z"
      },
      {
        "duration": 21,
        "start_time": "2022-05-27T08:39:58.154Z"
      },
      {
        "duration": 8,
        "start_time": "2022-05-27T08:39:58.176Z"
      },
      {
        "duration": 28,
        "start_time": "2022-05-27T08:39:58.185Z"
      },
      {
        "duration": 9,
        "start_time": "2022-05-27T08:39:58.214Z"
      },
      {
        "duration": 20,
        "start_time": "2022-05-27T08:39:58.226Z"
      },
      {
        "duration": 6,
        "start_time": "2022-05-27T08:39:58.247Z"
      },
      {
        "duration": 25,
        "start_time": "2022-05-27T08:39:58.255Z"
      },
      {
        "duration": 15,
        "start_time": "2022-05-27T08:39:58.281Z"
      },
      {
        "duration": 5,
        "start_time": "2022-05-27T08:39:58.297Z"
      },
      {
        "duration": 6,
        "start_time": "2022-05-27T08:39:58.303Z"
      },
      {
        "duration": 30,
        "start_time": "2022-05-27T08:39:58.310Z"
      },
      {
        "duration": 2,
        "start_time": "2022-05-27T08:39:58.342Z"
      },
      {
        "duration": 6,
        "start_time": "2022-05-27T08:39:58.345Z"
      },
      {
        "duration": 19,
        "start_time": "2022-05-27T08:39:58.352Z"
      },
      {
        "duration": 10,
        "start_time": "2022-05-27T08:39:58.372Z"
      },
      {
        "duration": 44,
        "start_time": "2022-05-27T08:39:58.384Z"
      },
      {
        "duration": 9,
        "start_time": "2022-05-27T08:39:58.430Z"
      },
      {
        "duration": 6,
        "start_time": "2022-05-27T08:39:58.441Z"
      },
      {
        "duration": 24,
        "start_time": "2022-05-27T08:39:58.449Z"
      },
      {
        "duration": 9,
        "start_time": "2022-05-27T08:39:58.475Z"
      },
      {
        "duration": 5,
        "start_time": "2022-05-27T08:39:58.486Z"
      },
      {
        "duration": 43,
        "start_time": "2022-05-27T08:39:58.493Z"
      },
      {
        "duration": 8,
        "start_time": "2022-05-27T08:39:58.538Z"
      },
      {
        "duration": 261,
        "start_time": "2022-05-27T08:39:58.547Z"
      },
      {
        "duration": 15,
        "start_time": "2022-05-27T08:39:58.812Z"
      },
      {
        "duration": 238,
        "start_time": "2022-05-27T08:39:58.828Z"
      },
      {
        "duration": 11,
        "start_time": "2022-05-27T08:39:59.067Z"
      },
      {
        "duration": 9,
        "start_time": "2022-05-27T08:39:59.080Z"
      },
      {
        "duration": 11,
        "start_time": "2022-05-27T08:39:59.091Z"
      },
      {
        "duration": 23,
        "start_time": "2022-05-27T08:39:59.104Z"
      },
      {
        "duration": 43,
        "start_time": "2022-05-27T08:39:59.128Z"
      },
      {
        "duration": 2,
        "start_time": "2022-05-27T08:39:59.173Z"
      },
      {
        "duration": 9,
        "start_time": "2022-05-27T08:39:59.177Z"
      },
      {
        "duration": 7,
        "start_time": "2022-05-27T08:39:59.187Z"
      },
      {
        "duration": 5,
        "start_time": "2022-05-27T08:39:59.196Z"
      },
      {
        "duration": 6,
        "start_time": "2022-05-27T08:39:59.203Z"
      },
      {
        "duration": 4,
        "start_time": "2022-05-27T08:39:59.226Z"
      },
      {
        "duration": 10,
        "start_time": "2022-05-27T08:39:59.232Z"
      },
      {
        "duration": 11,
        "start_time": "2022-05-27T08:39:59.244Z"
      },
      {
        "duration": 7,
        "start_time": "2022-05-27T08:39:59.257Z"
      },
      {
        "duration": 7,
        "start_time": "2022-05-27T08:39:59.265Z"
      },
      {
        "duration": 12,
        "start_time": "2022-05-27T08:39:59.273Z"
      },
      {
        "duration": 253,
        "start_time": "2022-05-27T08:39:59.286Z"
      },
      {
        "duration": 5,
        "start_time": "2022-05-27T08:39:59.541Z"
      },
      {
        "duration": 11,
        "start_time": "2022-05-27T08:39:59.548Z"
      },
      {
        "duration": 231,
        "start_time": "2022-05-27T08:39:59.561Z"
      },
      {
        "duration": 377,
        "start_time": "2022-05-27T08:39:59.794Z"
      },
      {
        "duration": 10,
        "start_time": "2022-05-27T08:40:00.173Z"
      },
      {
        "duration": 4,
        "start_time": "2022-05-27T08:40:00.184Z"
      },
      {
        "duration": 37,
        "start_time": "2022-05-27T08:40:00.189Z"
      },
      {
        "duration": 15,
        "start_time": "2022-05-27T08:40:00.228Z"
      },
      {
        "duration": 4,
        "start_time": "2022-05-27T08:40:00.245Z"
      },
      {
        "duration": 10,
        "start_time": "2022-05-27T08:40:00.250Z"
      },
      {
        "duration": 11,
        "start_time": "2022-05-27T08:40:00.261Z"
      },
      {
        "duration": 13,
        "start_time": "2022-05-27T08:40:00.274Z"
      },
      {
        "duration": 28,
        "start_time": "2022-05-27T08:40:00.288Z"
      },
      {
        "duration": 13,
        "start_time": "2022-05-27T08:40:00.317Z"
      },
      {
        "duration": 22,
        "start_time": "2022-05-27T08:40:00.332Z"
      },
      {
        "duration": 21,
        "start_time": "2022-05-27T08:40:00.356Z"
      },
      {
        "duration": 16,
        "start_time": "2022-05-27T08:40:00.379Z"
      },
      {
        "duration": 19,
        "start_time": "2022-05-27T08:40:00.396Z"
      },
      {
        "duration": 5891,
        "start_time": "2022-05-27T08:40:00.416Z"
      },
      {
        "duration": 1034,
        "start_time": "2022-05-27T08:40:06.308Z"
      },
      {
        "duration": 119,
        "start_time": "2022-05-27T08:40:07.343Z"
      },
      {
        "duration": 4,
        "start_time": "2022-05-27T08:40:07.463Z"
      },
      {
        "duration": 22,
        "start_time": "2022-05-27T08:40:07.468Z"
      },
      {
        "duration": 28,
        "start_time": "2022-05-27T08:40:07.492Z"
      },
      {
        "duration": 23719,
        "start_time": "2022-05-27T08:40:07.521Z"
      },
      {
        "duration": 5,
        "start_time": "2022-05-27T08:40:31.241Z"
      },
      {
        "duration": 21,
        "start_time": "2022-05-27T08:40:31.248Z"
      },
      {
        "duration": 366,
        "start_time": "2022-05-27T08:40:31.270Z"
      },
      {
        "duration": 8,
        "start_time": "2022-05-27T08:40:31.728Z"
      },
      {
        "duration": 20,
        "start_time": "2022-05-27T08:40:31.827Z"
      },
      {
        "duration": 29,
        "start_time": "2022-05-27T08:40:31.849Z"
      },
      {
        "duration": 388,
        "start_time": "2022-05-27T08:40:31.880Z"
      },
      {
        "duration": 12,
        "start_time": "2022-05-27T08:40:32.270Z"
      },
      {
        "duration": 27,
        "start_time": "2022-05-27T08:40:32.284Z"
      },
      {
        "duration": 54,
        "start_time": "2022-05-27T08:40:32.312Z"
      },
      {
        "duration": 18,
        "start_time": "2022-05-27T08:40:48.134Z"
      },
      {
        "duration": 7,
        "start_time": "2022-05-27T08:40:48.907Z"
      },
      {
        "duration": 3,
        "start_time": "2022-05-27T08:40:51.784Z"
      },
      {
        "duration": 13,
        "start_time": "2022-05-27T08:47:10.985Z"
      },
      {
        "duration": 121,
        "start_time": "2022-05-27T08:48:51.586Z"
      },
      {
        "duration": 17,
        "start_time": "2022-05-27T09:00:55.924Z"
      },
      {
        "duration": 7,
        "start_time": "2022-05-27T09:03:43.687Z"
      },
      {
        "duration": 8,
        "start_time": "2022-05-27T09:03:51.030Z"
      },
      {
        "duration": 16,
        "start_time": "2022-05-27T09:04:23.587Z"
      },
      {
        "duration": 8,
        "start_time": "2022-05-27T09:04:55.067Z"
      },
      {
        "duration": 8,
        "start_time": "2022-05-27T09:05:11.936Z"
      },
      {
        "duration": 9,
        "start_time": "2022-05-27T09:05:32.873Z"
      },
      {
        "duration": 13,
        "start_time": "2022-05-27T09:06:46.643Z"
      },
      {
        "duration": 14,
        "start_time": "2022-05-27T09:06:59.628Z"
      },
      {
        "duration": 7,
        "start_time": "2022-05-27T09:07:20.562Z"
      },
      {
        "duration": 17,
        "start_time": "2022-05-27T09:07:49.598Z"
      },
      {
        "duration": 7,
        "start_time": "2022-05-27T09:08:05.565Z"
      },
      {
        "duration": 9,
        "start_time": "2022-05-27T09:10:40.561Z"
      },
      {
        "duration": 13,
        "start_time": "2022-05-27T09:12:11.961Z"
      },
      {
        "duration": 10,
        "start_time": "2022-05-27T09:19:40.062Z"
      },
      {
        "duration": 9,
        "start_time": "2022-05-27T09:19:47.972Z"
      },
      {
        "duration": 10,
        "start_time": "2022-05-27T09:19:53.500Z"
      },
      {
        "duration": 9,
        "start_time": "2022-05-27T09:21:38.819Z"
      },
      {
        "duration": 8,
        "start_time": "2022-05-27T09:21:58.302Z"
      },
      {
        "duration": 15,
        "start_time": "2022-05-27T09:22:15.598Z"
      },
      {
        "duration": 9,
        "start_time": "2022-05-27T09:23:04.654Z"
      },
      {
        "duration": 10,
        "start_time": "2022-05-27T09:23:31.309Z"
      },
      {
        "duration": 5,
        "start_time": "2022-05-27T09:23:42.002Z"
      },
      {
        "duration": 6,
        "start_time": "2022-05-27T09:23:42.403Z"
      },
      {
        "duration": 10,
        "start_time": "2022-05-27T09:24:01.987Z"
      },
      {
        "duration": 55,
        "start_time": "2022-05-27T09:24:55.038Z"
      },
      {
        "duration": 9,
        "start_time": "2022-05-27T09:25:02.215Z"
      },
      {
        "duration": 9,
        "start_time": "2022-05-27T09:25:10.689Z"
      },
      {
        "duration": 11,
        "start_time": "2022-05-27T09:25:16.266Z"
      },
      {
        "duration": 10,
        "start_time": "2022-05-27T09:27:18.777Z"
      },
      {
        "duration": 7,
        "start_time": "2022-05-27T09:27:34.693Z"
      },
      {
        "duration": 6,
        "start_time": "2022-05-27T09:27:51.012Z"
      },
      {
        "duration": 8,
        "start_time": "2022-05-27T09:27:51.561Z"
      },
      {
        "duration": 5,
        "start_time": "2022-05-27T10:08:28.253Z"
      },
      {
        "duration": 8,
        "start_time": "2022-05-27T10:08:35.956Z"
      },
      {
        "duration": 9,
        "start_time": "2022-05-27T10:09:28.764Z"
      },
      {
        "duration": 5,
        "start_time": "2022-05-27T10:10:01.699Z"
      },
      {
        "duration": 15,
        "start_time": "2022-05-27T10:10:11.680Z"
      },
      {
        "duration": 9,
        "start_time": "2022-05-27T10:10:46.061Z"
      },
      {
        "duration": 8,
        "start_time": "2022-05-27T10:10:58.265Z"
      },
      {
        "duration": 10,
        "start_time": "2022-05-27T10:11:12.369Z"
      },
      {
        "duration": 6,
        "start_time": "2022-05-27T10:12:57.282Z"
      },
      {
        "duration": 6,
        "start_time": "2022-05-27T10:13:23.466Z"
      },
      {
        "duration": 6,
        "start_time": "2022-05-27T10:13:23.930Z"
      },
      {
        "duration": 8,
        "start_time": "2022-05-27T10:13:37.602Z"
      },
      {
        "duration": 9,
        "start_time": "2022-05-27T10:14:23.612Z"
      },
      {
        "duration": 15,
        "start_time": "2022-05-27T10:14:39.467Z"
      },
      {
        "duration": 10,
        "start_time": "2022-05-27T10:17:50.503Z"
      },
      {
        "duration": 40,
        "start_time": "2022-05-27T10:18:25.376Z"
      },
      {
        "duration": 11,
        "start_time": "2022-05-27T10:24:25.635Z"
      },
      {
        "duration": 11,
        "start_time": "2022-05-27T10:24:48.039Z"
      },
      {
        "duration": 15,
        "start_time": "2022-05-27T10:24:53.463Z"
      },
      {
        "duration": 9,
        "start_time": "2022-05-27T10:25:09.382Z"
      },
      {
        "duration": 10,
        "start_time": "2022-05-27T10:25:29.054Z"
      },
      {
        "duration": 9,
        "start_time": "2022-05-27T10:26:49.705Z"
      },
      {
        "duration": 10,
        "start_time": "2022-05-27T10:26:59.157Z"
      },
      {
        "duration": 9,
        "start_time": "2022-05-27T10:27:24.537Z"
      },
      {
        "duration": 10,
        "start_time": "2022-05-27T10:27:31.473Z"
      },
      {
        "duration": 9,
        "start_time": "2022-05-27T10:27:36.158Z"
      },
      {
        "duration": 10,
        "start_time": "2022-05-27T10:27:42.690Z"
      },
      {
        "duration": 10,
        "start_time": "2022-05-27T10:28:06.938Z"
      },
      {
        "duration": 9,
        "start_time": "2022-05-27T10:28:25.016Z"
      },
      {
        "duration": 16,
        "start_time": "2022-05-27T10:29:03.420Z"
      },
      {
        "duration": 4,
        "start_time": "2022-05-27T10:29:53.386Z"
      },
      {
        "duration": 7,
        "start_time": "2022-05-27T10:30:09.108Z"
      },
      {
        "duration": 9,
        "start_time": "2022-05-27T10:30:33.525Z"
      },
      {
        "duration": 7,
        "start_time": "2022-05-27T10:30:45.597Z"
      },
      {
        "duration": 7,
        "start_time": "2022-05-27T10:33:40.918Z"
      },
      {
        "duration": 6,
        "start_time": "2022-05-27T10:33:41.432Z"
      },
      {
        "duration": 9,
        "start_time": "2022-05-27T10:36:24.291Z"
      },
      {
        "duration": 9,
        "start_time": "2022-05-27T10:37:21.306Z"
      },
      {
        "duration": 8,
        "start_time": "2022-05-27T10:37:43.757Z"
      },
      {
        "duration": 9,
        "start_time": "2022-05-27T10:38:00.904Z"
      },
      {
        "duration": 9,
        "start_time": "2022-05-27T10:38:10.774Z"
      },
      {
        "duration": 8,
        "start_time": "2022-05-27T10:38:21.838Z"
      },
      {
        "duration": 1259,
        "start_time": "2022-05-27T10:38:40.038Z"
      },
      {
        "duration": 49,
        "start_time": "2022-05-27T10:38:41.299Z"
      },
      {
        "duration": 15,
        "start_time": "2022-05-27T10:38:41.350Z"
      },
      {
        "duration": 22,
        "start_time": "2022-05-27T10:38:41.367Z"
      },
      {
        "duration": 7,
        "start_time": "2022-05-27T10:38:41.391Z"
      },
      {
        "duration": 24,
        "start_time": "2022-05-27T10:38:41.400Z"
      },
      {
        "duration": 13,
        "start_time": "2022-05-27T10:38:41.425Z"
      },
      {
        "duration": 35,
        "start_time": "2022-05-27T10:38:41.440Z"
      },
      {
        "duration": 8,
        "start_time": "2022-05-27T10:38:41.477Z"
      },
      {
        "duration": 36,
        "start_time": "2022-05-27T10:38:41.487Z"
      },
      {
        "duration": 20,
        "start_time": "2022-05-27T10:38:41.525Z"
      },
      {
        "duration": 2,
        "start_time": "2022-05-27T10:38:41.547Z"
      },
      {
        "duration": 11,
        "start_time": "2022-05-27T10:38:41.551Z"
      },
      {
        "duration": 35,
        "start_time": "2022-05-27T10:38:41.564Z"
      },
      {
        "duration": 3,
        "start_time": "2022-05-27T10:38:41.600Z"
      },
      {
        "duration": 8,
        "start_time": "2022-05-27T10:38:41.604Z"
      },
      {
        "duration": 16,
        "start_time": "2022-05-27T10:38:41.627Z"
      },
      {
        "duration": 12,
        "start_time": "2022-05-27T10:38:41.645Z"
      },
      {
        "duration": 31,
        "start_time": "2022-05-27T10:38:41.658Z"
      },
      {
        "duration": 8,
        "start_time": "2022-05-27T10:38:41.691Z"
      },
      {
        "duration": 25,
        "start_time": "2022-05-27T10:38:41.701Z"
      },
      {
        "duration": 21,
        "start_time": "2022-05-27T10:38:41.728Z"
      },
      {
        "duration": 9,
        "start_time": "2022-05-27T10:38:41.751Z"
      },
      {
        "duration": 5,
        "start_time": "2022-05-27T10:38:41.761Z"
      },
      {
        "duration": 20,
        "start_time": "2022-05-27T10:38:41.767Z"
      },
      {
        "duration": 8,
        "start_time": "2022-05-27T10:38:41.788Z"
      },
      {
        "duration": 272,
        "start_time": "2022-05-27T10:38:41.797Z"
      },
      {
        "duration": 8,
        "start_time": "2022-05-27T10:38:42.073Z"
      },
      {
        "duration": 248,
        "start_time": "2022-05-27T10:38:42.083Z"
      },
      {
        "duration": 9,
        "start_time": "2022-05-27T10:38:42.333Z"
      },
      {
        "duration": 9,
        "start_time": "2022-05-27T10:38:42.343Z"
      },
      {
        "duration": 10,
        "start_time": "2022-05-27T10:38:42.354Z"
      },
      {
        "duration": 3,
        "start_time": "2022-05-27T10:38:42.366Z"
      },
      {
        "duration": 63,
        "start_time": "2022-05-27T10:38:42.370Z"
      },
      {
        "duration": 3,
        "start_time": "2022-05-27T10:38:42.435Z"
      },
      {
        "duration": 7,
        "start_time": "2022-05-27T10:38:42.440Z"
      },
      {
        "duration": 11,
        "start_time": "2022-05-27T10:38:42.448Z"
      },
      {
        "duration": 5,
        "start_time": "2022-05-27T10:38:42.460Z"
      },
      {
        "duration": 6,
        "start_time": "2022-05-27T10:38:42.466Z"
      },
      {
        "duration": 5,
        "start_time": "2022-05-27T10:38:42.473Z"
      },
      {
        "duration": 7,
        "start_time": "2022-05-27T10:38:42.479Z"
      },
      {
        "duration": 6,
        "start_time": "2022-05-27T10:38:42.487Z"
      },
      {
        "duration": 33,
        "start_time": "2022-05-27T10:38:42.494Z"
      },
      {
        "duration": 4,
        "start_time": "2022-05-27T10:38:42.529Z"
      },
      {
        "duration": 8,
        "start_time": "2022-05-27T10:38:42.535Z"
      },
      {
        "duration": 241,
        "start_time": "2022-05-27T10:38:42.544Z"
      },
      {
        "duration": 5,
        "start_time": "2022-05-27T10:38:42.786Z"
      },
      {
        "duration": 12,
        "start_time": "2022-05-27T10:38:42.792Z"
      },
      {
        "duration": 230,
        "start_time": "2022-05-27T10:38:42.806Z"
      },
      {
        "duration": 344,
        "start_time": "2022-05-27T10:38:43.038Z"
      },
      {
        "duration": 11,
        "start_time": "2022-05-27T10:38:43.384Z"
      },
      {
        "duration": 4,
        "start_time": "2022-05-27T10:38:43.397Z"
      },
      {
        "duration": 42,
        "start_time": "2022-05-27T10:38:43.403Z"
      },
      {
        "duration": 15,
        "start_time": "2022-05-27T10:38:43.447Z"
      },
      {
        "duration": 5,
        "start_time": "2022-05-27T10:38:43.464Z"
      },
      {
        "duration": 25,
        "start_time": "2022-05-27T10:38:43.470Z"
      },
      {
        "duration": 13,
        "start_time": "2022-05-27T10:38:43.496Z"
      },
      {
        "duration": 7,
        "start_time": "2022-05-27T10:38:43.510Z"
      },
      {
        "duration": 13,
        "start_time": "2022-05-27T10:38:43.519Z"
      },
      {
        "duration": 5,
        "start_time": "2022-05-27T10:38:43.534Z"
      },
      {
        "duration": 7,
        "start_time": "2022-05-27T10:38:43.540Z"
      },
      {
        "duration": 8,
        "start_time": "2022-05-27T10:38:43.548Z"
      },
      {
        "duration": 6,
        "start_time": "2022-05-27T10:38:43.558Z"
      },
      {
        "duration": 6,
        "start_time": "2022-05-27T10:38:43.565Z"
      },
      {
        "duration": 5744,
        "start_time": "2022-05-27T10:38:43.573Z"
      },
      {
        "duration": 994,
        "start_time": "2022-05-27T10:38:49.319Z"
      },
      {
        "duration": 110,
        "start_time": "2022-05-27T10:38:50.314Z"
      },
      {
        "duration": 5,
        "start_time": "2022-05-27T10:38:50.425Z"
      },
      {
        "duration": 7,
        "start_time": "2022-05-27T10:38:50.431Z"
      },
      {
        "duration": 7,
        "start_time": "2022-05-27T10:38:50.439Z"
      },
      {
        "duration": 23431,
        "start_time": "2022-05-27T10:38:50.448Z"
      },
      {
        "duration": 5,
        "start_time": "2022-05-27T10:39:13.881Z"
      },
      {
        "duration": 14,
        "start_time": "2022-05-27T10:39:13.887Z"
      },
      {
        "duration": 333,
        "start_time": "2022-05-27T10:39:13.903Z"
      },
      {
        "duration": 6,
        "start_time": "2022-05-27T10:39:14.328Z"
      },
      {
        "duration": 99,
        "start_time": "2022-05-27T10:39:14.336Z"
      },
      {
        "duration": 20,
        "start_time": "2022-05-27T10:39:14.437Z"
      },
      {
        "duration": 367,
        "start_time": "2022-05-27T10:39:14.459Z"
      },
      {
        "duration": 13,
        "start_time": "2022-05-27T10:39:14.828Z"
      },
      {
        "duration": 16,
        "start_time": "2022-05-27T10:39:14.842Z"
      },
      {
        "duration": 20,
        "start_time": "2022-05-27T10:39:14.860Z"
      },
      {
        "duration": 11,
        "start_time": "2022-05-27T10:39:14.885Z"
      },
      {
        "duration": 24,
        "start_time": "2022-05-27T10:39:14.898Z"
      },
      {
        "duration": 7,
        "start_time": "2022-05-27T10:39:23.135Z"
      },
      {
        "duration": 109,
        "start_time": "2022-05-27T10:39:40.072Z"
      },
      {
        "duration": 7,
        "start_time": "2022-05-27T10:40:00.936Z"
      },
      {
        "duration": 5,
        "start_time": "2022-05-27T10:40:24.041Z"
      },
      {
        "duration": 9,
        "start_time": "2022-05-27T10:40:35.495Z"
      },
      {
        "duration": 7,
        "start_time": "2022-05-27T10:40:49.504Z"
      },
      {
        "duration": 8,
        "start_time": "2022-05-27T10:41:45.764Z"
      },
      {
        "duration": 6,
        "start_time": "2022-05-27T10:41:50.455Z"
      },
      {
        "duration": 5,
        "start_time": "2022-05-27T10:41:50.962Z"
      },
      {
        "duration": 13,
        "start_time": "2022-05-27T10:41:51.514Z"
      },
      {
        "duration": 76,
        "start_time": "2022-05-27T10:44:16.582Z"
      },
      {
        "duration": 24,
        "start_time": "2022-05-27T10:44:37.790Z"
      },
      {
        "duration": 8,
        "start_time": "2022-05-27T10:44:46.518Z"
      },
      {
        "duration": 12,
        "start_time": "2022-05-27T10:46:22.064Z"
      },
      {
        "duration": 50,
        "start_time": "2022-05-27T10:46:59.191Z"
      },
      {
        "duration": 9,
        "start_time": "2022-05-27T10:47:07.362Z"
      },
      {
        "duration": 13,
        "start_time": "2022-05-27T10:47:20.710Z"
      },
      {
        "duration": 10,
        "start_time": "2022-05-27T10:47:26.838Z"
      },
      {
        "duration": 14,
        "start_time": "2022-05-27T10:50:03.238Z"
      },
      {
        "duration": 90,
        "start_time": "2022-05-27T10:50:37.989Z"
      },
      {
        "duration": 7,
        "start_time": "2022-05-27T10:50:54.326Z"
      },
      {
        "duration": 6,
        "start_time": "2022-05-27T10:50:55.109Z"
      },
      {
        "duration": 23,
        "start_time": "2022-05-27T10:50:55.640Z"
      },
      {
        "duration": 8,
        "start_time": "2022-05-27T10:51:01.582Z"
      },
      {
        "duration": 7,
        "start_time": "2022-05-27T10:51:01.957Z"
      },
      {
        "duration": 6,
        "start_time": "2022-05-27T10:51:02.371Z"
      },
      {
        "duration": 18,
        "start_time": "2022-05-27T10:51:02.820Z"
      }
    ],
    "colab": {
      "toc_visible": true,
      "provenance": []
    },
    "kernelspec": {
      "display_name": "Python 3",
      "name": "python3"
    },
    "language_info": {
      "codemirror_mode": {
        "name": "ipython",
        "version": 3
      },
      "file_extension": ".py",
      "mimetype": "text/x-python",
      "name": "python",
      "nbconvert_exporter": "python",
      "pygments_lexer": "ipython3",
      "version": "3.9.12"
    },
    "toc": {
      "base_numbering": 1,
      "nav_menu": {},
      "number_sections": true,
      "sideBar": true,
      "skip_h1_title": true,
      "title_cell": "Table of Contents",
      "title_sidebar": "Contents",
      "toc_cell": false,
      "toc_position": {},
      "toc_section_display": true,
      "toc_window_display": false
    }
  },
  "nbformat": 4,
  "nbformat_minor": 0
}